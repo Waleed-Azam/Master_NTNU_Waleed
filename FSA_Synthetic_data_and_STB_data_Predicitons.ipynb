{
  "nbformat": 4,
  "nbformat_minor": 0,
  "metadata": {
    "colab": {
      "name": "FSA_Synthetic data and STB data_Predicitons",
      "provenance": [],
      "authorship_tag": "ABX9TyO617T6CAvjoa/3SmddWh/9",
      "include_colab_link": true
    },
    "kernelspec": {
      "name": "python3",
      "display_name": "Python 3"
    }
  },
  "cells": [
    {
      "cell_type": "markdown",
      "metadata": {
        "id": "view-in-github",
        "colab_type": "text"
      },
      "source": [
        "<a href=\"https://colab.research.google.com/github/Waleed-Azam/Master_NTNU_Waleed/blob/master/FSA_Synthetic_data_and_STB_data_Predicitons.ipynb\" target=\"_parent\"><img src=\"https://colab.research.google.com/assets/colab-badge.svg\" alt=\"Open In Colab\"/></a>"
      ]
    },
    {
      "cell_type": "code",
      "metadata": {
        "id": "p51ugjKT0XjM"
      },
      "source": [
        "#Prepare the nice data set\n",
        "from sklearn.model_selection import train_test_split\n",
        "# univariate cnn example\n",
        "from numpy import array\n",
        "from keras.models import Sequential\n",
        "from keras.layers import Dense\n",
        "from keras.layers import Flatten\n",
        "from keras.layers.convolutional import Conv1D\n",
        "from keras.layers.convolutional import MaxPooling1D\n",
        "from sklearn.preprocessing import MinMaxScaler\n",
        "!pip install -U -q PyDrive\n",
        "from pydrive.auth import GoogleAuth\n",
        "from pydrive.drive import GoogleDrive\n",
        "from google.colab import auth\n",
        "from oauth2client.client import GoogleCredentials\n",
        "import numpy as np \n",
        "import matplotlib.pyplot as plt\n"
      ],
      "execution_count": null,
      "outputs": []
    },
    {
      "cell_type": "code",
      "metadata": {
        "id": "kTj4mjJY0edk"
      },
      "source": [
        "auth.authenticate_user()\n",
        "gauth = GoogleAuth()\n",
        "gauth.credentials = GoogleCredentials.get_application_default()\n",
        "drive = GoogleDrive(gauth)"
      ],
      "execution_count": null,
      "outputs": []
    },
    {
      "cell_type": "code",
      "metadata": {
        "id": "6rK3THWx0iwK"
      },
      "source": [
        "downloaded = drive.CreateFile({'id':'1Bi2fJZw6Vhj7dyP7Ad6qtPsYf5LevEm4'})\n",
        "downloaded_2= drive.CreateFile({'id':'12ZLwEA-DL3BWgcnmlET-2PcNdZGDGr0h'})"
      ],
      "execution_count": null,
      "outputs": []
    },
    {
      "cell_type": "code",
      "metadata": {
        "id": "q8A8Mhzq0pAF",
        "outputId": "849297d7-3388-4f6d-fb43-cc4466f3933d",
        "colab": {
          "base_uri": "https://localhost:8080/",
          "height": 405
        }
      },
      "source": [
        "#Importing all the libraries\n",
        "import numpy as np\n",
        "import numpy as geek \n",
        "from keras.layers import Input, Dense, LSTM, multiply, concatenate, Activation, Masking, Reshape\n",
        "from keras.models import Sequential\n",
        "from keras.models import Model\n",
        "from keras.layers import Input, Dense, LSTM, multiply, concatenate, Activation, Masking, Reshape\n",
        "from keras.layers import BatchNormalization, GlobalAveragePooling1D, Permute, Dropout\n",
        "from keras.layers.convolutional import Conv1D\n",
        "from keras.layers.convolutional import MaxPooling1D\n",
        "from keras.optimizers import RMSprop, Adam\n",
        "from keras.layers import LSTM, Activation \n",
        "from sklearn.preprocessing import MinMaxScaler\n",
        "from keras.models import load_model\n",
        "import pandas as pd\n",
        "downloaded.GetContentFile('Master_thesis_Data.csv')\n",
        "#downloaded_1.GetContentFile('Test_17_sea.csv')\n",
        "downloaded_2.GetContentFile('April_Without_Fish.csv')\n",
        "#df1 = pd.read_csv('Test_17_sea.csv') \n",
        "df3 = pd.read_csv('April_Without_Fish.csv') \n",
        "df2 = pd.read_csv('Master_thesis_Data.csv')\n",
        "df3"
      ],
      "execution_count": null,
      "outputs": [
        {
          "output_type": "execute_result",
          "data": {
            "text/html": [
              "<div>\n",
              "<style scoped>\n",
              "    .dataframe tbody tr th:only-of-type {\n",
              "        vertical-align: middle;\n",
              "    }\n",
              "\n",
              "    .dataframe tbody tr th {\n",
              "        vertical-align: top;\n",
              "    }\n",
              "\n",
              "    .dataframe thead th {\n",
              "        text-align: right;\n",
              "    }\n",
              "</style>\n",
              "<table border=\"1\" class=\"dataframe\">\n",
              "  <thead>\n",
              "    <tr style=\"text-align: right;\">\n",
              "      <th></th>\n",
              "      <th>DVL_1</th>\n",
              "      <th>DVL_2</th>\n",
              "      <th>DVL_3</th>\n",
              "      <th>DVL_4</th>\n",
              "      <th>Down</th>\n",
              "      <th>Heading</th>\n",
              "    </tr>\n",
              "  </thead>\n",
              "  <tbody>\n",
              "    <tr>\n",
              "      <th>0</th>\n",
              "      <td>0.000000</td>\n",
              "      <td>0.000000</td>\n",
              "      <td>0.000000</td>\n",
              "      <td>0.0</td>\n",
              "      <td>0.00</td>\n",
              "      <td>0.00</td>\n",
              "    </tr>\n",
              "    <tr>\n",
              "      <th>1</th>\n",
              "      <td>0.000000</td>\n",
              "      <td>0.000000</td>\n",
              "      <td>0.000000</td>\n",
              "      <td>0.0</td>\n",
              "      <td>0.00</td>\n",
              "      <td>0.00</td>\n",
              "    </tr>\n",
              "    <tr>\n",
              "      <th>2</th>\n",
              "      <td>0.000000</td>\n",
              "      <td>0.000000</td>\n",
              "      <td>0.000000</td>\n",
              "      <td>0.0</td>\n",
              "      <td>0.00</td>\n",
              "      <td>0.00</td>\n",
              "    </tr>\n",
              "    <tr>\n",
              "      <th>3</th>\n",
              "      <td>0.000000</td>\n",
              "      <td>0.000000</td>\n",
              "      <td>0.000000</td>\n",
              "      <td>0.0</td>\n",
              "      <td>0.04</td>\n",
              "      <td>3.90</td>\n",
              "    </tr>\n",
              "    <tr>\n",
              "      <th>4</th>\n",
              "      <td>0.000000</td>\n",
              "      <td>0.000000</td>\n",
              "      <td>0.000000</td>\n",
              "      <td>0.0</td>\n",
              "      <td>0.08</td>\n",
              "      <td>3.96</td>\n",
              "    </tr>\n",
              "    <tr>\n",
              "      <th>...</th>\n",
              "      <td>...</td>\n",
              "      <td>...</td>\n",
              "      <td>...</td>\n",
              "      <td>...</td>\n",
              "      <td>...</td>\n",
              "      <td>...</td>\n",
              "    </tr>\n",
              "    <tr>\n",
              "      <th>3056</th>\n",
              "      <td>0.671787</td>\n",
              "      <td>4.036387</td>\n",
              "      <td>4.954006</td>\n",
              "      <td>0.0</td>\n",
              "      <td>0.00</td>\n",
              "      <td>4.64</td>\n",
              "    </tr>\n",
              "    <tr>\n",
              "      <th>3057</th>\n",
              "      <td>0.671787</td>\n",
              "      <td>4.087367</td>\n",
              "      <td>4.750091</td>\n",
              "      <td>0.0</td>\n",
              "      <td>0.00</td>\n",
              "      <td>4.65</td>\n",
              "    </tr>\n",
              "    <tr>\n",
              "      <th>3058</th>\n",
              "      <td>0.722766</td>\n",
              "      <td>4.138345</td>\n",
              "      <td>4.750091</td>\n",
              "      <td>0.0</td>\n",
              "      <td>0.00</td>\n",
              "      <td>4.67</td>\n",
              "    </tr>\n",
              "    <tr>\n",
              "      <th>3059</th>\n",
              "      <td>0.722766</td>\n",
              "      <td>4.138345</td>\n",
              "      <td>4.750091</td>\n",
              "      <td>0.0</td>\n",
              "      <td>0.00</td>\n",
              "      <td>4.69</td>\n",
              "    </tr>\n",
              "    <tr>\n",
              "      <th>3060</th>\n",
              "      <td>0.722766</td>\n",
              "      <td>4.138345</td>\n",
              "      <td>4.750091</td>\n",
              "      <td>0.0</td>\n",
              "      <td>0.00</td>\n",
              "      <td>4.71</td>\n",
              "    </tr>\n",
              "  </tbody>\n",
              "</table>\n",
              "<p>3061 rows × 6 columns</p>\n",
              "</div>"
            ],
            "text/plain": [
              "         DVL_1     DVL_2     DVL_3  DVL_4  Down  Heading\n",
              "0     0.000000  0.000000  0.000000    0.0  0.00     0.00\n",
              "1     0.000000  0.000000  0.000000    0.0  0.00     0.00\n",
              "2     0.000000  0.000000  0.000000    0.0  0.00     0.00\n",
              "3     0.000000  0.000000  0.000000    0.0  0.04     3.90\n",
              "4     0.000000  0.000000  0.000000    0.0  0.08     3.96\n",
              "...        ...       ...       ...    ...   ...      ...\n",
              "3056  0.671787  4.036387  4.954006    0.0  0.00     4.64\n",
              "3057  0.671787  4.087367  4.750091    0.0  0.00     4.65\n",
              "3058  0.722766  4.138345  4.750091    0.0  0.00     4.67\n",
              "3059  0.722766  4.138345  4.750091    0.0  0.00     4.69\n",
              "3060  0.722766  4.138345  4.750091    0.0  0.00     4.71\n",
              "\n",
              "[3061 rows x 6 columns]"
            ]
          },
          "metadata": {
            "tags": []
          },
          "execution_count": 4
        }
      ]
    },
    {
      "cell_type": "code",
      "metadata": {
        "id": "if5oBgOn0yRX",
        "outputId": "118b4dfb-5e41-4f87-fb5a-5c1cf36809f9",
        "colab": {
          "base_uri": "https://localhost:8080/",
          "height": 405
        }
      },
      "source": [
        "import pandas as pd\n",
        "df2 = pd.read_csv('Master_thesis_Data.csv') \n",
        "#df2=df2.drop(columns=['Unnamed: 13', 'Unnamed: 14'])\n",
        "#Cleaning the data, for mainly removing the NaN value\n",
        "df2[\"Time\"] = df2[\"Time\"].fillna(0)\n",
        "df2[\"DVL1\"] = df2[\"DVL1\"].fillna(0)\n",
        "df2[\"DVL2\"] = df2[\"DVL2\"].fillna(0)\n",
        "df2[\"DVL3\"] = df2[\"DVL3\"].fillna(0)\n",
        "df2[\"DVL4\"] = df2[\"DVL4\"].fillna(0)\n",
        "df2[\"DVL1_S\"] = df2[\"DVL1_S\"].fillna(0)\n",
        "df2[\"DVL2_S\"] = df2[\"DVL2_S\"].fillna(0)\n",
        "df2[\"DVL3_S\"] = df2[\"DVL3_S\"].fillna(0)\n",
        "df2[\"DVL4_S\"] = df2[\"DVL4_S\"].fillna(0)\n",
        "df2[\"ROV6DOF\"] = df2[\"ROV6DOF\"].fillna(0)\n",
        "df2[\"ROV6DOF.1\"] = df2[\"ROV6DOF.1\"].fillna(0)\n",
        "df2[\"ROV6DOF.2\"] = df2[\"ROV6DOF.2\"].fillna(0)\n",
        "df2[\"ROV6DOF.3\"] = df2[\"ROV6DOF.3\"].fillna(0)\n",
        "\n",
        "df2\n"
      ],
      "execution_count": null,
      "outputs": [
        {
          "output_type": "execute_result",
          "data": {
            "text/html": [
              "<div>\n",
              "<style scoped>\n",
              "    .dataframe tbody tr th:only-of-type {\n",
              "        vertical-align: middle;\n",
              "    }\n",
              "\n",
              "    .dataframe tbody tr th {\n",
              "        vertical-align: top;\n",
              "    }\n",
              "\n",
              "    .dataframe thead th {\n",
              "        text-align: right;\n",
              "    }\n",
              "</style>\n",
              "<table border=\"1\" class=\"dataframe\">\n",
              "  <thead>\n",
              "    <tr style=\"text-align: right;\">\n",
              "      <th></th>\n",
              "      <th>Time</th>\n",
              "      <th>DVL1_S</th>\n",
              "      <th>DVL2_S</th>\n",
              "      <th>DVL3_S</th>\n",
              "      <th>DVL4_S</th>\n",
              "      <th>DVL1</th>\n",
              "      <th>DVL2</th>\n",
              "      <th>DVL3</th>\n",
              "      <th>DVL4</th>\n",
              "      <th>ROV6DOF</th>\n",
              "      <th>ROV6DOF.1</th>\n",
              "      <th>ROV6DOF.2</th>\n",
              "      <th>ROV6DOF.3</th>\n",
              "    </tr>\n",
              "  </thead>\n",
              "  <tbody>\n",
              "    <tr>\n",
              "      <th>0</th>\n",
              "      <td>0.0</td>\n",
              "      <td>0.000000</td>\n",
              "      <td>0.0</td>\n",
              "      <td>0.000000</td>\n",
              "      <td>0.000000</td>\n",
              "      <td>0.000000</td>\n",
              "      <td>0.000000</td>\n",
              "      <td>0.000000</td>\n",
              "      <td>0.000000</td>\n",
              "      <td>0.00</td>\n",
              "      <td>0.0</td>\n",
              "      <td>0.00</td>\n",
              "      <td>0.00</td>\n",
              "    </tr>\n",
              "    <tr>\n",
              "      <th>1</th>\n",
              "      <td>0.0</td>\n",
              "      <td>20.000000</td>\n",
              "      <td>20.0</td>\n",
              "      <td>20.000000</td>\n",
              "      <td>20.000000</td>\n",
              "      <td>20.000000</td>\n",
              "      <td>20.000000</td>\n",
              "      <td>20.000000</td>\n",
              "      <td>20.000000</td>\n",
              "      <td>0.00</td>\n",
              "      <td>0.0</td>\n",
              "      <td>0.00</td>\n",
              "      <td>0.00</td>\n",
              "    </tr>\n",
              "    <tr>\n",
              "      <th>2</th>\n",
              "      <td>0.1</td>\n",
              "      <td>20.000000</td>\n",
              "      <td>20.0</td>\n",
              "      <td>20.000000</td>\n",
              "      <td>20.000000</td>\n",
              "      <td>20.000000</td>\n",
              "      <td>20.000000</td>\n",
              "      <td>20.000000</td>\n",
              "      <td>20.000000</td>\n",
              "      <td>0.00</td>\n",
              "      <td>0.0</td>\n",
              "      <td>0.00</td>\n",
              "      <td>0.00</td>\n",
              "    </tr>\n",
              "    <tr>\n",
              "      <th>3</th>\n",
              "      <td>0.2</td>\n",
              "      <td>20.000000</td>\n",
              "      <td>20.0</td>\n",
              "      <td>20.000000</td>\n",
              "      <td>20.000000</td>\n",
              "      <td>20.000000</td>\n",
              "      <td>20.000000</td>\n",
              "      <td>20.000000</td>\n",
              "      <td>20.000000</td>\n",
              "      <td>0.00</td>\n",
              "      <td>0.0</td>\n",
              "      <td>0.00</td>\n",
              "      <td>0.00</td>\n",
              "    </tr>\n",
              "    <tr>\n",
              "      <th>4</th>\n",
              "      <td>0.3</td>\n",
              "      <td>20.000000</td>\n",
              "      <td>20.0</td>\n",
              "      <td>20.000000</td>\n",
              "      <td>20.000000</td>\n",
              "      <td>20.000000</td>\n",
              "      <td>20.000000</td>\n",
              "      <td>20.000000</td>\n",
              "      <td>20.000000</td>\n",
              "      <td>0.00</td>\n",
              "      <td>0.0</td>\n",
              "      <td>0.00</td>\n",
              "      <td>0.00</td>\n",
              "    </tr>\n",
              "    <tr>\n",
              "      <th>...</th>\n",
              "      <td>...</td>\n",
              "      <td>...</td>\n",
              "      <td>...</td>\n",
              "      <td>...</td>\n",
              "      <td>...</td>\n",
              "      <td>...</td>\n",
              "      <td>...</td>\n",
              "      <td>...</td>\n",
              "      <td>...</td>\n",
              "      <td>...</td>\n",
              "      <td>...</td>\n",
              "      <td>...</td>\n",
              "      <td>...</td>\n",
              "    </tr>\n",
              "    <tr>\n",
              "      <th>84986</th>\n",
              "      <td>8498.5</td>\n",
              "      <td>2.692643</td>\n",
              "      <td>1.8</td>\n",
              "      <td>2.620548</td>\n",
              "      <td>2.615895</td>\n",
              "      <td>2.692643</td>\n",
              "      <td>2.628101</td>\n",
              "      <td>2.620548</td>\n",
              "      <td>2.615895</td>\n",
              "      <td>5.27</td>\n",
              "      <td>16.8</td>\n",
              "      <td>4.87</td>\n",
              "      <td>-3.37</td>\n",
              "    </tr>\n",
              "    <tr>\n",
              "      <th>84987</th>\n",
              "      <td>8498.6</td>\n",
              "      <td>2.692682</td>\n",
              "      <td>1.8</td>\n",
              "      <td>2.620243</td>\n",
              "      <td>2.615925</td>\n",
              "      <td>2.692682</td>\n",
              "      <td>2.629319</td>\n",
              "      <td>2.620243</td>\n",
              "      <td>2.615925</td>\n",
              "      <td>5.25</td>\n",
              "      <td>16.8</td>\n",
              "      <td>4.87</td>\n",
              "      <td>-3.37</td>\n",
              "    </tr>\n",
              "    <tr>\n",
              "      <th>84988</th>\n",
              "      <td>8498.7</td>\n",
              "      <td>2.692715</td>\n",
              "      <td>1.8</td>\n",
              "      <td>2.619866</td>\n",
              "      <td>2.615951</td>\n",
              "      <td>2.692715</td>\n",
              "      <td>2.630637</td>\n",
              "      <td>2.619866</td>\n",
              "      <td>2.615951</td>\n",
              "      <td>5.22</td>\n",
              "      <td>16.8</td>\n",
              "      <td>4.87</td>\n",
              "      <td>-3.37</td>\n",
              "    </tr>\n",
              "    <tr>\n",
              "      <th>84989</th>\n",
              "      <td>8498.8</td>\n",
              "      <td>2.692740</td>\n",
              "      <td>1.8</td>\n",
              "      <td>2.619450</td>\n",
              "      <td>2.615970</td>\n",
              "      <td>2.692740</td>\n",
              "      <td>2.631916</td>\n",
              "      <td>2.619450</td>\n",
              "      <td>2.615970</td>\n",
              "      <td>5.20</td>\n",
              "      <td>16.8</td>\n",
              "      <td>4.87</td>\n",
              "      <td>-3.36</td>\n",
              "    </tr>\n",
              "    <tr>\n",
              "      <th>84990</th>\n",
              "      <td>8498.9</td>\n",
              "      <td>2.692755</td>\n",
              "      <td>1.8</td>\n",
              "      <td>2.618994</td>\n",
              "      <td>2.615983</td>\n",
              "      <td>2.692755</td>\n",
              "      <td>2.633157</td>\n",
              "      <td>2.618994</td>\n",
              "      <td>2.615983</td>\n",
              "      <td>5.18</td>\n",
              "      <td>16.7</td>\n",
              "      <td>4.87</td>\n",
              "      <td>-3.36</td>\n",
              "    </tr>\n",
              "  </tbody>\n",
              "</table>\n",
              "<p>84991 rows × 13 columns</p>\n",
              "</div>"
            ],
            "text/plain": [
              "         Time     DVL1_S  DVL2_S  ...  ROV6DOF.1  ROV6DOF.2  ROV6DOF.3\n",
              "0         0.0   0.000000     0.0  ...        0.0       0.00       0.00\n",
              "1         0.0  20.000000    20.0  ...        0.0       0.00       0.00\n",
              "2         0.1  20.000000    20.0  ...        0.0       0.00       0.00\n",
              "3         0.2  20.000000    20.0  ...        0.0       0.00       0.00\n",
              "4         0.3  20.000000    20.0  ...        0.0       0.00       0.00\n",
              "...       ...        ...     ...  ...        ...        ...        ...\n",
              "84986  8498.5   2.692643     1.8  ...       16.8       4.87      -3.37\n",
              "84987  8498.6   2.692682     1.8  ...       16.8       4.87      -3.37\n",
              "84988  8498.7   2.692715     1.8  ...       16.8       4.87      -3.37\n",
              "84989  8498.8   2.692740     1.8  ...       16.8       4.87      -3.36\n",
              "84990  8498.9   2.692755     1.8  ...       16.7       4.87      -3.36\n",
              "\n",
              "[84991 rows x 13 columns]"
            ]
          },
          "metadata": {
            "tags": []
          },
          "execution_count": 5
        }
      ]
    },
    {
      "cell_type": "code",
      "metadata": {
        "id": "SsY7_HJG00vh",
        "outputId": "98375fe9-ff9a-4f30-b551-3a2f83137b3f",
        "colab": {
          "base_uri": "https://localhost:8080/",
          "height": 405
        }
      },
      "source": [
        "df2.drop(84990) \n",
        "df2=df2.drop(84988)\n",
        "df2=df2.drop(84987)\n",
        "df2.drop(84990)\n",
        "df2=df2.drop(84985)\n",
        "df2=df2.drop(84990)\n",
        "df2=df2.drop(84984)\n",
        "df2=df2.drop(84983)\n",
        "df2=df2.drop(84982)\n",
        "df2=df2.drop(84981)\n",
        "df2=df2.drop(84980)\n",
        "df2=df2.drop(84986)\n",
        "df2=df2.drop(84989)\n",
        "df2"
      ],
      "execution_count": null,
      "outputs": [
        {
          "output_type": "execute_result",
          "data": {
            "text/html": [
              "<div>\n",
              "<style scoped>\n",
              "    .dataframe tbody tr th:only-of-type {\n",
              "        vertical-align: middle;\n",
              "    }\n",
              "\n",
              "    .dataframe tbody tr th {\n",
              "        vertical-align: top;\n",
              "    }\n",
              "\n",
              "    .dataframe thead th {\n",
              "        text-align: right;\n",
              "    }\n",
              "</style>\n",
              "<table border=\"1\" class=\"dataframe\">\n",
              "  <thead>\n",
              "    <tr style=\"text-align: right;\">\n",
              "      <th></th>\n",
              "      <th>Time</th>\n",
              "      <th>DVL1_S</th>\n",
              "      <th>DVL2_S</th>\n",
              "      <th>DVL3_S</th>\n",
              "      <th>DVL4_S</th>\n",
              "      <th>DVL1</th>\n",
              "      <th>DVL2</th>\n",
              "      <th>DVL3</th>\n",
              "      <th>DVL4</th>\n",
              "      <th>ROV6DOF</th>\n",
              "      <th>ROV6DOF.1</th>\n",
              "      <th>ROV6DOF.2</th>\n",
              "      <th>ROV6DOF.3</th>\n",
              "    </tr>\n",
              "  </thead>\n",
              "  <tbody>\n",
              "    <tr>\n",
              "      <th>0</th>\n",
              "      <td>0.0</td>\n",
              "      <td>0.0</td>\n",
              "      <td>0.0</td>\n",
              "      <td>0.000000</td>\n",
              "      <td>0.0</td>\n",
              "      <td>0.000000</td>\n",
              "      <td>0.000000</td>\n",
              "      <td>0.000000</td>\n",
              "      <td>0.000000</td>\n",
              "      <td>0.00</td>\n",
              "      <td>0.0</td>\n",
              "      <td>0.00</td>\n",
              "      <td>0.00</td>\n",
              "    </tr>\n",
              "    <tr>\n",
              "      <th>1</th>\n",
              "      <td>0.0</td>\n",
              "      <td>20.0</td>\n",
              "      <td>20.0</td>\n",
              "      <td>20.000000</td>\n",
              "      <td>20.0</td>\n",
              "      <td>20.000000</td>\n",
              "      <td>20.000000</td>\n",
              "      <td>20.000000</td>\n",
              "      <td>20.000000</td>\n",
              "      <td>0.00</td>\n",
              "      <td>0.0</td>\n",
              "      <td>0.00</td>\n",
              "      <td>0.00</td>\n",
              "    </tr>\n",
              "    <tr>\n",
              "      <th>2</th>\n",
              "      <td>0.1</td>\n",
              "      <td>20.0</td>\n",
              "      <td>20.0</td>\n",
              "      <td>20.000000</td>\n",
              "      <td>20.0</td>\n",
              "      <td>20.000000</td>\n",
              "      <td>20.000000</td>\n",
              "      <td>20.000000</td>\n",
              "      <td>20.000000</td>\n",
              "      <td>0.00</td>\n",
              "      <td>0.0</td>\n",
              "      <td>0.00</td>\n",
              "      <td>0.00</td>\n",
              "    </tr>\n",
              "    <tr>\n",
              "      <th>3</th>\n",
              "      <td>0.2</td>\n",
              "      <td>20.0</td>\n",
              "      <td>20.0</td>\n",
              "      <td>20.000000</td>\n",
              "      <td>20.0</td>\n",
              "      <td>20.000000</td>\n",
              "      <td>20.000000</td>\n",
              "      <td>20.000000</td>\n",
              "      <td>20.000000</td>\n",
              "      <td>0.00</td>\n",
              "      <td>0.0</td>\n",
              "      <td>0.00</td>\n",
              "      <td>0.00</td>\n",
              "    </tr>\n",
              "    <tr>\n",
              "      <th>4</th>\n",
              "      <td>0.3</td>\n",
              "      <td>20.0</td>\n",
              "      <td>20.0</td>\n",
              "      <td>20.000000</td>\n",
              "      <td>20.0</td>\n",
              "      <td>20.000000</td>\n",
              "      <td>20.000000</td>\n",
              "      <td>20.000000</td>\n",
              "      <td>20.000000</td>\n",
              "      <td>0.00</td>\n",
              "      <td>0.0</td>\n",
              "      <td>0.00</td>\n",
              "      <td>0.00</td>\n",
              "    </tr>\n",
              "    <tr>\n",
              "      <th>...</th>\n",
              "      <td>...</td>\n",
              "      <td>...</td>\n",
              "      <td>...</td>\n",
              "      <td>...</td>\n",
              "      <td>...</td>\n",
              "      <td>...</td>\n",
              "      <td>...</td>\n",
              "      <td>...</td>\n",
              "      <td>...</td>\n",
              "      <td>...</td>\n",
              "      <td>...</td>\n",
              "      <td>...</td>\n",
              "      <td>...</td>\n",
              "    </tr>\n",
              "    <tr>\n",
              "      <th>84975</th>\n",
              "      <td>8497.4</td>\n",
              "      <td>0.8</td>\n",
              "      <td>0.3</td>\n",
              "      <td>2.621668</td>\n",
              "      <td>1.8</td>\n",
              "      <td>2.691185</td>\n",
              "      <td>2.610809</td>\n",
              "      <td>2.621668</td>\n",
              "      <td>2.614601</td>\n",
              "      <td>5.55</td>\n",
              "      <td>17.0</td>\n",
              "      <td>4.87</td>\n",
              "      <td>-3.39</td>\n",
              "    </tr>\n",
              "    <tr>\n",
              "      <th>84976</th>\n",
              "      <td>8497.5</td>\n",
              "      <td>0.8</td>\n",
              "      <td>0.3</td>\n",
              "      <td>2.621745</td>\n",
              "      <td>1.8</td>\n",
              "      <td>2.691401</td>\n",
              "      <td>2.612374</td>\n",
              "      <td>2.621745</td>\n",
              "      <td>2.614807</td>\n",
              "      <td>5.52</td>\n",
              "      <td>17.0</td>\n",
              "      <td>4.87</td>\n",
              "      <td>-3.38</td>\n",
              "    </tr>\n",
              "    <tr>\n",
              "      <th>84977</th>\n",
              "      <td>8497.6</td>\n",
              "      <td>0.8</td>\n",
              "      <td>0.3</td>\n",
              "      <td>2.621804</td>\n",
              "      <td>1.8</td>\n",
              "      <td>2.691634</td>\n",
              "      <td>2.614254</td>\n",
              "      <td>2.621804</td>\n",
              "      <td>2.615026</td>\n",
              "      <td>5.50</td>\n",
              "      <td>17.0</td>\n",
              "      <td>4.87</td>\n",
              "      <td>-3.38</td>\n",
              "    </tr>\n",
              "    <tr>\n",
              "      <th>84978</th>\n",
              "      <td>8497.7</td>\n",
              "      <td>0.8</td>\n",
              "      <td>0.3</td>\n",
              "      <td>2.621820</td>\n",
              "      <td>1.8</td>\n",
              "      <td>2.691802</td>\n",
              "      <td>2.615765</td>\n",
              "      <td>2.621820</td>\n",
              "      <td>2.615181</td>\n",
              "      <td>5.47</td>\n",
              "      <td>16.9</td>\n",
              "      <td>4.87</td>\n",
              "      <td>-3.38</td>\n",
              "    </tr>\n",
              "    <tr>\n",
              "      <th>84979</th>\n",
              "      <td>8497.8</td>\n",
              "      <td>0.8</td>\n",
              "      <td>0.3</td>\n",
              "      <td>2.621799</td>\n",
              "      <td>1.8</td>\n",
              "      <td>2.691982</td>\n",
              "      <td>2.617577</td>\n",
              "      <td>2.621799</td>\n",
              "      <td>2.615344</td>\n",
              "      <td>5.45</td>\n",
              "      <td>16.9</td>\n",
              "      <td>4.87</td>\n",
              "      <td>-3.38</td>\n",
              "    </tr>\n",
              "  </tbody>\n",
              "</table>\n",
              "<p>84980 rows × 13 columns</p>\n",
              "</div>"
            ],
            "text/plain": [
              "         Time  DVL1_S  DVL2_S  ...  ROV6DOF.1  ROV6DOF.2  ROV6DOF.3\n",
              "0         0.0     0.0     0.0  ...        0.0       0.00       0.00\n",
              "1         0.0    20.0    20.0  ...        0.0       0.00       0.00\n",
              "2         0.1    20.0    20.0  ...        0.0       0.00       0.00\n",
              "3         0.2    20.0    20.0  ...        0.0       0.00       0.00\n",
              "4         0.3    20.0    20.0  ...        0.0       0.00       0.00\n",
              "...       ...     ...     ...  ...        ...        ...        ...\n",
              "84975  8497.4     0.8     0.3  ...       17.0       4.87      -3.39\n",
              "84976  8497.5     0.8     0.3  ...       17.0       4.87      -3.38\n",
              "84977  8497.6     0.8     0.3  ...       17.0       4.87      -3.38\n",
              "84978  8497.7     0.8     0.3  ...       16.9       4.87      -3.38\n",
              "84979  8497.8     0.8     0.3  ...       16.9       4.87      -3.38\n",
              "\n",
              "[84980 rows x 13 columns]"
            ]
          },
          "metadata": {
            "tags": []
          },
          "execution_count": 6
        }
      ]
    },
    {
      "cell_type": "code",
      "metadata": {
        "id": "cibnyJhf02Wf",
        "outputId": "58a8c56d-8be9-4360-aeff-5e5027e92865",
        "colab": {
          "base_uri": "https://localhost:8080/",
          "height": 405
        }
      },
      "source": [
        "df3=df3.drop(0) \n",
        "df2\n"
      ],
      "execution_count": null,
      "outputs": [
        {
          "output_type": "execute_result",
          "data": {
            "text/html": [
              "<div>\n",
              "<style scoped>\n",
              "    .dataframe tbody tr th:only-of-type {\n",
              "        vertical-align: middle;\n",
              "    }\n",
              "\n",
              "    .dataframe tbody tr th {\n",
              "        vertical-align: top;\n",
              "    }\n",
              "\n",
              "    .dataframe thead th {\n",
              "        text-align: right;\n",
              "    }\n",
              "</style>\n",
              "<table border=\"1\" class=\"dataframe\">\n",
              "  <thead>\n",
              "    <tr style=\"text-align: right;\">\n",
              "      <th></th>\n",
              "      <th>Time</th>\n",
              "      <th>DVL1_S</th>\n",
              "      <th>DVL2_S</th>\n",
              "      <th>DVL3_S</th>\n",
              "      <th>DVL4_S</th>\n",
              "      <th>DVL1</th>\n",
              "      <th>DVL2</th>\n",
              "      <th>DVL3</th>\n",
              "      <th>DVL4</th>\n",
              "      <th>ROV6DOF</th>\n",
              "      <th>ROV6DOF.1</th>\n",
              "      <th>ROV6DOF.2</th>\n",
              "      <th>ROV6DOF.3</th>\n",
              "    </tr>\n",
              "  </thead>\n",
              "  <tbody>\n",
              "    <tr>\n",
              "      <th>0</th>\n",
              "      <td>0.0</td>\n",
              "      <td>0.0</td>\n",
              "      <td>0.0</td>\n",
              "      <td>0.000000</td>\n",
              "      <td>0.0</td>\n",
              "      <td>0.000000</td>\n",
              "      <td>0.000000</td>\n",
              "      <td>0.000000</td>\n",
              "      <td>0.000000</td>\n",
              "      <td>0.00</td>\n",
              "      <td>0.0</td>\n",
              "      <td>0.00</td>\n",
              "      <td>0.00</td>\n",
              "    </tr>\n",
              "    <tr>\n",
              "      <th>1</th>\n",
              "      <td>0.0</td>\n",
              "      <td>20.0</td>\n",
              "      <td>20.0</td>\n",
              "      <td>20.000000</td>\n",
              "      <td>20.0</td>\n",
              "      <td>20.000000</td>\n",
              "      <td>20.000000</td>\n",
              "      <td>20.000000</td>\n",
              "      <td>20.000000</td>\n",
              "      <td>0.00</td>\n",
              "      <td>0.0</td>\n",
              "      <td>0.00</td>\n",
              "      <td>0.00</td>\n",
              "    </tr>\n",
              "    <tr>\n",
              "      <th>2</th>\n",
              "      <td>0.1</td>\n",
              "      <td>20.0</td>\n",
              "      <td>20.0</td>\n",
              "      <td>20.000000</td>\n",
              "      <td>20.0</td>\n",
              "      <td>20.000000</td>\n",
              "      <td>20.000000</td>\n",
              "      <td>20.000000</td>\n",
              "      <td>20.000000</td>\n",
              "      <td>0.00</td>\n",
              "      <td>0.0</td>\n",
              "      <td>0.00</td>\n",
              "      <td>0.00</td>\n",
              "    </tr>\n",
              "    <tr>\n",
              "      <th>3</th>\n",
              "      <td>0.2</td>\n",
              "      <td>20.0</td>\n",
              "      <td>20.0</td>\n",
              "      <td>20.000000</td>\n",
              "      <td>20.0</td>\n",
              "      <td>20.000000</td>\n",
              "      <td>20.000000</td>\n",
              "      <td>20.000000</td>\n",
              "      <td>20.000000</td>\n",
              "      <td>0.00</td>\n",
              "      <td>0.0</td>\n",
              "      <td>0.00</td>\n",
              "      <td>0.00</td>\n",
              "    </tr>\n",
              "    <tr>\n",
              "      <th>4</th>\n",
              "      <td>0.3</td>\n",
              "      <td>20.0</td>\n",
              "      <td>20.0</td>\n",
              "      <td>20.000000</td>\n",
              "      <td>20.0</td>\n",
              "      <td>20.000000</td>\n",
              "      <td>20.000000</td>\n",
              "      <td>20.000000</td>\n",
              "      <td>20.000000</td>\n",
              "      <td>0.00</td>\n",
              "      <td>0.0</td>\n",
              "      <td>0.00</td>\n",
              "      <td>0.00</td>\n",
              "    </tr>\n",
              "    <tr>\n",
              "      <th>...</th>\n",
              "      <td>...</td>\n",
              "      <td>...</td>\n",
              "      <td>...</td>\n",
              "      <td>...</td>\n",
              "      <td>...</td>\n",
              "      <td>...</td>\n",
              "      <td>...</td>\n",
              "      <td>...</td>\n",
              "      <td>...</td>\n",
              "      <td>...</td>\n",
              "      <td>...</td>\n",
              "      <td>...</td>\n",
              "      <td>...</td>\n",
              "    </tr>\n",
              "    <tr>\n",
              "      <th>84975</th>\n",
              "      <td>8497.4</td>\n",
              "      <td>0.8</td>\n",
              "      <td>0.3</td>\n",
              "      <td>2.621668</td>\n",
              "      <td>1.8</td>\n",
              "      <td>2.691185</td>\n",
              "      <td>2.610809</td>\n",
              "      <td>2.621668</td>\n",
              "      <td>2.614601</td>\n",
              "      <td>5.55</td>\n",
              "      <td>17.0</td>\n",
              "      <td>4.87</td>\n",
              "      <td>-3.39</td>\n",
              "    </tr>\n",
              "    <tr>\n",
              "      <th>84976</th>\n",
              "      <td>8497.5</td>\n",
              "      <td>0.8</td>\n",
              "      <td>0.3</td>\n",
              "      <td>2.621745</td>\n",
              "      <td>1.8</td>\n",
              "      <td>2.691401</td>\n",
              "      <td>2.612374</td>\n",
              "      <td>2.621745</td>\n",
              "      <td>2.614807</td>\n",
              "      <td>5.52</td>\n",
              "      <td>17.0</td>\n",
              "      <td>4.87</td>\n",
              "      <td>-3.38</td>\n",
              "    </tr>\n",
              "    <tr>\n",
              "      <th>84977</th>\n",
              "      <td>8497.6</td>\n",
              "      <td>0.8</td>\n",
              "      <td>0.3</td>\n",
              "      <td>2.621804</td>\n",
              "      <td>1.8</td>\n",
              "      <td>2.691634</td>\n",
              "      <td>2.614254</td>\n",
              "      <td>2.621804</td>\n",
              "      <td>2.615026</td>\n",
              "      <td>5.50</td>\n",
              "      <td>17.0</td>\n",
              "      <td>4.87</td>\n",
              "      <td>-3.38</td>\n",
              "    </tr>\n",
              "    <tr>\n",
              "      <th>84978</th>\n",
              "      <td>8497.7</td>\n",
              "      <td>0.8</td>\n",
              "      <td>0.3</td>\n",
              "      <td>2.621820</td>\n",
              "      <td>1.8</td>\n",
              "      <td>2.691802</td>\n",
              "      <td>2.615765</td>\n",
              "      <td>2.621820</td>\n",
              "      <td>2.615181</td>\n",
              "      <td>5.47</td>\n",
              "      <td>16.9</td>\n",
              "      <td>4.87</td>\n",
              "      <td>-3.38</td>\n",
              "    </tr>\n",
              "    <tr>\n",
              "      <th>84979</th>\n",
              "      <td>8497.8</td>\n",
              "      <td>0.8</td>\n",
              "      <td>0.3</td>\n",
              "      <td>2.621799</td>\n",
              "      <td>1.8</td>\n",
              "      <td>2.691982</td>\n",
              "      <td>2.617577</td>\n",
              "      <td>2.621799</td>\n",
              "      <td>2.615344</td>\n",
              "      <td>5.45</td>\n",
              "      <td>16.9</td>\n",
              "      <td>4.87</td>\n",
              "      <td>-3.38</td>\n",
              "    </tr>\n",
              "  </tbody>\n",
              "</table>\n",
              "<p>84980 rows × 13 columns</p>\n",
              "</div>"
            ],
            "text/plain": [
              "         Time  DVL1_S  DVL2_S  ...  ROV6DOF.1  ROV6DOF.2  ROV6DOF.3\n",
              "0         0.0     0.0     0.0  ...        0.0       0.00       0.00\n",
              "1         0.0    20.0    20.0  ...        0.0       0.00       0.00\n",
              "2         0.1    20.0    20.0  ...        0.0       0.00       0.00\n",
              "3         0.2    20.0    20.0  ...        0.0       0.00       0.00\n",
              "4         0.3    20.0    20.0  ...        0.0       0.00       0.00\n",
              "...       ...     ...     ...  ...        ...        ...        ...\n",
              "84975  8497.4     0.8     0.3  ...       17.0       4.87      -3.39\n",
              "84976  8497.5     0.8     0.3  ...       17.0       4.87      -3.38\n",
              "84977  8497.6     0.8     0.3  ...       17.0       4.87      -3.38\n",
              "84978  8497.7     0.8     0.3  ...       16.9       4.87      -3.38\n",
              "84979  8497.8     0.8     0.3  ...       16.9       4.87      -3.38\n",
              "\n",
              "[84980 rows x 13 columns]"
            ]
          },
          "metadata": {
            "tags": []
          },
          "execution_count": 7
        }
      ]
    },
    {
      "cell_type": "code",
      "metadata": {
        "id": "r1085cIG03_l"
      },
      "source": [
        "t=df2['Time']\n",
        "Tdata=df2['DVL1_S']\n",
        "X1=np.array(Tdata)\n",
        "Tdata2=df2['DVL2_S']\n",
        "X2=np.array(Tdata2)\n",
        "Tdata3=df2['DVL3_S']\n",
        "X3=np.array(Tdata)\n",
        "Tdata4=df2['DVL4_S']\n",
        "X4=np.array(Tdata4)\n",
        "Tdata5=df2['ROV6DOF']\n",
        "X5=np.array(Tdata5)\n",
        "Tdata6=df2['ROV6DOF.1']\n",
        "X6=np.array(Tdata6)\n",
        "Tdata7=df2['ROV6DOF.2']\n",
        "X7=np.array(Tdata7)\n",
        "Tdata8=df2['ROV6DOF.3']\n",
        "X8=np.array(Tdata8)"
      ],
      "execution_count": null,
      "outputs": []
    },
    {
      "cell_type": "code",
      "metadata": {
        "id": "r-z2yYHn05p8",
        "outputId": "aa4e3203-d067-48f0-b4af-ab8cfa318e66",
        "colab": {
          "base_uri": "https://localhost:8080/",
          "height": 187
        }
      },
      "source": [
        "# Stacking the two arrays along axis 0 \n",
        "out_arr1_X_training = geek.stack((X1, X2, X3,X4, X5,X6,X7,X8), axis = 0) \n",
        "print (\"Output stacked array along axis 0:\\n \", out_arr1_X_training) \n",
        "print (\"Output Shape:\\n \", out_arr1_X_training.shape) "
      ],
      "execution_count": null,
      "outputs": [
        {
          "output_type": "stream",
          "text": [
            "Output stacked array along axis 0:\n",
            "  [[ 0.   20.   20.   ...  0.8   0.8   0.8 ]\n",
            " [ 0.   20.   20.   ...  0.3   0.3   0.3 ]\n",
            " [ 0.   20.   20.   ...  0.8   0.8   0.8 ]\n",
            " ...\n",
            " [ 0.    0.    0.   ... 17.   16.9  16.9 ]\n",
            " [ 0.    0.    0.   ...  4.87  4.87  4.87]\n",
            " [ 0.    0.    0.   ... -3.38 -3.38 -3.38]]\n",
            "Output Shape:\n",
            "  (8, 84980)\n"
          ],
          "name": "stdout"
        }
      ]
    },
    {
      "cell_type": "code",
      "metadata": {
        "id": "cINiczUr0731",
        "outputId": "52fe3cce-82da-4b04-a9c2-2352ae2c2835",
        "colab": {
          "base_uri": "https://localhost:8080/",
          "height": 34
        }
      },
      "source": [
        "X= out_arr1_X_training\n",
        "X = X.transpose((1,0))\n",
        "X.shape"
      ],
      "execution_count": null,
      "outputs": [
        {
          "output_type": "execute_result",
          "data": {
            "text/plain": [
              "(84980, 8)"
            ]
          },
          "metadata": {
            "tags": []
          },
          "execution_count": 10
        }
      ]
    },
    {
      "cell_type": "code",
      "metadata": {
        "id": "qAax49eo09f9"
      },
      "source": [
        "Tdata1=df2['DVL1']\n",
        "y1=np.array(Tdata1)\n",
        "Tdata22=df2['DVL2']\n",
        "y2=np.array(Tdata22)\n",
        "Tdata33=df2['DVL3']\n",
        "y3=np.array(Tdata33)\n",
        "Tdata44=df2['DVL4']\n",
        "y4=np.array(Tdata44)"
      ],
      "execution_count": null,
      "outputs": []
    },
    {
      "cell_type": "code",
      "metadata": {
        "id": "xPfBtYzA0-tV",
        "outputId": "0cf27645-cfea-4b6a-ebe8-b79b369e8767",
        "colab": {
          "base_uri": "https://localhost:8080/",
          "height": 136
        }
      },
      "source": [
        "# Stacking the two arrays along axis 0 \n",
        "out_lab1_Target = geek.stack((y1, y2, y3, y4), axis = 0) \n",
        "print (\"Output stacked array along axis 0:\\n \", out_lab1_Target) \n",
        "print (\"Labels Shape :\\n \", out_lab1_Target.shape) "
      ],
      "execution_count": null,
      "outputs": [
        {
          "output_type": "stream",
          "text": [
            "Output stacked array along axis 0:\n",
            "  [[ 0.       20.       20.       ...  2.691634  2.691802  2.691982]\n",
            " [ 0.       20.       20.       ...  2.614254  2.615765  2.617577]\n",
            " [ 0.       20.       20.       ...  2.621804  2.62182   2.621799]\n",
            " [ 0.       20.       20.       ...  2.615026  2.615181  2.615344]]\n",
            "Labels Shape :\n",
            "  (4, 84980)\n"
          ],
          "name": "stdout"
        }
      ]
    },
    {
      "cell_type": "code",
      "metadata": {
        "id": "jkVSlPVh1AGc"
      },
      "source": [
        "y= out_lab1_Target"
      ],
      "execution_count": null,
      "outputs": []
    },
    {
      "cell_type": "code",
      "metadata": {
        "id": "x4dvZulD1B6l"
      },
      "source": [
        "y=y.transpose((1,0))"
      ],
      "execution_count": null,
      "outputs": []
    },
    {
      "cell_type": "code",
      "metadata": {
        "id": "-uKvhGCN1Dyb"
      },
      "source": [
        "# mlp for multi-output regression\n",
        "from numpy import mean\n",
        "from numpy import std\n",
        "from sklearn.datasets import make_regression\n",
        "from sklearn.model_selection import RepeatedKFold\n",
        "from keras.models import Sequential\n",
        "from keras.layers import Dense"
      ],
      "execution_count": null,
      "outputs": []
    },
    {
      "cell_type": "code",
      "metadata": {
        "id": "D0D1kJXu3BNu",
        "outputId": "7738d7e1-abd6-4daf-fe72-bd92f9d0b2e9",
        "colab": {
          "base_uri": "https://localhost:8080/",
          "height": 34
        }
      },
      "source": [
        "X.shape"
      ],
      "execution_count": null,
      "outputs": [
        {
          "output_type": "execute_result",
          "data": {
            "text/plain": [
              "(84980, 8)"
            ]
          },
          "metadata": {
            "tags": []
          },
          "execution_count": 16
        }
      ]
    },
    {
      "cell_type": "code",
      "metadata": {
        "id": "qEHASEOr1Xw3"
      },
      "source": [
        "y_train=y[:64980]"
      ],
      "execution_count": null,
      "outputs": []
    },
    {
      "cell_type": "code",
      "metadata": {
        "id": "ELySnCCZmGei"
      },
      "source": [
        "X_train=X[:64980]"
      ],
      "execution_count": null,
      "outputs": []
    },
    {
      "cell_type": "code",
      "metadata": {
        "id": "SXblwR0x1Ppc"
      },
      "source": [
        "x_val=X[64980:74980]"
      ],
      "execution_count": null,
      "outputs": []
    },
    {
      "cell_type": "code",
      "metadata": {
        "id": "RcjUbnxN3ENj",
        "outputId": "1e014757-c855-4107-dd97-ed6e3146a64b",
        "colab": {
          "base_uri": "https://localhost:8080/",
          "height": 34
        }
      },
      "source": [
        "x_val.dtype"
      ],
      "execution_count": null,
      "outputs": [
        {
          "output_type": "execute_result",
          "data": {
            "text/plain": [
              "dtype('float64')"
            ]
          },
          "metadata": {
            "tags": []
          },
          "execution_count": 20
        }
      ]
    },
    {
      "cell_type": "code",
      "metadata": {
        "id": "rE_cNDdS1a0k"
      },
      "source": [
        "y_val=y[64980:74980]"
      ],
      "execution_count": null,
      "outputs": []
    },
    {
      "cell_type": "code",
      "metadata": {
        "id": "fqyT_m6m1TF9"
      },
      "source": [
        "x_test=X[-10000:]"
      ],
      "execution_count": null,
      "outputs": []
    },
    {
      "cell_type": "code",
      "metadata": {
        "id": "tP7LQHla1V5E"
      },
      "source": [
        "y_test=y[-10000:]"
      ],
      "execution_count": null,
      "outputs": []
    },
    {
      "cell_type": "code",
      "metadata": {
        "id": "sqYFGVGw18gN"
      },
      "source": [
        "n_features=4"
      ],
      "execution_count": null,
      "outputs": []
    },
    {
      "cell_type": "code",
      "metadata": {
        "id": "DwVnuq2d2AAa"
      },
      "source": [
        "n_steps=1"
      ],
      "execution_count": null,
      "outputs": []
    },
    {
      "cell_type": "code",
      "metadata": {
        "id": "yMkG_FuI2Cek"
      },
      "source": [
        "import keras"
      ],
      "execution_count": null,
      "outputs": []
    },
    {
      "cell_type": "code",
      "metadata": {
        "id": "M1IWCyOh2b4j",
        "outputId": "08b282a9-3671-4718-a28b-1d154d497801",
        "colab": {
          "base_uri": "https://localhost:8080/",
          "height": 34
        }
      },
      "source": [
        "X_train.shape"
      ],
      "execution_count": null,
      "outputs": [
        {
          "output_type": "execute_result",
          "data": {
            "text/plain": [
              "(64980, 8)"
            ]
          },
          "metadata": {
            "tags": []
          },
          "execution_count": 27
        }
      ]
    },
    {
      "cell_type": "code",
      "metadata": {
        "id": "nfSsqGIT2dft",
        "outputId": "6467cf09-2dc5-409b-9a48-4b322238af5d",
        "colab": {
          "base_uri": "https://localhost:8080/",
          "height": 34
        }
      },
      "source": [
        "y_train.shape"
      ],
      "execution_count": null,
      "outputs": [
        {
          "output_type": "execute_result",
          "data": {
            "text/plain": [
              "(64980, 4)"
            ]
          },
          "metadata": {
            "tags": []
          },
          "execution_count": 28
        }
      ]
    },
    {
      "cell_type": "code",
      "metadata": {
        "id": "Ey0lPeNO2fE3",
        "outputId": "2eca0833-53fa-4674-e799-473f6b20e800",
        "colab": {
          "base_uri": "https://localhost:8080/",
          "height": 34
        }
      },
      "source": [
        "x_val.shape"
      ],
      "execution_count": null,
      "outputs": [
        {
          "output_type": "execute_result",
          "data": {
            "text/plain": [
              "(10000, 8)"
            ]
          },
          "metadata": {
            "tags": []
          },
          "execution_count": 29
        }
      ]
    },
    {
      "cell_type": "code",
      "metadata": {
        "id": "aanTD__Y2g6J",
        "outputId": "ed405a50-e6af-4115-e7d6-6908a823ff13",
        "colab": {
          "base_uri": "https://localhost:8080/",
          "height": 34
        }
      },
      "source": [
        "y_val.shape"
      ],
      "execution_count": null,
      "outputs": [
        {
          "output_type": "execute_result",
          "data": {
            "text/plain": [
              "(10000, 4)"
            ]
          },
          "metadata": {
            "tags": []
          },
          "execution_count": 30
        }
      ]
    },
    {
      "cell_type": "code",
      "metadata": {
        "id": "z23LyrTh3g27"
      },
      "source": [
        "import tensorflow as tf"
      ],
      "execution_count": null,
      "outputs": []
    },
    {
      "cell_type": "code",
      "metadata": {
        "id": "tOL88bxP3O5X"
      },
      "source": [
        "from keras.layers import Dropout"
      ],
      "execution_count": null,
      "outputs": []
    },
    {
      "cell_type": "code",
      "metadata": {
        "id": "sH2TZJDp1ws_",
        "outputId": "da64972c-e0e6-4e5e-b42a-d336822ac45f",
        "colab": {
          "base_uri": "https://localhost:8080/",
          "height": 34
        }
      },
      "source": [
        "y_train.shape"
      ],
      "execution_count": null,
      "outputs": [
        {
          "output_type": "execute_result",
          "data": {
            "text/plain": [
              "(64980, 4)"
            ]
          },
          "metadata": {
            "tags": []
          },
          "execution_count": 33
        }
      ]
    },
    {
      "cell_type": "code",
      "metadata": {
        "id": "TdB7MnMV1y8R"
      },
      "source": [
        "y_train1=y_train[:5783]"
      ],
      "execution_count": null,
      "outputs": []
    },
    {
      "cell_type": "code",
      "metadata": {
        "id": "f18EADv314-5",
        "outputId": "c390deab-9e88-4554-dc1a-e04874c0747e",
        "colab": {
          "base_uri": "https://localhost:8080/",
          "height": 34
        }
      },
      "source": [
        "y_train1.shape"
      ],
      "execution_count": null,
      "outputs": [
        {
          "output_type": "execute_result",
          "data": {
            "text/plain": [
              "(5783, 4)"
            ]
          },
          "metadata": {
            "tags": []
          },
          "execution_count": 35
        }
      ]
    },
    {
      "cell_type": "code",
      "metadata": {
        "id": "0ttsM4CG1fRH"
      },
      "source": [
        "values = [1e-1, 1e-2, 1e-3, 1e-4, 1e-5, 1e-6]\n",
        "\n",
        "from keras.layers import Input, Dense, Conv1D, MaxPooling1D, UpSampling1D, Flatten, Reshape \n",
        "from keras.models import Model\n",
        "from keras import backend as K\n",
        "input_img=Input(shape=(n_steps, 8))\n",
        "#input_img = Input(shape=(28, 28, 1))  # adapt this if using `channels_first` image data format\n",
        "# Dropout \n",
        "\n",
        "x = Conv1D(16, 3, activation='relu', padding='same')(input_img)\n",
        "x= MaxPooling1D(2, padding= 'same')(x)\n",
        "x= Dropout(0.5) (x)\n",
        "x= Dropout(0.3) (x)\n",
        "x = Conv1D(16, 3, activation='relu', padding='same')(x)\n",
        "x= MaxPooling1D(2, padding= 'same')(x)\n",
        "x= Dropout(0.5) (x)\n",
        "#x = Conv1D(16, 3, activation='relu', padding='same')(x)\n",
        "x= MaxPooling1D(2, padding= 'same')(x)\n",
        "x= Dropout(0.5) (x)\n",
        "# at this point the representation is (4, 4, 8) i.e. 128-dimensional\n",
        "x= Flatten()(x)\n",
        "decoded = Dense(n_features*n_steps, activation='linear')(x)\n",
        "outputs= Reshape((n_steps, n_features))(decoded)\n",
        "#tf.reshape(tensor, shape, name=None)\n",
        "autoencoder = Model(input_img, outputs)\n",
        "opt = keras.optimizers.Adam(learning_rate=0.0001)\n",
        "autoencoder.compile(opt, loss='mse')"
      ],
      "execution_count": null,
      "outputs": []
    },
    {
      "cell_type": "code",
      "metadata": {
        "id": "VrtSQrU5mYTL",
        "outputId": "1b9ffb68-0e7b-4782-da20-1601b9b4753e",
        "colab": {
          "base_uri": "https://localhost:8080/",
          "height": 34
        }
      },
      "source": [
        "X_train.shape"
      ],
      "execution_count": null,
      "outputs": [
        {
          "output_type": "execute_result",
          "data": {
            "text/plain": [
              "(64980, 8)"
            ]
          },
          "metadata": {
            "tags": []
          },
          "execution_count": 38
        }
      ]
    },
    {
      "cell_type": "code",
      "metadata": {
        "id": "rM3Ia1E2mZ_Y"
      },
      "source": [
        "X_train=X_train.reshape(64980,1,8)"
      ],
      "execution_count": null,
      "outputs": []
    },
    {
      "cell_type": "code",
      "metadata": {
        "id": "ElQgIn2XmeIR",
        "outputId": "b1dda9f1-739b-46b4-d7aa-5ea128badb1c",
        "colab": {
          "base_uri": "https://localhost:8080/",
          "height": 34
        }
      },
      "source": [
        "y_train.shape"
      ],
      "execution_count": null,
      "outputs": [
        {
          "output_type": "execute_result",
          "data": {
            "text/plain": [
              "(64980, 4)"
            ]
          },
          "metadata": {
            "tags": []
          },
          "execution_count": 40
        }
      ]
    },
    {
      "cell_type": "code",
      "metadata": {
        "id": "UloF-Ynhmf1u"
      },
      "source": [
        "y_train=y_train.reshape(64980,1,4)"
      ],
      "execution_count": null,
      "outputs": []
    },
    {
      "cell_type": "code",
      "metadata": {
        "id": "QC2I1mBVmlQ5"
      },
      "source": [
        "x_val=x_val.reshape(10000,1,8)"
      ],
      "execution_count": null,
      "outputs": []
    },
    {
      "cell_type": "code",
      "metadata": {
        "id": "I752gKHlmtPw"
      },
      "source": [
        "y_val=y_val.reshape(10000,1,4)"
      ],
      "execution_count": null,
      "outputs": []
    },
    {
      "cell_type": "code",
      "metadata": {
        "id": "4bWyGYKD1xDb",
        "outputId": "823c8c12-1add-48dd-a5a8-0d282fa9e7ed",
        "colab": {
          "base_uri": "https://localhost:8080/",
          "height": 1000
        }
      },
      "source": [
        "from keras.callbacks import TensorBoard, EarlyStopping\n",
        "\n",
        "es =EarlyStopping(\n",
        "    monitor=\"val_loss\",\n",
        "    min_delta=0.001,\n",
        "    patience=50,\n",
        "    verbose=0,\n",
        "    mode=\"auto\",\n",
        "    baseline=None,\n",
        "    restore_best_weights=True,\n",
        ")\n",
        "history=autoencoder.fit(X_train, y_train,\n",
        "                epochs=1500,\n",
        "                batch_size=32,\n",
        "                shuffle=True,\n",
        "                validation_data=(x_val, y_val), \n",
        "                callbacks= [es], verbose=1)\n",
        "\n",
        "# callback = tf.keras.callbacks.EarlyStopping(monitor='loss', patience=3)\n",
        "#Early Stopping.. Can be a wise option to observe\n",
        "#tf.keras.callbacks.EarlyStopping(\n",
        "   # monitor='val_loss', min_delta=0, patience=0, verbose=0, mode='auto',\n",
        "  #  baseline=None, restore_best_weights=False\n",
        "#)"
      ],
      "execution_count": null,
      "outputs": [
        {
          "output_type": "stream",
          "text": [
            "Epoch 1/1500\n",
            "2031/2031 [==============================] - 4s 2ms/step - loss: 5.4524 - val_loss: 2.4287\n",
            "Epoch 2/1500\n",
            "2031/2031 [==============================] - 3s 2ms/step - loss: 3.2803 - val_loss: 1.2816\n",
            "Epoch 3/1500\n",
            "2031/2031 [==============================] - 3s 2ms/step - loss: 2.2842 - val_loss: 0.6785\n",
            "Epoch 4/1500\n",
            "2031/2031 [==============================] - 3s 2ms/step - loss: 1.7904 - val_loss: 0.4419\n",
            "Epoch 5/1500\n",
            "2031/2031 [==============================] - 4s 2ms/step - loss: 1.4378 - val_loss: 0.2980\n",
            "Epoch 6/1500\n",
            "2031/2031 [==============================] - 3s 2ms/step - loss: 1.2373 - val_loss: 0.2192\n",
            "Epoch 7/1500\n",
            "2031/2031 [==============================] - 4s 2ms/step - loss: 0.9914 - val_loss: 0.1540\n",
            "Epoch 8/1500\n",
            "2031/2031 [==============================] - 3s 2ms/step - loss: 0.8444 - val_loss: 0.1085\n",
            "Epoch 9/1500\n",
            "2031/2031 [==============================] - 3s 2ms/step - loss: 0.7238 - val_loss: 0.0724\n",
            "Epoch 10/1500\n",
            "2031/2031 [==============================] - 3s 2ms/step - loss: 0.5645 - val_loss: 0.0516\n",
            "Epoch 11/1500\n",
            "2031/2031 [==============================] - 3s 2ms/step - loss: 0.5436 - val_loss: 0.0366\n",
            "Epoch 12/1500\n",
            "2031/2031 [==============================] - 3s 2ms/step - loss: 0.4448 - val_loss: 0.0234\n",
            "Epoch 13/1500\n",
            "2031/2031 [==============================] - 3s 2ms/step - loss: 0.3778 - val_loss: 0.0179\n",
            "Epoch 14/1500\n",
            "2031/2031 [==============================] - 3s 2ms/step - loss: 0.3675 - val_loss: 0.0168\n",
            "Epoch 15/1500\n",
            "2031/2031 [==============================] - 3s 2ms/step - loss: 0.3357 - val_loss: 0.0174\n",
            "Epoch 16/1500\n",
            "2031/2031 [==============================] - 3s 2ms/step - loss: 0.3414 - val_loss: 0.0186\n",
            "Epoch 17/1500\n",
            "2031/2031 [==============================] - 3s 2ms/step - loss: 0.3692 - val_loss: 0.0218\n",
            "Epoch 18/1500\n",
            "2031/2031 [==============================] - 3s 2ms/step - loss: 0.3314 - val_loss: 0.0228\n",
            "Epoch 19/1500\n",
            "2031/2031 [==============================] - 3s 2ms/step - loss: 0.3791 - val_loss: 0.0238\n",
            "Epoch 20/1500\n",
            "2031/2031 [==============================] - 3s 2ms/step - loss: 0.3331 - val_loss: 0.0237\n",
            "Epoch 21/1500\n",
            "2031/2031 [==============================] - 5s 2ms/step - loss: 0.3268 - val_loss: 0.0240\n",
            "Epoch 22/1500\n",
            "2031/2031 [==============================] - 5s 3ms/step - loss: 0.3818 - val_loss: 0.0240\n",
            "Epoch 23/1500\n",
            "2031/2031 [==============================] - 3s 2ms/step - loss: 0.3226 - val_loss: 0.0235\n",
            "Epoch 24/1500\n",
            "2031/2031 [==============================] - 3s 2ms/step - loss: 0.3623 - val_loss: 0.0237\n",
            "Epoch 25/1500\n",
            "2031/2031 [==============================] - 3s 2ms/step - loss: 0.3301 - val_loss: 0.0235\n",
            "Epoch 26/1500\n",
            "2031/2031 [==============================] - 3s 2ms/step - loss: 0.3563 - val_loss: 0.0235\n",
            "Epoch 27/1500\n",
            "2031/2031 [==============================] - 3s 2ms/step - loss: 0.3173 - val_loss: 0.0235\n",
            "Epoch 28/1500\n",
            "2031/2031 [==============================] - 3s 2ms/step - loss: 0.3160 - val_loss: 0.0249\n",
            "Epoch 29/1500\n",
            "2031/2031 [==============================] - 3s 2ms/step - loss: 0.3376 - val_loss: 0.0234\n",
            "Epoch 30/1500\n",
            "2031/2031 [==============================] - 3s 2ms/step - loss: 0.3291 - val_loss: 0.0230\n",
            "Epoch 31/1500\n",
            "2031/2031 [==============================] - 3s 2ms/step - loss: 0.3321 - val_loss: 0.0233\n",
            "Epoch 32/1500\n",
            "2031/2031 [==============================] - 3s 2ms/step - loss: 0.3467 - val_loss: 0.0231\n",
            "Epoch 33/1500\n",
            "2031/2031 [==============================] - 3s 2ms/step - loss: 0.2967 - val_loss: 0.0229\n",
            "Epoch 34/1500\n",
            "2031/2031 [==============================] - 3s 2ms/step - loss: 0.3216 - val_loss: 0.0228\n",
            "Epoch 35/1500\n",
            "2031/2031 [==============================] - 3s 2ms/step - loss: 0.2863 - val_loss: 0.0224\n",
            "Epoch 36/1500\n",
            "2031/2031 [==============================] - 3s 2ms/step - loss: 0.3042 - val_loss: 0.0240\n",
            "Epoch 37/1500\n",
            "2031/2031 [==============================] - 3s 2ms/step - loss: 0.2769 - val_loss: 0.0223\n",
            "Epoch 38/1500\n",
            "2031/2031 [==============================] - 3s 2ms/step - loss: 0.3587 - val_loss: 0.0249\n",
            "Epoch 39/1500\n",
            "2031/2031 [==============================] - 3s 2ms/step - loss: 0.2855 - val_loss: 0.0233\n",
            "Epoch 40/1500\n",
            "2031/2031 [==============================] - 3s 2ms/step - loss: 0.2921 - val_loss: 0.0228\n",
            "Epoch 41/1500\n",
            "2031/2031 [==============================] - 3s 2ms/step - loss: 0.3270 - val_loss: 0.0233\n",
            "Epoch 42/1500\n",
            "2031/2031 [==============================] - 3s 2ms/step - loss: 0.3090 - val_loss: 0.0223\n",
            "Epoch 43/1500\n",
            "2031/2031 [==============================] - 3s 2ms/step - loss: 0.3065 - val_loss: 0.0224\n",
            "Epoch 44/1500\n",
            "2031/2031 [==============================] - 3s 2ms/step - loss: 0.2804 - val_loss: 0.0221\n",
            "Epoch 45/1500\n",
            "2031/2031 [==============================] - 3s 2ms/step - loss: 0.3318 - val_loss: 0.0241\n",
            "Epoch 46/1500\n",
            "2031/2031 [==============================] - 3s 2ms/step - loss: 0.3192 - val_loss: 0.0225\n",
            "Epoch 47/1500\n",
            "2031/2031 [==============================] - 3s 2ms/step - loss: 0.3086 - val_loss: 0.0223\n",
            "Epoch 48/1500\n",
            "2031/2031 [==============================] - 3s 2ms/step - loss: 0.3037 - val_loss: 0.0225\n",
            "Epoch 49/1500\n",
            "2031/2031 [==============================] - 3s 2ms/step - loss: 0.3269 - val_loss: 0.0226\n",
            "Epoch 50/1500\n",
            "2031/2031 [==============================] - 3s 2ms/step - loss: 0.2953 - val_loss: 0.0220\n",
            "Epoch 51/1500\n",
            "2031/2031 [==============================] - 3s 2ms/step - loss: 0.2918 - val_loss: 0.0224\n",
            "Epoch 52/1500\n",
            "2031/2031 [==============================] - 3s 2ms/step - loss: 0.3032 - val_loss: 0.0219\n",
            "Epoch 53/1500\n",
            "2031/2031 [==============================] - 3s 2ms/step - loss: 0.3152 - val_loss: 0.0233\n",
            "Epoch 54/1500\n",
            "2031/2031 [==============================] - 3s 2ms/step - loss: 0.2899 - val_loss: 0.0221\n",
            "Epoch 55/1500\n",
            "2031/2031 [==============================] - 3s 2ms/step - loss: 0.3145 - val_loss: 0.0229\n",
            "Epoch 56/1500\n",
            "2031/2031 [==============================] - 3s 2ms/step - loss: 0.3080 - val_loss: 0.0223\n",
            "Epoch 57/1500\n",
            "2031/2031 [==============================] - 3s 2ms/step - loss: 0.3387 - val_loss: 0.0223\n",
            "Epoch 58/1500\n",
            "2031/2031 [==============================] - 3s 2ms/step - loss: 0.3156 - val_loss: 0.0221\n",
            "Epoch 59/1500\n",
            "2031/2031 [==============================] - 3s 2ms/step - loss: 0.2974 - val_loss: 0.0223\n",
            "Epoch 60/1500\n",
            "2031/2031 [==============================] - 3s 2ms/step - loss: 0.2988 - val_loss: 0.0222\n",
            "Epoch 61/1500\n",
            "2031/2031 [==============================] - 3s 2ms/step - loss: 0.2806 - val_loss: 0.0230\n",
            "Epoch 62/1500\n",
            "2031/2031 [==============================] - 3s 2ms/step - loss: 0.3068 - val_loss: 0.0219\n",
            "Epoch 63/1500\n",
            "2031/2031 [==============================] - 3s 2ms/step - loss: 0.2853 - val_loss: 0.0221\n",
            "Epoch 64/1500\n",
            "2031/2031 [==============================] - 3s 2ms/step - loss: 0.2774 - val_loss: 0.0214\n"
          ],
          "name": "stdout"
        }
      ]
    },
    {
      "cell_type": "code",
      "metadata": {
        "id": "RMtn36iqoFN0",
        "outputId": "ba491957-349d-4295-808e-aaa0a962cbbe",
        "colab": {
          "base_uri": "https://localhost:8080/",
          "height": 312
        }
      },
      "source": [
        "\n",
        "# list all data in history\n",
        "print(history.history.keys())\n",
        "# summarize history for accuracy\n",
        "# History for Dropout 1st layer every layer after the maxpooling, 1e-3 in the first 2 layers and in the third layer, the regularization rate is 1e-01\n",
        "# summarize history for loss\n",
        "plt.plot(history.history['loss'])\n",
        "#plt.plot(history.history['val_loss'])\n",
        "plt.title('model loss_training_and_validating')\n",
        "plt.ylabel('loss')\n",
        "plt.xlabel('epoch')\n",
        "#plt.legend(['train', 'validation'], loc='upper left')\n",
        "plt.show()"
      ],
      "execution_count": null,
      "outputs": [
        {
          "output_type": "stream",
          "text": [
            "dict_keys(['loss'])\n"
          ],
          "name": "stdout"
        },
        {
          "output_type": "display_data",
          "data": {
            "image/png": "[encoded data removed]",
            "text/plain": [
              "<Figure size 432x288 with 1 Axes>"
            ]
          },
          "metadata": {
            "tags": [],
            "needs_background": "light"
          }
        }
      ]
    },
    {
      "cell_type": "code",
      "metadata": {
        "id": "2IINVVwUuNA8"
      },
      "source": [
        "# Model is trained now, for the value of all the stuff one need to performing more and more implementations"
      ],
      "execution_count": null,
      "outputs": []
    },
    {
      "cell_type": "code",
      "metadata": {
        "id": "TFS25wdia9QJ"
      },
      "source": [
        "# creating more data set\n",
        "# Here I will try to do the things according to what Walter wanted me to do here."
      ],
      "execution_count": null,
      "outputs": []
    },
    {
      "cell_type": "code",
      "metadata": {
        "id": "XHroiTIrbms3"
      },
      "source": [
        "# Generating a data set from the available set of resources we have"
      ],
      "execution_count": null,
      "outputs": []
    },
    {
      "cell_type": "code",
      "metadata": {
        "id": "KLXlcteMcoOH"
      },
      "source": [
        "# 1 Synthetic\n",
        "# 2 Data without Fish\n",
        "# 3 getting the data from the Herman and the Walter test sets, to get better results"
      ],
      "execution_count": null,
      "outputs": []
    },
    {
      "cell_type": "code",
      "metadata": {
        "id": "F3hBrR0FdLrD"
      },
      "source": [
        "# Fethcing the KALMAN_Herman_1\n",
        "\n",
        "# Working it as a testing data to see what can I get it form "
      ],
      "execution_count": null,
      "outputs": []
    },
    {
      "cell_type": "code",
      "metadata": {
        "id": "4DjeYkXsvMuC"
      },
      "source": [
        "downloaded_3= drive.CreateFile({'id':'1ngy7C_GNs9BZs30K-QdQGwBDcu6dSABu'})\n",
        "#https://drive.google.com/file/d/1ngy7C_GNs9BZs30K-QdQGwBDcu6dSABu/view?usp=sharing\n",
        "#https://drive.google.com/file/d/1ngy7C_GNs9BZs30K-QdQGwBDcu6dSABu/view?usp=sharing"
      ],
      "execution_count": null,
      "outputs": []
    },
    {
      "cell_type": "code",
      "metadata": {
        "id": "9CqOBQ3KvnOa",
        "outputId": "9ca0cd80-a66d-43e9-aed8-4b83c70c967d",
        "colab": {
          "base_uri": "https://localhost:8080/",
          "height": 402
        }
      },
      "source": [
        "downloaded_3.GetContentFile('Kalman_Herman_1.csv')\n",
        "#downloaded_1.GetContentFile('Test_17_sea.csv')\n",
        "#downloaded_2.GetContentFile('April_Without_Fish.csv')\n",
        "#df1 = pd.read_csv('Test_17_sea.csv') \n",
        "df7 = pd.read_csv('Kalman_Herman_1.csv') \n",
        "#df2 = pd.read_csv('Master_thesis_Data.csv')\n",
        "df7"
      ],
      "execution_count": null,
      "outputs": [
        {
          "output_type": "execute_result",
          "data": {
            "text/html": [
              "<div>\n",
              "<style scoped>\n",
              "    .dataframe tbody tr th:only-of-type {\n",
              "        vertical-align: middle;\n",
              "    }\n",
              "\n",
              "    .dataframe tbody tr th {\n",
              "        vertical-align: top;\n",
              "    }\n",
              "\n",
              "    .dataframe thead th {\n",
              "        text-align: right;\n",
              "    }\n",
              "</style>\n",
              "<table border=\"1\" class=\"dataframe\">\n",
              "  <thead>\n",
              "    <tr style=\"text-align: right;\">\n",
              "      <th></th>\n",
              "      <th>DVL1S</th>\n",
              "      <th>DVL2S</th>\n",
              "      <th>DVL3S</th>\n",
              "      <th>DVL4S</th>\n",
              "      <th>North</th>\n",
              "      <th>East</th>\n",
              "      <th>Down</th>\n",
              "      <th>Heading</th>\n",
              "      <th>DVL1</th>\n",
              "      <th>DVL2</th>\n",
              "      <th>DVL3</th>\n",
              "      <th>DVL4</th>\n",
              "    </tr>\n",
              "  </thead>\n",
              "  <tbody>\n",
              "    <tr>\n",
              "      <th>0</th>\n",
              "      <td>2.608981</td>\n",
              "      <td>1.691363</td>\n",
              "      <td>1.436469</td>\n",
              "      <td>1.946257</td>\n",
              "      <td>-8.262226</td>\n",
              "      <td>0.935748</td>\n",
              "      <td>2.92</td>\n",
              "      <td>0.876155</td>\n",
              "      <td>2.608981</td>\n",
              "      <td>1.691363</td>\n",
              "      <td>1.436469</td>\n",
              "      <td>1.946257</td>\n",
              "    </tr>\n",
              "    <tr>\n",
              "      <th>1</th>\n",
              "      <td>2.507024</td>\n",
              "      <td>1.742342</td>\n",
              "      <td>1.436469</td>\n",
              "      <td>1.895278</td>\n",
              "      <td>-8.262226</td>\n",
              "      <td>0.935748</td>\n",
              "      <td>2.88</td>\n",
              "      <td>0.862193</td>\n",
              "      <td>2.507024</td>\n",
              "      <td>1.742342</td>\n",
              "      <td>1.436469</td>\n",
              "      <td>1.895278</td>\n",
              "    </tr>\n",
              "    <tr>\n",
              "      <th>2</th>\n",
              "      <td>2.456045</td>\n",
              "      <td>1.742342</td>\n",
              "      <td>1.436469</td>\n",
              "      <td>1.895278</td>\n",
              "      <td>-8.218841</td>\n",
              "      <td>0.841404</td>\n",
              "      <td>2.88</td>\n",
              "      <td>0.862193</td>\n",
              "      <td>2.456045</td>\n",
              "      <td>1.742342</td>\n",
              "      <td>1.436469</td>\n",
              "      <td>1.895278</td>\n",
              "    </tr>\n",
              "    <tr>\n",
              "      <th>3</th>\n",
              "      <td>2.456045</td>\n",
              "      <td>1.742342</td>\n",
              "      <td>1.436469</td>\n",
              "      <td>1.844299</td>\n",
              "      <td>-8.218841</td>\n",
              "      <td>0.841404</td>\n",
              "      <td>2.88</td>\n",
              "      <td>0.862193</td>\n",
              "      <td>2.456045</td>\n",
              "      <td>1.742342</td>\n",
              "      <td>1.436469</td>\n",
              "      <td>1.844299</td>\n",
              "    </tr>\n",
              "    <tr>\n",
              "      <th>4</th>\n",
              "      <td>2.405066</td>\n",
              "      <td>1.793321</td>\n",
              "      <td>1.436469</td>\n",
              "      <td>1.844299</td>\n",
              "      <td>-8.218841</td>\n",
              "      <td>0.841404</td>\n",
              "      <td>3.04</td>\n",
              "      <td>0.881391</td>\n",
              "      <td>2.405066</td>\n",
              "      <td>1.793321</td>\n",
              "      <td>1.436469</td>\n",
              "      <td>1.844299</td>\n",
              "    </tr>\n",
              "    <tr>\n",
              "      <th>...</th>\n",
              "      <td>...</td>\n",
              "      <td>...</td>\n",
              "      <td>...</td>\n",
              "      <td>...</td>\n",
              "      <td>...</td>\n",
              "      <td>...</td>\n",
              "      <td>...</td>\n",
              "      <td>...</td>\n",
              "      <td>...</td>\n",
              "      <td>...</td>\n",
              "      <td>...</td>\n",
              "      <td>...</td>\n",
              "    </tr>\n",
              "    <tr>\n",
              "      <th>5778</th>\n",
              "      <td>1.691363</td>\n",
              "      <td>1.946257</td>\n",
              "      <td>1.487448</td>\n",
              "      <td>1.334512</td>\n",
              "      <td>-7.570821</td>\n",
              "      <td>1.672850</td>\n",
              "      <td>4.36</td>\n",
              "      <td>0.513127</td>\n",
              "      <td>1.691363</td>\n",
              "      <td>1.946257</td>\n",
              "      <td>1.487448</td>\n",
              "      <td>1.334512</td>\n",
              "    </tr>\n",
              "    <tr>\n",
              "      <th>5779</th>\n",
              "      <td>1.691363</td>\n",
              "      <td>1.997236</td>\n",
              "      <td>1.487448</td>\n",
              "      <td>1.334512</td>\n",
              "      <td>-7.570821</td>\n",
              "      <td>1.672850</td>\n",
              "      <td>4.36</td>\n",
              "      <td>0.492183</td>\n",
              "      <td>1.691363</td>\n",
              "      <td>1.997236</td>\n",
              "      <td>1.487448</td>\n",
              "      <td>1.334512</td>\n",
              "    </tr>\n",
              "    <tr>\n",
              "      <th>5780</th>\n",
              "      <td>1.691363</td>\n",
              "      <td>1.997236</td>\n",
              "      <td>1.487448</td>\n",
              "      <td>1.385490</td>\n",
              "      <td>-7.624272</td>\n",
              "      <td>1.511872</td>\n",
              "      <td>4.40</td>\n",
              "      <td>0.432842</td>\n",
              "      <td>1.691363</td>\n",
              "      <td>1.997236</td>\n",
              "      <td>1.487448</td>\n",
              "      <td>1.385490</td>\n",
              "    </tr>\n",
              "    <tr>\n",
              "      <th>5781</th>\n",
              "      <td>1.691363</td>\n",
              "      <td>1.946257</td>\n",
              "      <td>1.487448</td>\n",
              "      <td>1.385490</td>\n",
              "      <td>-7.624272</td>\n",
              "      <td>1.511872</td>\n",
              "      <td>4.36</td>\n",
              "      <td>0.368264</td>\n",
              "      <td>1.691363</td>\n",
              "      <td>1.946257</td>\n",
              "      <td>1.487448</td>\n",
              "      <td>1.385490</td>\n",
              "    </tr>\n",
              "    <tr>\n",
              "      <th>5782</th>\n",
              "      <td>1.691363</td>\n",
              "      <td>1.946257</td>\n",
              "      <td>1.487448</td>\n",
              "      <td>1.385490</td>\n",
              "      <td>-7.624272</td>\n",
              "      <td>1.511872</td>\n",
              "      <td>4.32</td>\n",
              "      <td>0.368264</td>\n",
              "      <td>1.691363</td>\n",
              "      <td>1.946257</td>\n",
              "      <td>1.487448</td>\n",
              "      <td>1.385490</td>\n",
              "    </tr>\n",
              "  </tbody>\n",
              "</table>\n",
              "<p>5783 rows × 12 columns</p>\n",
              "</div>"
            ],
            "text/plain": [
              "         DVL1S     DVL2S     DVL3S  ...      DVL2      DVL3      DVL4\n",
              "0     2.608981  1.691363  1.436469  ...  1.691363  1.436469  1.946257\n",
              "1     2.507024  1.742342  1.436469  ...  1.742342  1.436469  1.895278\n",
              "2     2.456045  1.742342  1.436469  ...  1.742342  1.436469  1.895278\n",
              "3     2.456045  1.742342  1.436469  ...  1.742342  1.436469  1.844299\n",
              "4     2.405066  1.793321  1.436469  ...  1.793321  1.436469  1.844299\n",
              "...        ...       ...       ...  ...       ...       ...       ...\n",
              "5778  1.691363  1.946257  1.487448  ...  1.946257  1.487448  1.334512\n",
              "5779  1.691363  1.997236  1.487448  ...  1.997236  1.487448  1.334512\n",
              "5780  1.691363  1.997236  1.487448  ...  1.997236  1.487448  1.385490\n",
              "5781  1.691363  1.946257  1.487448  ...  1.946257  1.487448  1.385490\n",
              "5782  1.691363  1.946257  1.487448  ...  1.946257  1.487448  1.385490\n",
              "\n",
              "[5783 rows x 12 columns]"
            ]
          },
          "metadata": {
            "tags": []
          },
          "execution_count": 50
        }
      ]
    },
    {
      "cell_type": "code",
      "metadata": {
        "id": "yeP67pbLv6s4"
      },
      "source": [
        "c= df7['DVL1S']"
      ],
      "execution_count": null,
      "outputs": []
    },
    {
      "cell_type": "code",
      "metadata": {
        "id": "2-3c03pUv-yk"
      },
      "source": [
        "c1=df7['DVL2S']"
      ],
      "execution_count": null,
      "outputs": []
    },
    {
      "cell_type": "code",
      "metadata": {
        "id": "qMEazItYwNGJ"
      },
      "source": [
        "c2=df7['DVL3S']\n",
        "c3=df7['DVL4S']"
      ],
      "execution_count": null,
      "outputs": []
    },
    {
      "cell_type": "code",
      "metadata": {
        "id": "9VtLH943yA-t"
      },
      "source": [
        "c4=df7['North']"
      ],
      "execution_count": null,
      "outputs": []
    },
    {
      "cell_type": "code",
      "metadata": {
        "id": "qinGONJ-zE5Y"
      },
      "source": [
        "\n",
        "c6=df7['Down ']"
      ],
      "execution_count": null,
      "outputs": []
    },
    {
      "cell_type": "code",
      "metadata": {
        "id": "8E5YtQlDyDNF"
      },
      "source": [
        "c9= df7['East ']"
      ],
      "execution_count": null,
      "outputs": []
    },
    {
      "cell_type": "code",
      "metadata": {
        "id": "p3S7sKG7xeOC"
      },
      "source": [
        "\n",
        "\n",
        "c7=df7['Heading']"
      ],
      "execution_count": null,
      "outputs": []
    },
    {
      "cell_type": "code",
      "metadata": {
        "id": "Q_w7JZNGwY-k",
        "outputId": "cf071aa6-3a5b-4a38-95d8-bd5ef2297d66",
        "colab": {
          "base_uri": "https://localhost:8080/",
          "height": 34
        }
      },
      "source": [
        "c.dtype"
      ],
      "execution_count": null,
      "outputs": [
        {
          "output_type": "execute_result",
          "data": {
            "text/plain": [
              "dtype('float64')"
            ]
          },
          "metadata": {
            "tags": []
          },
          "execution_count": 58
        }
      ]
    },
    {
      "cell_type": "code",
      "metadata": {
        "id": "H73u8E5nwcVw",
        "outputId": "3f384a93-012c-4b19-b300-2874f22026c6",
        "colab": {
          "base_uri": "https://localhost:8080/",
          "height": 34
        }
      },
      "source": [
        "c.shape"
      ],
      "execution_count": null,
      "outputs": [
        {
          "output_type": "execute_result",
          "data": {
            "text/plain": [
              "(5783,)"
            ]
          },
          "metadata": {
            "tags": []
          },
          "execution_count": 59
        }
      ]
    },
    {
      "cell_type": "code",
      "metadata": {
        "id": "BMN7a2uswdNL"
      },
      "source": [
        "import numpy as np"
      ],
      "execution_count": null,
      "outputs": []
    },
    {
      "cell_type": "code",
      "metadata": {
        "id": "f1yHXRfAwgMF"
      },
      "source": [
        "c=np.array(c)"
      ],
      "execution_count": null,
      "outputs": []
    },
    {
      "cell_type": "code",
      "metadata": {
        "id": "iTGIH_1ywqiw",
        "outputId": "51c3ffa3-5a4c-4eb0-9907-5f8e60996b9f",
        "colab": {
          "base_uri": "https://localhost:8080/",
          "height": 34
        }
      },
      "source": [
        "c.dtype"
      ],
      "execution_count": null,
      "outputs": [
        {
          "output_type": "execute_result",
          "data": {
            "text/plain": [
              "dtype('float64')"
            ]
          },
          "metadata": {
            "tags": []
          },
          "execution_count": 62
        }
      ]
    },
    {
      "cell_type": "code",
      "metadata": {
        "id": "cNUTvbJFwrwL"
      },
      "source": [
        "c1=np.array(c1)\n",
        "c2=np.array(c2)\n",
        "c3=np.array(c3)"
      ],
      "execution_count": null,
      "outputs": []
    },
    {
      "cell_type": "code",
      "metadata": {
        "id": "IXKmSJRnzdp5"
      },
      "source": [
        "c4=np.array(c4)\n",
        "c9=np.array(c9)\n",
        "c6=np.array(c6)\n",
        "c7=np.array(c7)\n"
      ],
      "execution_count": null,
      "outputs": []
    },
    {
      "cell_type": "code",
      "metadata": {
        "id": "oEJkK6J0oO2Z"
      },
      "source": [
        "cd1=df7['DVL1']\n",
        "cd2=df7['DVL2']\n",
        "cd3=df7['DVL3']\n",
        "cd4=df7['DVL4']"
      ],
      "execution_count": null,
      "outputs": []
    },
    {
      "cell_type": "code",
      "metadata": {
        "id": "sVxjrFsZodVG"
      },
      "source": [
        "cd1=np.array(cd1)\n",
        "cd2=np.array(cd2)\n",
        "cd3=np.array(cd3)\n",
        "cd4=np.array(cd4)\n"
      ],
      "execution_count": null,
      "outputs": []
    },
    {
      "cell_type": "code",
      "metadata": {
        "id": "5bAUM6HpwyWm",
        "outputId": "9a528031-6518-4a3e-9127-216c87e8cdfc",
        "colab": {
          "base_uri": "https://localhost:8080/",
          "height": 185
        }
      },
      "source": [
        "# Stacking the two arrays along axis 0 \n",
        "Herman_Kalman_1 = geek.stack((c, c1, c2, c3, c4, c9, c6, c7), axis = 0) \n",
        "print (\"Output stacked array along axis 0:\\n \", Herman_Kalman_1) \n",
        "print (\"Labels Shape :\\n \", Herman_Kalman_1.shape) "
      ],
      "execution_count": null,
      "outputs": [
        {
          "output_type": "stream",
          "text": [
            "Output stacked array along axis 0:\n",
            "  [[2.608981  2.507024  2.456045  ... 1.691363  1.691363  1.691363 ]\n",
            " [1.691363  1.742342  1.742342  ... 1.997236  1.946257  1.946257 ]\n",
            " [1.436469  1.436469  1.436469  ... 1.487448  1.487448  1.487448 ]\n",
            " ...\n",
            " [0.9357475 0.9357475 0.8414043 ... 1.511872  1.511872  1.511872 ]\n",
            " [2.92      2.88      2.88      ... 4.4       4.36      4.32     ]\n",
            " [0.8761553 0.8621927 0.8621927 ... 0.4328417 0.3682645 0.3682645]]\n",
            "Labels Shape :\n",
            "  (8, 5783)\n"
          ],
          "name": "stdout"
        }
      ]
    },
    {
      "cell_type": "code",
      "metadata": {
        "id": "gQIN3ctrw-wQ"
      },
      "source": [
        "Herman_Kalman_1=Herman_Kalman_1.transpose(1,0)"
      ],
      "execution_count": null,
      "outputs": []
    },
    {
      "cell_type": "code",
      "metadata": {
        "id": "MeXdGqjMxDMR",
        "outputId": "a5f4c679-092c-4380-b111-d72cfa1461f5",
        "colab": {
          "base_uri": "https://localhost:8080/",
          "height": 34
        }
      },
      "source": [
        "Herman_Kalman_1.shape"
      ],
      "execution_count": null,
      "outputs": [
        {
          "output_type": "execute_result",
          "data": {
            "text/plain": [
              "(5783, 8)"
            ]
          },
          "metadata": {
            "tags": []
          },
          "execution_count": 69
        }
      ]
    },
    {
      "cell_type": "code",
      "metadata": {
        "id": "1ulns3jZxHEv"
      },
      "source": [
        "Herman_Kalman_1y=Herman_Kalman_1.reshape(5783,1,8)"
      ],
      "execution_count": null,
      "outputs": []
    },
    {
      "cell_type": "code",
      "metadata": {
        "id": "gLVLvC5Qo1wV"
      },
      "source": [
        "Herman_Kalman_1d=Herman_Kalman_1d.transpose(1,0)"
      ],
      "execution_count": null,
      "outputs": []
    },
    {
      "cell_type": "code",
      "metadata": {
        "id": "DYpJhNV9o6dj"
      },
      "source": [
        "Herman_Kalman_1d=Herman_Kalman_1d.reshape(5783,1,4)"
      ],
      "execution_count": null,
      "outputs": []
    },
    {
      "cell_type": "code",
      "metadata": {
        "id": "qftXeu02xMNn"
      },
      "source": [
        "K1= autoencoder.predict(Herman_Kalman_1y)"
      ],
      "execution_count": null,
      "outputs": []
    },
    {
      "cell_type": "code",
      "metadata": {
        "id": "AR9PS3xgxQ_n",
        "outputId": "6ded68dc-9f4f-443e-9f4f-14dd3232fe60",
        "colab": {
          "base_uri": "https://localhost:8080/",
          "height": 34
        }
      },
      "source": [
        "t.shape"
      ],
      "execution_count": null,
      "outputs": [
        {
          "output_type": "execute_result",
          "data": {
            "text/plain": [
              "(84980,)"
            ]
          },
          "metadata": {
            "tags": []
          },
          "execution_count": 77
        }
      ]
    },
    {
      "cell_type": "code",
      "metadata": {
        "id": "vqTBTa2X0M5X"
      },
      "source": [
        "K1=K1.reshape((K1.shape[0]*K1.shape[1]), K1.shape[2])"
      ],
      "execution_count": null,
      "outputs": []
    },
    {
      "cell_type": "code",
      "metadata": {
        "id": "kUj5z8GFztDE"
      },
      "source": [
        "t_k1= t[:5783]"
      ],
      "execution_count": null,
      "outputs": []
    },
    {
      "cell_type": "code",
      "metadata": {
        "id": "SizqG7HZ0KFg",
        "outputId": "daa2aeb7-8448-4025-881e-626d524f5c85",
        "colab": {
          "base_uri": "https://localhost:8080/",
          "height": 34
        }
      },
      "source": [
        "K1.shape"
      ],
      "execution_count": null,
      "outputs": [
        {
          "output_type": "execute_result",
          "data": {
            "text/plain": [
              "(5783, 4)"
            ]
          },
          "metadata": {
            "tags": []
          },
          "execution_count": 80
        }
      ]
    },
    {
      "cell_type": "code",
      "metadata": {
        "id": "PLuBxKZZzwYA"
      },
      "source": [
        "K1_1= K1[:,0]\n"
      ],
      "execution_count": null,
      "outputs": []
    },
    {
      "cell_type": "code",
      "metadata": {
        "id": "bS1pDVJ2z7Ik"
      },
      "source": [
        "K1_2= K1[:,1]"
      ],
      "execution_count": null,
      "outputs": []
    },
    {
      "cell_type": "code",
      "metadata": {
        "id": "xaNhYO7q0E0e"
      },
      "source": [
        "K1_3= K1[:,2]\n",
        "K1_4= K1[:,3]"
      ],
      "execution_count": null,
      "outputs": []
    },
    {
      "cell_type": "code",
      "metadata": {
        "id": "_m5dF4li0i4K",
        "outputId": "e3ce3fc5-6ace-438a-ea03-57568d6e9255",
        "colab": {
          "base_uri": "https://localhost:8080/",
          "height": 295
        }
      },
      "source": [
        "fax = plt.gca()\n",
        "plt.plot(t_k1,c, color='yellow', label='Orignal DVL Data')\n",
        "plt.plot(t_k1,K1_1, color='green', label='prediction')\n",
        "plt.xlabel('Time')\n",
        "plt.ylabel('Distance')\n",
        "plt.title('DVL Beam 1')\n",
        "plt.legend()\n",
        "\n",
        "plt.show()"
      ],
      "execution_count": null,
      "outputs": [
        {
          "output_type": "display_data",
          "data": {
            "image/png": "[encoded data removed]",
            "text/plain": [
              "<Figure size 432x288 with 1 Axes>"
            ]
          },
          "metadata": {
            "tags": [],
            "needs_background": "light"
          }
        }
      ]
    },
    {
      "cell_type": "code",
      "metadata": {
        "id": "NhYyz8zl0xHt",
        "outputId": "006cedd9-4c8c-4f8a-e410-9f344ba32a93",
        "colab": {
          "base_uri": "https://localhost:8080/",
          "height": 295
        }
      },
      "source": [
        "fax = plt.gca()\n",
        "plt.plot(t_k1,c1, color='yellow', label='Orignal DVL Data')\n",
        "plt.plot(t_k1,K1_2, color='green', label='prediction')\n",
        "plt.xlabel('Time')\n",
        "plt.ylabel('Distance')\n",
        "plt.title('DVL Beam 2')\n",
        "plt.legend()\n",
        "\n",
        "plt.show()"
      ],
      "execution_count": null,
      "outputs": [
        {
          "output_type": "display_data",
          "data": {
            "image/png": "[encoded data removed]",
            "text/plain": [
              "<Figure size 432x288 with 1 Axes>"
            ]
          },
          "metadata": {
            "tags": [],
            "needs_background": "light"
          }
        }
      ]
    },
    {
      "cell_type": "code",
      "metadata": {
        "id": "BBMc-nMl03pO",
        "outputId": "09bf4cf4-571b-40e6-85f9-fa0e85ece06f",
        "colab": {
          "base_uri": "https://localhost:8080/",
          "height": 295
        }
      },
      "source": [
        "fax = plt.gca()\n",
        "plt.plot(t_k1,c2, color='yellow', label='Orignal DVL Data')\n",
        "plt.plot(t_k1,K1_3, color='green', label='prediction')\n",
        "plt.xlabel('Time')\n",
        "plt.ylabel('Distance')\n",
        "plt.title('DVL Beam 3')\n",
        "plt.legend()\n",
        "\n",
        "plt.show()"
      ],
      "execution_count": null,
      "outputs": [
        {
          "output_type": "display_data",
          "data": {
            "image/png": "[encoded data removed]",
            "text/plain": [
              "<Figure size 432x288 with 1 Axes>"
            ]
          },
          "metadata": {
            "tags": [],
            "needs_background": "light"
          }
        }
      ]
    },
    {
      "cell_type": "code",
      "metadata": {
        "id": "yFS4aLqS1Dlx",
        "outputId": "36374970-99fd-4906-87b9-b8d8a55b6a7d",
        "colab": {
          "base_uri": "https://localhost:8080/",
          "height": 295
        }
      },
      "source": [
        "fax = plt.gca()\n",
        "plt.plot(t_k1,c3, color='yellow', label='Orignal DVL Data')\n",
        "plt.plot(t_k1,K1_4, color='green', label='prediction')\n",
        "plt.xlabel('Time')\n",
        "plt.ylabel('Distance')\n",
        "plt.title('DVL Beam 4')\n",
        "plt.legend()\n",
        "\n",
        "plt.show()"
      ],
      "execution_count": null,
      "outputs": [
        {
          "output_type": "display_data",
          "data": {
            "image/png": "[encoded data removed]",
            "text/plain": [
              "<Figure size 432x288 with 1 Axes>"
            ]
          },
          "metadata": {
            "tags": [],
            "needs_background": "light"
          }
        }
      ]
    },
    {
      "cell_type": "code",
      "metadata": {
        "id": "_NGw3lYE1Iu0"
      },
      "source": [
        ""
      ],
      "execution_count": null,
      "outputs": []
    }
  ]
}