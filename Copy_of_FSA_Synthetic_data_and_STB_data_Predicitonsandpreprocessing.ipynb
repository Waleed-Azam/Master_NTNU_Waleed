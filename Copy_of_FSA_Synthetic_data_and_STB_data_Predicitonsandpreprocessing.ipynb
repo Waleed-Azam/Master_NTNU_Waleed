{
  "nbformat": 4,
  "nbformat_minor": 0,
  "metadata": {
    "colab": {
      "name": "Copy of FSA_Synthetic data and STB data_Predicitons",
      "provenance": [],
      "authorship_tag": "ABX9TyMiIxQijAe5fCbhcR/3z6Vc",
      "include_colab_link": true
    },
    "kernelspec": {
      "name": "python3",
      "display_name": "Python 3"
    }
  },
  "cells": [
    {
      "cell_type": "markdown",
      "metadata": {
        "id": "view-in-github",
        "colab_type": "text"
      },
      "source": [
        "<a href=\"https://colab.research.google.com/github/Waleed-Azam/Master_NTNU_Waleed/blob/master/Copy_of_FSA_Synthetic_data_and_STB_data_Predicitonsandpreprocessing.ipynb\" target=\"_parent\"><img src=\"https://colab.research.google.com/assets/colab-badge.svg\" alt=\"Open In Colab\"/></a>"
      ]
    },
    {
      "cell_type": "code",
      "metadata": {
        "id": "p51ugjKT0XjM"
      },
      "source": [
        "#Prepare the nice data set\n",
        "from sklearn.model_selection import train_test_split\n",
        "# univariate cnn example\n",
        "from numpy import array\n",
        "from keras.models import Sequential\n",
        "from keras.layers import Dense\n",
        "from keras.layers import Flatten\n",
        "from keras.layers.convolutional import Conv1D\n",
        "from keras.layers.convolutional import MaxPooling1D\n",
        "from sklearn.preprocessing import MinMaxScaler\n",
        "!pip install -U -q PyDrive\n",
        "from pydrive.auth import GoogleAuth\n",
        "from pydrive.drive import GoogleDrive\n",
        "from google.colab import auth\n",
        "from oauth2client.client import GoogleCredentials\n",
        "import numpy as np \n",
        "import matplotlib.pyplot as plt\n"
      ],
      "execution_count": 1,
      "outputs": []
    },
    {
      "cell_type": "code",
      "metadata": {
        "id": "kTj4mjJY0edk"
      },
      "source": [
        "auth.authenticate_user()\n",
        "gauth = GoogleAuth()\n",
        "gauth.credentials = GoogleCredentials.get_application_default()\n",
        "drive = GoogleDrive(gauth)"
      ],
      "execution_count": 2,
      "outputs": []
    },
    {
      "cell_type": "code",
      "metadata": {
        "id": "6rK3THWx0iwK"
      },
      "source": [
        "downloaded = drive.CreateFile({'id':'1Bi2fJZw6Vhj7dyP7Ad6qtPsYf5LevEm4'})\n",
        "downloaded_2= drive.CreateFile({'id':'12ZLwEA-DL3BWgcnmlET-2PcNdZGDGr0h'})"
      ],
      "execution_count": 3,
      "outputs": []
    },
    {
      "cell_type": "code",
      "metadata": {
        "id": "q8A8Mhzq0pAF",
        "outputId": "849297d7-3388-4f6d-fb43-cc4466f3933d",
        "colab": {
          "base_uri": "https://localhost:8080/",
          "height": 405
        }
      },
      "source": [
        "#Importing all the libraries\n",
        "import numpy as np\n",
        "import numpy as geek \n",
        "from keras.layers import Input, Dense, LSTM, multiply, concatenate, Activation, Masking, Reshape\n",
        "from keras.models import Sequential\n",
        "from keras.models import Model\n",
        "from keras.layers import Input, Dense, LSTM, multiply, concatenate, Activation, Masking, Reshape\n",
        "from keras.layers import BatchNormalization, GlobalAveragePooling1D, Permute, Dropout\n",
        "from keras.layers.convolutional import Conv1D\n",
        "from keras.layers.convolutional import MaxPooling1D\n",
        "from keras.optimizers import RMSprop, Adam\n",
        "from keras.layers import LSTM, Activation \n",
        "from sklearn.preprocessing import MinMaxScaler\n",
        "from keras.models import load_model\n",
        "import pandas as pd\n",
        "downloaded.GetContentFile('Master_thesis_Data.csv')\n",
        "#downloaded_1.GetContentFile('Test_17_sea.csv')\n",
        "downloaded_2.GetContentFile('April_Without_Fish.csv')\n",
        "#df1 = pd.read_csv('Test_17_sea.csv') \n",
        "df3 = pd.read_csv('April_Without_Fish.csv') \n",
        "df2 = pd.read_csv('Master_thesis_Data.csv')\n",
        "df3"
      ],
      "execution_count": 4,
      "outputs": [
        {
          "output_type": "execute_result",
          "data": {
            "text/html": [
              "<div>\n",
              "<style scoped>\n",
              "    .dataframe tbody tr th:only-of-type {\n",
              "        vertical-align: middle;\n",
              "    }\n",
              "\n",
              "    .dataframe tbody tr th {\n",
              "        vertical-align: top;\n",
              "    }\n",
              "\n",
              "    .dataframe thead th {\n",
              "        text-align: right;\n",
              "    }\n",
              "</style>\n",
              "<table border=\"1\" class=\"dataframe\">\n",
              "  <thead>\n",
              "    <tr style=\"text-align: right;\">\n",
              "      <th></th>\n",
              "      <th>DVL_1</th>\n",
              "      <th>DVL_2</th>\n",
              "      <th>DVL_3</th>\n",
              "      <th>DVL_4</th>\n",
              "      <th>Down</th>\n",
              "      <th>Heading</th>\n",
              "    </tr>\n",
              "  </thead>\n",
              "  <tbody>\n",
              "    <tr>\n",
              "      <th>0</th>\n",
              "      <td>0.000000</td>\n",
              "      <td>0.000000</td>\n",
              "      <td>0.000000</td>\n",
              "      <td>0.0</td>\n",
              "      <td>0.00</td>\n",
              "      <td>0.00</td>\n",
              "    </tr>\n",
              "    <tr>\n",
              "      <th>1</th>\n",
              "      <td>0.000000</td>\n",
              "      <td>0.000000</td>\n",
              "      <td>0.000000</td>\n",
              "      <td>0.0</td>\n",
              "      <td>0.00</td>\n",
              "      <td>0.00</td>\n",
              "    </tr>\n",
              "    <tr>\n",
              "      <th>2</th>\n",
              "      <td>0.000000</td>\n",
              "      <td>0.000000</td>\n",
              "      <td>0.000000</td>\n",
              "      <td>0.0</td>\n",
              "      <td>0.00</td>\n",
              "      <td>0.00</td>\n",
              "    </tr>\n",
              "    <tr>\n",
              "      <th>3</th>\n",
              "      <td>0.000000</td>\n",
              "      <td>0.000000</td>\n",
              "      <td>0.000000</td>\n",
              "      <td>0.0</td>\n",
              "      <td>0.04</td>\n",
              "      <td>3.90</td>\n",
              "    </tr>\n",
              "    <tr>\n",
              "      <th>4</th>\n",
              "      <td>0.000000</td>\n",
              "      <td>0.000000</td>\n",
              "      <td>0.000000</td>\n",
              "      <td>0.0</td>\n",
              "      <td>0.08</td>\n",
              "      <td>3.96</td>\n",
              "    </tr>\n",
              "    <tr>\n",
              "      <th>...</th>\n",
              "      <td>...</td>\n",
              "      <td>...</td>\n",
              "      <td>...</td>\n",
              "      <td>...</td>\n",
              "      <td>...</td>\n",
              "      <td>...</td>\n",
              "    </tr>\n",
              "    <tr>\n",
              "      <th>3056</th>\n",
              "      <td>0.671787</td>\n",
              "      <td>4.036387</td>\n",
              "      <td>4.954006</td>\n",
              "      <td>0.0</td>\n",
              "      <td>0.00</td>\n",
              "      <td>4.64</td>\n",
              "    </tr>\n",
              "    <tr>\n",
              "      <th>3057</th>\n",
              "      <td>0.671787</td>\n",
              "      <td>4.087367</td>\n",
              "      <td>4.750091</td>\n",
              "      <td>0.0</td>\n",
              "      <td>0.00</td>\n",
              "      <td>4.65</td>\n",
              "    </tr>\n",
              "    <tr>\n",
              "      <th>3058</th>\n",
              "      <td>0.722766</td>\n",
              "      <td>4.138345</td>\n",
              "      <td>4.750091</td>\n",
              "      <td>0.0</td>\n",
              "      <td>0.00</td>\n",
              "      <td>4.67</td>\n",
              "    </tr>\n",
              "    <tr>\n",
              "      <th>3059</th>\n",
              "      <td>0.722766</td>\n",
              "      <td>4.138345</td>\n",
              "      <td>4.750091</td>\n",
              "      <td>0.0</td>\n",
              "      <td>0.00</td>\n",
              "      <td>4.69</td>\n",
              "    </tr>\n",
              "    <tr>\n",
              "      <th>3060</th>\n",
              "      <td>0.722766</td>\n",
              "      <td>4.138345</td>\n",
              "      <td>4.750091</td>\n",
              "      <td>0.0</td>\n",
              "      <td>0.00</td>\n",
              "      <td>4.71</td>\n",
              "    </tr>\n",
              "  </tbody>\n",
              "</table>\n",
              "<p>3061 rows × 6 columns</p>\n",
              "</div>"
            ],
            "text/plain": [
              "         DVL_1     DVL_2     DVL_3  DVL_4  Down  Heading\n",
              "0     0.000000  0.000000  0.000000    0.0  0.00     0.00\n",
              "1     0.000000  0.000000  0.000000    0.0  0.00     0.00\n",
              "2     0.000000  0.000000  0.000000    0.0  0.00     0.00\n",
              "3     0.000000  0.000000  0.000000    0.0  0.04     3.90\n",
              "4     0.000000  0.000000  0.000000    0.0  0.08     3.96\n",
              "...        ...       ...       ...    ...   ...      ...\n",
              "3056  0.671787  4.036387  4.954006    0.0  0.00     4.64\n",
              "3057  0.671787  4.087367  4.750091    0.0  0.00     4.65\n",
              "3058  0.722766  4.138345  4.750091    0.0  0.00     4.67\n",
              "3059  0.722766  4.138345  4.750091    0.0  0.00     4.69\n",
              "3060  0.722766  4.138345  4.750091    0.0  0.00     4.71\n",
              "\n",
              "[3061 rows x 6 columns]"
            ]
          },
          "metadata": {
            "tags": []
          },
          "execution_count": 4
        }
      ]
    },
    {
      "cell_type": "code",
      "metadata": {
        "id": "if5oBgOn0yRX",
        "outputId": "118b4dfb-5e41-4f87-fb5a-5c1cf36809f9",
        "colab": {
          "base_uri": "https://localhost:8080/",
          "height": 405
        }
      },
      "source": [
        "import pandas as pd\n",
        "df2 = pd.read_csv('Master_thesis_Data.csv') \n",
        "#df2=df2.drop(columns=['Unnamed: 13', 'Unnamed: 14'])\n",
        "#Cleaning the data, for mainly removing the NaN value\n",
        "df2[\"Time\"] = df2[\"Time\"].fillna(0)\n",
        "df2[\"DVL1\"] = df2[\"DVL1\"].fillna(0)\n",
        "df2[\"DVL2\"] = df2[\"DVL2\"].fillna(0)\n",
        "df2[\"DVL3\"] = df2[\"DVL3\"].fillna(0)\n",
        "df2[\"DVL4\"] = df2[\"DVL4\"].fillna(0)\n",
        "df2[\"DVL1_S\"] = df2[\"DVL1_S\"].fillna(0)\n",
        "df2[\"DVL2_S\"] = df2[\"DVL2_S\"].fillna(0)\n",
        "df2[\"DVL3_S\"] = df2[\"DVL3_S\"].fillna(0)\n",
        "df2[\"DVL4_S\"] = df2[\"DVL4_S\"].fillna(0)\n",
        "df2[\"ROV6DOF\"] = df2[\"ROV6DOF\"].fillna(0)\n",
        "df2[\"ROV6DOF.1\"] = df2[\"ROV6DOF.1\"].fillna(0)\n",
        "df2[\"ROV6DOF.2\"] = df2[\"ROV6DOF.2\"].fillna(0)\n",
        "df2[\"ROV6DOF.3\"] = df2[\"ROV6DOF.3\"].fillna(0)\n",
        "\n",
        "df2\n"
      ],
      "execution_count": 5,
      "outputs": [
        {
          "output_type": "execute_result",
          "data": {
            "text/html": [
              "<div>\n",
              "<style scoped>\n",
              "    .dataframe tbody tr th:only-of-type {\n",
              "        vertical-align: middle;\n",
              "    }\n",
              "\n",
              "    .dataframe tbody tr th {\n",
              "        vertical-align: top;\n",
              "    }\n",
              "\n",
              "    .dataframe thead th {\n",
              "        text-align: right;\n",
              "    }\n",
              "</style>\n",
              "<table border=\"1\" class=\"dataframe\">\n",
              "  <thead>\n",
              "    <tr style=\"text-align: right;\">\n",
              "      <th></th>\n",
              "      <th>Time</th>\n",
              "      <th>DVL1_S</th>\n",
              "      <th>DVL2_S</th>\n",
              "      <th>DVL3_S</th>\n",
              "      <th>DVL4_S</th>\n",
              "      <th>DVL1</th>\n",
              "      <th>DVL2</th>\n",
              "      <th>DVL3</th>\n",
              "      <th>DVL4</th>\n",
              "      <th>ROV6DOF</th>\n",
              "      <th>ROV6DOF.1</th>\n",
              "      <th>ROV6DOF.2</th>\n",
              "      <th>ROV6DOF.3</th>\n",
              "    </tr>\n",
              "  </thead>\n",
              "  <tbody>\n",
              "    <tr>\n",
              "      <th>0</th>\n",
              "      <td>0.0</td>\n",
              "      <td>0.000000</td>\n",
              "      <td>0.0</td>\n",
              "      <td>0.000000</td>\n",
              "      <td>0.000000</td>\n",
              "      <td>0.000000</td>\n",
              "      <td>0.000000</td>\n",
              "      <td>0.000000</td>\n",
              "      <td>0.000000</td>\n",
              "      <td>0.00</td>\n",
              "      <td>0.0</td>\n",
              "      <td>0.00</td>\n",
              "      <td>0.00</td>\n",
              "    </tr>\n",
              "    <tr>\n",
              "      <th>1</th>\n",
              "      <td>0.0</td>\n",
              "      <td>20.000000</td>\n",
              "      <td>20.0</td>\n",
              "      <td>20.000000</td>\n",
              "      <td>20.000000</td>\n",
              "      <td>20.000000</td>\n",
              "      <td>20.000000</td>\n",
              "      <td>20.000000</td>\n",
              "      <td>20.000000</td>\n",
              "      <td>0.00</td>\n",
              "      <td>0.0</td>\n",
              "      <td>0.00</td>\n",
              "      <td>0.00</td>\n",
              "    </tr>\n",
              "    <tr>\n",
              "      <th>2</th>\n",
              "      <td>0.1</td>\n",
              "      <td>20.000000</td>\n",
              "      <td>20.0</td>\n",
              "      <td>20.000000</td>\n",
              "      <td>20.000000</td>\n",
              "      <td>20.000000</td>\n",
              "      <td>20.000000</td>\n",
              "      <td>20.000000</td>\n",
              "      <td>20.000000</td>\n",
              "      <td>0.00</td>\n",
              "      <td>0.0</td>\n",
              "      <td>0.00</td>\n",
              "      <td>0.00</td>\n",
              "    </tr>\n",
              "    <tr>\n",
              "      <th>3</th>\n",
              "      <td>0.2</td>\n",
              "      <td>20.000000</td>\n",
              "      <td>20.0</td>\n",
              "      <td>20.000000</td>\n",
              "      <td>20.000000</td>\n",
              "      <td>20.000000</td>\n",
              "      <td>20.000000</td>\n",
              "      <td>20.000000</td>\n",
              "      <td>20.000000</td>\n",
              "      <td>0.00</td>\n",
              "      <td>0.0</td>\n",
              "      <td>0.00</td>\n",
              "      <td>0.00</td>\n",
              "    </tr>\n",
              "    <tr>\n",
              "      <th>4</th>\n",
              "      <td>0.3</td>\n",
              "      <td>20.000000</td>\n",
              "      <td>20.0</td>\n",
              "      <td>20.000000</td>\n",
              "      <td>20.000000</td>\n",
              "      <td>20.000000</td>\n",
              "      <td>20.000000</td>\n",
              "      <td>20.000000</td>\n",
              "      <td>20.000000</td>\n",
              "      <td>0.00</td>\n",
              "      <td>0.0</td>\n",
              "      <td>0.00</td>\n",
              "      <td>0.00</td>\n",
              "    </tr>\n",
              "    <tr>\n",
              "      <th>...</th>\n",
              "      <td>...</td>\n",
              "      <td>...</td>\n",
              "      <td>...</td>\n",
              "      <td>...</td>\n",
              "      <td>...</td>\n",
              "      <td>...</td>\n",
              "      <td>...</td>\n",
              "      <td>...</td>\n",
              "      <td>...</td>\n",
              "      <td>...</td>\n",
              "      <td>...</td>\n",
              "      <td>...</td>\n",
              "      <td>...</td>\n",
              "    </tr>\n",
              "    <tr>\n",
              "      <th>84986</th>\n",
              "      <td>8498.5</td>\n",
              "      <td>2.692643</td>\n",
              "      <td>1.8</td>\n",
              "      <td>2.620548</td>\n",
              "      <td>2.615895</td>\n",
              "      <td>2.692643</td>\n",
              "      <td>2.628101</td>\n",
              "      <td>2.620548</td>\n",
              "      <td>2.615895</td>\n",
              "      <td>5.27</td>\n",
              "      <td>16.8</td>\n",
              "      <td>4.87</td>\n",
              "      <td>-3.37</td>\n",
              "    </tr>\n",
              "    <tr>\n",
              "      <th>84987</th>\n",
              "      <td>8498.6</td>\n",
              "      <td>2.692682</td>\n",
              "      <td>1.8</td>\n",
              "      <td>2.620243</td>\n",
              "      <td>2.615925</td>\n",
              "      <td>2.692682</td>\n",
              "      <td>2.629319</td>\n",
              "      <td>2.620243</td>\n",
              "      <td>2.615925</td>\n",
              "      <td>5.25</td>\n",
              "      <td>16.8</td>\n",
              "      <td>4.87</td>\n",
              "      <td>-3.37</td>\n",
              "    </tr>\n",
              "    <tr>\n",
              "      <th>84988</th>\n",
              "      <td>8498.7</td>\n",
              "      <td>2.692715</td>\n",
              "      <td>1.8</td>\n",
              "      <td>2.619866</td>\n",
              "      <td>2.615951</td>\n",
              "      <td>2.692715</td>\n",
              "      <td>2.630637</td>\n",
              "      <td>2.619866</td>\n",
              "      <td>2.615951</td>\n",
              "      <td>5.22</td>\n",
              "      <td>16.8</td>\n",
              "      <td>4.87</td>\n",
              "      <td>-3.37</td>\n",
              "    </tr>\n",
              "    <tr>\n",
              "      <th>84989</th>\n",
              "      <td>8498.8</td>\n",
              "      <td>2.692740</td>\n",
              "      <td>1.8</td>\n",
              "      <td>2.619450</td>\n",
              "      <td>2.615970</td>\n",
              "      <td>2.692740</td>\n",
              "      <td>2.631916</td>\n",
              "      <td>2.619450</td>\n",
              "      <td>2.615970</td>\n",
              "      <td>5.20</td>\n",
              "      <td>16.8</td>\n",
              "      <td>4.87</td>\n",
              "      <td>-3.36</td>\n",
              "    </tr>\n",
              "    <tr>\n",
              "      <th>84990</th>\n",
              "      <td>8498.9</td>\n",
              "      <td>2.692755</td>\n",
              "      <td>1.8</td>\n",
              "      <td>2.618994</td>\n",
              "      <td>2.615983</td>\n",
              "      <td>2.692755</td>\n",
              "      <td>2.633157</td>\n",
              "      <td>2.618994</td>\n",
              "      <td>2.615983</td>\n",
              "      <td>5.18</td>\n",
              "      <td>16.7</td>\n",
              "      <td>4.87</td>\n",
              "      <td>-3.36</td>\n",
              "    </tr>\n",
              "  </tbody>\n",
              "</table>\n",
              "<p>84991 rows × 13 columns</p>\n",
              "</div>"
            ],
            "text/plain": [
              "         Time     DVL1_S  DVL2_S  ...  ROV6DOF.1  ROV6DOF.2  ROV6DOF.3\n",
              "0         0.0   0.000000     0.0  ...        0.0       0.00       0.00\n",
              "1         0.0  20.000000    20.0  ...        0.0       0.00       0.00\n",
              "2         0.1  20.000000    20.0  ...        0.0       0.00       0.00\n",
              "3         0.2  20.000000    20.0  ...        0.0       0.00       0.00\n",
              "4         0.3  20.000000    20.0  ...        0.0       0.00       0.00\n",
              "...       ...        ...     ...  ...        ...        ...        ...\n",
              "84986  8498.5   2.692643     1.8  ...       16.8       4.87      -3.37\n",
              "84987  8498.6   2.692682     1.8  ...       16.8       4.87      -3.37\n",
              "84988  8498.7   2.692715     1.8  ...       16.8       4.87      -3.37\n",
              "84989  8498.8   2.692740     1.8  ...       16.8       4.87      -3.36\n",
              "84990  8498.9   2.692755     1.8  ...       16.7       4.87      -3.36\n",
              "\n",
              "[84991 rows x 13 columns]"
            ]
          },
          "metadata": {
            "tags": []
          },
          "execution_count": 5
        }
      ]
    },
    {
      "cell_type": "code",
      "metadata": {
        "id": "SsY7_HJG00vh",
        "outputId": "98375fe9-ff9a-4f30-b551-3a2f83137b3f",
        "colab": {
          "base_uri": "https://localhost:8080/",
          "height": 405
        }
      },
      "source": [
        "df2.drop(84990) \n",
        "df2=df2.drop(84988)\n",
        "df2=df2.drop(84987)\n",
        "df2.drop(84990)\n",
        "df2=df2.drop(84985)\n",
        "df2=df2.drop(84990)\n",
        "df2=df2.drop(84984)\n",
        "df2=df2.drop(84983)\n",
        "df2=df2.drop(84982)\n",
        "df2=df2.drop(84981)\n",
        "df2=df2.drop(84980)\n",
        "df2=df2.drop(84986)\n",
        "df2=df2.drop(84989)\n",
        "df2"
      ],
      "execution_count": 6,
      "outputs": [
        {
          "output_type": "execute_result",
          "data": {
            "text/html": [
              "<div>\n",
              "<style scoped>\n",
              "    .dataframe tbody tr th:only-of-type {\n",
              "        vertical-align: middle;\n",
              "    }\n",
              "\n",
              "    .dataframe tbody tr th {\n",
              "        vertical-align: top;\n",
              "    }\n",
              "\n",
              "    .dataframe thead th {\n",
              "        text-align: right;\n",
              "    }\n",
              "</style>\n",
              "<table border=\"1\" class=\"dataframe\">\n",
              "  <thead>\n",
              "    <tr style=\"text-align: right;\">\n",
              "      <th></th>\n",
              "      <th>Time</th>\n",
              "      <th>DVL1_S</th>\n",
              "      <th>DVL2_S</th>\n",
              "      <th>DVL3_S</th>\n",
              "      <th>DVL4_S</th>\n",
              "      <th>DVL1</th>\n",
              "      <th>DVL2</th>\n",
              "      <th>DVL3</th>\n",
              "      <th>DVL4</th>\n",
              "      <th>ROV6DOF</th>\n",
              "      <th>ROV6DOF.1</th>\n",
              "      <th>ROV6DOF.2</th>\n",
              "      <th>ROV6DOF.3</th>\n",
              "    </tr>\n",
              "  </thead>\n",
              "  <tbody>\n",
              "    <tr>\n",
              "      <th>0</th>\n",
              "      <td>0.0</td>\n",
              "      <td>0.0</td>\n",
              "      <td>0.0</td>\n",
              "      <td>0.000000</td>\n",
              "      <td>0.0</td>\n",
              "      <td>0.000000</td>\n",
              "      <td>0.000000</td>\n",
              "      <td>0.000000</td>\n",
              "      <td>0.000000</td>\n",
              "      <td>0.00</td>\n",
              "      <td>0.0</td>\n",
              "      <td>0.00</td>\n",
              "      <td>0.00</td>\n",
              "    </tr>\n",
              "    <tr>\n",
              "      <th>1</th>\n",
              "      <td>0.0</td>\n",
              "      <td>20.0</td>\n",
              "      <td>20.0</td>\n",
              "      <td>20.000000</td>\n",
              "      <td>20.0</td>\n",
              "      <td>20.000000</td>\n",
              "      <td>20.000000</td>\n",
              "      <td>20.000000</td>\n",
              "      <td>20.000000</td>\n",
              "      <td>0.00</td>\n",
              "      <td>0.0</td>\n",
              "      <td>0.00</td>\n",
              "      <td>0.00</td>\n",
              "    </tr>\n",
              "    <tr>\n",
              "      <th>2</th>\n",
              "      <td>0.1</td>\n",
              "      <td>20.0</td>\n",
              "      <td>20.0</td>\n",
              "      <td>20.000000</td>\n",
              "      <td>20.0</td>\n",
              "      <td>20.000000</td>\n",
              "      <td>20.000000</td>\n",
              "      <td>20.000000</td>\n",
              "      <td>20.000000</td>\n",
              "      <td>0.00</td>\n",
              "      <td>0.0</td>\n",
              "      <td>0.00</td>\n",
              "      <td>0.00</td>\n",
              "    </tr>\n",
              "    <tr>\n",
              "      <th>3</th>\n",
              "      <td>0.2</td>\n",
              "      <td>20.0</td>\n",
              "      <td>20.0</td>\n",
              "      <td>20.000000</td>\n",
              "      <td>20.0</td>\n",
              "      <td>20.000000</td>\n",
              "      <td>20.000000</td>\n",
              "      <td>20.000000</td>\n",
              "      <td>20.000000</td>\n",
              "      <td>0.00</td>\n",
              "      <td>0.0</td>\n",
              "      <td>0.00</td>\n",
              "      <td>0.00</td>\n",
              "    </tr>\n",
              "    <tr>\n",
              "      <th>4</th>\n",
              "      <td>0.3</td>\n",
              "      <td>20.0</td>\n",
              "      <td>20.0</td>\n",
              "      <td>20.000000</td>\n",
              "      <td>20.0</td>\n",
              "      <td>20.000000</td>\n",
              "      <td>20.000000</td>\n",
              "      <td>20.000000</td>\n",
              "      <td>20.000000</td>\n",
              "      <td>0.00</td>\n",
              "      <td>0.0</td>\n",
              "      <td>0.00</td>\n",
              "      <td>0.00</td>\n",
              "    </tr>\n",
              "    <tr>\n",
              "      <th>...</th>\n",
              "      <td>...</td>\n",
              "      <td>...</td>\n",
              "      <td>...</td>\n",
              "      <td>...</td>\n",
              "      <td>...</td>\n",
              "      <td>...</td>\n",
              "      <td>...</td>\n",
              "      <td>...</td>\n",
              "      <td>...</td>\n",
              "      <td>...</td>\n",
              "      <td>...</td>\n",
              "      <td>...</td>\n",
              "      <td>...</td>\n",
              "    </tr>\n",
              "    <tr>\n",
              "      <th>84975</th>\n",
              "      <td>8497.4</td>\n",
              "      <td>0.8</td>\n",
              "      <td>0.3</td>\n",
              "      <td>2.621668</td>\n",
              "      <td>1.8</td>\n",
              "      <td>2.691185</td>\n",
              "      <td>2.610809</td>\n",
              "      <td>2.621668</td>\n",
              "      <td>2.614601</td>\n",
              "      <td>5.55</td>\n",
              "      <td>17.0</td>\n",
              "      <td>4.87</td>\n",
              "      <td>-3.39</td>\n",
              "    </tr>\n",
              "    <tr>\n",
              "      <th>84976</th>\n",
              "      <td>8497.5</td>\n",
              "      <td>0.8</td>\n",
              "      <td>0.3</td>\n",
              "      <td>2.621745</td>\n",
              "      <td>1.8</td>\n",
              "      <td>2.691401</td>\n",
              "      <td>2.612374</td>\n",
              "      <td>2.621745</td>\n",
              "      <td>2.614807</td>\n",
              "      <td>5.52</td>\n",
              "      <td>17.0</td>\n",
              "      <td>4.87</td>\n",
              "      <td>-3.38</td>\n",
              "    </tr>\n",
              "    <tr>\n",
              "      <th>84977</th>\n",
              "      <td>8497.6</td>\n",
              "      <td>0.8</td>\n",
              "      <td>0.3</td>\n",
              "      <td>2.621804</td>\n",
              "      <td>1.8</td>\n",
              "      <td>2.691634</td>\n",
              "      <td>2.614254</td>\n",
              "      <td>2.621804</td>\n",
              "      <td>2.615026</td>\n",
              "      <td>5.50</td>\n",
              "      <td>17.0</td>\n",
              "      <td>4.87</td>\n",
              "      <td>-3.38</td>\n",
              "    </tr>\n",
              "    <tr>\n",
              "      <th>84978</th>\n",
              "      <td>8497.7</td>\n",
              "      <td>0.8</td>\n",
              "      <td>0.3</td>\n",
              "      <td>2.621820</td>\n",
              "      <td>1.8</td>\n",
              "      <td>2.691802</td>\n",
              "      <td>2.615765</td>\n",
              "      <td>2.621820</td>\n",
              "      <td>2.615181</td>\n",
              "      <td>5.47</td>\n",
              "      <td>16.9</td>\n",
              "      <td>4.87</td>\n",
              "      <td>-3.38</td>\n",
              "    </tr>\n",
              "    <tr>\n",
              "      <th>84979</th>\n",
              "      <td>8497.8</td>\n",
              "      <td>0.8</td>\n",
              "      <td>0.3</td>\n",
              "      <td>2.621799</td>\n",
              "      <td>1.8</td>\n",
              "      <td>2.691982</td>\n",
              "      <td>2.617577</td>\n",
              "      <td>2.621799</td>\n",
              "      <td>2.615344</td>\n",
              "      <td>5.45</td>\n",
              "      <td>16.9</td>\n",
              "      <td>4.87</td>\n",
              "      <td>-3.38</td>\n",
              "    </tr>\n",
              "  </tbody>\n",
              "</table>\n",
              "<p>84980 rows × 13 columns</p>\n",
              "</div>"
            ],
            "text/plain": [
              "         Time  DVL1_S  DVL2_S  ...  ROV6DOF.1  ROV6DOF.2  ROV6DOF.3\n",
              "0         0.0     0.0     0.0  ...        0.0       0.00       0.00\n",
              "1         0.0    20.0    20.0  ...        0.0       0.00       0.00\n",
              "2         0.1    20.0    20.0  ...        0.0       0.00       0.00\n",
              "3         0.2    20.0    20.0  ...        0.0       0.00       0.00\n",
              "4         0.3    20.0    20.0  ...        0.0       0.00       0.00\n",
              "...       ...     ...     ...  ...        ...        ...        ...\n",
              "84975  8497.4     0.8     0.3  ...       17.0       4.87      -3.39\n",
              "84976  8497.5     0.8     0.3  ...       17.0       4.87      -3.38\n",
              "84977  8497.6     0.8     0.3  ...       17.0       4.87      -3.38\n",
              "84978  8497.7     0.8     0.3  ...       16.9       4.87      -3.38\n",
              "84979  8497.8     0.8     0.3  ...       16.9       4.87      -3.38\n",
              "\n",
              "[84980 rows x 13 columns]"
            ]
          },
          "metadata": {
            "tags": []
          },
          "execution_count": 6
        }
      ]
    },
    {
      "cell_type": "code",
      "metadata": {
        "id": "cibnyJhf02Wf",
        "outputId": "58a8c56d-8be9-4360-aeff-5e5027e92865",
        "colab": {
          "base_uri": "https://localhost:8080/",
          "height": 405
        }
      },
      "source": [
        "df3=df3.drop(0) \n",
        "df2\n"
      ],
      "execution_count": 7,
      "outputs": [
        {
          "output_type": "execute_result",
          "data": {
            "text/html": [
              "<div>\n",
              "<style scoped>\n",
              "    .dataframe tbody tr th:only-of-type {\n",
              "        vertical-align: middle;\n",
              "    }\n",
              "\n",
              "    .dataframe tbody tr th {\n",
              "        vertical-align: top;\n",
              "    }\n",
              "\n",
              "    .dataframe thead th {\n",
              "        text-align: right;\n",
              "    }\n",
              "</style>\n",
              "<table border=\"1\" class=\"dataframe\">\n",
              "  <thead>\n",
              "    <tr style=\"text-align: right;\">\n",
              "      <th></th>\n",
              "      <th>Time</th>\n",
              "      <th>DVL1_S</th>\n",
              "      <th>DVL2_S</th>\n",
              "      <th>DVL3_S</th>\n",
              "      <th>DVL4_S</th>\n",
              "      <th>DVL1</th>\n",
              "      <th>DVL2</th>\n",
              "      <th>DVL3</th>\n",
              "      <th>DVL4</th>\n",
              "      <th>ROV6DOF</th>\n",
              "      <th>ROV6DOF.1</th>\n",
              "      <th>ROV6DOF.2</th>\n",
              "      <th>ROV6DOF.3</th>\n",
              "    </tr>\n",
              "  </thead>\n",
              "  <tbody>\n",
              "    <tr>\n",
              "      <th>0</th>\n",
              "      <td>0.0</td>\n",
              "      <td>0.0</td>\n",
              "      <td>0.0</td>\n",
              "      <td>0.000000</td>\n",
              "      <td>0.0</td>\n",
              "      <td>0.000000</td>\n",
              "      <td>0.000000</td>\n",
              "      <td>0.000000</td>\n",
              "      <td>0.000000</td>\n",
              "      <td>0.00</td>\n",
              "      <td>0.0</td>\n",
              "      <td>0.00</td>\n",
              "      <td>0.00</td>\n",
              "    </tr>\n",
              "    <tr>\n",
              "      <th>1</th>\n",
              "      <td>0.0</td>\n",
              "      <td>20.0</td>\n",
              "      <td>20.0</td>\n",
              "      <td>20.000000</td>\n",
              "      <td>20.0</td>\n",
              "      <td>20.000000</td>\n",
              "      <td>20.000000</td>\n",
              "      <td>20.000000</td>\n",
              "      <td>20.000000</td>\n",
              "      <td>0.00</td>\n",
              "      <td>0.0</td>\n",
              "      <td>0.00</td>\n",
              "      <td>0.00</td>\n",
              "    </tr>\n",
              "    <tr>\n",
              "      <th>2</th>\n",
              "      <td>0.1</td>\n",
              "      <td>20.0</td>\n",
              "      <td>20.0</td>\n",
              "      <td>20.000000</td>\n",
              "      <td>20.0</td>\n",
              "      <td>20.000000</td>\n",
              "      <td>20.000000</td>\n",
              "      <td>20.000000</td>\n",
              "      <td>20.000000</td>\n",
              "      <td>0.00</td>\n",
              "      <td>0.0</td>\n",
              "      <td>0.00</td>\n",
              "      <td>0.00</td>\n",
              "    </tr>\n",
              "    <tr>\n",
              "      <th>3</th>\n",
              "      <td>0.2</td>\n",
              "      <td>20.0</td>\n",
              "      <td>20.0</td>\n",
              "      <td>20.000000</td>\n",
              "      <td>20.0</td>\n",
              "      <td>20.000000</td>\n",
              "      <td>20.000000</td>\n",
              "      <td>20.000000</td>\n",
              "      <td>20.000000</td>\n",
              "      <td>0.00</td>\n",
              "      <td>0.0</td>\n",
              "      <td>0.00</td>\n",
              "      <td>0.00</td>\n",
              "    </tr>\n",
              "    <tr>\n",
              "      <th>4</th>\n",
              "      <td>0.3</td>\n",
              "      <td>20.0</td>\n",
              "      <td>20.0</td>\n",
              "      <td>20.000000</td>\n",
              "      <td>20.0</td>\n",
              "      <td>20.000000</td>\n",
              "      <td>20.000000</td>\n",
              "      <td>20.000000</td>\n",
              "      <td>20.000000</td>\n",
              "      <td>0.00</td>\n",
              "      <td>0.0</td>\n",
              "      <td>0.00</td>\n",
              "      <td>0.00</td>\n",
              "    </tr>\n",
              "    <tr>\n",
              "      <th>...</th>\n",
              "      <td>...</td>\n",
              "      <td>...</td>\n",
              "      <td>...</td>\n",
              "      <td>...</td>\n",
              "      <td>...</td>\n",
              "      <td>...</td>\n",
              "      <td>...</td>\n",
              "      <td>...</td>\n",
              "      <td>...</td>\n",
              "      <td>...</td>\n",
              "      <td>...</td>\n",
              "      <td>...</td>\n",
              "      <td>...</td>\n",
              "    </tr>\n",
              "    <tr>\n",
              "      <th>84975</th>\n",
              "      <td>8497.4</td>\n",
              "      <td>0.8</td>\n",
              "      <td>0.3</td>\n",
              "      <td>2.621668</td>\n",
              "      <td>1.8</td>\n",
              "      <td>2.691185</td>\n",
              "      <td>2.610809</td>\n",
              "      <td>2.621668</td>\n",
              "      <td>2.614601</td>\n",
              "      <td>5.55</td>\n",
              "      <td>17.0</td>\n",
              "      <td>4.87</td>\n",
              "      <td>-3.39</td>\n",
              "    </tr>\n",
              "    <tr>\n",
              "      <th>84976</th>\n",
              "      <td>8497.5</td>\n",
              "      <td>0.8</td>\n",
              "      <td>0.3</td>\n",
              "      <td>2.621745</td>\n",
              "      <td>1.8</td>\n",
              "      <td>2.691401</td>\n",
              "      <td>2.612374</td>\n",
              "      <td>2.621745</td>\n",
              "      <td>2.614807</td>\n",
              "      <td>5.52</td>\n",
              "      <td>17.0</td>\n",
              "      <td>4.87</td>\n",
              "      <td>-3.38</td>\n",
              "    </tr>\n",
              "    <tr>\n",
              "      <th>84977</th>\n",
              "      <td>8497.6</td>\n",
              "      <td>0.8</td>\n",
              "      <td>0.3</td>\n",
              "      <td>2.621804</td>\n",
              "      <td>1.8</td>\n",
              "      <td>2.691634</td>\n",
              "      <td>2.614254</td>\n",
              "      <td>2.621804</td>\n",
              "      <td>2.615026</td>\n",
              "      <td>5.50</td>\n",
              "      <td>17.0</td>\n",
              "      <td>4.87</td>\n",
              "      <td>-3.38</td>\n",
              "    </tr>\n",
              "    <tr>\n",
              "      <th>84978</th>\n",
              "      <td>8497.7</td>\n",
              "      <td>0.8</td>\n",
              "      <td>0.3</td>\n",
              "      <td>2.621820</td>\n",
              "      <td>1.8</td>\n",
              "      <td>2.691802</td>\n",
              "      <td>2.615765</td>\n",
              "      <td>2.621820</td>\n",
              "      <td>2.615181</td>\n",
              "      <td>5.47</td>\n",
              "      <td>16.9</td>\n",
              "      <td>4.87</td>\n",
              "      <td>-3.38</td>\n",
              "    </tr>\n",
              "    <tr>\n",
              "      <th>84979</th>\n",
              "      <td>8497.8</td>\n",
              "      <td>0.8</td>\n",
              "      <td>0.3</td>\n",
              "      <td>2.621799</td>\n",
              "      <td>1.8</td>\n",
              "      <td>2.691982</td>\n",
              "      <td>2.617577</td>\n",
              "      <td>2.621799</td>\n",
              "      <td>2.615344</td>\n",
              "      <td>5.45</td>\n",
              "      <td>16.9</td>\n",
              "      <td>4.87</td>\n",
              "      <td>-3.38</td>\n",
              "    </tr>\n",
              "  </tbody>\n",
              "</table>\n",
              "<p>84980 rows × 13 columns</p>\n",
              "</div>"
            ],
            "text/plain": [
              "         Time  DVL1_S  DVL2_S  ...  ROV6DOF.1  ROV6DOF.2  ROV6DOF.3\n",
              "0         0.0     0.0     0.0  ...        0.0       0.00       0.00\n",
              "1         0.0    20.0    20.0  ...        0.0       0.00       0.00\n",
              "2         0.1    20.0    20.0  ...        0.0       0.00       0.00\n",
              "3         0.2    20.0    20.0  ...        0.0       0.00       0.00\n",
              "4         0.3    20.0    20.0  ...        0.0       0.00       0.00\n",
              "...       ...     ...     ...  ...        ...        ...        ...\n",
              "84975  8497.4     0.8     0.3  ...       17.0       4.87      -3.39\n",
              "84976  8497.5     0.8     0.3  ...       17.0       4.87      -3.38\n",
              "84977  8497.6     0.8     0.3  ...       17.0       4.87      -3.38\n",
              "84978  8497.7     0.8     0.3  ...       16.9       4.87      -3.38\n",
              "84979  8497.8     0.8     0.3  ...       16.9       4.87      -3.38\n",
              "\n",
              "[84980 rows x 13 columns]"
            ]
          },
          "metadata": {
            "tags": []
          },
          "execution_count": 7
        }
      ]
    },
    {
      "cell_type": "code",
      "metadata": {
        "id": "r1085cIG03_l"
      },
      "source": [
        "t=df2['Time']\n",
        "Tdata=df2['DVL1_S']\n",
        "X1=np.array(Tdata)\n",
        "Tdata2=df2['DVL2_S']\n",
        "X2=np.array(Tdata2)\n",
        "Tdata3=df2['DVL3_S']\n",
        "X3=np.array(Tdata)\n",
        "Tdata4=df2['DVL4_S']\n",
        "X4=np.array(Tdata4)\n",
        "Tdata5=df2['ROV6DOF']\n",
        "X5=np.array(Tdata5)\n",
        "Tdata6=df2['ROV6DOF.1']\n",
        "X6=np.array(Tdata6)\n",
        "Tdata7=df2['ROV6DOF.2']\n",
        "X7=np.array(Tdata7)\n",
        "Tdata8=df2['ROV6DOF.3']\n",
        "X8=np.array(Tdata8)"
      ],
      "execution_count": 8,
      "outputs": []
    },
    {
      "cell_type": "code",
      "metadata": {
        "id": "r-z2yYHn05p8",
        "outputId": "aa4e3203-d067-48f0-b4af-ab8cfa318e66",
        "colab": {
          "base_uri": "https://localhost:8080/",
          "height": 187
        }
      },
      "source": [
        "# Stacking the two arrays along axis 0 \n",
        "out_arr1_X_training = geek.stack((X1, X2, X3,X4, X5,X6,X7,X8), axis = 0) \n",
        "print (\"Output stacked array along axis 0:\\n \", out_arr1_X_training) \n",
        "print (\"Output Shape:\\n \", out_arr1_X_training.shape) "
      ],
      "execution_count": 9,
      "outputs": [
        {
          "output_type": "stream",
          "text": [
            "Output stacked array along axis 0:\n",
            "  [[ 0.   20.   20.   ...  0.8   0.8   0.8 ]\n",
            " [ 0.   20.   20.   ...  0.3   0.3   0.3 ]\n",
            " [ 0.   20.   20.   ...  0.8   0.8   0.8 ]\n",
            " ...\n",
            " [ 0.    0.    0.   ... 17.   16.9  16.9 ]\n",
            " [ 0.    0.    0.   ...  4.87  4.87  4.87]\n",
            " [ 0.    0.    0.   ... -3.38 -3.38 -3.38]]\n",
            "Output Shape:\n",
            "  (8, 84980)\n"
          ],
          "name": "stdout"
        }
      ]
    },
    {
      "cell_type": "code",
      "metadata": {
        "id": "cINiczUr0731",
        "outputId": "52fe3cce-82da-4b04-a9c2-2352ae2c2835",
        "colab": {
          "base_uri": "https://localhost:8080/",
          "height": 34
        }
      },
      "source": [
        "X= out_arr1_X_training\n",
        "X = X.transpose((1,0))\n",
        "X.shape"
      ],
      "execution_count": 10,
      "outputs": [
        {
          "output_type": "execute_result",
          "data": {
            "text/plain": [
              "(84980, 8)"
            ]
          },
          "metadata": {
            "tags": []
          },
          "execution_count": 10
        }
      ]
    },
    {
      "cell_type": "code",
      "metadata": {
        "id": "qAax49eo09f9"
      },
      "source": [
        "Tdata1=df2['DVL1']\n",
        "y1=np.array(Tdata1)\n",
        "Tdata22=df2['DVL2']\n",
        "y2=np.array(Tdata22)\n",
        "Tdata33=df2['DVL3']\n",
        "y3=np.array(Tdata33)\n",
        "Tdata44=df2['DVL4']\n",
        "y4=np.array(Tdata44)"
      ],
      "execution_count": 11,
      "outputs": []
    },
    {
      "cell_type": "code",
      "metadata": {
        "id": "xPfBtYzA0-tV",
        "outputId": "0cf27645-cfea-4b6a-ebe8-b79b369e8767",
        "colab": {
          "base_uri": "https://localhost:8080/",
          "height": 136
        }
      },
      "source": [
        "# Stacking the two arrays along axis 0 \n",
        "out_lab1_Target = geek.stack((y1, y2, y3, y4), axis = 0) \n",
        "print (\"Output stacked array along axis 0:\\n \", out_lab1_Target) \n",
        "print (\"Labels Shape :\\n \", out_lab1_Target.shape) "
      ],
      "execution_count": 12,
      "outputs": [
        {
          "output_type": "stream",
          "text": [
            "Output stacked array along axis 0:\n",
            "  [[ 0.       20.       20.       ...  2.691634  2.691802  2.691982]\n",
            " [ 0.       20.       20.       ...  2.614254  2.615765  2.617577]\n",
            " [ 0.       20.       20.       ...  2.621804  2.62182   2.621799]\n",
            " [ 0.       20.       20.       ...  2.615026  2.615181  2.615344]]\n",
            "Labels Shape :\n",
            "  (4, 84980)\n"
          ],
          "name": "stdout"
        }
      ]
    },
    {
      "cell_type": "code",
      "metadata": {
        "id": "jkVSlPVh1AGc"
      },
      "source": [
        "y= out_lab1_Target"
      ],
      "execution_count": 13,
      "outputs": []
    },
    {
      "cell_type": "code",
      "metadata": {
        "id": "x4dvZulD1B6l"
      },
      "source": [
        "y=y.transpose((1,0))"
      ],
      "execution_count": 14,
      "outputs": []
    },
    {
      "cell_type": "code",
      "metadata": {
        "id": "-uKvhGCN1Dyb"
      },
      "source": [
        "# mlp for multi-output regression\n",
        "from numpy import mean\n",
        "from numpy import std\n",
        "from sklearn.datasets import make_regression\n",
        "from sklearn.model_selection import RepeatedKFold\n",
        "from keras.models import Sequential\n",
        "from keras.layers import Dense"
      ],
      "execution_count": 15,
      "outputs": []
    },
    {
      "cell_type": "code",
      "metadata": {
        "id": "D0D1kJXu3BNu",
        "outputId": "7738d7e1-abd6-4daf-fe72-bd92f9d0b2e9",
        "colab": {
          "base_uri": "https://localhost:8080/",
          "height": 34
        }
      },
      "source": [
        "X.shape"
      ],
      "execution_count": 16,
      "outputs": [
        {
          "output_type": "execute_result",
          "data": {
            "text/plain": [
              "(84980, 8)"
            ]
          },
          "metadata": {
            "tags": []
          },
          "execution_count": 16
        }
      ]
    },
    {
      "cell_type": "code",
      "metadata": {
        "id": "qEHASEOr1Xw3"
      },
      "source": [
        "y_train=y[:64980]"
      ],
      "execution_count": 17,
      "outputs": []
    },
    {
      "cell_type": "code",
      "metadata": {
        "id": "ELySnCCZmGei"
      },
      "source": [
        "X_train=X[:64980]"
      ],
      "execution_count": 18,
      "outputs": []
    },
    {
      "cell_type": "code",
      "metadata": {
        "id": "SXblwR0x1Ppc"
      },
      "source": [
        "x_val=X[64980:74980]"
      ],
      "execution_count": 19,
      "outputs": []
    },
    {
      "cell_type": "code",
      "metadata": {
        "id": "RcjUbnxN3ENj",
        "outputId": "1e014757-c855-4107-dd97-ed6e3146a64b",
        "colab": {
          "base_uri": "https://localhost:8080/",
          "height": 34
        }
      },
      "source": [
        "x_val.dtype"
      ],
      "execution_count": 20,
      "outputs": [
        {
          "output_type": "execute_result",
          "data": {
            "text/plain": [
              "dtype('float64')"
            ]
          },
          "metadata": {
            "tags": []
          },
          "execution_count": 20
        }
      ]
    },
    {
      "cell_type": "code",
      "metadata": {
        "id": "rE_cNDdS1a0k"
      },
      "source": [
        "y_val=y[64980:74980]"
      ],
      "execution_count": 21,
      "outputs": []
    },
    {
      "cell_type": "code",
      "metadata": {
        "id": "fqyT_m6m1TF9"
      },
      "source": [
        "x_test=X[-10000:]"
      ],
      "execution_count": 22,
      "outputs": []
    },
    {
      "cell_type": "code",
      "metadata": {
        "id": "tP7LQHla1V5E"
      },
      "source": [
        "y_test=y[-10000:]"
      ],
      "execution_count": 23,
      "outputs": []
    },
    {
      "cell_type": "code",
      "metadata": {
        "id": "sqYFGVGw18gN"
      },
      "source": [
        "n_features=4"
      ],
      "execution_count": 24,
      "outputs": []
    },
    {
      "cell_type": "code",
      "metadata": {
        "id": "DwVnuq2d2AAa"
      },
      "source": [
        "n_steps=1"
      ],
      "execution_count": 25,
      "outputs": []
    },
    {
      "cell_type": "code",
      "metadata": {
        "id": "yMkG_FuI2Cek"
      },
      "source": [
        "import keras"
      ],
      "execution_count": 26,
      "outputs": []
    },
    {
      "cell_type": "code",
      "metadata": {
        "id": "M1IWCyOh2b4j",
        "outputId": "08b282a9-3671-4718-a28b-1d154d497801",
        "colab": {
          "base_uri": "https://localhost:8080/",
          "height": 34
        }
      },
      "source": [
        "X_train.shape"
      ],
      "execution_count": 27,
      "outputs": [
        {
          "output_type": "execute_result",
          "data": {
            "text/plain": [
              "(64980, 8)"
            ]
          },
          "metadata": {
            "tags": []
          },
          "execution_count": 27
        }
      ]
    },
    {
      "cell_type": "code",
      "metadata": {
        "id": "nfSsqGIT2dft",
        "outputId": "6467cf09-2dc5-409b-9a48-4b322238af5d",
        "colab": {
          "base_uri": "https://localhost:8080/",
          "height": 34
        }
      },
      "source": [
        "y_train.shape"
      ],
      "execution_count": 28,
      "outputs": [
        {
          "output_type": "execute_result",
          "data": {
            "text/plain": [
              "(64980, 4)"
            ]
          },
          "metadata": {
            "tags": []
          },
          "execution_count": 28
        }
      ]
    },
    {
      "cell_type": "code",
      "metadata": {
        "id": "Ey0lPeNO2fE3",
        "outputId": "2eca0833-53fa-4674-e799-473f6b20e800",
        "colab": {
          "base_uri": "https://localhost:8080/",
          "height": 34
        }
      },
      "source": [
        "x_val.shape"
      ],
      "execution_count": 29,
      "outputs": [
        {
          "output_type": "execute_result",
          "data": {
            "text/plain": [
              "(10000, 8)"
            ]
          },
          "metadata": {
            "tags": []
          },
          "execution_count": 29
        }
      ]
    },
    {
      "cell_type": "code",
      "metadata": {
        "id": "aanTD__Y2g6J",
        "outputId": "ed405a50-e6af-4115-e7d6-6908a823ff13",
        "colab": {
          "base_uri": "https://localhost:8080/",
          "height": 34
        }
      },
      "source": [
        "y_val.shape"
      ],
      "execution_count": 30,
      "outputs": [
        {
          "output_type": "execute_result",
          "data": {
            "text/plain": [
              "(10000, 4)"
            ]
          },
          "metadata": {
            "tags": []
          },
          "execution_count": 30
        }
      ]
    },
    {
      "cell_type": "code",
      "metadata": {
        "id": "z23LyrTh3g27"
      },
      "source": [
        "import tensorflow as tf"
      ],
      "execution_count": 31,
      "outputs": []
    },
    {
      "cell_type": "code",
      "metadata": {
        "id": "tOL88bxP3O5X"
      },
      "source": [
        "from keras.layers import Dropout"
      ],
      "execution_count": 32,
      "outputs": []
    },
    {
      "cell_type": "code",
      "metadata": {
        "id": "sH2TZJDp1ws_",
        "outputId": "da64972c-e0e6-4e5e-b42a-d336822ac45f",
        "colab": {
          "base_uri": "https://localhost:8080/",
          "height": 34
        }
      },
      "source": [
        "y_train.shape"
      ],
      "execution_count": 33,
      "outputs": [
        {
          "output_type": "execute_result",
          "data": {
            "text/plain": [
              "(64980, 4)"
            ]
          },
          "metadata": {
            "tags": []
          },
          "execution_count": 33
        }
      ]
    },
    {
      "cell_type": "code",
      "metadata": {
        "id": "TdB7MnMV1y8R"
      },
      "source": [
        "y_train1=y_train[:5783]"
      ],
      "execution_count": 34,
      "outputs": []
    },
    {
      "cell_type": "code",
      "metadata": {
        "id": "f18EADv314-5",
        "outputId": "c390deab-9e88-4554-dc1a-e04874c0747e",
        "colab": {
          "base_uri": "https://localhost:8080/",
          "height": 34
        }
      },
      "source": [
        "y_train1.shape"
      ],
      "execution_count": 35,
      "outputs": [
        {
          "output_type": "execute_result",
          "data": {
            "text/plain": [
              "(5783, 4)"
            ]
          },
          "metadata": {
            "tags": []
          },
          "execution_count": 35
        }
      ]
    },
    {
      "cell_type": "code",
      "metadata": {
        "id": "0ttsM4CG1fRH"
      },
      "source": [
        "values = [1e-1, 1e-2, 1e-3, 1e-4, 1e-5, 1e-6]\n",
        "\n",
        "from keras.layers import Input, Dense, Conv1D, MaxPooling1D, UpSampling1D, Flatten, Reshape \n",
        "from keras.models import Model\n",
        "from keras import backend as K\n",
        "input_img=Input(shape=(n_steps, 8))\n",
        "#input_img = Input(shape=(28, 28, 1))  # adapt this if using `channels_first` image data format\n",
        "# Dropout \n",
        "\n",
        "x = Conv1D(16, 3, activation='relu', padding='same')(input_img)\n",
        "x= MaxPooling1D(2, padding= 'same')(x)\n",
        "x= Dropout(0.5) (x)\n",
        "x= Dropout(0.3) (x)\n",
        "x = Conv1D(16, 3, activation='relu', padding='same')(x)\n",
        "x= MaxPooling1D(2, padding= 'same')(x)\n",
        "x= Dropout(0.5) (x)\n",
        "#x = Conv1D(16, 3, activation='relu', padding='same')(x)\n",
        "x= MaxPooling1D(2, padding= 'same')(x)\n",
        "x= Dropout(0.5) (x)\n",
        "# at this point the representation is (4, 4, 8) i.e. 128-dimensional\n",
        "x= Flatten()(x)\n",
        "decoded = Dense(n_features*n_steps, activation='linear')(x)\n",
        "outputs= Reshape((n_steps, n_features))(decoded)\n",
        "#tf.reshape(tensor, shape, name=None)\n",
        "autoencoder = Model(input_img, outputs)\n",
        "opt = keras.optimizers.Adam(learning_rate=0.0001)\n",
        "autoencoder.compile(opt, loss='mse')"
      ],
      "execution_count": 36,
      "outputs": []
    },
    {
      "cell_type": "code",
      "metadata": {
        "id": "iaFNyhIb2B14",
        "outputId": "b5bf1cc6-cbe5-4ed8-a658-28b4053b43c3",
        "colab": {
          "base_uri": "https://localhost:8080/",
          "height": 1000
        }
      },
      "source": [
        "from keras.callbacks import TensorBoard, EarlyStopping\n",
        "\n",
        "\n",
        "history=autoencoder.fit(Herman_Kalman_1y, Herman_Kalman_1d,\n",
        "                epochs=300,\n",
        "                batch_size=32,\n",
        "                 verbose=1)\n",
        "\n",
        "# callback = tf.keras.callbacks.EarlyStopping(monitor='loss', patience=3)\n",
        "#Early Stopping.. Can be a wise option to observe\n",
        "#tf.keras.callbacks.EarlyStopping(\n",
        "   # monitor='val_loss', min_delta=0, patience=0, verbose=0, mode='auto',\n",
        "  #  baseline=None, restore_best_weights=False\n",
        "#)"
      ],
      "execution_count": 74,
      "outputs": [
        {
          "output_type": "stream",
          "text": [
            "Epoch 1/300\n",
            "181/181 [==============================] - 0s 2ms/step - loss: 8.5659\n",
            "Epoch 2/300\n",
            "181/181 [==============================] - 0s 2ms/step - loss: 6.3620\n",
            "Epoch 3/300\n",
            "181/181 [==============================] - 0s 2ms/step - loss: 5.2850\n",
            "Epoch 4/300\n",
            "181/181 [==============================] - 0s 2ms/step - loss: 4.6552\n",
            "Epoch 5/300\n",
            "181/181 [==============================] - 0s 2ms/step - loss: 4.3274\n",
            "Epoch 6/300\n",
            "181/181 [==============================] - 0s 2ms/step - loss: 4.0863\n",
            "Epoch 7/300\n",
            "181/181 [==============================] - 0s 1ms/step - loss: 3.9135\n",
            "Epoch 8/300\n",
            "181/181 [==============================] - 0s 1ms/step - loss: 3.7218\n",
            "Epoch 9/300\n",
            "181/181 [==============================] - 0s 1ms/step - loss: 3.5988\n",
            "Epoch 10/300\n",
            "181/181 [==============================] - 0s 1ms/step - loss: 3.4932\n",
            "Epoch 11/300\n",
            "181/181 [==============================] - 0s 1ms/step - loss: 3.4068\n",
            "Epoch 12/300\n",
            "181/181 [==============================] - 0s 1ms/step - loss: 3.2832\n",
            "Epoch 13/300\n",
            "181/181 [==============================] - 0s 2ms/step - loss: 3.1676\n",
            "Epoch 14/300\n",
            "181/181 [==============================] - 0s 2ms/step - loss: 3.0771\n",
            "Epoch 15/300\n",
            "181/181 [==============================] - 0s 1ms/step - loss: 2.9640\n",
            "Epoch 16/300\n",
            "181/181 [==============================] - 0s 1ms/step - loss: 2.8735\n",
            "Epoch 17/300\n",
            "181/181 [==============================] - 0s 1ms/step - loss: 2.7314\n",
            "Epoch 18/300\n",
            "181/181 [==============================] - 0s 1ms/step - loss: 2.6286\n",
            "Epoch 19/300\n",
            "181/181 [==============================] - 0s 1ms/step - loss: 2.5325\n",
            "Epoch 20/300\n",
            "181/181 [==============================] - 0s 1ms/step - loss: 2.4434\n",
            "Epoch 21/300\n",
            "181/181 [==============================] - 0s 1ms/step - loss: 2.3504\n",
            "Epoch 22/300\n",
            "181/181 [==============================] - 0s 2ms/step - loss: 2.2787\n",
            "Epoch 23/300\n",
            "181/181 [==============================] - 0s 1ms/step - loss: 2.2026\n",
            "Epoch 24/300\n",
            "181/181 [==============================] - 0s 1ms/step - loss: 2.0895\n",
            "Epoch 25/300\n",
            "181/181 [==============================] - 0s 1ms/step - loss: 2.0610\n",
            "Epoch 26/300\n",
            "181/181 [==============================] - 0s 2ms/step - loss: 1.9799\n",
            "Epoch 27/300\n",
            "181/181 [==============================] - 0s 1ms/step - loss: 1.8875\n",
            "Epoch 28/300\n",
            "181/181 [==============================] - 0s 1ms/step - loss: 1.8320\n",
            "Epoch 29/300\n",
            "181/181 [==============================] - 0s 1ms/step - loss: 1.7746\n",
            "Epoch 30/300\n",
            "181/181 [==============================] - 0s 1ms/step - loss: 1.7133\n",
            "Epoch 31/300\n",
            "181/181 [==============================] - 0s 1ms/step - loss: 1.6521\n",
            "Epoch 32/300\n",
            "181/181 [==============================] - 0s 1ms/step - loss: 1.6074\n",
            "Epoch 33/300\n",
            "181/181 [==============================] - 0s 1ms/step - loss: 1.5464\n",
            "Epoch 34/300\n",
            "181/181 [==============================] - 0s 1ms/step - loss: 1.5335\n",
            "Epoch 35/300\n",
            "181/181 [==============================] - 0s 1ms/step - loss: 1.4541\n",
            "Epoch 36/300\n",
            "181/181 [==============================] - 0s 1ms/step - loss: 1.4325\n",
            "Epoch 37/300\n",
            "181/181 [==============================] - 0s 1ms/step - loss: 1.3707\n",
            "Epoch 38/300\n",
            "181/181 [==============================] - 0s 1ms/step - loss: 1.3177\n",
            "Epoch 39/300\n",
            "181/181 [==============================] - 0s 1ms/step - loss: 1.2661\n",
            "Epoch 40/300\n",
            "181/181 [==============================] - 0s 1ms/step - loss: 1.2758\n",
            "Epoch 41/300\n",
            "181/181 [==============================] - 0s 1ms/step - loss: 1.2100\n",
            "Epoch 42/300\n",
            "181/181 [==============================] - 0s 1ms/step - loss: 1.1852\n",
            "Epoch 43/300\n",
            "181/181 [==============================] - 0s 1ms/step - loss: 1.1524\n",
            "Epoch 44/300\n",
            "181/181 [==============================] - 0s 1ms/step - loss: 1.1144\n",
            "Epoch 45/300\n",
            "181/181 [==============================] - 0s 1ms/step - loss: 1.0857\n",
            "Epoch 46/300\n",
            "181/181 [==============================] - 0s 1ms/step - loss: 1.0468\n",
            "Epoch 47/300\n",
            "181/181 [==============================] - 0s 1ms/step - loss: 1.0305\n",
            "Epoch 48/300\n",
            "181/181 [==============================] - 0s 1ms/step - loss: 1.0028\n",
            "Epoch 49/300\n",
            "181/181 [==============================] - 0s 1ms/step - loss: 0.9975\n",
            "Epoch 50/300\n",
            "181/181 [==============================] - 0s 2ms/step - loss: 0.9503\n",
            "Epoch 51/300\n",
            "181/181 [==============================] - 0s 1ms/step - loss: 0.9331\n",
            "Epoch 52/300\n",
            "181/181 [==============================] - 0s 1ms/step - loss: 0.8927\n",
            "Epoch 53/300\n",
            "181/181 [==============================] - 0s 1ms/step - loss: 0.8771\n",
            "Epoch 54/300\n",
            "181/181 [==============================] - 0s 1ms/step - loss: 0.8646\n",
            "Epoch 55/300\n",
            "181/181 [==============================] - 0s 2ms/step - loss: 0.8401\n",
            "Epoch 56/300\n",
            "181/181 [==============================] - 0s 1ms/step - loss: 0.8258\n",
            "Epoch 57/300\n",
            "181/181 [==============================] - 0s 1ms/step - loss: 0.8157\n",
            "Epoch 58/300\n",
            "181/181 [==============================] - 0s 1ms/step - loss: 0.7886\n",
            "Epoch 59/300\n",
            "181/181 [==============================] - 0s 1ms/step - loss: 0.7640\n",
            "Epoch 60/300\n",
            "181/181 [==============================] - 0s 1ms/step - loss: 0.7565\n",
            "Epoch 61/300\n",
            "181/181 [==============================] - 0s 2ms/step - loss: 0.7235\n",
            "Epoch 62/300\n",
            "181/181 [==============================] - 0s 1ms/step - loss: 0.7271\n",
            "Epoch 63/300\n",
            "181/181 [==============================] - 0s 1ms/step - loss: 0.7300\n",
            "Epoch 64/300\n",
            "181/181 [==============================] - 0s 1ms/step - loss: 0.6886\n",
            "Epoch 65/300\n",
            "181/181 [==============================] - 0s 1ms/step - loss: 0.6720\n",
            "Epoch 66/300\n",
            "181/181 [==============================] - 0s 2ms/step - loss: 0.6779\n",
            "Epoch 67/300\n",
            "181/181 [==============================] - 0s 1ms/step - loss: 0.6634\n",
            "Epoch 68/300\n",
            "181/181 [==============================] - 0s 1ms/step - loss: 0.6126\n",
            "Epoch 69/300\n",
            "181/181 [==============================] - 0s 1ms/step - loss: 0.6188\n",
            "Epoch 70/300\n",
            "181/181 [==============================] - 0s 1ms/step - loss: 0.6081\n",
            "Epoch 71/300\n",
            "181/181 [==============================] - 0s 1ms/step - loss: 0.5871\n",
            "Epoch 72/300\n",
            "181/181 [==============================] - 0s 1ms/step - loss: 0.5764\n",
            "Epoch 73/300\n",
            "181/181 [==============================] - 0s 1ms/step - loss: 0.5912\n",
            "Epoch 74/300\n",
            "181/181 [==============================] - 0s 1ms/step - loss: 0.5565\n",
            "Epoch 75/300\n",
            "181/181 [==============================] - 0s 1ms/step - loss: 0.5395\n",
            "Epoch 76/300\n",
            "181/181 [==============================] - 0s 1ms/step - loss: 0.5253\n",
            "Epoch 77/300\n",
            "181/181 [==============================] - 0s 2ms/step - loss: 0.5332\n",
            "Epoch 78/300\n",
            "181/181 [==============================] - 0s 2ms/step - loss: 0.5082\n",
            "Epoch 79/300\n",
            "181/181 [==============================] - 0s 1ms/step - loss: 0.4961\n",
            "Epoch 80/300\n",
            "181/181 [==============================] - 0s 1ms/step - loss: 0.4903\n",
            "Epoch 81/300\n",
            "181/181 [==============================] - 0s 1ms/step - loss: 0.4986\n",
            "Epoch 82/300\n",
            "181/181 [==============================] - 0s 1ms/step - loss: 0.4809\n",
            "Epoch 83/300\n",
            "181/181 [==============================] - 0s 1ms/step - loss: 0.4628\n",
            "Epoch 84/300\n",
            "181/181 [==============================] - 0s 2ms/step - loss: 0.4710\n",
            "Epoch 85/300\n",
            "181/181 [==============================] - 0s 1ms/step - loss: 0.4574\n",
            "Epoch 86/300\n",
            "181/181 [==============================] - 0s 1ms/step - loss: 0.4305\n",
            "Epoch 87/300\n",
            "181/181 [==============================] - 0s 2ms/step - loss: 0.4441\n",
            "Epoch 88/300\n",
            "181/181 [==============================] - 0s 1ms/step - loss: 0.4319\n",
            "Epoch 89/300\n",
            "181/181 [==============================] - 0s 1ms/step - loss: 0.4198\n",
            "Epoch 90/300\n",
            "181/181 [==============================] - 0s 1ms/step - loss: 0.3997\n",
            "Epoch 91/300\n",
            "181/181 [==============================] - 0s 1ms/step - loss: 0.4059\n",
            "Epoch 92/300\n",
            "181/181 [==============================] - 0s 1ms/step - loss: 0.3954\n",
            "Epoch 93/300\n",
            "181/181 [==============================] - 0s 1ms/step - loss: 0.3898\n",
            "Epoch 94/300\n",
            "181/181 [==============================] - 0s 2ms/step - loss: 0.3775\n",
            "Epoch 95/300\n",
            "181/181 [==============================] - 0s 1ms/step - loss: 0.3840\n",
            "Epoch 96/300\n",
            "181/181 [==============================] - 0s 1ms/step - loss: 0.3696\n",
            "Epoch 97/300\n",
            "181/181 [==============================] - 0s 1ms/step - loss: 0.3548\n",
            "Epoch 98/300\n",
            "181/181 [==============================] - 0s 1ms/step - loss: 0.3503\n",
            "Epoch 99/300\n",
            "181/181 [==============================] - 0s 1ms/step - loss: 0.3499\n",
            "Epoch 100/300\n",
            "181/181 [==============================] - 0s 2ms/step - loss: 0.3445\n",
            "Epoch 101/300\n",
            "181/181 [==============================] - 0s 1ms/step - loss: 0.3386\n",
            "Epoch 102/300\n",
            "181/181 [==============================] - 0s 1ms/step - loss: 0.3356\n",
            "Epoch 103/300\n",
            "181/181 [==============================] - 0s 1ms/step - loss: 0.3271\n",
            "Epoch 104/300\n",
            "181/181 [==============================] - 0s 2ms/step - loss: 0.3203\n",
            "Epoch 105/300\n",
            "181/181 [==============================] - 0s 1ms/step - loss: 0.3194\n",
            "Epoch 106/300\n",
            "181/181 [==============================] - 0s 2ms/step - loss: 0.3101\n",
            "Epoch 107/300\n",
            "181/181 [==============================] - 0s 2ms/step - loss: 0.3109\n",
            "Epoch 108/300\n",
            "181/181 [==============================] - 0s 1ms/step - loss: 0.2982\n",
            "Epoch 109/300\n",
            "181/181 [==============================] - 0s 1ms/step - loss: 0.3019\n",
            "Epoch 110/300\n",
            "181/181 [==============================] - 0s 1ms/step - loss: 0.2985\n",
            "Epoch 111/300\n",
            "181/181 [==============================] - 0s 1ms/step - loss: 0.2888\n",
            "Epoch 112/300\n",
            "181/181 [==============================] - 0s 1ms/step - loss: 0.2879\n",
            "Epoch 113/300\n",
            "181/181 [==============================] - 0s 1ms/step - loss: 0.2861\n",
            "Epoch 114/300\n",
            "181/181 [==============================] - 0s 1ms/step - loss: 0.2761\n",
            "Epoch 115/300\n",
            "181/181 [==============================] - 0s 2ms/step - loss: 0.2708\n",
            "Epoch 116/300\n",
            "181/181 [==============================] - 0s 1ms/step - loss: 0.2717\n",
            "Epoch 117/300\n",
            "181/181 [==============================] - 0s 1ms/step - loss: 0.2628\n",
            "Epoch 118/300\n",
            "181/181 [==============================] - 0s 1ms/step - loss: 0.2671\n",
            "Epoch 119/300\n",
            "181/181 [==============================] - 0s 1ms/step - loss: 0.2603\n",
            "Epoch 120/300\n",
            "181/181 [==============================] - 0s 1ms/step - loss: 0.2574\n",
            "Epoch 121/300\n",
            "181/181 [==============================] - 0s 1ms/step - loss: 0.2525\n",
            "Epoch 122/300\n",
            "181/181 [==============================] - 0s 1ms/step - loss: 0.2490\n",
            "Epoch 123/300\n",
            "181/181 [==============================] - 0s 1ms/step - loss: 0.2468\n",
            "Epoch 124/300\n",
            "181/181 [==============================] - 0s 1ms/step - loss: 0.2433\n",
            "Epoch 125/300\n",
            "181/181 [==============================] - 0s 1ms/step - loss: 0.2419\n",
            "Epoch 126/300\n",
            "181/181 [==============================] - 0s 1ms/step - loss: 0.2436\n",
            "Epoch 127/300\n",
            "181/181 [==============================] - 0s 1ms/step - loss: 0.2388\n",
            "Epoch 128/300\n",
            "181/181 [==============================] - 0s 1ms/step - loss: 0.2426\n",
            "Epoch 129/300\n",
            "181/181 [==============================] - 0s 1ms/step - loss: 0.2347\n",
            "Epoch 130/300\n",
            "181/181 [==============================] - 0s 1ms/step - loss: 0.2352\n",
            "Epoch 131/300\n",
            "181/181 [==============================] - 0s 1ms/step - loss: 0.2268\n",
            "Epoch 132/300\n",
            "181/181 [==============================] - 0s 1ms/step - loss: 0.2279\n",
            "Epoch 133/300\n",
            "181/181 [==============================] - 0s 2ms/step - loss: 0.2240\n",
            "Epoch 134/300\n",
            "181/181 [==============================] - 0s 1ms/step - loss: 0.2221\n",
            "Epoch 135/300\n",
            "181/181 [==============================] - 0s 2ms/step - loss: 0.2209\n",
            "Epoch 136/300\n",
            "181/181 [==============================] - 0s 1ms/step - loss: 0.2153\n",
            "Epoch 137/300\n",
            "181/181 [==============================] - 0s 1ms/step - loss: 0.2160\n",
            "Epoch 138/300\n",
            "181/181 [==============================] - 0s 1ms/step - loss: 0.2112\n",
            "Epoch 139/300\n",
            "181/181 [==============================] - 0s 1ms/step - loss: 0.2091\n",
            "Epoch 140/300\n",
            "181/181 [==============================] - 0s 1ms/step - loss: 0.2085\n",
            "Epoch 141/300\n",
            "181/181 [==============================] - 0s 1ms/step - loss: 0.2078\n",
            "Epoch 142/300\n",
            "181/181 [==============================] - 0s 1ms/step - loss: 0.2103\n",
            "Epoch 143/300\n",
            "181/181 [==============================] - 0s 1ms/step - loss: 0.2005\n",
            "Epoch 144/300\n",
            "181/181 [==============================] - 0s 2ms/step - loss: 0.2026\n",
            "Epoch 145/300\n",
            "181/181 [==============================] - 0s 1ms/step - loss: 0.1992\n",
            "Epoch 146/300\n",
            "181/181 [==============================] - 0s 1ms/step - loss: 0.1985\n",
            "Epoch 147/300\n",
            "181/181 [==============================] - 0s 1ms/step - loss: 0.2017\n",
            "Epoch 148/300\n",
            "181/181 [==============================] - 0s 1ms/step - loss: 0.1987\n",
            "Epoch 149/300\n",
            "181/181 [==============================] - 0s 2ms/step - loss: 0.1965\n",
            "Epoch 150/300\n",
            "181/181 [==============================] - 0s 1ms/step - loss: 0.1978\n",
            "Epoch 151/300\n",
            "181/181 [==============================] - 0s 1ms/step - loss: 0.1976\n",
            "Epoch 152/300\n",
            "181/181 [==============================] - 0s 1ms/step - loss: 0.1937\n",
            "Epoch 153/300\n",
            "181/181 [==============================] - 0s 1ms/step - loss: 0.1904\n",
            "Epoch 154/300\n",
            "181/181 [==============================] - 0s 1ms/step - loss: 0.1975\n",
            "Epoch 155/300\n",
            "181/181 [==============================] - 0s 1ms/step - loss: 0.1931\n",
            "Epoch 156/300\n",
            "181/181 [==============================] - 0s 1ms/step - loss: 0.1901\n",
            "Epoch 157/300\n",
            "181/181 [==============================] - 0s 1ms/step - loss: 0.1941\n",
            "Epoch 158/300\n",
            "181/181 [==============================] - 0s 1ms/step - loss: 0.1928\n",
            "Epoch 159/300\n",
            "181/181 [==============================] - 0s 1ms/step - loss: 0.1896\n",
            "Epoch 160/300\n",
            "181/181 [==============================] - 0s 1ms/step - loss: 0.1896\n",
            "Epoch 161/300\n",
            "181/181 [==============================] - 0s 2ms/step - loss: 0.1904\n",
            "Epoch 162/300\n",
            "181/181 [==============================] - 0s 1ms/step - loss: 0.1920\n",
            "Epoch 163/300\n",
            "181/181 [==============================] - 0s 1ms/step - loss: 0.1897\n",
            "Epoch 164/300\n",
            "181/181 [==============================] - 0s 1ms/step - loss: 0.1912\n",
            "Epoch 165/300\n",
            "181/181 [==============================] - 0s 1ms/step - loss: 0.1894\n",
            "Epoch 166/300\n",
            "181/181 [==============================] - 0s 2ms/step - loss: 0.1883\n",
            "Epoch 167/300\n",
            "181/181 [==============================] - 0s 2ms/step - loss: 0.1901\n",
            "Epoch 168/300\n",
            "181/181 [==============================] - 0s 2ms/step - loss: 0.1908\n",
            "Epoch 169/300\n",
            "181/181 [==============================] - 0s 2ms/step - loss: 0.1877\n",
            "Epoch 170/300\n",
            "181/181 [==============================] - 0s 2ms/step - loss: 0.1870\n",
            "Epoch 171/300\n",
            "181/181 [==============================] - 0s 1ms/step - loss: 0.1871\n",
            "Epoch 172/300\n",
            "181/181 [==============================] - 0s 1ms/step - loss: 0.1882\n",
            "Epoch 173/300\n",
            "181/181 [==============================] - 0s 2ms/step - loss: 0.1864\n",
            "Epoch 174/300\n",
            "181/181 [==============================] - 0s 2ms/step - loss: 0.1853\n",
            "Epoch 175/300\n",
            "181/181 [==============================] - 0s 2ms/step - loss: 0.1884\n",
            "Epoch 176/300\n",
            "181/181 [==============================] - 0s 2ms/step - loss: 0.1876\n",
            "Epoch 177/300\n",
            "181/181 [==============================] - 0s 2ms/step - loss: 0.1841\n",
            "Epoch 178/300\n",
            "181/181 [==============================] - 0s 2ms/step - loss: 0.1856\n",
            "Epoch 179/300\n",
            "181/181 [==============================] - 0s 2ms/step - loss: 0.1878\n",
            "Epoch 180/300\n",
            "181/181 [==============================] - 0s 2ms/step - loss: 0.1880\n",
            "Epoch 181/300\n",
            "181/181 [==============================] - 0s 2ms/step - loss: 0.1881\n",
            "Epoch 182/300\n",
            "181/181 [==============================] - 0s 2ms/step - loss: 0.1878\n",
            "Epoch 183/300\n",
            "181/181 [==============================] - 0s 2ms/step - loss: 0.1881\n",
            "Epoch 184/300\n",
            "181/181 [==============================] - 0s 2ms/step - loss: 0.1852\n",
            "Epoch 185/300\n",
            "181/181 [==============================] - 0s 1ms/step - loss: 0.1842\n",
            "Epoch 186/300\n",
            "181/181 [==============================] - 0s 2ms/step - loss: 0.1877\n",
            "Epoch 187/300\n",
            "181/181 [==============================] - 0s 2ms/step - loss: 0.1846\n",
            "Epoch 188/300\n",
            "181/181 [==============================] - 0s 2ms/step - loss: 0.1869\n",
            "Epoch 189/300\n",
            "181/181 [==============================] - 0s 2ms/step - loss: 0.1894\n",
            "Epoch 190/300\n",
            "181/181 [==============================] - 0s 2ms/step - loss: 0.1841\n",
            "Epoch 191/300\n",
            "181/181 [==============================] - 0s 2ms/step - loss: 0.1847\n",
            "Epoch 192/300\n",
            "181/181 [==============================] - 0s 2ms/step - loss: 0.1875\n",
            "Epoch 193/300\n",
            "181/181 [==============================] - 0s 2ms/step - loss: 0.1867\n",
            "Epoch 194/300\n",
            "181/181 [==============================] - 0s 2ms/step - loss: 0.1862\n",
            "Epoch 195/300\n",
            "181/181 [==============================] - 0s 2ms/step - loss: 0.1864\n",
            "Epoch 196/300\n",
            "181/181 [==============================] - 0s 2ms/step - loss: 0.1827\n",
            "Epoch 197/300\n",
            "181/181 [==============================] - 0s 2ms/step - loss: 0.1831\n",
            "Epoch 198/300\n",
            "181/181 [==============================] - 0s 2ms/step - loss: 0.1839\n",
            "Epoch 199/300\n",
            "181/181 [==============================] - 0s 2ms/step - loss: 0.1876\n",
            "Epoch 200/300\n",
            "181/181 [==============================] - 0s 2ms/step - loss: 0.1849\n",
            "Epoch 201/300\n",
            "181/181 [==============================] - 0s 2ms/step - loss: 0.1845\n",
            "Epoch 202/300\n",
            "181/181 [==============================] - 0s 2ms/step - loss: 0.1882\n",
            "Epoch 203/300\n",
            "181/181 [==============================] - 0s 2ms/step - loss: 0.1833\n",
            "Epoch 204/300\n",
            "181/181 [==============================] - 0s 2ms/step - loss: 0.1877\n",
            "Epoch 205/300\n",
            "181/181 [==============================] - 0s 2ms/step - loss: 0.1860\n",
            "Epoch 206/300\n",
            "181/181 [==============================] - 0s 2ms/step - loss: 0.1856\n",
            "Epoch 207/300\n",
            "181/181 [==============================] - 0s 2ms/step - loss: 0.1865\n",
            "Epoch 208/300\n",
            "181/181 [==============================] - 0s 2ms/step - loss: 0.1851\n",
            "Epoch 209/300\n",
            "181/181 [==============================] - 0s 1ms/step - loss: 0.1853\n",
            "Epoch 210/300\n",
            "181/181 [==============================] - 0s 1ms/step - loss: 0.1859\n",
            "Epoch 211/300\n",
            "181/181 [==============================] - 0s 1ms/step - loss: 0.1877\n",
            "Epoch 212/300\n",
            "181/181 [==============================] - 0s 1ms/step - loss: 0.1862\n",
            "Epoch 213/300\n",
            "181/181 [==============================] - 0s 1ms/step - loss: 0.1838\n",
            "Epoch 214/300\n",
            "181/181 [==============================] - 0s 1ms/step - loss: 0.1863\n",
            "Epoch 215/300\n",
            "181/181 [==============================] - 0s 2ms/step - loss: 0.1870\n",
            "Epoch 216/300\n",
            "181/181 [==============================] - 0s 2ms/step - loss: 0.1872\n",
            "Epoch 217/300\n",
            "181/181 [==============================] - 0s 1ms/step - loss: 0.1843\n",
            "Epoch 218/300\n",
            "181/181 [==============================] - 0s 1ms/step - loss: 0.1845\n",
            "Epoch 219/300\n",
            "181/181 [==============================] - 0s 1ms/step - loss: 0.1851\n",
            "Epoch 220/300\n",
            "181/181 [==============================] - 0s 2ms/step - loss: 0.1821\n",
            "Epoch 221/300\n",
            "181/181 [==============================] - 0s 1ms/step - loss: 0.1828\n",
            "Epoch 222/300\n",
            "181/181 [==============================] - 0s 2ms/step - loss: 0.1851\n",
            "Epoch 223/300\n",
            "181/181 [==============================] - 0s 2ms/step - loss: 0.1826\n",
            "Epoch 224/300\n",
            "181/181 [==============================] - 0s 2ms/step - loss: 0.1830\n",
            "Epoch 225/300\n",
            "181/181 [==============================] - 0s 1ms/step - loss: 0.1848\n",
            "Epoch 226/300\n",
            "181/181 [==============================] - 0s 1ms/step - loss: 0.1843\n",
            "Epoch 227/300\n",
            "181/181 [==============================] - 0s 1ms/step - loss: 0.1831\n",
            "Epoch 228/300\n",
            "181/181 [==============================] - 0s 1ms/step - loss: 0.1882\n",
            "Epoch 229/300\n",
            "181/181 [==============================] - 0s 1ms/step - loss: 0.1862\n",
            "Epoch 230/300\n",
            "181/181 [==============================] - 0s 1ms/step - loss: 0.1840\n",
            "Epoch 231/300\n",
            "181/181 [==============================] - 0s 2ms/step - loss: 0.1849\n",
            "Epoch 232/300\n",
            "181/181 [==============================] - 0s 1ms/step - loss: 0.1836\n",
            "Epoch 233/300\n",
            "181/181 [==============================] - 0s 2ms/step - loss: 0.1859\n",
            "Epoch 234/300\n",
            "181/181 [==============================] - 0s 1ms/step - loss: 0.1836\n",
            "Epoch 235/300\n",
            "181/181 [==============================] - 0s 1ms/step - loss: 0.1835\n",
            "Epoch 236/300\n",
            "181/181 [==============================] - 0s 2ms/step - loss: 0.1854\n",
            "Epoch 237/300\n",
            "181/181 [==============================] - 0s 1ms/step - loss: 0.1854\n",
            "Epoch 238/300\n",
            "181/181 [==============================] - 0s 1ms/step - loss: 0.1810\n",
            "Epoch 239/300\n",
            "181/181 [==============================] - 0s 1ms/step - loss: 0.1831\n",
            "Epoch 240/300\n",
            "181/181 [==============================] - 0s 1ms/step - loss: 0.1826\n",
            "Epoch 241/300\n",
            "181/181 [==============================] - 0s 1ms/step - loss: 0.1814\n",
            "Epoch 242/300\n",
            "181/181 [==============================] - 0s 2ms/step - loss: 0.1794\n",
            "Epoch 243/300\n",
            "181/181 [==============================] - 0s 2ms/step - loss: 0.1830\n",
            "Epoch 244/300\n",
            "181/181 [==============================] - 0s 1ms/step - loss: 0.1842\n",
            "Epoch 245/300\n",
            "181/181 [==============================] - 0s 2ms/step - loss: 0.1832\n",
            "Epoch 246/300\n",
            "181/181 [==============================] - 0s 1ms/step - loss: 0.1823\n",
            "Epoch 247/300\n",
            "181/181 [==============================] - 0s 2ms/step - loss: 0.1839\n",
            "Epoch 248/300\n",
            "181/181 [==============================] - 0s 1ms/step - loss: 0.1812\n",
            "Epoch 249/300\n",
            "181/181 [==============================] - 0s 1ms/step - loss: 0.1835\n",
            "Epoch 250/300\n",
            "181/181 [==============================] - 0s 1ms/step - loss: 0.1818\n",
            "Epoch 251/300\n",
            "181/181 [==============================] - 0s 1ms/step - loss: 0.1819\n",
            "Epoch 252/300\n",
            "181/181 [==============================] - 0s 1ms/step - loss: 0.1838\n",
            "Epoch 253/300\n",
            "181/181 [==============================] - 0s 1ms/step - loss: 0.1837\n",
            "Epoch 254/300\n",
            "181/181 [==============================] - 0s 2ms/step - loss: 0.1830\n",
            "Epoch 255/300\n",
            "181/181 [==============================] - 0s 1ms/step - loss: 0.1850\n",
            "Epoch 256/300\n",
            "181/181 [==============================] - 0s 1ms/step - loss: 0.1838\n",
            "Epoch 257/300\n",
            "181/181 [==============================] - 0s 1ms/step - loss: 0.1839\n",
            "Epoch 258/300\n",
            "181/181 [==============================] - 0s 1ms/step - loss: 0.1827\n",
            "Epoch 259/300\n",
            "181/181 [==============================] - 0s 1ms/step - loss: 0.1823\n",
            "Epoch 260/300\n",
            "181/181 [==============================] - 0s 1ms/step - loss: 0.1807\n",
            "Epoch 261/300\n",
            "181/181 [==============================] - 0s 1ms/step - loss: 0.1832\n",
            "Epoch 262/300\n",
            "181/181 [==============================] - 0s 2ms/step - loss: 0.1825\n",
            "Epoch 263/300\n",
            "181/181 [==============================] - 0s 2ms/step - loss: 0.1813\n",
            "Epoch 264/300\n",
            "181/181 [==============================] - 0s 1ms/step - loss: 0.1822\n",
            "Epoch 265/300\n",
            "181/181 [==============================] - 0s 2ms/step - loss: 0.1832\n",
            "Epoch 266/300\n",
            "181/181 [==============================] - 0s 1ms/step - loss: 0.1851\n",
            "Epoch 267/300\n",
            "181/181 [==============================] - 0s 1ms/step - loss: 0.1844\n",
            "Epoch 268/300\n",
            "181/181 [==============================] - 0s 1ms/step - loss: 0.1820\n",
            "Epoch 269/300\n",
            "181/181 [==============================] - 0s 1ms/step - loss: 0.1838\n",
            "Epoch 270/300\n",
            "181/181 [==============================] - 0s 1ms/step - loss: 0.1808\n",
            "Epoch 271/300\n",
            "181/181 [==============================] - 0s 1ms/step - loss: 0.1828\n",
            "Epoch 272/300\n",
            "181/181 [==============================] - 0s 1ms/step - loss: 0.1839\n",
            "Epoch 273/300\n",
            "181/181 [==============================] - 0s 2ms/step - loss: 0.1837\n",
            "Epoch 274/300\n",
            "181/181 [==============================] - 0s 2ms/step - loss: 0.1856\n",
            "Epoch 275/300\n",
            "181/181 [==============================] - 0s 1ms/step - loss: 0.1805\n",
            "Epoch 276/300\n",
            "181/181 [==============================] - 0s 1ms/step - loss: 0.1822\n",
            "Epoch 277/300\n",
            "181/181 [==============================] - 0s 2ms/step - loss: 0.1831\n",
            "Epoch 278/300\n",
            "181/181 [==============================] - 0s 1ms/step - loss: 0.1844\n",
            "Epoch 279/300\n",
            "181/181 [==============================] - 0s 1ms/step - loss: 0.1792\n",
            "Epoch 280/300\n",
            "181/181 [==============================] - 0s 1ms/step - loss: 0.1821\n",
            "Epoch 281/300\n",
            "181/181 [==============================] - 0s 2ms/step - loss: 0.1811\n",
            "Epoch 282/300\n",
            "181/181 [==============================] - 0s 2ms/step - loss: 0.1838\n",
            "Epoch 283/300\n",
            "181/181 [==============================] - 0s 1ms/step - loss: 0.1826\n",
            "Epoch 284/300\n",
            "181/181 [==============================] - 0s 2ms/step - loss: 0.1834\n",
            "Epoch 285/300\n",
            "181/181 [==============================] - 0s 1ms/step - loss: 0.1828\n",
            "Epoch 286/300\n",
            "181/181 [==============================] - 0s 1ms/step - loss: 0.1853\n",
            "Epoch 287/300\n",
            "181/181 [==============================] - 0s 1ms/step - loss: 0.1808\n",
            "Epoch 288/300\n",
            "181/181 [==============================] - 0s 1ms/step - loss: 0.1840\n",
            "Epoch 289/300\n",
            "181/181 [==============================] - 0s 1ms/step - loss: 0.1848\n",
            "Epoch 290/300\n",
            "181/181 [==============================] - 0s 1ms/step - loss: 0.1817\n",
            "Epoch 291/300\n",
            "181/181 [==============================] - 0s 1ms/step - loss: 0.1809\n",
            "Epoch 292/300\n",
            "181/181 [==============================] - 0s 2ms/step - loss: 0.1819\n",
            "Epoch 293/300\n",
            "181/181 [==============================] - 0s 1ms/step - loss: 0.1826\n",
            "Epoch 294/300\n",
            "181/181 [==============================] - 0s 1ms/step - loss: 0.1835\n",
            "Epoch 295/300\n",
            "181/181 [==============================] - 0s 1ms/step - loss: 0.1846\n",
            "Epoch 296/300\n",
            "181/181 [==============================] - 0s 1ms/step - loss: 0.1802\n",
            "Epoch 297/300\n",
            "181/181 [==============================] - 0s 2ms/step - loss: 0.1812\n",
            "Epoch 298/300\n",
            "181/181 [==============================] - 0s 1ms/step - loss: 0.1834\n",
            "Epoch 299/300\n",
            "181/181 [==============================] - 0s 1ms/step - loss: 0.1860\n",
            "Epoch 300/300\n",
            "181/181 [==============================] - 0s 1ms/step - loss: 0.1794\n"
          ],
          "name": "stdout"
        }
      ]
    },
    {
      "cell_type": "code",
      "metadata": {
        "id": "VrtSQrU5mYTL",
        "outputId": "1b9ffb68-0e7b-4782-da20-1601b9b4753e",
        "colab": {
          "base_uri": "https://localhost:8080/",
          "height": 34
        }
      },
      "source": [
        "X_train.shape"
      ],
      "execution_count": 38,
      "outputs": [
        {
          "output_type": "execute_result",
          "data": {
            "text/plain": [
              "(64980, 8)"
            ]
          },
          "metadata": {
            "tags": []
          },
          "execution_count": 38
        }
      ]
    },
    {
      "cell_type": "code",
      "metadata": {
        "id": "rM3Ia1E2mZ_Y"
      },
      "source": [
        "X_train=X_train.reshape(64980,1,8)"
      ],
      "execution_count": 39,
      "outputs": []
    },
    {
      "cell_type": "code",
      "metadata": {
        "id": "ElQgIn2XmeIR",
        "outputId": "b1dda9f1-739b-46b4-d7aa-5ea128badb1c",
        "colab": {
          "base_uri": "https://localhost:8080/",
          "height": 34
        }
      },
      "source": [
        "y_train.shape"
      ],
      "execution_count": 40,
      "outputs": [
        {
          "output_type": "execute_result",
          "data": {
            "text/plain": [
              "(64980, 4)"
            ]
          },
          "metadata": {
            "tags": []
          },
          "execution_count": 40
        }
      ]
    },
    {
      "cell_type": "code",
      "metadata": {
        "id": "UloF-Ynhmf1u"
      },
      "source": [
        "y_train=y_train.reshape(64980,1,4)"
      ],
      "execution_count": 41,
      "outputs": []
    },
    {
      "cell_type": "code",
      "metadata": {
        "id": "QC2I1mBVmlQ5"
      },
      "source": [
        "x_val=x_val.reshape(10000,1,8)"
      ],
      "execution_count": 42,
      "outputs": []
    },
    {
      "cell_type": "code",
      "metadata": {
        "id": "I752gKHlmtPw"
      },
      "source": [
        "y_val=y_val.reshape(10000,1,4)"
      ],
      "execution_count": 43,
      "outputs": []
    },
    {
      "cell_type": "code",
      "metadata": {
        "id": "4bWyGYKD1xDb",
        "outputId": "823c8c12-1add-48dd-a5a8-0d282fa9e7ed",
        "colab": {
          "base_uri": "https://localhost:8080/",
          "height": 1000
        }
      },
      "source": [
        "from keras.callbacks import TensorBoard, EarlyStopping\n",
        "\n",
        "es =EarlyStopping(\n",
        "    monitor=\"val_loss\",\n",
        "    min_delta=0.001,\n",
        "    patience=50,\n",
        "    verbose=0,\n",
        "    mode=\"auto\",\n",
        "    baseline=None,\n",
        "    restore_best_weights=True,\n",
        ")\n",
        "history=autoencoder.fit(X_train, y_train,\n",
        "                epochs=1500,\n",
        "                batch_size=32,\n",
        "                shuffle=True,\n",
        "                validation_data=(x_val, y_val), \n",
        "                callbacks= [es], verbose=1)\n",
        "\n",
        "# callback = tf.keras.callbacks.EarlyStopping(monitor='loss', patience=3)\n",
        "#Early Stopping.. Can be a wise option to observe\n",
        "#tf.keras.callbacks.EarlyStopping(\n",
        "   # monitor='val_loss', min_delta=0, patience=0, verbose=0, mode='auto',\n",
        "  #  baseline=None, restore_best_weights=False\n",
        "#)"
      ],
      "execution_count": null,
      "outputs": [
        {
          "output_type": "stream",
          "text": [
            "Epoch 1/1500\n",
            "2031/2031 [==============================] - 4s 2ms/step - loss: 5.4524 - val_loss: 2.4287\n",
            "Epoch 2/1500\n",
            "2031/2031 [==============================] - 3s 2ms/step - loss: 3.2803 - val_loss: 1.2816\n",
            "Epoch 3/1500\n",
            "2031/2031 [==============================] - 3s 2ms/step - loss: 2.2842 - val_loss: 0.6785\n",
            "Epoch 4/1500\n",
            "2031/2031 [==============================] - 3s 2ms/step - loss: 1.7904 - val_loss: 0.4419\n",
            "Epoch 5/1500\n",
            "2031/2031 [==============================] - 4s 2ms/step - loss: 1.4378 - val_loss: 0.2980\n",
            "Epoch 6/1500\n",
            "2031/2031 [==============================] - 3s 2ms/step - loss: 1.2373 - val_loss: 0.2192\n",
            "Epoch 7/1500\n",
            "2031/2031 [==============================] - 4s 2ms/step - loss: 0.9914 - val_loss: 0.1540\n",
            "Epoch 8/1500\n",
            "2031/2031 [==============================] - 3s 2ms/step - loss: 0.8444 - val_loss: 0.1085\n",
            "Epoch 9/1500\n",
            "2031/2031 [==============================] - 3s 2ms/step - loss: 0.7238 - val_loss: 0.0724\n",
            "Epoch 10/1500\n",
            "2031/2031 [==============================] - 3s 2ms/step - loss: 0.5645 - val_loss: 0.0516\n",
            "Epoch 11/1500\n",
            "2031/2031 [==============================] - 3s 2ms/step - loss: 0.5436 - val_loss: 0.0366\n",
            "Epoch 12/1500\n",
            "2031/2031 [==============================] - 3s 2ms/step - loss: 0.4448 - val_loss: 0.0234\n",
            "Epoch 13/1500\n",
            "2031/2031 [==============================] - 3s 2ms/step - loss: 0.3778 - val_loss: 0.0179\n",
            "Epoch 14/1500\n",
            "2031/2031 [==============================] - 3s 2ms/step - loss: 0.3675 - val_loss: 0.0168\n",
            "Epoch 15/1500\n",
            "2031/2031 [==============================] - 3s 2ms/step - loss: 0.3357 - val_loss: 0.0174\n",
            "Epoch 16/1500\n",
            "2031/2031 [==============================] - 3s 2ms/step - loss: 0.3414 - val_loss: 0.0186\n",
            "Epoch 17/1500\n",
            "2031/2031 [==============================] - 3s 2ms/step - loss: 0.3692 - val_loss: 0.0218\n",
            "Epoch 18/1500\n",
            "2031/2031 [==============================] - 3s 2ms/step - loss: 0.3314 - val_loss: 0.0228\n",
            "Epoch 19/1500\n",
            "2031/2031 [==============================] - 3s 2ms/step - loss: 0.3791 - val_loss: 0.0238\n",
            "Epoch 20/1500\n",
            "2031/2031 [==============================] - 3s 2ms/step - loss: 0.3331 - val_loss: 0.0237\n",
            "Epoch 21/1500\n",
            "2031/2031 [==============================] - 5s 2ms/step - loss: 0.3268 - val_loss: 0.0240\n",
            "Epoch 22/1500\n",
            "2031/2031 [==============================] - 5s 3ms/step - loss: 0.3818 - val_loss: 0.0240\n",
            "Epoch 23/1500\n",
            "2031/2031 [==============================] - 3s 2ms/step - loss: 0.3226 - val_loss: 0.0235\n",
            "Epoch 24/1500\n",
            "2031/2031 [==============================] - 3s 2ms/step - loss: 0.3623 - val_loss: 0.0237\n",
            "Epoch 25/1500\n",
            "2031/2031 [==============================] - 3s 2ms/step - loss: 0.3301 - val_loss: 0.0235\n",
            "Epoch 26/1500\n",
            "2031/2031 [==============================] - 3s 2ms/step - loss: 0.3563 - val_loss: 0.0235\n",
            "Epoch 27/1500\n",
            "2031/2031 [==============================] - 3s 2ms/step - loss: 0.3173 - val_loss: 0.0235\n",
            "Epoch 28/1500\n",
            "2031/2031 [==============================] - 3s 2ms/step - loss: 0.3160 - val_loss: 0.0249\n",
            "Epoch 29/1500\n",
            "2031/2031 [==============================] - 3s 2ms/step - loss: 0.3376 - val_loss: 0.0234\n",
            "Epoch 30/1500\n",
            "2031/2031 [==============================] - 3s 2ms/step - loss: 0.3291 - val_loss: 0.0230\n",
            "Epoch 31/1500\n",
            "2031/2031 [==============================] - 3s 2ms/step - loss: 0.3321 - val_loss: 0.0233\n",
            "Epoch 32/1500\n",
            "2031/2031 [==============================] - 3s 2ms/step - loss: 0.3467 - val_loss: 0.0231\n",
            "Epoch 33/1500\n",
            "2031/2031 [==============================] - 3s 2ms/step - loss: 0.2967 - val_loss: 0.0229\n",
            "Epoch 34/1500\n",
            "2031/2031 [==============================] - 3s 2ms/step - loss: 0.3216 - val_loss: 0.0228\n",
            "Epoch 35/1500\n",
            "2031/2031 [==============================] - 3s 2ms/step - loss: 0.2863 - val_loss: 0.0224\n",
            "Epoch 36/1500\n",
            "2031/2031 [==============================] - 3s 2ms/step - loss: 0.3042 - val_loss: 0.0240\n",
            "Epoch 37/1500\n",
            "2031/2031 [==============================] - 3s 2ms/step - loss: 0.2769 - val_loss: 0.0223\n",
            "Epoch 38/1500\n",
            "2031/2031 [==============================] - 3s 2ms/step - loss: 0.3587 - val_loss: 0.0249\n",
            "Epoch 39/1500\n",
            "2031/2031 [==============================] - 3s 2ms/step - loss: 0.2855 - val_loss: 0.0233\n",
            "Epoch 40/1500\n",
            "2031/2031 [==============================] - 3s 2ms/step - loss: 0.2921 - val_loss: 0.0228\n",
            "Epoch 41/1500\n",
            "2031/2031 [==============================] - 3s 2ms/step - loss: 0.3270 - val_loss: 0.0233\n",
            "Epoch 42/1500\n",
            "2031/2031 [==============================] - 3s 2ms/step - loss: 0.3090 - val_loss: 0.0223\n",
            "Epoch 43/1500\n",
            "2031/2031 [==============================] - 3s 2ms/step - loss: 0.3065 - val_loss: 0.0224\n",
            "Epoch 44/1500\n",
            "2031/2031 [==============================] - 3s 2ms/step - loss: 0.2804 - val_loss: 0.0221\n",
            "Epoch 45/1500\n",
            "2031/2031 [==============================] - 3s 2ms/step - loss: 0.3318 - val_loss: 0.0241\n",
            "Epoch 46/1500\n",
            "2031/2031 [==============================] - 3s 2ms/step - loss: 0.3192 - val_loss: 0.0225\n",
            "Epoch 47/1500\n",
            "2031/2031 [==============================] - 3s 2ms/step - loss: 0.3086 - val_loss: 0.0223\n",
            "Epoch 48/1500\n",
            "2031/2031 [==============================] - 3s 2ms/step - loss: 0.3037 - val_loss: 0.0225\n",
            "Epoch 49/1500\n",
            "2031/2031 [==============================] - 3s 2ms/step - loss: 0.3269 - val_loss: 0.0226\n",
            "Epoch 50/1500\n",
            "2031/2031 [==============================] - 3s 2ms/step - loss: 0.2953 - val_loss: 0.0220\n",
            "Epoch 51/1500\n",
            "2031/2031 [==============================] - 3s 2ms/step - loss: 0.2918 - val_loss: 0.0224\n",
            "Epoch 52/1500\n",
            "2031/2031 [==============================] - 3s 2ms/step - loss: 0.3032 - val_loss: 0.0219\n",
            "Epoch 53/1500\n",
            "2031/2031 [==============================] - 3s 2ms/step - loss: 0.3152 - val_loss: 0.0233\n",
            "Epoch 54/1500\n",
            "2031/2031 [==============================] - 3s 2ms/step - loss: 0.2899 - val_loss: 0.0221\n",
            "Epoch 55/1500\n",
            "2031/2031 [==============================] - 3s 2ms/step - loss: 0.3145 - val_loss: 0.0229\n",
            "Epoch 56/1500\n",
            "2031/2031 [==============================] - 3s 2ms/step - loss: 0.3080 - val_loss: 0.0223\n",
            "Epoch 57/1500\n",
            "2031/2031 [==============================] - 3s 2ms/step - loss: 0.3387 - val_loss: 0.0223\n",
            "Epoch 58/1500\n",
            "2031/2031 [==============================] - 3s 2ms/step - loss: 0.3156 - val_loss: 0.0221\n",
            "Epoch 59/1500\n",
            "2031/2031 [==============================] - 3s 2ms/step - loss: 0.2974 - val_loss: 0.0223\n",
            "Epoch 60/1500\n",
            "2031/2031 [==============================] - 3s 2ms/step - loss: 0.2988 - val_loss: 0.0222\n",
            "Epoch 61/1500\n",
            "2031/2031 [==============================] - 3s 2ms/step - loss: 0.2806 - val_loss: 0.0230\n",
            "Epoch 62/1500\n",
            "2031/2031 [==============================] - 3s 2ms/step - loss: 0.3068 - val_loss: 0.0219\n",
            "Epoch 63/1500\n",
            "2031/2031 [==============================] - 3s 2ms/step - loss: 0.2853 - val_loss: 0.0221\n",
            "Epoch 64/1500\n",
            "2031/2031 [==============================] - 3s 2ms/step - loss: 0.2774 - val_loss: 0.0214\n"
          ],
          "name": "stdout"
        }
      ]
    },
    {
      "cell_type": "code",
      "metadata": {
        "id": "RMtn36iqoFN0",
        "outputId": "ba491957-349d-4295-808e-aaa0a962cbbe",
        "colab": {
          "base_uri": "https://localhost:8080/",
          "height": 312
        }
      },
      "source": [
        "\n",
        "# list all data in history\n",
        "print(history.history.keys())\n",
        "# summarize history for accuracy\n",
        "# History for Dropout 1st layer every layer after the maxpooling, 1e-3 in the first 2 layers and in the third layer, the regularization rate is 1e-01\n",
        "# summarize history for loss\n",
        "plt.plot(history.history['loss'])\n",
        "#plt.plot(history.history['val_loss'])\n",
        "plt.title('model loss_training_and_validating')\n",
        "plt.ylabel('loss')\n",
        "plt.xlabel('epoch')\n",
        "#plt.legend(['train', 'validation'], loc='upper left')\n",
        "plt.show()"
      ],
      "execution_count": 75,
      "outputs": [
        {
          "output_type": "stream",
          "text": [
            "dict_keys(['loss'])\n"
          ],
          "name": "stdout"
        },
        {
          "output_type": "display_data",
          "data": {
            "image/png": "[encoded data removed]",
            "text/plain": [
              "<Figure size 432x288 with 1 Axes>"
            ]
          },
          "metadata": {
            "tags": [],
            "needs_background": "light"
          }
        }
      ]
    },
    {
      "cell_type": "code",
      "metadata": {
        "id": "2IINVVwUuNA8"
      },
      "source": [
        "# Model is trained now, for the value of all the stuff one need to performing more and more implementations"
      ],
      "execution_count": 44,
      "outputs": []
    },
    {
      "cell_type": "code",
      "metadata": {
        "id": "TFS25wdia9QJ"
      },
      "source": [
        "# creating more data set\n",
        "# Here I will try to do the things according to what Walter wanted me to do here."
      ],
      "execution_count": 45,
      "outputs": []
    },
    {
      "cell_type": "code",
      "metadata": {
        "id": "XHroiTIrbms3"
      },
      "source": [
        "# Generating a data set from the available set of resources we have"
      ],
      "execution_count": 46,
      "outputs": []
    },
    {
      "cell_type": "code",
      "metadata": {
        "id": "KLXlcteMcoOH"
      },
      "source": [
        "# 1 Synthetic\n",
        "# 2 Data without Fish\n",
        "# 3 getting the data from the Herman and the Walter test sets, to get better results"
      ],
      "execution_count": 47,
      "outputs": []
    },
    {
      "cell_type": "code",
      "metadata": {
        "id": "F3hBrR0FdLrD"
      },
      "source": [
        "# Fethcing the KALMAN_Herman_1\n",
        "\n",
        "# Working it as a testing data to see what can I get it form "
      ],
      "execution_count": 48,
      "outputs": []
    },
    {
      "cell_type": "code",
      "metadata": {
        "id": "4DjeYkXsvMuC"
      },
      "source": [
        "downloaded_3= drive.CreateFile({'id':'1ngy7C_GNs9BZs30K-QdQGwBDcu6dSABu'})\n",
        "#https://drive.google.com/file/d/1ngy7C_GNs9BZs30K-QdQGwBDcu6dSABu/view?usp=sharing\n",
        "#https://drive.google.com/file/d/1ngy7C_GNs9BZs30K-QdQGwBDcu6dSABu/view?usp=sharing"
      ],
      "execution_count": 49,
      "outputs": []
    },
    {
      "cell_type": "code",
      "metadata": {
        "id": "9CqOBQ3KvnOa",
        "outputId": "9ca0cd80-a66d-43e9-aed8-4b83c70c967d",
        "colab": {
          "base_uri": "https://localhost:8080/",
          "height": 402
        }
      },
      "source": [
        "downloaded_3.GetContentFile('Kalman_Herman_1.csv')\n",
        "#downloaded_1.GetContentFile('Test_17_sea.csv')\n",
        "#downloaded_2.GetContentFile('April_Without_Fish.csv')\n",
        "#df1 = pd.read_csv('Test_17_sea.csv') \n",
        "df7 = pd.read_csv('Kalman_Herman_1.csv') \n",
        "#df2 = pd.read_csv('Master_thesis_Data.csv')\n",
        "df7"
      ],
      "execution_count": 50,
      "outputs": [
        {
          "output_type": "execute_result",
          "data": {
            "text/html": [
              "<div>\n",
              "<style scoped>\n",
              "    .dataframe tbody tr th:only-of-type {\n",
              "        vertical-align: middle;\n",
              "    }\n",
              "\n",
              "    .dataframe tbody tr th {\n",
              "        vertical-align: top;\n",
              "    }\n",
              "\n",
              "    .dataframe thead th {\n",
              "        text-align: right;\n",
              "    }\n",
              "</style>\n",
              "<table border=\"1\" class=\"dataframe\">\n",
              "  <thead>\n",
              "    <tr style=\"text-align: right;\">\n",
              "      <th></th>\n",
              "      <th>DVL1S</th>\n",
              "      <th>DVL2S</th>\n",
              "      <th>DVL3S</th>\n",
              "      <th>DVL4S</th>\n",
              "      <th>North</th>\n",
              "      <th>East</th>\n",
              "      <th>Down</th>\n",
              "      <th>Heading</th>\n",
              "      <th>DVL1</th>\n",
              "      <th>DVL2</th>\n",
              "      <th>DVL3</th>\n",
              "      <th>DVL4</th>\n",
              "    </tr>\n",
              "  </thead>\n",
              "  <tbody>\n",
              "    <tr>\n",
              "      <th>0</th>\n",
              "      <td>2.608981</td>\n",
              "      <td>1.691363</td>\n",
              "      <td>1.436469</td>\n",
              "      <td>1.946257</td>\n",
              "      <td>-8.262226</td>\n",
              "      <td>0.935748</td>\n",
              "      <td>2.92</td>\n",
              "      <td>0.876155</td>\n",
              "      <td>2.608981</td>\n",
              "      <td>1.691363</td>\n",
              "      <td>1.436469</td>\n",
              "      <td>1.946257</td>\n",
              "    </tr>\n",
              "    <tr>\n",
              "      <th>1</th>\n",
              "      <td>2.507024</td>\n",
              "      <td>1.742342</td>\n",
              "      <td>1.436469</td>\n",
              "      <td>1.895278</td>\n",
              "      <td>-8.262226</td>\n",
              "      <td>0.935748</td>\n",
              "      <td>2.88</td>\n",
              "      <td>0.862193</td>\n",
              "      <td>2.507024</td>\n",
              "      <td>1.742342</td>\n",
              "      <td>1.436469</td>\n",
              "      <td>1.895278</td>\n",
              "    </tr>\n",
              "    <tr>\n",
              "      <th>2</th>\n",
              "      <td>2.456045</td>\n",
              "      <td>1.742342</td>\n",
              "      <td>1.436469</td>\n",
              "      <td>1.895278</td>\n",
              "      <td>-8.218841</td>\n",
              "      <td>0.841404</td>\n",
              "      <td>2.88</td>\n",
              "      <td>0.862193</td>\n",
              "      <td>2.456045</td>\n",
              "      <td>1.742342</td>\n",
              "      <td>1.436469</td>\n",
              "      <td>1.895278</td>\n",
              "    </tr>\n",
              "    <tr>\n",
              "      <th>3</th>\n",
              "      <td>2.456045</td>\n",
              "      <td>1.742342</td>\n",
              "      <td>1.436469</td>\n",
              "      <td>1.844299</td>\n",
              "      <td>-8.218841</td>\n",
              "      <td>0.841404</td>\n",
              "      <td>2.88</td>\n",
              "      <td>0.862193</td>\n",
              "      <td>2.456045</td>\n",
              "      <td>1.742342</td>\n",
              "      <td>1.436469</td>\n",
              "      <td>1.844299</td>\n",
              "    </tr>\n",
              "    <tr>\n",
              "      <th>4</th>\n",
              "      <td>2.405066</td>\n",
              "      <td>1.793321</td>\n",
              "      <td>1.436469</td>\n",
              "      <td>1.844299</td>\n",
              "      <td>-8.218841</td>\n",
              "      <td>0.841404</td>\n",
              "      <td>3.04</td>\n",
              "      <td>0.881391</td>\n",
              "      <td>2.405066</td>\n",
              "      <td>1.793321</td>\n",
              "      <td>1.436469</td>\n",
              "      <td>1.844299</td>\n",
              "    </tr>\n",
              "    <tr>\n",
              "      <th>...</th>\n",
              "      <td>...</td>\n",
              "      <td>...</td>\n",
              "      <td>...</td>\n",
              "      <td>...</td>\n",
              "      <td>...</td>\n",
              "      <td>...</td>\n",
              "      <td>...</td>\n",
              "      <td>...</td>\n",
              "      <td>...</td>\n",
              "      <td>...</td>\n",
              "      <td>...</td>\n",
              "      <td>...</td>\n",
              "    </tr>\n",
              "    <tr>\n",
              "      <th>5778</th>\n",
              "      <td>1.691363</td>\n",
              "      <td>1.946257</td>\n",
              "      <td>1.487448</td>\n",
              "      <td>1.334512</td>\n",
              "      <td>-7.570821</td>\n",
              "      <td>1.672850</td>\n",
              "      <td>4.36</td>\n",
              "      <td>0.513127</td>\n",
              "      <td>1.691363</td>\n",
              "      <td>1.946257</td>\n",
              "      <td>1.487448</td>\n",
              "      <td>1.334512</td>\n",
              "    </tr>\n",
              "    <tr>\n",
              "      <th>5779</th>\n",
              "      <td>1.691363</td>\n",
              "      <td>1.997236</td>\n",
              "      <td>1.487448</td>\n",
              "      <td>1.334512</td>\n",
              "      <td>-7.570821</td>\n",
              "      <td>1.672850</td>\n",
              "      <td>4.36</td>\n",
              "      <td>0.492183</td>\n",
              "      <td>1.691363</td>\n",
              "      <td>1.997236</td>\n",
              "      <td>1.487448</td>\n",
              "      <td>1.334512</td>\n",
              "    </tr>\n",
              "    <tr>\n",
              "      <th>5780</th>\n",
              "      <td>1.691363</td>\n",
              "      <td>1.997236</td>\n",
              "      <td>1.487448</td>\n",
              "      <td>1.385490</td>\n",
              "      <td>-7.624272</td>\n",
              "      <td>1.511872</td>\n",
              "      <td>4.40</td>\n",
              "      <td>0.432842</td>\n",
              "      <td>1.691363</td>\n",
              "      <td>1.997236</td>\n",
              "      <td>1.487448</td>\n",
              "      <td>1.385490</td>\n",
              "    </tr>\n",
              "    <tr>\n",
              "      <th>5781</th>\n",
              "      <td>1.691363</td>\n",
              "      <td>1.946257</td>\n",
              "      <td>1.487448</td>\n",
              "      <td>1.385490</td>\n",
              "      <td>-7.624272</td>\n",
              "      <td>1.511872</td>\n",
              "      <td>4.36</td>\n",
              "      <td>0.368264</td>\n",
              "      <td>1.691363</td>\n",
              "      <td>1.946257</td>\n",
              "      <td>1.487448</td>\n",
              "      <td>1.385490</td>\n",
              "    </tr>\n",
              "    <tr>\n",
              "      <th>5782</th>\n",
              "      <td>1.691363</td>\n",
              "      <td>1.946257</td>\n",
              "      <td>1.487448</td>\n",
              "      <td>1.385490</td>\n",
              "      <td>-7.624272</td>\n",
              "      <td>1.511872</td>\n",
              "      <td>4.32</td>\n",
              "      <td>0.368264</td>\n",
              "      <td>1.691363</td>\n",
              "      <td>1.946257</td>\n",
              "      <td>1.487448</td>\n",
              "      <td>1.385490</td>\n",
              "    </tr>\n",
              "  </tbody>\n",
              "</table>\n",
              "<p>5783 rows × 12 columns</p>\n",
              "</div>"
            ],
            "text/plain": [
              "         DVL1S     DVL2S     DVL3S  ...      DVL2      DVL3      DVL4\n",
              "0     2.608981  1.691363  1.436469  ...  1.691363  1.436469  1.946257\n",
              "1     2.507024  1.742342  1.436469  ...  1.742342  1.436469  1.895278\n",
              "2     2.456045  1.742342  1.436469  ...  1.742342  1.436469  1.895278\n",
              "3     2.456045  1.742342  1.436469  ...  1.742342  1.436469  1.844299\n",
              "4     2.405066  1.793321  1.436469  ...  1.793321  1.436469  1.844299\n",
              "...        ...       ...       ...  ...       ...       ...       ...\n",
              "5778  1.691363  1.946257  1.487448  ...  1.946257  1.487448  1.334512\n",
              "5779  1.691363  1.997236  1.487448  ...  1.997236  1.487448  1.334512\n",
              "5780  1.691363  1.997236  1.487448  ...  1.997236  1.487448  1.385490\n",
              "5781  1.691363  1.946257  1.487448  ...  1.946257  1.487448  1.385490\n",
              "5782  1.691363  1.946257  1.487448  ...  1.946257  1.487448  1.385490\n",
              "\n",
              "[5783 rows x 12 columns]"
            ]
          },
          "metadata": {
            "tags": []
          },
          "execution_count": 50
        }
      ]
    },
    {
      "cell_type": "code",
      "metadata": {
        "id": "yeP67pbLv6s4"
      },
      "source": [
        "c= df7['DVL1S']"
      ],
      "execution_count": 51,
      "outputs": []
    },
    {
      "cell_type": "code",
      "metadata": {
        "id": "2-3c03pUv-yk"
      },
      "source": [
        "c1=df7['DVL2S']"
      ],
      "execution_count": 52,
      "outputs": []
    },
    {
      "cell_type": "code",
      "metadata": {
        "id": "qMEazItYwNGJ"
      },
      "source": [
        "c2=df7['DVL3S']\n",
        "c3=df7['DVL4S']"
      ],
      "execution_count": 53,
      "outputs": []
    },
    {
      "cell_type": "code",
      "metadata": {
        "id": "9VtLH943yA-t"
      },
      "source": [
        "c4=df7['North']"
      ],
      "execution_count": 54,
      "outputs": []
    },
    {
      "cell_type": "code",
      "metadata": {
        "id": "qinGONJ-zE5Y"
      },
      "source": [
        "\n",
        "c6=df7['Down ']"
      ],
      "execution_count": 55,
      "outputs": []
    },
    {
      "cell_type": "code",
      "metadata": {
        "id": "8E5YtQlDyDNF"
      },
      "source": [
        "c9= df7['East ']"
      ],
      "execution_count": 56,
      "outputs": []
    },
    {
      "cell_type": "code",
      "metadata": {
        "id": "p3S7sKG7xeOC"
      },
      "source": [
        "\n",
        "\n",
        "c7=df7['Heading']"
      ],
      "execution_count": 57,
      "outputs": []
    },
    {
      "cell_type": "code",
      "metadata": {
        "id": "Q_w7JZNGwY-k",
        "outputId": "cf071aa6-3a5b-4a38-95d8-bd5ef2297d66",
        "colab": {
          "base_uri": "https://localhost:8080/",
          "height": 34
        }
      },
      "source": [
        "c.dtype"
      ],
      "execution_count": 58,
      "outputs": [
        {
          "output_type": "execute_result",
          "data": {
            "text/plain": [
              "dtype('float64')"
            ]
          },
          "metadata": {
            "tags": []
          },
          "execution_count": 58
        }
      ]
    },
    {
      "cell_type": "code",
      "metadata": {
        "id": "H73u8E5nwcVw",
        "outputId": "3f384a93-012c-4b19-b300-2874f22026c6",
        "colab": {
          "base_uri": "https://localhost:8080/",
          "height": 34
        }
      },
      "source": [
        "c.shape"
      ],
      "execution_count": 59,
      "outputs": [
        {
          "output_type": "execute_result",
          "data": {
            "text/plain": [
              "(5783,)"
            ]
          },
          "metadata": {
            "tags": []
          },
          "execution_count": 59
        }
      ]
    },
    {
      "cell_type": "code",
      "metadata": {
        "id": "BMN7a2uswdNL"
      },
      "source": [
        "import numpy as np"
      ],
      "execution_count": 60,
      "outputs": []
    },
    {
      "cell_type": "code",
      "metadata": {
        "id": "f1yHXRfAwgMF"
      },
      "source": [
        "c=np.array(c)"
      ],
      "execution_count": 61,
      "outputs": []
    },
    {
      "cell_type": "code",
      "metadata": {
        "id": "iTGIH_1ywqiw",
        "outputId": "51c3ffa3-5a4c-4eb0-9907-5f8e60996b9f",
        "colab": {
          "base_uri": "https://localhost:8080/",
          "height": 34
        }
      },
      "source": [
        "c.dtype"
      ],
      "execution_count": 62,
      "outputs": [
        {
          "output_type": "execute_result",
          "data": {
            "text/plain": [
              "dtype('float64')"
            ]
          },
          "metadata": {
            "tags": []
          },
          "execution_count": 62
        }
      ]
    },
    {
      "cell_type": "code",
      "metadata": {
        "id": "cNUTvbJFwrwL"
      },
      "source": [
        "c1=np.array(c1)\n",
        "c2=np.array(c2)\n",
        "c3=np.array(c3)"
      ],
      "execution_count": 63,
      "outputs": []
    },
    {
      "cell_type": "code",
      "metadata": {
        "id": "IXKmSJRnzdp5"
      },
      "source": [
        "c4=np.array(c4)\n",
        "c9=np.array(c9)\n",
        "c6=np.array(c6)\n",
        "c7=np.array(c7)\n"
      ],
      "execution_count": 64,
      "outputs": []
    },
    {
      "cell_type": "code",
      "metadata": {
        "id": "oEJkK6J0oO2Z"
      },
      "source": [
        "cd1=df7['DVL1']\n",
        "cd2=df7['DVL2']\n",
        "cd3=df7['DVL3']\n",
        "cd4=df7['DVL4']"
      ],
      "execution_count": 65,
      "outputs": []
    },
    {
      "cell_type": "code",
      "metadata": {
        "id": "sVxjrFsZodVG"
      },
      "source": [
        "cd1=np.array(cd1)\n",
        "cd2=np.array(cd2)\n",
        "cd3=np.array(cd3)\n",
        "cd4=np.array(cd4)\n"
      ],
      "execution_count": 66,
      "outputs": []
    },
    {
      "cell_type": "code",
      "metadata": {
        "id": "5bAUM6HpwyWm",
        "outputId": "9a528031-6518-4a3e-9127-216c87e8cdfc",
        "colab": {
          "base_uri": "https://localhost:8080/",
          "height": 185
        }
      },
      "source": [
        "# Stacking the two arrays along axis 0 \n",
        "Herman_Kalman_1 = geek.stack((c, c1, c2, c3, c4, c9, c6, c7), axis = 0) \n",
        "print (\"Output stacked array along axis 0:\\n \", Herman_Kalman_1) \n",
        "print (\"Labels Shape :\\n \", Herman_Kalman_1.shape) "
      ],
      "execution_count": 67,
      "outputs": [
        {
          "output_type": "stream",
          "text": [
            "Output stacked array along axis 0:\n",
            "  [[2.608981  2.507024  2.456045  ... 1.691363  1.691363  1.691363 ]\n",
            " [1.691363  1.742342  1.742342  ... 1.997236  1.946257  1.946257 ]\n",
            " [1.436469  1.436469  1.436469  ... 1.487448  1.487448  1.487448 ]\n",
            " ...\n",
            " [0.9357475 0.9357475 0.8414043 ... 1.511872  1.511872  1.511872 ]\n",
            " [2.92      2.88      2.88      ... 4.4       4.36      4.32     ]\n",
            " [0.8761553 0.8621927 0.8621927 ... 0.4328417 0.3682645 0.3682645]]\n",
            "Labels Shape :\n",
            "  (8, 5783)\n"
          ],
          "name": "stdout"
        }
      ]
    },
    {
      "cell_type": "code",
      "metadata": {
        "id": "gQIN3ctrw-wQ"
      },
      "source": [
        "Herman_Kalman_1=Herman_Kalman_1.transpose(1,0)"
      ],
      "execution_count": 68,
      "outputs": []
    },
    {
      "cell_type": "code",
      "metadata": {
        "id": "MeXdGqjMxDMR",
        "outputId": "a5f4c679-092c-4380-b111-d72cfa1461f5",
        "colab": {
          "base_uri": "https://localhost:8080/",
          "height": 34
        }
      },
      "source": [
        "Herman_Kalman_1.shape"
      ],
      "execution_count": 69,
      "outputs": [
        {
          "output_type": "execute_result",
          "data": {
            "text/plain": [
              "(5783, 8)"
            ]
          },
          "metadata": {
            "tags": []
          },
          "execution_count": 69
        }
      ]
    },
    {
      "cell_type": "code",
      "metadata": {
        "id": "1ulns3jZxHEv"
      },
      "source": [
        "Herman_Kalman_1y=Herman_Kalman_1.reshape(5783,1,8)"
      ],
      "execution_count": 70,
      "outputs": []
    },
    {
      "cell_type": "code",
      "metadata": {
        "id": "Oq2_osJuorEi",
        "outputId": "57cd792b-5e36-4bb2-8f47-75c562f51128",
        "colab": {
          "base_uri": "https://localhost:8080/",
          "height": 134
        }
      },
      "source": [
        "Herman_Kalman_1d = geek.stack((cd1, cd2, cd3, cd4), axis = 0) \n",
        "print (\"Output stacked array along axis 0:\\n \", Herman_Kalman_1d) \n",
        "print (\"Labels Shape :\\n \", Herman_Kalman_1d.shape) "
      ],
      "execution_count": 71,
      "outputs": [
        {
          "output_type": "stream",
          "text": [
            "Output stacked array along axis 0:\n",
            "  [[2.608981 2.507024 2.456045 ... 1.691363 1.691363 1.691363]\n",
            " [1.691363 1.742342 1.742342 ... 1.997236 1.946257 1.946257]\n",
            " [1.436469 1.436469 1.436469 ... 1.487448 1.487448 1.487448]\n",
            " [1.946257 1.895278 1.895278 ... 1.38549  1.38549  1.38549 ]]\n",
            "Labels Shape :\n",
            "  (4, 5783)\n"
          ],
          "name": "stdout"
        }
      ]
    },
    {
      "cell_type": "code",
      "metadata": {
        "id": "gLVLvC5Qo1wV"
      },
      "source": [
        "Herman_Kalman_1d=Herman_Kalman_1d.transpose(1,0)"
      ],
      "execution_count": 72,
      "outputs": []
    },
    {
      "cell_type": "code",
      "metadata": {
        "id": "DYpJhNV9o6dj"
      },
      "source": [
        "Herman_Kalman_1d=Herman_Kalman_1d.reshape(5783,1,4)"
      ],
      "execution_count": 73,
      "outputs": []
    },
    {
      "cell_type": "code",
      "metadata": {
        "id": "qftXeu02xMNn"
      },
      "source": [
        "K1= autoencoder.predict(Herman_Kalman_1y)"
      ],
      "execution_count": 76,
      "outputs": []
    },
    {
      "cell_type": "code",
      "metadata": {
        "id": "AR9PS3xgxQ_n",
        "outputId": "6ded68dc-9f4f-443e-9f4f-14dd3232fe60",
        "colab": {
          "base_uri": "https://localhost:8080/",
          "height": 34
        }
      },
      "source": [
        "t.shape"
      ],
      "execution_count": 77,
      "outputs": [
        {
          "output_type": "execute_result",
          "data": {
            "text/plain": [
              "(84980,)"
            ]
          },
          "metadata": {
            "tags": []
          },
          "execution_count": 77
        }
      ]
    },
    {
      "cell_type": "code",
      "metadata": {
        "id": "vqTBTa2X0M5X"
      },
      "source": [
        "K1=K1.reshape((K1.shape[0]*K1.shape[1]), K1.shape[2])"
      ],
      "execution_count": 78,
      "outputs": []
    },
    {
      "cell_type": "code",
      "metadata": {
        "id": "kUj5z8GFztDE"
      },
      "source": [
        "t_k1= t[:5783]"
      ],
      "execution_count": 79,
      "outputs": []
    },
    {
      "cell_type": "code",
      "metadata": {
        "id": "SizqG7HZ0KFg",
        "outputId": "daa2aeb7-8448-4025-881e-626d524f5c85",
        "colab": {
          "base_uri": "https://localhost:8080/",
          "height": 34
        }
      },
      "source": [
        "K1.shape"
      ],
      "execution_count": 80,
      "outputs": [
        {
          "output_type": "execute_result",
          "data": {
            "text/plain": [
              "(5783, 4)"
            ]
          },
          "metadata": {
            "tags": []
          },
          "execution_count": 80
        }
      ]
    },
    {
      "cell_type": "code",
      "metadata": {
        "id": "PLuBxKZZzwYA"
      },
      "source": [
        "K1_1= K1[:,0]\n"
      ],
      "execution_count": 81,
      "outputs": []
    },
    {
      "cell_type": "code",
      "metadata": {
        "id": "bS1pDVJ2z7Ik"
      },
      "source": [
        "K1_2= K1[:,1]"
      ],
      "execution_count": 82,
      "outputs": []
    },
    {
      "cell_type": "code",
      "metadata": {
        "id": "xaNhYO7q0E0e"
      },
      "source": [
        "K1_3= K1[:,2]\n",
        "K1_4= K1[:,3]"
      ],
      "execution_count": 83,
      "outputs": []
    },
    {
      "cell_type": "code",
      "metadata": {
        "id": "_m5dF4li0i4K",
        "outputId": "e3ce3fc5-6ace-438a-ea03-57568d6e9255",
        "colab": {
          "base_uri": "https://localhost:8080/",
          "height": 295
        }
      },
      "source": [
        "fax = plt.gca()\n",
        "plt.plot(t_k1,c, color='yellow', label='Orignal DVL Data')\n",
        "plt.plot(t_k1,K1_1, color='green', label='prediction')\n",
        "plt.xlabel('Time')\n",
        "plt.ylabel('Distance')\n",
        "plt.title('DVL Beam 1')\n",
        "plt.legend()\n",
        "\n",
        "plt.show()"
      ],
      "execution_count": 88,
      "outputs": [
        {
          "output_type": "display_data",
          "data": {
            "image/png": "[encoded data removed]",
            "text/plain": [
              "<Figure size 432x288 with 1 Axes>"
            ]
          },
          "metadata": {
            "tags": [],
            "needs_background": "light"
          }
        }
      ]
    },
    {
      "cell_type": "code",
      "metadata": {
        "id": "NhYyz8zl0xHt",
        "outputId": "006cedd9-4c8c-4f8a-e410-9f344ba32a93",
        "colab": {
          "base_uri": "https://localhost:8080/",
          "height": 295
        }
      },
      "source": [
        "fax = plt.gca()\n",
        "plt.plot(t_k1,c1, color='yellow', label='Orignal DVL Data')\n",
        "plt.plot(t_k1,K1_2, color='green', label='prediction')\n",
        "plt.xlabel('Time')\n",
        "plt.ylabel('Distance')\n",
        "plt.title('DVL Beam 2')\n",
        "plt.legend()\n",
        "\n",
        "plt.show()"
      ],
      "execution_count": 89,
      "outputs": [
        {
          "output_type": "display_data",
          "data": {
            "image/png": "[encoded data removed]",
            "text/plain": [
              "<Figure size 432x288 with 1 Axes>"
            ]
          },
          "metadata": {
            "tags": [],
            "needs_background": "light"
          }
        }
      ]
    },
    {
      "cell_type": "code",
      "metadata": {
        "id": "BBMc-nMl03pO",
        "outputId": "09bf4cf4-571b-40e6-85f9-fa0e85ece06f",
        "colab": {
          "base_uri": "https://localhost:8080/",
          "height": 295
        }
      },
      "source": [
        "fax = plt.gca()\n",
        "plt.plot(t_k1,c2, color='yellow', label='Orignal DVL Data')\n",
        "plt.plot(t_k1,K1_3, color='green', label='prediction')\n",
        "plt.xlabel('Time')\n",
        "plt.ylabel('Distance')\n",
        "plt.title('DVL Beam 3')\n",
        "plt.legend()\n",
        "\n",
        "plt.show()"
      ],
      "execution_count": 90,
      "outputs": [
        {
          "output_type": "display_data",
          "data": {
            "image/png": "[encoded data removed]",
            "text/plain": [
              "<Figure size 432x288 with 1 Axes>"
            ]
          },
          "metadata": {
            "tags": [],
            "needs_background": "light"
          }
        }
      ]
    },
    {
      "cell_type": "code",
      "metadata": {
        "id": "yFS4aLqS1Dlx",
        "outputId": "36374970-99fd-4906-87b9-b8d8a55b6a7d",
        "colab": {
          "base_uri": "https://localhost:8080/",
          "height": 295
        }
      },
      "source": [
        "fax = plt.gca()\n",
        "plt.plot(t_k1,c3, color='yellow', label='Orignal DVL Data')\n",
        "plt.plot(t_k1,K1_4, color='green', label='prediction')\n",
        "plt.xlabel('Time')\n",
        "plt.ylabel('Distance')\n",
        "plt.title('DVL Beam 4')\n",
        "plt.legend()\n",
        "\n",
        "plt.show()"
      ],
      "execution_count": 91,
      "outputs": [
        {
          "output_type": "display_data",
          "data": {
            "image/png": "[encoded data removed]",
            "text/plain": [
              "<Figure size 432x288 with 1 Axes>"
            ]
          },
          "metadata": {
            "tags": [],
            "needs_background": "light"
          }
        }
      ]
    },
    {
      "cell_type": "code",
      "metadata": {
        "id": "_NGw3lYE1Iu0"
      },
      "source": [
        "# Working on the more on the deep learning pre-processing and the neeed to be establishment"
      ],
      "execution_count": null,
      "outputs": []
    },
    {
      "cell_type": "code",
      "metadata": {
        "id": "sLPnfjVY1CiC"
      },
      "source": [
        "downloaded_4= drive.CreateFile({'id':'15H7uSBkgnqOtMYxJmhi6ZnsjLGbrTxCw'})\n",
        "#https://drive.google.com/file/d/1ngy7C_GNs9BZs30K-QdQGwBDcu6dSABu/view?usp=sharing\n",
        "#https://drive.google.com/file/d/1ngy7C_GNs9BZs30K-QdQGwBDcu6dSABu/view?usp=sharing\n",
        "#https://drive.google.com/file/d/17CQYsL3LVN-hkzSvMbxt78N3p8gu_mtP/view?usp=sharing\n",
        "#https://drive.google.com/file/d/15H7uSBkgnqOtMYxJmhi6ZnsjLGbrTxCw/view?usp=sharing"
      ],
      "execution_count": 94,
      "outputs": []
    },
    {
      "cell_type": "code",
      "metadata": {
        "id": "gLMD-8M21NRW",
        "outputId": "bb27db4a-076c-4bcc-d713-118ca1594564",
        "colab": {
          "base_uri": "https://localhost:8080/",
          "height": 402
        }
      },
      "source": [
        "downloaded_4.GetContentFile('KALMAN1_HERMAN_PREPROCESSING.csv')\n",
        "#downloaded_1.GetContentFile('Test_17_sea.csv')\n",
        "#downloaded_2.GetContentFile('April_Without_Fish.csv')\n",
        "#df1 = pd.read_csv('Test_17_sea.csv') \n",
        "df8 = pd.read_csv('KALMAN1_HERMAN_PREPROCESSING.csv') \n",
        "#df2 = pd.read_csv('Master_thesis_Data.csv')\n",
        "df8"
      ],
      "execution_count": 95,
      "outputs": [
        {
          "output_type": "execute_result",
          "data": {
            "text/html": [
              "<div>\n",
              "<style scoped>\n",
              "    .dataframe tbody tr th:only-of-type {\n",
              "        vertical-align: middle;\n",
              "    }\n",
              "\n",
              "    .dataframe tbody tr th {\n",
              "        vertical-align: top;\n",
              "    }\n",
              "\n",
              "    .dataframe thead th {\n",
              "        text-align: right;\n",
              "    }\n",
              "</style>\n",
              "<table border=\"1\" class=\"dataframe\">\n",
              "  <thead>\n",
              "    <tr style=\"text-align: right;\">\n",
              "      <th></th>\n",
              "      <th>DVL1</th>\n",
              "      <th>DVL2</th>\n",
              "      <th>DVL3</th>\n",
              "      <th>DVL4</th>\n",
              "      <th>N</th>\n",
              "      <th>E</th>\n",
              "      <th>D</th>\n",
              "      <th>H</th>\n",
              "    </tr>\n",
              "  </thead>\n",
              "  <tbody>\n",
              "    <tr>\n",
              "      <th>0</th>\n",
              "      <td>0.00000</td>\n",
              "      <td>0.000000</td>\n",
              "      <td>0.000000</td>\n",
              "      <td>0.000000</td>\n",
              "      <td>0.000000</td>\n",
              "      <td>0.000000</td>\n",
              "      <td>0.00</td>\n",
              "      <td>0.000000</td>\n",
              "    </tr>\n",
              "    <tr>\n",
              "      <th>1</th>\n",
              "      <td>0.00000</td>\n",
              "      <td>0.000000</td>\n",
              "      <td>0.000000</td>\n",
              "      <td>0.000000</td>\n",
              "      <td>0.000000</td>\n",
              "      <td>0.000000</td>\n",
              "      <td>0.00</td>\n",
              "      <td>0.000000</td>\n",
              "    </tr>\n",
              "    <tr>\n",
              "      <th>2</th>\n",
              "      <td>0.00000</td>\n",
              "      <td>0.000000</td>\n",
              "      <td>0.000000</td>\n",
              "      <td>0.000000</td>\n",
              "      <td>0.000000</td>\n",
              "      <td>0.000000</td>\n",
              "      <td>0.00</td>\n",
              "      <td>0.000000</td>\n",
              "    </tr>\n",
              "    <tr>\n",
              "      <th>3</th>\n",
              "      <td>0.00000</td>\n",
              "      <td>0.000000</td>\n",
              "      <td>0.000000</td>\n",
              "      <td>0.000000</td>\n",
              "      <td>0.000000</td>\n",
              "      <td>0.000000</td>\n",
              "      <td>0.00</td>\n",
              "      <td>0.000000</td>\n",
              "    </tr>\n",
              "    <tr>\n",
              "      <th>4</th>\n",
              "      <td>0.00000</td>\n",
              "      <td>0.000000</td>\n",
              "      <td>0.000000</td>\n",
              "      <td>0.000000</td>\n",
              "      <td>0.000000</td>\n",
              "      <td>0.000000</td>\n",
              "      <td>0.00</td>\n",
              "      <td>0.000000</td>\n",
              "    </tr>\n",
              "    <tr>\n",
              "      <th>...</th>\n",
              "      <td>...</td>\n",
              "      <td>...</td>\n",
              "      <td>...</td>\n",
              "      <td>...</td>\n",
              "      <td>...</td>\n",
              "      <td>...</td>\n",
              "      <td>...</td>\n",
              "      <td>...</td>\n",
              "    </tr>\n",
              "    <tr>\n",
              "      <th>10747</th>\n",
              "      <td>2.25213</td>\n",
              "      <td>2.761918</td>\n",
              "      <td>2.048215</td>\n",
              "      <td>1.742342</td>\n",
              "      <td>-4.490873</td>\n",
              "      <td>-0.055293</td>\n",
              "      <td>6.24</td>\n",
              "      <td>0.274017</td>\n",
              "    </tr>\n",
              "    <tr>\n",
              "      <th>10748</th>\n",
              "      <td>2.25213</td>\n",
              "      <td>2.812896</td>\n",
              "      <td>2.048215</td>\n",
              "      <td>1.742342</td>\n",
              "      <td>-4.490873</td>\n",
              "      <td>-0.055293</td>\n",
              "      <td>6.12</td>\n",
              "      <td>0.307178</td>\n",
              "    </tr>\n",
              "    <tr>\n",
              "      <th>10749</th>\n",
              "      <td>2.25213</td>\n",
              "      <td>2.812896</td>\n",
              "      <td>2.048215</td>\n",
              "      <td>1.742342</td>\n",
              "      <td>-4.490873</td>\n",
              "      <td>-0.055293</td>\n",
              "      <td>6.16</td>\n",
              "      <td>0.289725</td>\n",
              "    </tr>\n",
              "    <tr>\n",
              "      <th>10750</th>\n",
              "      <td>2.25213</td>\n",
              "      <td>2.812896</td>\n",
              "      <td>2.048215</td>\n",
              "      <td>1.742342</td>\n",
              "      <td>-4.490873</td>\n",
              "      <td>-0.055293</td>\n",
              "      <td>6.16</td>\n",
              "      <td>0.289725</td>\n",
              "    </tr>\n",
              "    <tr>\n",
              "      <th>10751</th>\n",
              "      <td>2.25213</td>\n",
              "      <td>2.812896</td>\n",
              "      <td>2.048215</td>\n",
              "      <td>1.742342</td>\n",
              "      <td>-4.490873</td>\n",
              "      <td>-0.055293</td>\n",
              "      <td>6.16</td>\n",
              "      <td>0.289725</td>\n",
              "    </tr>\n",
              "  </tbody>\n",
              "</table>\n",
              "<p>10752 rows × 8 columns</p>\n",
              "</div>"
            ],
            "text/plain": [
              "          DVL1      DVL2      DVL3  ...         E     D         H\n",
              "0      0.00000  0.000000  0.000000  ...  0.000000  0.00  0.000000\n",
              "1      0.00000  0.000000  0.000000  ...  0.000000  0.00  0.000000\n",
              "2      0.00000  0.000000  0.000000  ...  0.000000  0.00  0.000000\n",
              "3      0.00000  0.000000  0.000000  ...  0.000000  0.00  0.000000\n",
              "4      0.00000  0.000000  0.000000  ...  0.000000  0.00  0.000000\n",
              "...        ...       ...       ...  ...       ...   ...       ...\n",
              "10747  2.25213  2.761918  2.048215  ... -0.055293  6.24  0.274017\n",
              "10748  2.25213  2.812896  2.048215  ... -0.055293  6.12  0.307178\n",
              "10749  2.25213  2.812896  2.048215  ... -0.055293  6.16  0.289725\n",
              "10750  2.25213  2.812896  2.048215  ... -0.055293  6.16  0.289725\n",
              "10751  2.25213  2.812896  2.048215  ... -0.055293  6.16  0.289725\n",
              "\n",
              "[10752 rows x 8 columns]"
            ]
          },
          "metadata": {
            "tags": []
          },
          "execution_count": 95
        }
      ]
    },
    {
      "cell_type": "code",
      "metadata": {
        "id": "AML2Mxg-2jWN"
      },
      "source": [
        "e1= df8['DVL1']\n",
        "e1=np.array(e1)\n",
        "e2= df8['DVL2']\n",
        "e2=np.array(e2)\n",
        "e3= df8['DVL3']\n",
        "e3=np.array(e3)\n",
        "e4= df8['DVL4']\n",
        "e4=np.array(e4)"
      ],
      "execution_count": 99,
      "outputs": []
    },
    {
      "cell_type": "code",
      "metadata": {
        "id": "667pRo2N1XpK",
        "outputId": "2fe062f5-48ae-4d12-c116-e0fc307332d6",
        "colab": {
          "base_uri": "https://localhost:8080/",
          "height": 34
        }
      },
      "source": [
        "t.shape"
      ],
      "execution_count": 96,
      "outputs": [
        {
          "output_type": "execute_result",
          "data": {
            "text/plain": [
              "(84980,)"
            ]
          },
          "metadata": {
            "tags": []
          },
          "execution_count": 96
        }
      ]
    },
    {
      "cell_type": "code",
      "metadata": {
        "id": "7uic2v3V2WyT"
      },
      "source": [
        "t_pre= t[:10752]"
      ],
      "execution_count": 97,
      "outputs": []
    },
    {
      "cell_type": "code",
      "metadata": {
        "id": "AP9RxBGx2ZuB",
        "outputId": "8a3e4782-b004-43bc-f5f2-5f1ce1e8199c",
        "colab": {
          "base_uri": "https://localhost:8080/",
          "height": 34
        }
      },
      "source": [
        "t_pre.shape"
      ],
      "execution_count": 98,
      "outputs": [
        {
          "output_type": "execute_result",
          "data": {
            "text/plain": [
              "(10752,)"
            ]
          },
          "metadata": {
            "tags": []
          },
          "execution_count": 98
        }
      ]
    },
    {
      "cell_type": "code",
      "metadata": {
        "id": "2qJTvOL82bZg",
        "outputId": "24d9363b-b1a6-4975-8e0f-cba5c1fa8b53",
        "colab": {
          "base_uri": "https://localhost:8080/",
          "height": 295
        }
      },
      "source": [
        "fax = plt.gca()\n",
        "plt.plot(t_pre,e1, color='blue', label='Orignal DVL Data')\n",
        "#plt.plot(t_k1,K1_1, color='green', label='prediction')\n",
        "plt.xlabel('Time')\n",
        "plt.ylabel('Distance')\n",
        "plt.title('DVL Beam 1')\n",
        "plt.legend()\n",
        "\n",
        "plt.show()"
      ],
      "execution_count": 100,
      "outputs": [
        {
          "output_type": "display_data",
          "data": {
            "image/png": "[encoded data removed]",
            "text/plain": [
              "<Figure size 432x288 with 1 Axes>"
            ]
          },
          "metadata": {
            "tags": [],
            "needs_background": "light"
          }
        }
      ]
    },
    {
      "cell_type": "code",
      "metadata": {
        "id": "gsyhfayI3Hep",
        "outputId": "db9c8346-4212-45d3-fc26-73945f150580",
        "colab": {
          "base_uri": "https://localhost:8080/",
          "height": 295
        }
      },
      "source": [
        "fax = plt.gca()\n",
        "plt.plot(t_k1,c, color='blue', label='Orignal DVL Data')\n",
        "#plt.plot(t_k1,K1_1, color='green', label='prediction')\n",
        "plt.xlabel('Time')\n",
        "plt.ylabel('Distance')\n",
        "plt.title('DVL Beam 1')\n",
        "plt.legend()\n",
        "\n",
        "plt.show()"
      ],
      "execution_count": 104,
      "outputs": [
        {
          "output_type": "display_data",
          "data": {
            "image/png": "[encoded data removed]",
            "text/plain": [
              "<Figure size 432x288 with 1 Axes>"
            ]
          },
          "metadata": {
            "tags": [],
            "needs_background": "light"
          }
        }
      ]
    },
    {
      "cell_type": "code",
      "metadata": {
        "id": "nQvENdPJ24je",
        "outputId": "0d885507-cb1c-48d8-9e82-8f57c2fed850",
        "colab": {
          "base_uri": "https://localhost:8080/",
          "height": 295
        }
      },
      "source": [
        "fax = plt.gca()\n",
        "plt.plot(t_pre,e2, color='blue', label='Orignal DVL Data')\n",
        "#plt.plot(t_k1,K1_1, color='green', label='prediction')\n",
        "plt.xlabel('Time')\n",
        "plt.ylabel('Distance')\n",
        "plt.title('DVL Beam 2')\n",
        "plt.legend()\n",
        "\n",
        "plt.show()"
      ],
      "execution_count": 112,
      "outputs": [
        {
          "output_type": "display_data",
          "data": {
            "image/png": "[encoded data removed]",
            "text/plain": [
              "<Figure size 432x288 with 1 Axes>"
            ]
          },
          "metadata": {
            "tags": [],
            "needs_background": "light"
          }
        }
      ]
    },
    {
      "cell_type": "code",
      "metadata": {
        "id": "V4gTZ9WL3IhC",
        "outputId": "70ea48bc-2838-4fd5-ffee-028c76ec5875",
        "colab": {
          "base_uri": "https://localhost:8080/",
          "height": 295
        }
      },
      "source": [
        "fax = plt.gca()\n",
        "plt.plot(t_k1,c1, color='blue', label='Orignal DVL Data')\n",
        "#plt.plot(t_k1,K1_1, color='green', label='prediction')\n",
        "plt.xlabel('Time')\n",
        "plt.ylabel('Distance')\n",
        "plt.title('DVL Beam 2')\n",
        "plt.legend()\n",
        "\n",
        "plt.show()"
      ],
      "execution_count": 108,
      "outputs": [
        {
          "output_type": "display_data",
          "data": {
            "image/png": "[encoded data removed]",
            "text/plain": [
              "<Figure size 432x288 with 1 Axes>"
            ]
          },
          "metadata": {
            "tags": [],
            "needs_background": "light"
          }
        }
      ]
    },
    {
      "cell_type": "code",
      "metadata": {
        "id": "z84GvM3C28Ql",
        "outputId": "6b1aee81-8c74-41db-cb03-5a9eff78577e",
        "colab": {
          "base_uri": "https://localhost:8080/",
          "height": 295
        }
      },
      "source": [
        "fax = plt.gca()\n",
        "plt.plot(t_pre,e3, color='blue', label='Orignal DVL Data')\n",
        "#plt.plot(t_k1,K1_1, color='green', label='prediction')\n",
        "plt.xlabel('Time')\n",
        "plt.ylabel('Distance')\n",
        "plt.title('DVL Beam 3')\n",
        "plt.legend()\n",
        "\n",
        "plt.show()"
      ],
      "execution_count": 102,
      "outputs": [
        {
          "output_type": "display_data",
          "data": {
            "image/png": "[encoded data removed]",
            "text/plain": [
              "<Figure size 432x288 with 1 Axes>"
            ]
          },
          "metadata": {
            "tags": [],
            "needs_background": "light"
          }
        }
      ]
    },
    {
      "cell_type": "code",
      "metadata": {
        "id": "Ivk6Artj3JnV",
        "outputId": "20d6ae10-1cd6-4b30-f194-ba69f0b09ce0",
        "colab": {
          "base_uri": "https://localhost:8080/",
          "height": 295
        }
      },
      "source": [
        "fax = plt.gca()\n",
        "plt.plot(t_k1,c2, color='blue', label='Orignal DVL Data')\n",
        "#plt.plot(t_k1,K1_1, color='green', label='prediction')\n",
        "plt.xlabel('Time')\n",
        "plt.ylabel('Distance')\n",
        "plt.title('DVL Beam 3')\n",
        "plt.legend()\n",
        "\n",
        "plt.show()"
      ],
      "execution_count": 109,
      "outputs": [
        {
          "output_type": "display_data",
          "data": {
            "image/png": "[encoded data removed]",
            "text/plain": [
              "<Figure size 432x288 with 1 Axes>"
            ]
          },
          "metadata": {
            "tags": [],
            "needs_background": "light"
          }
        }
      ]
    },
    {
      "cell_type": "code",
      "metadata": {
        "id": "VRA_CoxH2_mv",
        "outputId": "f639bec3-e08a-4ddd-c998-1adb604be63a",
        "colab": {
          "base_uri": "https://localhost:8080/",
          "height": 295
        }
      },
      "source": [
        "fax = plt.gca()\n",
        "plt.plot(t_pre,e4, color='blue', label='Orignal DVL Data')\n",
        "#plt.plot(t_k1,K1_1, color='green', label='prediction')\n",
        "plt.xlabel('Time')\n",
        "plt.ylabel('Distance')\n",
        "plt.title('DVL Beam 4')\n",
        "plt.legend()\n",
        "\n",
        "plt.show()"
      ],
      "execution_count": 103,
      "outputs": [
        {
          "output_type": "display_data",
          "data": {
            "image/png": "[encoded data removed]",
            "text/plain": [
              "<Figure size 432x288 with 1 Axes>"
            ]
          },
          "metadata": {
            "tags": [],
            "needs_background": "light"
          }
        }
      ]
    },
    {
      "cell_type": "code",
      "metadata": {
        "id": "svTTrGRm3KKv",
        "outputId": "270270ae-f8e5-45a7-f602-949aae92367a",
        "colab": {
          "base_uri": "https://localhost:8080/",
          "height": 295
        }
      },
      "source": [
        "fax = plt.gca()\n",
        "plt.plot(t_k1,c3, color='blue', label='Orignal DVL Data')\n",
        "#plt.plot(t_k1,K1_1, color='green', label='prediction')\n",
        "plt.xlabel('Time')\n",
        "plt.ylabel('Distance')\n",
        "plt.title('DVL Beam 4')\n",
        "plt.legend()\n",
        "\n",
        "plt.show()"
      ],
      "execution_count": 111,
      "outputs": [
        {
          "output_type": "display_data",
          "data": {
            "image/png": "[encoded data removed]",
            "text/plain": [
              "<Figure size 432x288 with 1 Axes>"
            ]
          },
          "metadata": {
            "tags": [],
            "needs_background": "light"
          }
        }
      ]
    },
    {
      "cell_type": "code",
      "metadata": {
        "id": "nojbzoxm3Fgh"
      },
      "source": [
        ""
      ],
      "execution_count": null,
      "outputs": []
    }
  ]
}