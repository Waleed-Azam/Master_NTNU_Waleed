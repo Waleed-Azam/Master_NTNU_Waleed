{
  "nbformat": 4,
  "nbformat_minor": 0,
  "metadata": {
    "colab": {
      "name": "Copy of Simulated Data Prediction",
      "provenance": [],
      "authorship_tag": "ABX9TyNEGQ54HHRFnHNNAe9360xk",
      "include_colab_link": true
    },
    "kernelspec": {
      "name": "python3",
      "display_name": "Python 3"
    }
  },
  "cells": [
    {
      "cell_type": "markdown",
      "metadata": {
        "id": "view-in-github",
        "colab_type": "text"
      },
      "source": [
        "<a href=\"https://colab.research.google.com/github/Waleed-Azam/Master_NTNU_Waleed/blob/master/Copy_of_Simulated_Data_Prediction.ipynb\" target=\"_parent\"><img src=\"https://colab.research.google.com/assets/colab-badge.svg\" alt=\"Open In Colab\"/></a>"
      ]
    },
    {
      "cell_type": "markdown",
      "metadata": {
        "id": "76nym8lZIbOF"
      },
      "source": [
        "# Importing Lib"
      ]
    },
    {
      "cell_type": "code",
      "metadata": {
        "id": "p51ugjKT0XjM"
      },
      "source": [
        "#Prepare the nice data set\n",
        "from sklearn.model_selection import train_test_split\n",
        "# univariate cnn example\n",
        "from numpy import array\n",
        "from keras.models import Sequential\n",
        "from keras.layers import Dense\n",
        "from keras.layers import Flatten\n",
        "from keras.layers.convolutional import Conv1D\n",
        "from keras.layers.convolutional import MaxPooling1D\n",
        "from sklearn.preprocessing import MinMaxScaler\n",
        "!pip install -U -q PyDrive\n",
        "from pydrive.auth import GoogleAuth\n",
        "from pydrive.drive import GoogleDrive\n",
        "from google.colab import auth\n",
        "from oauth2client.client import GoogleCredentials\n",
        "import numpy as np \n",
        "import matplotlib.pyplot as plt\n"
      ],
      "execution_count": null,
      "outputs": []
    },
    {
      "cell_type": "code",
      "metadata": {
        "id": "kTj4mjJY0edk"
      },
      "source": [
        "auth.authenticate_user()\n",
        "gauth = GoogleAuth()\n",
        "gauth.credentials = GoogleCredentials.get_application_default()\n",
        "drive = GoogleDrive(gauth)"
      ],
      "execution_count": null,
      "outputs": []
    },
    {
      "cell_type": "code",
      "metadata": {
        "id": "6rK3THWx0iwK"
      },
      "source": [
        "downloaded = drive.CreateFile({'id':'1Bi2fJZw6Vhj7dyP7Ad6qtPsYf5LevEm4'})\n",
        "downloaded_2= drive.CreateFile({'id':'12ZLwEA-DL3BWgcnmlET-2PcNdZGDGr0h'})"
      ],
      "execution_count": null,
      "outputs": []
    },
    {
      "cell_type": "markdown",
      "metadata": {
        "id": "lBKL9deJIhvD"
      },
      "source": [
        "# Importing data from the Drive"
      ]
    },
    {
      "cell_type": "code",
      "metadata": {
        "id": "q8A8Mhzq0pAF",
        "outputId": "85a4f8c5-8184-4031-b30f-e3d10b4af2e5",
        "colab": {
          "base_uri": "https://localhost:8080/",
          "height": 405
        }
      },
      "source": [
        "#Importing all the libraries\n",
        "import numpy as np\n",
        "import numpy as geek \n",
        "from keras.layers import Input, Dense, LSTM, multiply, concatenate, Activation, Masking, Reshape\n",
        "from keras.models import Sequential\n",
        "from keras.models import Model\n",
        "from keras.layers import Input, Dense, LSTM, multiply, concatenate, Activation, Masking, Reshape\n",
        "from keras.layers import BatchNormalization, GlobalAveragePooling1D, Permute, Dropout\n",
        "from keras.layers.convolutional import Conv1D\n",
        "from keras.layers.convolutional import MaxPooling1D\n",
        "from keras.optimizers import RMSprop, Adam\n",
        "from keras.layers import LSTM, Activation \n",
        "from sklearn.preprocessing import MinMaxScaler\n",
        "from keras.models import load_model\n",
        "import pandas as pd\n",
        "downloaded.GetContentFile('Master_thesis_Data.csv')\n",
        "#downloaded_1.GetContentFile('Test_17_sea.csv')\n",
        "downloaded_2.GetContentFile('April_Without_Fish.csv')\n",
        "#df1 = pd.read_csv('Test_17_sea.csv') \n",
        "df3 = pd.read_csv('April_Without_Fish.csv') \n",
        "df2 = pd.read_csv('Master_thesis_Data.csv')\n",
        "df3"
      ],
      "execution_count": null,
      "outputs": [
        {
          "output_type": "execute_result",
          "data": {
            "text/html": [
              "<div>\n",
              "<style scoped>\n",
              "    .dataframe tbody tr th:only-of-type {\n",
              "        vertical-align: middle;\n",
              "    }\n",
              "\n",
              "    .dataframe tbody tr th {\n",
              "        vertical-align: top;\n",
              "    }\n",
              "\n",
              "    .dataframe thead th {\n",
              "        text-align: right;\n",
              "    }\n",
              "</style>\n",
              "<table border=\"1\" class=\"dataframe\">\n",
              "  <thead>\n",
              "    <tr style=\"text-align: right;\">\n",
              "      <th></th>\n",
              "      <th>DVL_1</th>\n",
              "      <th>DVL_2</th>\n",
              "      <th>DVL_3</th>\n",
              "      <th>DVL_4</th>\n",
              "      <th>Down</th>\n",
              "      <th>Heading</th>\n",
              "    </tr>\n",
              "  </thead>\n",
              "  <tbody>\n",
              "    <tr>\n",
              "      <th>0</th>\n",
              "      <td>0.000000</td>\n",
              "      <td>0.000000</td>\n",
              "      <td>0.000000</td>\n",
              "      <td>0.0</td>\n",
              "      <td>0.00</td>\n",
              "      <td>0.00</td>\n",
              "    </tr>\n",
              "    <tr>\n",
              "      <th>1</th>\n",
              "      <td>0.000000</td>\n",
              "      <td>0.000000</td>\n",
              "      <td>0.000000</td>\n",
              "      <td>0.0</td>\n",
              "      <td>0.00</td>\n",
              "      <td>0.00</td>\n",
              "    </tr>\n",
              "    <tr>\n",
              "      <th>2</th>\n",
              "      <td>0.000000</td>\n",
              "      <td>0.000000</td>\n",
              "      <td>0.000000</td>\n",
              "      <td>0.0</td>\n",
              "      <td>0.00</td>\n",
              "      <td>0.00</td>\n",
              "    </tr>\n",
              "    <tr>\n",
              "      <th>3</th>\n",
              "      <td>0.000000</td>\n",
              "      <td>0.000000</td>\n",
              "      <td>0.000000</td>\n",
              "      <td>0.0</td>\n",
              "      <td>0.04</td>\n",
              "      <td>3.90</td>\n",
              "    </tr>\n",
              "    <tr>\n",
              "      <th>4</th>\n",
              "      <td>0.000000</td>\n",
              "      <td>0.000000</td>\n",
              "      <td>0.000000</td>\n",
              "      <td>0.0</td>\n",
              "      <td>0.08</td>\n",
              "      <td>3.96</td>\n",
              "    </tr>\n",
              "    <tr>\n",
              "      <th>...</th>\n",
              "      <td>...</td>\n",
              "      <td>...</td>\n",
              "      <td>...</td>\n",
              "      <td>...</td>\n",
              "      <td>...</td>\n",
              "      <td>...</td>\n",
              "    </tr>\n",
              "    <tr>\n",
              "      <th>3056</th>\n",
              "      <td>0.671787</td>\n",
              "      <td>4.036387</td>\n",
              "      <td>4.954006</td>\n",
              "      <td>0.0</td>\n",
              "      <td>0.00</td>\n",
              "      <td>4.64</td>\n",
              "    </tr>\n",
              "    <tr>\n",
              "      <th>3057</th>\n",
              "      <td>0.671787</td>\n",
              "      <td>4.087367</td>\n",
              "      <td>4.750091</td>\n",
              "      <td>0.0</td>\n",
              "      <td>0.00</td>\n",
              "      <td>4.65</td>\n",
              "    </tr>\n",
              "    <tr>\n",
              "      <th>3058</th>\n",
              "      <td>0.722766</td>\n",
              "      <td>4.138345</td>\n",
              "      <td>4.750091</td>\n",
              "      <td>0.0</td>\n",
              "      <td>0.00</td>\n",
              "      <td>4.67</td>\n",
              "    </tr>\n",
              "    <tr>\n",
              "      <th>3059</th>\n",
              "      <td>0.722766</td>\n",
              "      <td>4.138345</td>\n",
              "      <td>4.750091</td>\n",
              "      <td>0.0</td>\n",
              "      <td>0.00</td>\n",
              "      <td>4.69</td>\n",
              "    </tr>\n",
              "    <tr>\n",
              "      <th>3060</th>\n",
              "      <td>0.722766</td>\n",
              "      <td>4.138345</td>\n",
              "      <td>4.750091</td>\n",
              "      <td>0.0</td>\n",
              "      <td>0.00</td>\n",
              "      <td>4.71</td>\n",
              "    </tr>\n",
              "  </tbody>\n",
              "</table>\n",
              "<p>3061 rows × 6 columns</p>\n",
              "</div>"
            ],
            "text/plain": [
              "         DVL_1     DVL_2     DVL_3  DVL_4  Down  Heading\n",
              "0     0.000000  0.000000  0.000000    0.0  0.00     0.00\n",
              "1     0.000000  0.000000  0.000000    0.0  0.00     0.00\n",
              "2     0.000000  0.000000  0.000000    0.0  0.00     0.00\n",
              "3     0.000000  0.000000  0.000000    0.0  0.04     3.90\n",
              "4     0.000000  0.000000  0.000000    0.0  0.08     3.96\n",
              "...        ...       ...       ...    ...   ...      ...\n",
              "3056  0.671787  4.036387  4.954006    0.0  0.00     4.64\n",
              "3057  0.671787  4.087367  4.750091    0.0  0.00     4.65\n",
              "3058  0.722766  4.138345  4.750091    0.0  0.00     4.67\n",
              "3059  0.722766  4.138345  4.750091    0.0  0.00     4.69\n",
              "3060  0.722766  4.138345  4.750091    0.0  0.00     4.71\n",
              "\n",
              "[3061 rows x 6 columns]"
            ]
          },
          "metadata": {
            "tags": []
          },
          "execution_count": 101
        }
      ]
    },
    {
      "cell_type": "code",
      "metadata": {
        "id": "if5oBgOn0yRX",
        "outputId": "4ac9de76-1416-4857-d12a-9802c0e47df9",
        "colab": {
          "base_uri": "https://localhost:8080/",
          "height": 405
        }
      },
      "source": [
        "import pandas as pd\n",
        "df2 = pd.read_csv('Master_thesis_Data.csv') \n",
        "#df2=df2.drop(columns=['Unnamed: 13', 'Unnamed: 14'])\n",
        "#Cleaning the data, for mainly removing the NaN value\n",
        "df2[\"Time\"] = df2[\"Time\"].fillna(0)\n",
        "df2[\"DVL1\"] = df2[\"DVL1\"].fillna(0)\n",
        "df2[\"DVL2\"] = df2[\"DVL2\"].fillna(0)\n",
        "df2[\"DVL3\"] = df2[\"DVL3\"].fillna(0)\n",
        "df2[\"DVL4\"] = df2[\"DVL4\"].fillna(0)\n",
        "df2[\"DVL1_S\"] = df2[\"DVL1_S\"].fillna(0)\n",
        "df2[\"DVL2_S\"] = df2[\"DVL2_S\"].fillna(0)\n",
        "df2[\"DVL3_S\"] = df2[\"DVL3_S\"].fillna(0)\n",
        "df2[\"DVL4_S\"] = df2[\"DVL4_S\"].fillna(0)\n",
        "df2[\"ROV6DOF\"] = df2[\"ROV6DOF\"].fillna(0)\n",
        "df2[\"ROV6DOF.1\"] = df2[\"ROV6DOF.1\"].fillna(0)\n",
        "df2[\"ROV6DOF.2\"] = df2[\"ROV6DOF.2\"].fillna(0)\n",
        "df2[\"ROV6DOF.3\"] = df2[\"ROV6DOF.3\"].fillna(0)\n",
        "\n",
        "df2\n"
      ],
      "execution_count": null,
      "outputs": [
        {
          "output_type": "execute_result",
          "data": {
            "text/html": [
              "<div>\n",
              "<style scoped>\n",
              "    .dataframe tbody tr th:only-of-type {\n",
              "        vertical-align: middle;\n",
              "    }\n",
              "\n",
              "    .dataframe tbody tr th {\n",
              "        vertical-align: top;\n",
              "    }\n",
              "\n",
              "    .dataframe thead th {\n",
              "        text-align: right;\n",
              "    }\n",
              "</style>\n",
              "<table border=\"1\" class=\"dataframe\">\n",
              "  <thead>\n",
              "    <tr style=\"text-align: right;\">\n",
              "      <th></th>\n",
              "      <th>Time</th>\n",
              "      <th>DVL1_S</th>\n",
              "      <th>DVL2_S</th>\n",
              "      <th>DVL3_S</th>\n",
              "      <th>DVL4_S</th>\n",
              "      <th>DVL1</th>\n",
              "      <th>DVL2</th>\n",
              "      <th>DVL3</th>\n",
              "      <th>DVL4</th>\n",
              "      <th>ROV6DOF</th>\n",
              "      <th>ROV6DOF.1</th>\n",
              "      <th>ROV6DOF.2</th>\n",
              "      <th>ROV6DOF.3</th>\n",
              "    </tr>\n",
              "  </thead>\n",
              "  <tbody>\n",
              "    <tr>\n",
              "      <th>0</th>\n",
              "      <td>0.0</td>\n",
              "      <td>0.000000</td>\n",
              "      <td>0.0</td>\n",
              "      <td>0.000000</td>\n",
              "      <td>0.000000</td>\n",
              "      <td>0.000000</td>\n",
              "      <td>0.000000</td>\n",
              "      <td>0.000000</td>\n",
              "      <td>0.000000</td>\n",
              "      <td>0.00</td>\n",
              "      <td>0.0</td>\n",
              "      <td>0.00</td>\n",
              "      <td>0.00</td>\n",
              "    </tr>\n",
              "    <tr>\n",
              "      <th>1</th>\n",
              "      <td>0.0</td>\n",
              "      <td>20.000000</td>\n",
              "      <td>20.0</td>\n",
              "      <td>20.000000</td>\n",
              "      <td>20.000000</td>\n",
              "      <td>20.000000</td>\n",
              "      <td>20.000000</td>\n",
              "      <td>20.000000</td>\n",
              "      <td>20.000000</td>\n",
              "      <td>0.00</td>\n",
              "      <td>0.0</td>\n",
              "      <td>0.00</td>\n",
              "      <td>0.00</td>\n",
              "    </tr>\n",
              "    <tr>\n",
              "      <th>2</th>\n",
              "      <td>0.1</td>\n",
              "      <td>20.000000</td>\n",
              "      <td>20.0</td>\n",
              "      <td>20.000000</td>\n",
              "      <td>20.000000</td>\n",
              "      <td>20.000000</td>\n",
              "      <td>20.000000</td>\n",
              "      <td>20.000000</td>\n",
              "      <td>20.000000</td>\n",
              "      <td>0.00</td>\n",
              "      <td>0.0</td>\n",
              "      <td>0.00</td>\n",
              "      <td>0.00</td>\n",
              "    </tr>\n",
              "    <tr>\n",
              "      <th>3</th>\n",
              "      <td>0.2</td>\n",
              "      <td>20.000000</td>\n",
              "      <td>20.0</td>\n",
              "      <td>20.000000</td>\n",
              "      <td>20.000000</td>\n",
              "      <td>20.000000</td>\n",
              "      <td>20.000000</td>\n",
              "      <td>20.000000</td>\n",
              "      <td>20.000000</td>\n",
              "      <td>0.00</td>\n",
              "      <td>0.0</td>\n",
              "      <td>0.00</td>\n",
              "      <td>0.00</td>\n",
              "    </tr>\n",
              "    <tr>\n",
              "      <th>4</th>\n",
              "      <td>0.3</td>\n",
              "      <td>20.000000</td>\n",
              "      <td>20.0</td>\n",
              "      <td>20.000000</td>\n",
              "      <td>20.000000</td>\n",
              "      <td>20.000000</td>\n",
              "      <td>20.000000</td>\n",
              "      <td>20.000000</td>\n",
              "      <td>20.000000</td>\n",
              "      <td>0.00</td>\n",
              "      <td>0.0</td>\n",
              "      <td>0.00</td>\n",
              "      <td>0.00</td>\n",
              "    </tr>\n",
              "    <tr>\n",
              "      <th>...</th>\n",
              "      <td>...</td>\n",
              "      <td>...</td>\n",
              "      <td>...</td>\n",
              "      <td>...</td>\n",
              "      <td>...</td>\n",
              "      <td>...</td>\n",
              "      <td>...</td>\n",
              "      <td>...</td>\n",
              "      <td>...</td>\n",
              "      <td>...</td>\n",
              "      <td>...</td>\n",
              "      <td>...</td>\n",
              "      <td>...</td>\n",
              "    </tr>\n",
              "    <tr>\n",
              "      <th>84986</th>\n",
              "      <td>8498.5</td>\n",
              "      <td>2.692643</td>\n",
              "      <td>1.8</td>\n",
              "      <td>2.620548</td>\n",
              "      <td>2.615895</td>\n",
              "      <td>2.692643</td>\n",
              "      <td>2.628101</td>\n",
              "      <td>2.620548</td>\n",
              "      <td>2.615895</td>\n",
              "      <td>5.27</td>\n",
              "      <td>16.8</td>\n",
              "      <td>4.87</td>\n",
              "      <td>-3.37</td>\n",
              "    </tr>\n",
              "    <tr>\n",
              "      <th>84987</th>\n",
              "      <td>8498.6</td>\n",
              "      <td>2.692682</td>\n",
              "      <td>1.8</td>\n",
              "      <td>2.620243</td>\n",
              "      <td>2.615925</td>\n",
              "      <td>2.692682</td>\n",
              "      <td>2.629319</td>\n",
              "      <td>2.620243</td>\n",
              "      <td>2.615925</td>\n",
              "      <td>5.25</td>\n",
              "      <td>16.8</td>\n",
              "      <td>4.87</td>\n",
              "      <td>-3.37</td>\n",
              "    </tr>\n",
              "    <tr>\n",
              "      <th>84988</th>\n",
              "      <td>8498.7</td>\n",
              "      <td>2.692715</td>\n",
              "      <td>1.8</td>\n",
              "      <td>2.619866</td>\n",
              "      <td>2.615951</td>\n",
              "      <td>2.692715</td>\n",
              "      <td>2.630637</td>\n",
              "      <td>2.619866</td>\n",
              "      <td>2.615951</td>\n",
              "      <td>5.22</td>\n",
              "      <td>16.8</td>\n",
              "      <td>4.87</td>\n",
              "      <td>-3.37</td>\n",
              "    </tr>\n",
              "    <tr>\n",
              "      <th>84989</th>\n",
              "      <td>8498.8</td>\n",
              "      <td>2.692740</td>\n",
              "      <td>1.8</td>\n",
              "      <td>2.619450</td>\n",
              "      <td>2.615970</td>\n",
              "      <td>2.692740</td>\n",
              "      <td>2.631916</td>\n",
              "      <td>2.619450</td>\n",
              "      <td>2.615970</td>\n",
              "      <td>5.20</td>\n",
              "      <td>16.8</td>\n",
              "      <td>4.87</td>\n",
              "      <td>-3.36</td>\n",
              "    </tr>\n",
              "    <tr>\n",
              "      <th>84990</th>\n",
              "      <td>8498.9</td>\n",
              "      <td>2.692755</td>\n",
              "      <td>1.8</td>\n",
              "      <td>2.618994</td>\n",
              "      <td>2.615983</td>\n",
              "      <td>2.692755</td>\n",
              "      <td>2.633157</td>\n",
              "      <td>2.618994</td>\n",
              "      <td>2.615983</td>\n",
              "      <td>5.18</td>\n",
              "      <td>16.7</td>\n",
              "      <td>4.87</td>\n",
              "      <td>-3.36</td>\n",
              "    </tr>\n",
              "  </tbody>\n",
              "</table>\n",
              "<p>84991 rows × 13 columns</p>\n",
              "</div>"
            ],
            "text/plain": [
              "         Time     DVL1_S  DVL2_S  ...  ROV6DOF.1  ROV6DOF.2  ROV6DOF.3\n",
              "0         0.0   0.000000     0.0  ...        0.0       0.00       0.00\n",
              "1         0.0  20.000000    20.0  ...        0.0       0.00       0.00\n",
              "2         0.1  20.000000    20.0  ...        0.0       0.00       0.00\n",
              "3         0.2  20.000000    20.0  ...        0.0       0.00       0.00\n",
              "4         0.3  20.000000    20.0  ...        0.0       0.00       0.00\n",
              "...       ...        ...     ...  ...        ...        ...        ...\n",
              "84986  8498.5   2.692643     1.8  ...       16.8       4.87      -3.37\n",
              "84987  8498.6   2.692682     1.8  ...       16.8       4.87      -3.37\n",
              "84988  8498.7   2.692715     1.8  ...       16.8       4.87      -3.37\n",
              "84989  8498.8   2.692740     1.8  ...       16.8       4.87      -3.36\n",
              "84990  8498.9   2.692755     1.8  ...       16.7       4.87      -3.36\n",
              "\n",
              "[84991 rows x 13 columns]"
            ]
          },
          "metadata": {
            "tags": []
          },
          "execution_count": 102
        }
      ]
    },
    {
      "cell_type": "code",
      "metadata": {
        "id": "SsY7_HJG00vh",
        "outputId": "3df3c776-00f7-44d4-f506-4b548c246614",
        "colab": {
          "base_uri": "https://localhost:8080/",
          "height": 405
        }
      },
      "source": [
        "df2.drop(84990) \n",
        "df2=df2.drop(84988)\n",
        "df2=df2.drop(84987)\n",
        "df2.drop(84990)\n",
        "df2=df2.drop(84985)\n",
        "df2=df2.drop(84990)\n",
        "df2=df2.drop(84984)\n",
        "df2=df2.drop(84983)\n",
        "df2=df2.drop(84982)\n",
        "df2=df2.drop(84981)\n",
        "df2=df2.drop(84980)\n",
        "df2=df2.drop(84986)\n",
        "df2=df2.drop(84989)\n",
        "df2"
      ],
      "execution_count": null,
      "outputs": [
        {
          "output_type": "execute_result",
          "data": {
            "text/html": [
              "<div>\n",
              "<style scoped>\n",
              "    .dataframe tbody tr th:only-of-type {\n",
              "        vertical-align: middle;\n",
              "    }\n",
              "\n",
              "    .dataframe tbody tr th {\n",
              "        vertical-align: top;\n",
              "    }\n",
              "\n",
              "    .dataframe thead th {\n",
              "        text-align: right;\n",
              "    }\n",
              "</style>\n",
              "<table border=\"1\" class=\"dataframe\">\n",
              "  <thead>\n",
              "    <tr style=\"text-align: right;\">\n",
              "      <th></th>\n",
              "      <th>Time</th>\n",
              "      <th>DVL1_S</th>\n",
              "      <th>DVL2_S</th>\n",
              "      <th>DVL3_S</th>\n",
              "      <th>DVL4_S</th>\n",
              "      <th>DVL1</th>\n",
              "      <th>DVL2</th>\n",
              "      <th>DVL3</th>\n",
              "      <th>DVL4</th>\n",
              "      <th>ROV6DOF</th>\n",
              "      <th>ROV6DOF.1</th>\n",
              "      <th>ROV6DOF.2</th>\n",
              "      <th>ROV6DOF.3</th>\n",
              "    </tr>\n",
              "  </thead>\n",
              "  <tbody>\n",
              "    <tr>\n",
              "      <th>0</th>\n",
              "      <td>0.0</td>\n",
              "      <td>0.0</td>\n",
              "      <td>0.0</td>\n",
              "      <td>0.000000</td>\n",
              "      <td>0.0</td>\n",
              "      <td>0.000000</td>\n",
              "      <td>0.000000</td>\n",
              "      <td>0.000000</td>\n",
              "      <td>0.000000</td>\n",
              "      <td>0.00</td>\n",
              "      <td>0.0</td>\n",
              "      <td>0.00</td>\n",
              "      <td>0.00</td>\n",
              "    </tr>\n",
              "    <tr>\n",
              "      <th>1</th>\n",
              "      <td>0.0</td>\n",
              "      <td>20.0</td>\n",
              "      <td>20.0</td>\n",
              "      <td>20.000000</td>\n",
              "      <td>20.0</td>\n",
              "      <td>20.000000</td>\n",
              "      <td>20.000000</td>\n",
              "      <td>20.000000</td>\n",
              "      <td>20.000000</td>\n",
              "      <td>0.00</td>\n",
              "      <td>0.0</td>\n",
              "      <td>0.00</td>\n",
              "      <td>0.00</td>\n",
              "    </tr>\n",
              "    <tr>\n",
              "      <th>2</th>\n",
              "      <td>0.1</td>\n",
              "      <td>20.0</td>\n",
              "      <td>20.0</td>\n",
              "      <td>20.000000</td>\n",
              "      <td>20.0</td>\n",
              "      <td>20.000000</td>\n",
              "      <td>20.000000</td>\n",
              "      <td>20.000000</td>\n",
              "      <td>20.000000</td>\n",
              "      <td>0.00</td>\n",
              "      <td>0.0</td>\n",
              "      <td>0.00</td>\n",
              "      <td>0.00</td>\n",
              "    </tr>\n",
              "    <tr>\n",
              "      <th>3</th>\n",
              "      <td>0.2</td>\n",
              "      <td>20.0</td>\n",
              "      <td>20.0</td>\n",
              "      <td>20.000000</td>\n",
              "      <td>20.0</td>\n",
              "      <td>20.000000</td>\n",
              "      <td>20.000000</td>\n",
              "      <td>20.000000</td>\n",
              "      <td>20.000000</td>\n",
              "      <td>0.00</td>\n",
              "      <td>0.0</td>\n",
              "      <td>0.00</td>\n",
              "      <td>0.00</td>\n",
              "    </tr>\n",
              "    <tr>\n",
              "      <th>4</th>\n",
              "      <td>0.3</td>\n",
              "      <td>20.0</td>\n",
              "      <td>20.0</td>\n",
              "      <td>20.000000</td>\n",
              "      <td>20.0</td>\n",
              "      <td>20.000000</td>\n",
              "      <td>20.000000</td>\n",
              "      <td>20.000000</td>\n",
              "      <td>20.000000</td>\n",
              "      <td>0.00</td>\n",
              "      <td>0.0</td>\n",
              "      <td>0.00</td>\n",
              "      <td>0.00</td>\n",
              "    </tr>\n",
              "    <tr>\n",
              "      <th>...</th>\n",
              "      <td>...</td>\n",
              "      <td>...</td>\n",
              "      <td>...</td>\n",
              "      <td>...</td>\n",
              "      <td>...</td>\n",
              "      <td>...</td>\n",
              "      <td>...</td>\n",
              "      <td>...</td>\n",
              "      <td>...</td>\n",
              "      <td>...</td>\n",
              "      <td>...</td>\n",
              "      <td>...</td>\n",
              "      <td>...</td>\n",
              "    </tr>\n",
              "    <tr>\n",
              "      <th>84975</th>\n",
              "      <td>8497.4</td>\n",
              "      <td>0.8</td>\n",
              "      <td>0.3</td>\n",
              "      <td>2.621668</td>\n",
              "      <td>1.8</td>\n",
              "      <td>2.691185</td>\n",
              "      <td>2.610809</td>\n",
              "      <td>2.621668</td>\n",
              "      <td>2.614601</td>\n",
              "      <td>5.55</td>\n",
              "      <td>17.0</td>\n",
              "      <td>4.87</td>\n",
              "      <td>-3.39</td>\n",
              "    </tr>\n",
              "    <tr>\n",
              "      <th>84976</th>\n",
              "      <td>8497.5</td>\n",
              "      <td>0.8</td>\n",
              "      <td>0.3</td>\n",
              "      <td>2.621745</td>\n",
              "      <td>1.8</td>\n",
              "      <td>2.691401</td>\n",
              "      <td>2.612374</td>\n",
              "      <td>2.621745</td>\n",
              "      <td>2.614807</td>\n",
              "      <td>5.52</td>\n",
              "      <td>17.0</td>\n",
              "      <td>4.87</td>\n",
              "      <td>-3.38</td>\n",
              "    </tr>\n",
              "    <tr>\n",
              "      <th>84977</th>\n",
              "      <td>8497.6</td>\n",
              "      <td>0.8</td>\n",
              "      <td>0.3</td>\n",
              "      <td>2.621804</td>\n",
              "      <td>1.8</td>\n",
              "      <td>2.691634</td>\n",
              "      <td>2.614254</td>\n",
              "      <td>2.621804</td>\n",
              "      <td>2.615026</td>\n",
              "      <td>5.50</td>\n",
              "      <td>17.0</td>\n",
              "      <td>4.87</td>\n",
              "      <td>-3.38</td>\n",
              "    </tr>\n",
              "    <tr>\n",
              "      <th>84978</th>\n",
              "      <td>8497.7</td>\n",
              "      <td>0.8</td>\n",
              "      <td>0.3</td>\n",
              "      <td>2.621820</td>\n",
              "      <td>1.8</td>\n",
              "      <td>2.691802</td>\n",
              "      <td>2.615765</td>\n",
              "      <td>2.621820</td>\n",
              "      <td>2.615181</td>\n",
              "      <td>5.47</td>\n",
              "      <td>16.9</td>\n",
              "      <td>4.87</td>\n",
              "      <td>-3.38</td>\n",
              "    </tr>\n",
              "    <tr>\n",
              "      <th>84979</th>\n",
              "      <td>8497.8</td>\n",
              "      <td>0.8</td>\n",
              "      <td>0.3</td>\n",
              "      <td>2.621799</td>\n",
              "      <td>1.8</td>\n",
              "      <td>2.691982</td>\n",
              "      <td>2.617577</td>\n",
              "      <td>2.621799</td>\n",
              "      <td>2.615344</td>\n",
              "      <td>5.45</td>\n",
              "      <td>16.9</td>\n",
              "      <td>4.87</td>\n",
              "      <td>-3.38</td>\n",
              "    </tr>\n",
              "  </tbody>\n",
              "</table>\n",
              "<p>84980 rows × 13 columns</p>\n",
              "</div>"
            ],
            "text/plain": [
              "         Time  DVL1_S  DVL2_S  ...  ROV6DOF.1  ROV6DOF.2  ROV6DOF.3\n",
              "0         0.0     0.0     0.0  ...        0.0       0.00       0.00\n",
              "1         0.0    20.0    20.0  ...        0.0       0.00       0.00\n",
              "2         0.1    20.0    20.0  ...        0.0       0.00       0.00\n",
              "3         0.2    20.0    20.0  ...        0.0       0.00       0.00\n",
              "4         0.3    20.0    20.0  ...        0.0       0.00       0.00\n",
              "...       ...     ...     ...  ...        ...        ...        ...\n",
              "84975  8497.4     0.8     0.3  ...       17.0       4.87      -3.39\n",
              "84976  8497.5     0.8     0.3  ...       17.0       4.87      -3.38\n",
              "84977  8497.6     0.8     0.3  ...       17.0       4.87      -3.38\n",
              "84978  8497.7     0.8     0.3  ...       16.9       4.87      -3.38\n",
              "84979  8497.8     0.8     0.3  ...       16.9       4.87      -3.38\n",
              "\n",
              "[84980 rows x 13 columns]"
            ]
          },
          "metadata": {
            "tags": []
          },
          "execution_count": 103
        }
      ]
    },
    {
      "cell_type": "code",
      "metadata": {
        "id": "cibnyJhf02Wf",
        "outputId": "13099a8a-b404-43f1-e0e1-2384509f10c0",
        "colab": {
          "base_uri": "https://localhost:8080/",
          "height": 405
        }
      },
      "source": [
        "df3=df3.drop(0) \n",
        "df2\n"
      ],
      "execution_count": null,
      "outputs": [
        {
          "output_type": "execute_result",
          "data": {
            "text/html": [
              "<div>\n",
              "<style scoped>\n",
              "    .dataframe tbody tr th:only-of-type {\n",
              "        vertical-align: middle;\n",
              "    }\n",
              "\n",
              "    .dataframe tbody tr th {\n",
              "        vertical-align: top;\n",
              "    }\n",
              "\n",
              "    .dataframe thead th {\n",
              "        text-align: right;\n",
              "    }\n",
              "</style>\n",
              "<table border=\"1\" class=\"dataframe\">\n",
              "  <thead>\n",
              "    <tr style=\"text-align: right;\">\n",
              "      <th></th>\n",
              "      <th>Time</th>\n",
              "      <th>DVL1_S</th>\n",
              "      <th>DVL2_S</th>\n",
              "      <th>DVL3_S</th>\n",
              "      <th>DVL4_S</th>\n",
              "      <th>DVL1</th>\n",
              "      <th>DVL2</th>\n",
              "      <th>DVL3</th>\n",
              "      <th>DVL4</th>\n",
              "      <th>ROV6DOF</th>\n",
              "      <th>ROV6DOF.1</th>\n",
              "      <th>ROV6DOF.2</th>\n",
              "      <th>ROV6DOF.3</th>\n",
              "    </tr>\n",
              "  </thead>\n",
              "  <tbody>\n",
              "    <tr>\n",
              "      <th>0</th>\n",
              "      <td>0.0</td>\n",
              "      <td>0.0</td>\n",
              "      <td>0.0</td>\n",
              "      <td>0.000000</td>\n",
              "      <td>0.0</td>\n",
              "      <td>0.000000</td>\n",
              "      <td>0.000000</td>\n",
              "      <td>0.000000</td>\n",
              "      <td>0.000000</td>\n",
              "      <td>0.00</td>\n",
              "      <td>0.0</td>\n",
              "      <td>0.00</td>\n",
              "      <td>0.00</td>\n",
              "    </tr>\n",
              "    <tr>\n",
              "      <th>1</th>\n",
              "      <td>0.0</td>\n",
              "      <td>20.0</td>\n",
              "      <td>20.0</td>\n",
              "      <td>20.000000</td>\n",
              "      <td>20.0</td>\n",
              "      <td>20.000000</td>\n",
              "      <td>20.000000</td>\n",
              "      <td>20.000000</td>\n",
              "      <td>20.000000</td>\n",
              "      <td>0.00</td>\n",
              "      <td>0.0</td>\n",
              "      <td>0.00</td>\n",
              "      <td>0.00</td>\n",
              "    </tr>\n",
              "    <tr>\n",
              "      <th>2</th>\n",
              "      <td>0.1</td>\n",
              "      <td>20.0</td>\n",
              "      <td>20.0</td>\n",
              "      <td>20.000000</td>\n",
              "      <td>20.0</td>\n",
              "      <td>20.000000</td>\n",
              "      <td>20.000000</td>\n",
              "      <td>20.000000</td>\n",
              "      <td>20.000000</td>\n",
              "      <td>0.00</td>\n",
              "      <td>0.0</td>\n",
              "      <td>0.00</td>\n",
              "      <td>0.00</td>\n",
              "    </tr>\n",
              "    <tr>\n",
              "      <th>3</th>\n",
              "      <td>0.2</td>\n",
              "      <td>20.0</td>\n",
              "      <td>20.0</td>\n",
              "      <td>20.000000</td>\n",
              "      <td>20.0</td>\n",
              "      <td>20.000000</td>\n",
              "      <td>20.000000</td>\n",
              "      <td>20.000000</td>\n",
              "      <td>20.000000</td>\n",
              "      <td>0.00</td>\n",
              "      <td>0.0</td>\n",
              "      <td>0.00</td>\n",
              "      <td>0.00</td>\n",
              "    </tr>\n",
              "    <tr>\n",
              "      <th>4</th>\n",
              "      <td>0.3</td>\n",
              "      <td>20.0</td>\n",
              "      <td>20.0</td>\n",
              "      <td>20.000000</td>\n",
              "      <td>20.0</td>\n",
              "      <td>20.000000</td>\n",
              "      <td>20.000000</td>\n",
              "      <td>20.000000</td>\n",
              "      <td>20.000000</td>\n",
              "      <td>0.00</td>\n",
              "      <td>0.0</td>\n",
              "      <td>0.00</td>\n",
              "      <td>0.00</td>\n",
              "    </tr>\n",
              "    <tr>\n",
              "      <th>...</th>\n",
              "      <td>...</td>\n",
              "      <td>...</td>\n",
              "      <td>...</td>\n",
              "      <td>...</td>\n",
              "      <td>...</td>\n",
              "      <td>...</td>\n",
              "      <td>...</td>\n",
              "      <td>...</td>\n",
              "      <td>...</td>\n",
              "      <td>...</td>\n",
              "      <td>...</td>\n",
              "      <td>...</td>\n",
              "      <td>...</td>\n",
              "    </tr>\n",
              "    <tr>\n",
              "      <th>84975</th>\n",
              "      <td>8497.4</td>\n",
              "      <td>0.8</td>\n",
              "      <td>0.3</td>\n",
              "      <td>2.621668</td>\n",
              "      <td>1.8</td>\n",
              "      <td>2.691185</td>\n",
              "      <td>2.610809</td>\n",
              "      <td>2.621668</td>\n",
              "      <td>2.614601</td>\n",
              "      <td>5.55</td>\n",
              "      <td>17.0</td>\n",
              "      <td>4.87</td>\n",
              "      <td>-3.39</td>\n",
              "    </tr>\n",
              "    <tr>\n",
              "      <th>84976</th>\n",
              "      <td>8497.5</td>\n",
              "      <td>0.8</td>\n",
              "      <td>0.3</td>\n",
              "      <td>2.621745</td>\n",
              "      <td>1.8</td>\n",
              "      <td>2.691401</td>\n",
              "      <td>2.612374</td>\n",
              "      <td>2.621745</td>\n",
              "      <td>2.614807</td>\n",
              "      <td>5.52</td>\n",
              "      <td>17.0</td>\n",
              "      <td>4.87</td>\n",
              "      <td>-3.38</td>\n",
              "    </tr>\n",
              "    <tr>\n",
              "      <th>84977</th>\n",
              "      <td>8497.6</td>\n",
              "      <td>0.8</td>\n",
              "      <td>0.3</td>\n",
              "      <td>2.621804</td>\n",
              "      <td>1.8</td>\n",
              "      <td>2.691634</td>\n",
              "      <td>2.614254</td>\n",
              "      <td>2.621804</td>\n",
              "      <td>2.615026</td>\n",
              "      <td>5.50</td>\n",
              "      <td>17.0</td>\n",
              "      <td>4.87</td>\n",
              "      <td>-3.38</td>\n",
              "    </tr>\n",
              "    <tr>\n",
              "      <th>84978</th>\n",
              "      <td>8497.7</td>\n",
              "      <td>0.8</td>\n",
              "      <td>0.3</td>\n",
              "      <td>2.621820</td>\n",
              "      <td>1.8</td>\n",
              "      <td>2.691802</td>\n",
              "      <td>2.615765</td>\n",
              "      <td>2.621820</td>\n",
              "      <td>2.615181</td>\n",
              "      <td>5.47</td>\n",
              "      <td>16.9</td>\n",
              "      <td>4.87</td>\n",
              "      <td>-3.38</td>\n",
              "    </tr>\n",
              "    <tr>\n",
              "      <th>84979</th>\n",
              "      <td>8497.8</td>\n",
              "      <td>0.8</td>\n",
              "      <td>0.3</td>\n",
              "      <td>2.621799</td>\n",
              "      <td>1.8</td>\n",
              "      <td>2.691982</td>\n",
              "      <td>2.617577</td>\n",
              "      <td>2.621799</td>\n",
              "      <td>2.615344</td>\n",
              "      <td>5.45</td>\n",
              "      <td>16.9</td>\n",
              "      <td>4.87</td>\n",
              "      <td>-3.38</td>\n",
              "    </tr>\n",
              "  </tbody>\n",
              "</table>\n",
              "<p>84980 rows × 13 columns</p>\n",
              "</div>"
            ],
            "text/plain": [
              "         Time  DVL1_S  DVL2_S  ...  ROV6DOF.1  ROV6DOF.2  ROV6DOF.3\n",
              "0         0.0     0.0     0.0  ...        0.0       0.00       0.00\n",
              "1         0.0    20.0    20.0  ...        0.0       0.00       0.00\n",
              "2         0.1    20.0    20.0  ...        0.0       0.00       0.00\n",
              "3         0.2    20.0    20.0  ...        0.0       0.00       0.00\n",
              "4         0.3    20.0    20.0  ...        0.0       0.00       0.00\n",
              "...       ...     ...     ...  ...        ...        ...        ...\n",
              "84975  8497.4     0.8     0.3  ...       17.0       4.87      -3.39\n",
              "84976  8497.5     0.8     0.3  ...       17.0       4.87      -3.38\n",
              "84977  8497.6     0.8     0.3  ...       17.0       4.87      -3.38\n",
              "84978  8497.7     0.8     0.3  ...       16.9       4.87      -3.38\n",
              "84979  8497.8     0.8     0.3  ...       16.9       4.87      -3.38\n",
              "\n",
              "[84980 rows x 13 columns]"
            ]
          },
          "metadata": {
            "tags": []
          },
          "execution_count": 104
        }
      ]
    },
    {
      "cell_type": "code",
      "metadata": {
        "id": "r1085cIG03_l"
      },
      "source": [
        "t=df2['Time']\n",
        "Tdata=df2['DVL1_S']\n",
        "X1=np.array(Tdata)\n",
        "Tdata2=df2['DVL2_S']\n",
        "X2=np.array(Tdata2)\n",
        "Tdata3=df2['DVL3_S']\n",
        "X3=np.array(Tdata)\n",
        "Tdata4=df2['DVL4_S']\n",
        "X4=np.array(Tdata4)\n",
        "Tdata5=df2['ROV6DOF']\n",
        "X5=np.array(Tdata5)\n",
        "Tdata6=df2['ROV6DOF.1']\n",
        "X6=np.array(Tdata6)\n",
        "Tdata7=df2['ROV6DOF.2']\n",
        "X7=np.array(Tdata7)\n",
        "Tdata8=df2['ROV6DOF.3']\n",
        "X8=np.array(Tdata8)"
      ],
      "execution_count": null,
      "outputs": []
    },
    {
      "cell_type": "code",
      "metadata": {
        "id": "r-z2yYHn05p8",
        "outputId": "2f5b56ab-78a6-441c-aeeb-67efd9da3417",
        "colab": {
          "base_uri": "https://localhost:8080/",
          "height": 187
        }
      },
      "source": [
        "# Stacking the two arrays along axis 0 \n",
        "out_arr1_X_training = geek.stack((X1, X2, X3,X4, X5,X6,X7,X8), axis = 0) \n",
        "print (\"Output stacked array along axis 0:\\n \", out_arr1_X_training) \n",
        "print (\"Output Shape:\\n \", out_arr1_X_training.shape) "
      ],
      "execution_count": null,
      "outputs": [
        {
          "output_type": "stream",
          "text": [
            "Output stacked array along axis 0:\n",
            "  [[ 0.   20.   20.   ...  0.8   0.8   0.8 ]\n",
            " [ 0.   20.   20.   ...  0.3   0.3   0.3 ]\n",
            " [ 0.   20.   20.   ...  0.8   0.8   0.8 ]\n",
            " ...\n",
            " [ 0.    0.    0.   ... 17.   16.9  16.9 ]\n",
            " [ 0.    0.    0.   ...  4.87  4.87  4.87]\n",
            " [ 0.    0.    0.   ... -3.38 -3.38 -3.38]]\n",
            "Output Shape:\n",
            "  (8, 84980)\n"
          ],
          "name": "stdout"
        }
      ]
    },
    {
      "cell_type": "code",
      "metadata": {
        "id": "cINiczUr0731",
        "outputId": "a80ebee2-a690-41d4-98fb-5d57f3563a88",
        "colab": {
          "base_uri": "https://localhost:8080/",
          "height": 34
        }
      },
      "source": [
        "X= out_arr1_X_training\n",
        "X = X.transpose((1,0))\n",
        "X.shape"
      ],
      "execution_count": null,
      "outputs": [
        {
          "output_type": "execute_result",
          "data": {
            "text/plain": [
              "(84980, 8)"
            ]
          },
          "metadata": {
            "tags": []
          },
          "execution_count": 107
        }
      ]
    },
    {
      "cell_type": "code",
      "metadata": {
        "id": "qAax49eo09f9"
      },
      "source": [
        "Tdata1=df2['DVL1']\n",
        "y1=np.array(Tdata1)\n",
        "Tdata22=df2['DVL2']\n",
        "y2=np.array(Tdata22)\n",
        "Tdata33=df2['DVL3']\n",
        "y3=np.array(Tdata33)\n",
        "Tdata44=df2['DVL4']\n",
        "y4=np.array(Tdata44)"
      ],
      "execution_count": null,
      "outputs": []
    },
    {
      "cell_type": "code",
      "metadata": {
        "id": "xPfBtYzA0-tV",
        "outputId": "f1bdf5ce-20b9-4ac2-e53d-132dfe95f7ee",
        "colab": {
          "base_uri": "https://localhost:8080/",
          "height": 136
        }
      },
      "source": [
        "# Stacking the two arrays along axis 0 \n",
        "out_lab1_Target = geek.stack((y1, y2, y3, y4), axis = 0) \n",
        "print (\"Output stacked array along axis 0:\\n \", out_lab1_Target) \n",
        "print (\"Labels Shape :\\n \", out_lab1_Target.shape) "
      ],
      "execution_count": null,
      "outputs": [
        {
          "output_type": "stream",
          "text": [
            "Output stacked array along axis 0:\n",
            "  [[ 0.       20.       20.       ...  2.691634  2.691802  2.691982]\n",
            " [ 0.       20.       20.       ...  2.614254  2.615765  2.617577]\n",
            " [ 0.       20.       20.       ...  2.621804  2.62182   2.621799]\n",
            " [ 0.       20.       20.       ...  2.615026  2.615181  2.615344]]\n",
            "Labels Shape :\n",
            "  (4, 84980)\n"
          ],
          "name": "stdout"
        }
      ]
    },
    {
      "cell_type": "code",
      "metadata": {
        "id": "jkVSlPVh1AGc"
      },
      "source": [
        "y= out_lab1_Target"
      ],
      "execution_count": null,
      "outputs": []
    },
    {
      "cell_type": "code",
      "metadata": {
        "id": "x4dvZulD1B6l"
      },
      "source": [
        "y=y.transpose((1,0))"
      ],
      "execution_count": null,
      "outputs": []
    },
    {
      "cell_type": "code",
      "metadata": {
        "id": "-uKvhGCN1Dyb"
      },
      "source": [
        "# mlp for multi-output regression\n",
        "from numpy import mean\n",
        "from numpy import std\n",
        "from sklearn.datasets import make_regression\n",
        "from sklearn.model_selection import RepeatedKFold\n",
        "from keras.models import Sequential\n",
        "from keras.layers import Dense"
      ],
      "execution_count": null,
      "outputs": []
    },
    {
      "cell_type": "code",
      "metadata": {
        "id": "UbKUQ3NQ29Hl",
        "outputId": "976f7edc-c77b-476c-9470-9bdf98686bc6",
        "colab": {
          "base_uri": "https://localhost:8080/",
          "height": 34
        }
      },
      "source": [
        "X.dtype"
      ],
      "execution_count": null,
      "outputs": [
        {
          "output_type": "execute_result",
          "data": {
            "text/plain": [
              "dtype('float64')"
            ]
          },
          "metadata": {
            "tags": []
          },
          "execution_count": 113
        }
      ]
    },
    {
      "cell_type": "code",
      "metadata": {
        "id": "eYo_xCEu2_E6",
        "outputId": "5acc142d-300b-4261-ff85-1b8d911fa028",
        "colab": {
          "base_uri": "https://localhost:8080/",
          "height": 34
        }
      },
      "source": [
        "y.dtype"
      ],
      "execution_count": null,
      "outputs": [
        {
          "output_type": "execute_result",
          "data": {
            "text/plain": [
              "dtype('float64')"
            ]
          },
          "metadata": {
            "tags": []
          },
          "execution_count": 114
        }
      ]
    },
    {
      "cell_type": "code",
      "metadata": {
        "id": "cSBvJ-WO1zZu"
      },
      "source": [
        "X=X.reshape(84980,1,8)"
      ],
      "execution_count": null,
      "outputs": []
    },
    {
      "cell_type": "code",
      "metadata": {
        "id": "NCkFCfKo14B2"
      },
      "source": [
        "y=y.reshape(84980, 1,4)"
      ],
      "execution_count": null,
      "outputs": []
    },
    {
      "cell_type": "code",
      "metadata": {
        "id": "glMl_GRi1FMn"
      },
      "source": [
        "x_train=X[:64980]"
      ],
      "execution_count": null,
      "outputs": []
    },
    {
      "cell_type": "code",
      "metadata": {
        "id": "D0D1kJXu3BNu",
        "outputId": "95f54927-cd5b-41c2-da76-22a2b22a0db7",
        "colab": {
          "base_uri": "https://localhost:8080/",
          "height": 34
        }
      },
      "source": [
        "x_train.dtype"
      ],
      "execution_count": null,
      "outputs": [
        {
          "output_type": "execute_result",
          "data": {
            "text/plain": [
              "dtype('float64')"
            ]
          },
          "metadata": {
            "tags": []
          },
          "execution_count": 118
        }
      ]
    },
    {
      "cell_type": "code",
      "metadata": {
        "id": "qEHASEOr1Xw3"
      },
      "source": [
        "y_train=y[:64980]"
      ],
      "execution_count": null,
      "outputs": []
    },
    {
      "cell_type": "code",
      "metadata": {
        "id": "SXblwR0x1Ppc"
      },
      "source": [
        "x_val=X[64980:74980]"
      ],
      "execution_count": null,
      "outputs": []
    },
    {
      "cell_type": "code",
      "metadata": {
        "id": "RcjUbnxN3ENj",
        "outputId": "d1d78be7-653a-4a06-b31c-711ed50b7ee3",
        "colab": {
          "base_uri": "https://localhost:8080/",
          "height": 34
        }
      },
      "source": [
        "x_val.dtype"
      ],
      "execution_count": null,
      "outputs": [
        {
          "output_type": "execute_result",
          "data": {
            "text/plain": [
              "dtype('float64')"
            ]
          },
          "metadata": {
            "tags": []
          },
          "execution_count": 121
        }
      ]
    },
    {
      "cell_type": "code",
      "metadata": {
        "id": "rE_cNDdS1a0k"
      },
      "source": [
        "y_val=y[64980:74980]"
      ],
      "execution_count": null,
      "outputs": []
    },
    {
      "cell_type": "code",
      "metadata": {
        "id": "fqyT_m6m1TF9"
      },
      "source": [
        "x_test=X[-10000:]"
      ],
      "execution_count": null,
      "outputs": []
    },
    {
      "cell_type": "code",
      "metadata": {
        "id": "tP7LQHla1V5E"
      },
      "source": [
        "y_test=y[-10000:]"
      ],
      "execution_count": null,
      "outputs": []
    },
    {
      "cell_type": "code",
      "metadata": {
        "id": "sqYFGVGw18gN"
      },
      "source": [
        "n_features=4"
      ],
      "execution_count": null,
      "outputs": []
    },
    {
      "cell_type": "code",
      "metadata": {
        "id": "DwVnuq2d2AAa"
      },
      "source": [
        "n_steps=1"
      ],
      "execution_count": null,
      "outputs": []
    },
    {
      "cell_type": "code",
      "metadata": {
        "id": "yMkG_FuI2Cek"
      },
      "source": [
        "import keras"
      ],
      "execution_count": null,
      "outputs": []
    },
    {
      "cell_type": "code",
      "metadata": {
        "id": "M1IWCyOh2b4j",
        "outputId": "bb0de796-8ae4-47af-edd6-861abd9269be",
        "colab": {
          "base_uri": "https://localhost:8080/",
          "height": 34
        }
      },
      "source": [
        "x_train.shape"
      ],
      "execution_count": null,
      "outputs": [
        {
          "output_type": "execute_result",
          "data": {
            "text/plain": [
              "(64980, 1, 8)"
            ]
          },
          "metadata": {
            "tags": []
          },
          "execution_count": 128
        }
      ]
    },
    {
      "cell_type": "code",
      "metadata": {
        "id": "nfSsqGIT2dft",
        "outputId": "aa7994e1-7bb7-4cff-b597-54e1898b9b5b",
        "colab": {
          "base_uri": "https://localhost:8080/",
          "height": 34
        }
      },
      "source": [
        "y_train.shape"
      ],
      "execution_count": null,
      "outputs": [
        {
          "output_type": "execute_result",
          "data": {
            "text/plain": [
              "(64980, 1, 4)"
            ]
          },
          "metadata": {
            "tags": []
          },
          "execution_count": 129
        }
      ]
    },
    {
      "cell_type": "code",
      "metadata": {
        "id": "Ey0lPeNO2fE3",
        "outputId": "8caf110d-b91d-4273-b9e3-45740b5033f2",
        "colab": {
          "base_uri": "https://localhost:8080/",
          "height": 34
        }
      },
      "source": [
        "x_val.shape"
      ],
      "execution_count": null,
      "outputs": [
        {
          "output_type": "execute_result",
          "data": {
            "text/plain": [
              "(10000, 1, 8)"
            ]
          },
          "metadata": {
            "tags": []
          },
          "execution_count": 130
        }
      ]
    },
    {
      "cell_type": "code",
      "metadata": {
        "id": "aanTD__Y2g6J",
        "outputId": "25418c7d-5cee-447f-892e-7b197f69d7c6",
        "colab": {
          "base_uri": "https://localhost:8080/",
          "height": 34
        }
      },
      "source": [
        "y_val.shape"
      ],
      "execution_count": null,
      "outputs": [
        {
          "output_type": "execute_result",
          "data": {
            "text/plain": [
              "(10000, 1, 4)"
            ]
          },
          "metadata": {
            "tags": []
          },
          "execution_count": 131
        }
      ]
    },
    {
      "cell_type": "code",
      "metadata": {
        "id": "z23LyrTh3g27"
      },
      "source": [
        "import tensorflow as tf"
      ],
      "execution_count": null,
      "outputs": []
    },
    {
      "cell_type": "code",
      "metadata": {
        "id": "0ttsM4CG1fRH"
      },
      "source": [
        "values = [1e-1, 1e-2, 1e-3, 1e-4, 1e-5, 1e-6]\n",
        "\n",
        "from keras.layers import Input, Dense, Conv1D, MaxPooling1D, UpSampling1D, Flatten, Reshape, Dropout\n",
        "from keras.models import Model\n",
        "from keras import backend as K\n",
        "input_img=Input(shape=(n_steps, 8))\n",
        "#input_img = Input(shape=(28, 28, 1))  # adapt this if using `channels_first` image data format\n",
        "# Dropout \n",
        "\n",
        "x = Conv1D(16, 3, activation='relu', padding='same')(input_img)\n",
        "x= MaxPooling1D(2, padding= 'same')(x)\n",
        "\n",
        "# at this point the representation is (4, 4, 8) i.e. 128-dimensional\n",
        "x= Flatten()(x)\n",
        "decoded = Dense(n_features*n_steps, activation='linear')(x)\n",
        "outputs= Reshape((n_steps, n_features))(decoded)\n",
        "#tf.reshape(tensor, shape, name=None)\n",
        "autoencoder = Model(input_img, outputs)\n",
        "opt = keras.optimizers.Adam(learning_rate=0.0001)\n",
        "autoencoder.compile(opt, loss='mse')"
      ],
      "execution_count": null,
      "outputs": []
    },
    {
      "cell_type": "code",
      "metadata": {
        "id": "4bWyGYKD1xDb",
        "outputId": "763078be-de4c-465e-bfc5-915bd93edc1f",
        "colab": {
          "base_uri": "https://localhost:8080/",
          "height": 733
        }
      },
      "source": [
        "from keras.callbacks import TensorBoard, EarlyStopping\n",
        "\n",
        "es =EarlyStopping(\n",
        "    monitor=\"val_loss\",\n",
        "    min_delta=0.001,\n",
        "    patience=5,\n",
        "    verbose=0,\n",
        "    mode=\"auto\",\n",
        "    baseline=None,\n",
        "    restore_best_weights=True,\n",
        ")\n",
        "history=autoencoder.fit(x_train, y_train,\n",
        "                epochs=500,\n",
        "                batch_size=32,\n",
        "                shuffle=True,\n",
        "                validation_data=(x_val, y_val), \n",
        "                callbacks= [es], verbose=1)\n",
        "\n",
        "# callback = tf.keras.callbacks.EarlyStopping(monitor='loss', patience=3)\n",
        "#Early Stopping.. Can be a wise option to observe\n",
        "#tf.keras.callbacks.EarlyStopping(\n",
        "   # monitor='val_loss', min_delta=0, patience=0, verbose=0, mode='auto',\n",
        "  #  baseline=None, restore_best_weights=False\n",
        "#)"
      ],
      "execution_count": null,
      "outputs": [
        {
          "output_type": "stream",
          "text": [
            "Epoch 1/500\n",
            "2031/2031 [==============================] - 3s 1ms/step - loss: 2.3016 - val_loss: 0.0522\n",
            "Epoch 2/500\n",
            "2031/2031 [==============================] - 2s 1ms/step - loss: 0.1054 - val_loss: 0.0334\n",
            "Epoch 3/500\n",
            "2031/2031 [==============================] - 2s 1ms/step - loss: 0.0718 - val_loss: 0.0309\n",
            "Epoch 4/500\n",
            "2031/2031 [==============================] - 2s 1ms/step - loss: 0.0571 - val_loss: 0.0276\n",
            "Epoch 5/500\n",
            "2031/2031 [==============================] - 2s 1ms/step - loss: 0.0501 - val_loss: 0.0224\n",
            "Epoch 6/500\n",
            "2031/2031 [==============================] - 3s 1ms/step - loss: 0.0442 - val_loss: 0.0181\n",
            "Epoch 7/500\n",
            "2031/2031 [==============================] - 3s 1ms/step - loss: 0.0389 - val_loss: 0.0150\n",
            "Epoch 8/500\n",
            "2031/2031 [==============================] - 3s 1ms/step - loss: 0.0342 - val_loss: 0.0128\n",
            "Epoch 9/500\n",
            "2031/2031 [==============================] - 2s 1ms/step - loss: 0.0301 - val_loss: 0.0112\n",
            "Epoch 10/500\n",
            "2031/2031 [==============================] - 2s 1ms/step - loss: 0.0264 - val_loss: 0.0100\n",
            "Epoch 11/500\n",
            "2031/2031 [==============================] - 2s 1ms/step - loss: 0.0231 - val_loss: 0.0092\n",
            "Epoch 12/500\n",
            "2031/2031 [==============================] - 2s 1ms/step - loss: 0.0202 - val_loss: 0.0085\n",
            "Epoch 13/500\n",
            "2031/2031 [==============================] - 2s 1ms/step - loss: 0.0179 - val_loss: 0.0081\n",
            "Epoch 14/500\n",
            "2031/2031 [==============================] - 2s 1ms/step - loss: 0.0159 - val_loss: 0.0078\n",
            "Epoch 15/500\n",
            "2031/2031 [==============================] - 2s 1ms/step - loss: 0.0143 - val_loss: 0.0076\n",
            "Epoch 16/500\n",
            "2031/2031 [==============================] - 2s 1ms/step - loss: 0.0132 - val_loss: 0.0073\n",
            "Epoch 17/500\n",
            "2031/2031 [==============================] - 2s 1ms/step - loss: 0.0122 - val_loss: 0.0071\n",
            "Epoch 18/500\n",
            "2031/2031 [==============================] - 2s 1ms/step - loss: 0.0115 - val_loss: 0.0068\n",
            "Epoch 19/500\n",
            "2031/2031 [==============================] - 2s 1ms/step - loss: 0.0111 - val_loss: 0.0067\n",
            "Epoch 20/500\n",
            "2031/2031 [==============================] - 2s 1ms/step - loss: 0.0107 - val_loss: 0.0065\n",
            "Epoch 21/500\n",
            "2031/2031 [==============================] - 2s 1ms/step - loss: 0.0105 - val_loss: 0.0064\n"
          ],
          "name": "stdout"
        }
      ]
    },
    {
      "cell_type": "code",
      "metadata": {
        "id": "CNwW7pkF2Uii",
        "outputId": "0186b245-b790-4940-a3cb-61ecb1a35633",
        "colab": {
          "base_uri": "https://localhost:8080/",
          "height": 312
        }
      },
      "source": [
        " # list all data in history\n",
        "print(history.history.keys())\n",
        "# summarize history for accuracy\n",
        "# History for Dropout 1st layer every layer after the maxpooling, 1e-3 in the first 2 layers and in the third layer, the regularization rate is 1e-01\n",
        "# summarize history for loss\n",
        "plt.plot(history.history['loss'])\n",
        "plt.plot(history.history['val_loss'])\n",
        "plt.title('model loss_training_and_validating')\n",
        "plt.ylabel('loss')\n",
        "plt.xlabel('epoch')\n",
        "plt.legend(['train', 'validation'], loc='upper left')\n",
        "plt.show()"
      ],
      "execution_count": null,
      "outputs": [
        {
          "output_type": "stream",
          "text": [
            "dict_keys(['loss', 'val_loss'])\n"
          ],
          "name": "stdout"
        },
        {
          "output_type": "display_data",
          "data": {
            "image/png": "[encoded data removed]",
            "text/plain": [
              "<Figure size 432x288 with 1 Axes>"
            ]
          },
          "metadata": {
            "tags": [],
            "needs_background": "light"
          }
        }
      ]
    },
    {
      "cell_type": "code",
      "metadata": {
        "id": "ZE5RJvuL5NGk"
      },
      "source": [
        "y=autoencoder.predict(x_test)"
      ],
      "execution_count": null,
      "outputs": []
    },
    {
      "cell_type": "code",
      "metadata": {
        "id": "7gBe0fNEJMRF"
      },
      "source": [
        "x_test.shape\n",
        "xc=x_test.reshape((x_test.shape[0]*x_test.shape[1]), x_test.shape[2])\n",
        "\n",
        "vc=y.reshape((y.shape[0]*y.shape[1]), y.shape[2])"
      ],
      "execution_count": null,
      "outputs": []
    },
    {
      "cell_type": "code",
      "metadata": {
        "id": "r4Gw7J5zBbHq"
      },
      "source": [
        "xc1=xc[:,0]\n",
        "xc2=xc[:,1]\n",
        "xc3=xc[:,2]\n",
        "xc4=xc[:,3]"
      ],
      "execution_count": null,
      "outputs": []
    },
    {
      "cell_type": "code",
      "metadata": {
        "id": "oHalAyWYBfxA"
      },
      "source": [
        "\n",
        "vc=y.reshape((y.shape[0]*y.shape[1]), y.shape[2])\n",
        "vc1=vc[:,0]\n",
        "vc2=vc[:,1]\n",
        "vc3=vc[:,2]\n",
        "vc4=vc[:,3]"
      ],
      "execution_count": null,
      "outputs": []
    },
    {
      "cell_type": "code",
      "metadata": {
        "id": "QSbzvsFEBkTz"
      },
      "source": [
        "t_test=t[-10000:]"
      ],
      "execution_count": null,
      "outputs": []
    },
    {
      "cell_type": "markdown",
      "metadata": {
        "id": "vYMRL7lFJtin"
      },
      "source": [
        "# DVL prediction resutls"
      ]
    },
    {
      "cell_type": "code",
      "metadata": {
        "id": "OfdkfYA2BoHB",
        "outputId": "fb67ed0b-e796-4c92-f74d-1d35fda0d3d4",
        "colab": {
          "base_uri": "https://localhost:8080/",
          "height": 295
        }
      },
      "source": [
        "fax = plt.gca()\n",
        "plt.plot(t_test,xc1, color='yellow', label='Orignal DVL1 Data')\n",
        "\n",
        "plt.plot(t_test,vc1, color='green', label='prediction')\n",
        "plt.xlabel('Time')\n",
        "plt.ylabel('Distance')\n",
        "plt.title('DVL Beam 1')\n",
        "plt.legend()\n",
        "\n",
        "plt.show()"
      ],
      "execution_count": null,
      "outputs": [
        {
          "output_type": "display_data",
          "data": {
            "image/png": "[encoded data removed]",
            "text/plain": [
              "<Figure size 432x288 with 1 Axes>"
            ]
          },
          "metadata": {
            "tags": [],
            "needs_background": "light"
          }
        }
      ]
    },
    {
      "cell_type": "code",
      "metadata": {
        "id": "qSQHULpIBqSs",
        "outputId": "e2c9e2cd-65ac-4c6e-d394-ff3ddf56f6d1",
        "colab": {
          "base_uri": "https://localhost:8080/",
          "height": 295
        }
      },
      "source": [
        "fax = plt.gca()\n",
        "plt.plot(t_test,xc2, color='yellow', label='Orignal DVL1 Data')\n",
        "\n",
        "plt.plot(t_test,vc2, color='green', label='prediction')\n",
        "plt.xlabel('Time')\n",
        "plt.ylabel('Distance')\n",
        "plt.title('DVL Beam 2')\n",
        "plt.legend()\n",
        "\n",
        "plt.show()"
      ],
      "execution_count": null,
      "outputs": [
        {
          "output_type": "display_data",
          "data": {
            "image/png": "[encoded data removed]",
            "text/plain": [
              "<Figure size 432x288 with 1 Axes>"
            ]
          },
          "metadata": {
            "tags": [],
            "needs_background": "light"
          }
        }
      ]
    },
    {
      "cell_type": "code",
      "metadata": {
        "id": "ksGrCEQaBvHM",
        "outputId": "34bf13b8-62fb-44ba-e0e9-9de587bf4844",
        "colab": {
          "base_uri": "https://localhost:8080/",
          "height": 295
        }
      },
      "source": [
        "fax = plt.gca()\n",
        "plt.plot(t_test,xc3, color='yellow', label='Orignal DVL1 Data')\n",
        "\n",
        "plt.plot(t_test,vc3, color='green', label='prediction')\n",
        "plt.xlabel('Time')\n",
        "plt.ylabel('Distance')\n",
        "plt.title('DVL Beam 3')\n",
        "plt.legend()\n",
        "\n",
        "plt.show()"
      ],
      "execution_count": null,
      "outputs": [
        {
          "output_type": "display_data",
          "data": {
            "image/png": "[encoded data removed]",
            "text/plain": [
              "<Figure size 432x288 with 1 Axes>"
            ]
          },
          "metadata": {
            "tags": [],
            "needs_background": "light"
          }
        }
      ]
    },
    {
      "cell_type": "code",
      "metadata": {
        "id": "GNBHTZifBxxt",
        "outputId": "7b462f4e-d4cc-4036-a583-2c68bdfc291c",
        "colab": {
          "base_uri": "https://localhost:8080/",
          "height": 295
        }
      },
      "source": [
        "fax = plt.gca()\n",
        "plt.plot(t_test,xc4, color='yellow', label='Orignal DVL1 Data')\n",
        "\n",
        "plt.plot(t_test,vc4, color='green', label='prediction')\n",
        "plt.xlabel('Time')\n",
        "plt.ylabel('Distance')\n",
        "plt.title('DVL Beam 4')\n",
        "plt.legend()\n",
        "\n",
        "plt.show()"
      ],
      "execution_count": null,
      "outputs": [
        {
          "output_type": "display_data",
          "data": {
            "image/png": "[encoded data removed]",
            "text/plain": [
              "<Figure size 432x288 with 1 Axes>"
            ]
          },
          "metadata": {
            "tags": [],
            "needs_background": "light"
          }
        }
      ]
    },
    {
      "cell_type": "code",
      "metadata": {
        "id": "sw8443shFdru"
      },
      "source": [
        "# Analysis for the few fishes, in order to remove them\n",
        "t_test_2000=t_test[:2000]"
      ],
      "execution_count": null,
      "outputs": []
    },
    {
      "cell_type": "code",
      "metadata": {
        "id": "zTmahsoJGcp3"
      },
      "source": [
        "xc_2000=xc1[:2000]"
      ],
      "execution_count": null,
      "outputs": []
    },
    {
      "cell_type": "code",
      "metadata": {
        "id": "asqNTBJeGiOZ"
      },
      "source": [
        "vc_2000=vc1[:2000]"
      ],
      "execution_count": null,
      "outputs": []
    },
    {
      "cell_type": "code",
      "metadata": {
        "id": "0IiZh0dUGlBv"
      },
      "source": [
        "xc_2000f=xc2[:2000]\n",
        "vc_2000f=vc2[:2000]"
      ],
      "execution_count": null,
      "outputs": []
    },
    {
      "cell_type": "code",
      "metadata": {
        "id": "iT99OvdaGpe9"
      },
      "source": [
        "xc_2000g=xc3[:2000]\n",
        "vc_2000g=vc3[:2000]"
      ],
      "execution_count": null,
      "outputs": []
    },
    {
      "cell_type": "code",
      "metadata": {
        "id": "MPJ1fvHPGuDi"
      },
      "source": [
        "xc_2000h=xc4[:2000]\n",
        "vc_2000h=vc4[:2000]"
      ],
      "execution_count": null,
      "outputs": []
    },
    {
      "cell_type": "markdown",
      "metadata": {
        "id": "SD09HW-xJhdp"
      },
      "source": [
        "# DVL Beams predicition results for few samples"
      ]
    },
    {
      "cell_type": "code",
      "metadata": {
        "id": "jH2DlXwHHBr-",
        "outputId": "5974028f-9b2c-4f92-fd0d-034be3551416",
        "colab": {
          "base_uri": "https://localhost:8080/",
          "height": 295
        }
      },
      "source": [
        "fax = plt.gca()\n",
        "plt.plot(t_test_2000,xc_2000, color='yellow', label='Orignal DVL1 Data')\n",
        "\n",
        "plt.plot(t_test_2000,vc_2000, color='green', label='prediction')\n",
        "plt.xlabel('Time')\n",
        "plt.ylabel('Distance')\n",
        "plt.title('DVL Beam 1')\n",
        "plt.legend()\n",
        "\n",
        "plt.show()"
      ],
      "execution_count": null,
      "outputs": [
        {
          "output_type": "display_data",
          "data": {
            "image/png": "[encoded data removed]",
            "text/plain": [
              "<Figure size 432x288 with 1 Axes>"
            ]
          },
          "metadata": {
            "tags": [],
            "needs_background": "light"
          }
        }
      ]
    },
    {
      "cell_type": "code",
      "metadata": {
        "id": "Y3Mmq5rFHbfE",
        "outputId": "9df48443-bb05-462d-8a55-bdd9f2f67f88",
        "colab": {
          "base_uri": "https://localhost:8080/",
          "height": 295
        }
      },
      "source": [
        "fax = plt.gca()\n",
        "plt.plot(t_test_2000,xc_2000f, color='yellow', label='Orignal DVL1 Data')\n",
        "\n",
        "plt.plot(t_test_2000,vc_2000f, color='green', label='prediction')\n",
        "plt.xlabel('Time')\n",
        "plt.ylabel('Distance')\n",
        "plt.title('DVL Beam 2')\n",
        "plt.legend()\n",
        "\n",
        "plt.show()"
      ],
      "execution_count": null,
      "outputs": [
        {
          "output_type": "display_data",
          "data": {
            "image/png": "[encoded data removed]",
            "text/plain": [
              "<Figure size 432x288 with 1 Axes>"
            ]
          },
          "metadata": {
            "tags": [],
            "needs_background": "light"
          }
        }
      ]
    },
    {
      "cell_type": "code",
      "metadata": {
        "id": "ZY2j0utQHMGB",
        "outputId": "200fb464-4300-4150-a56d-76baa58caec6",
        "colab": {
          "base_uri": "https://localhost:8080/",
          "height": 295
        }
      },
      "source": [
        "fax = plt.gca()\n",
        "plt.plot(t_test_2000,xc_2000g, color='yellow', label='Orignal DVL1 Data')\n",
        "\n",
        "plt.plot(t_test_2000,vc_2000g, color='green', label='prediction')\n",
        "plt.xlabel('Time')\n",
        "plt.ylabel('Distance')\n",
        "plt.title('DVL Beam 3')\n",
        "plt.legend()\n",
        "\n",
        "plt.show()"
      ],
      "execution_count": null,
      "outputs": [
        {
          "output_type": "display_data",
          "data": {
            "image/png": "[encoded data removed]",
            "text/plain": [
              "<Figure size 432x288 with 1 Axes>"
            ]
          },
          "metadata": {
            "tags": [],
            "needs_background": "light"
          }
        }
      ]
    },
    {
      "cell_type": "code",
      "metadata": {
        "id": "MmD7OWJuLH8N",
        "outputId": "5a89d800-9d96-427f-9096-8b10c8a331e9",
        "colab": {
          "base_uri": "https://localhost:8080/",
          "height": 295
        }
      },
      "source": [
        "fax = plt.gca()\n",
        "plt.plot(t_test_2000,xc_2000h, color='yellow', label='Orignal DVL1 Data')\n",
        "plt.plot(t_test_2000,vc_2000h, color='green', label='prediction')\n",
        "plt.xlabel('Time')\n",
        "plt.ylabel('Distance')\n",
        "plt.title('DVL Beam 4')\n",
        "plt.legend()\n",
        "axes = plt.gca()\n",
        "#axes.set_xlim([xmin,xmax])\n",
        "axes.set_ylim([0,2.8])\n",
        "plt.show()"
      ],
      "execution_count": null,
      "outputs": [
        {
          "output_type": "display_data",
          "data": {
            "image/png": "[encoded data removed]",
            "text/plain": [
              "<Figure size 432x288 with 1 Axes>"
            ]
          },
          "metadata": {
            "tags": [],
            "needs_background": "light"
          }
        }
      ]
    }
  ]
}