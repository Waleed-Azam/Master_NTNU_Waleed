{
  "nbformat": 4,
  "nbformat_minor": 0,
  "metadata": {
    "colab": {
      "name": "Data from Sea without Fish Prediciton",
      "provenance": [],
      "authorship_tag": "ABX9TyNxhipBScMVBb1ksyFKJoVT",
      "include_colab_link": true
    },
    "kernelspec": {
      "name": "python3",
      "display_name": "Python 3"
    }
  },
  "cells": [
    {
      "cell_type": "markdown",
      "metadata": {
        "id": "view-in-github",
        "colab_type": "text"
      },
      "source": [
        "<a href=\"https://colab.research.google.com/github/Waleed-Azam/Master_NTNU_Waleed/blob/master/Data_from_Sea_without_Fish_Prediciton.ipynb\" target=\"_parent\"><img src=\"https://colab.research.google.com/assets/colab-badge.svg\" alt=\"Open In Colab\"/></a>"
      ]
    },
    {
      "cell_type": "code",
      "metadata": {
        "id": "p51ugjKT0XjM"
      },
      "source": [
        "#Prepare the nice data set\n",
        "from sklearn.model_selection import train_test_split\n",
        "# univariate cnn example\n",
        "from numpy import array\n",
        "from keras.models import Sequential\n",
        "from keras.layers import Dense\n",
        "from keras.layers import Flatten\n",
        "from keras.layers.convolutional import Conv1D\n",
        "from keras.layers.convolutional import MaxPooling1D\n",
        "from sklearn.preprocessing import MinMaxScaler\n",
        "!pip install -U -q PyDrive\n",
        "from pydrive.auth import GoogleAuth\n",
        "from pydrive.drive import GoogleDrive\n",
        "from google.colab import auth\n",
        "from oauth2client.client import GoogleCredentials\n",
        "import numpy as np \n",
        "import matplotlib.pyplot as plt\n"
      ],
      "execution_count": null,
      "outputs": []
    },
    {
      "cell_type": "code",
      "metadata": {
        "id": "kTj4mjJY0edk"
      },
      "source": [
        "auth.authenticate_user()\n",
        "gauth = GoogleAuth()\n",
        "gauth.credentials = GoogleCredentials.get_application_default()\n",
        "drive = GoogleDrive(gauth)"
      ],
      "execution_count": null,
      "outputs": []
    },
    {
      "cell_type": "code",
      "metadata": {
        "id": "6rK3THWx0iwK"
      },
      "source": [
        "downloaded = drive.CreateFile({'id':'1Bi2fJZw6Vhj7dyP7Ad6qtPsYf5LevEm4'})\n",
        "downloaded_2= drive.CreateFile({'id':'12ZLwEA-DL3BWgcnmlET-2PcNdZGDGr0h'})"
      ],
      "execution_count": null,
      "outputs": []
    },
    {
      "cell_type": "code",
      "metadata": {
        "id": "q8A8Mhzq0pAF",
        "outputId": "85a4f8c5-8184-4031-b30f-e3d10b4af2e5",
        "colab": {
          "base_uri": "https://localhost:8080/",
          "height": 405
        }
      },
      "source": [
        "#Importing all the libraries\n",
        "import numpy as np\n",
        "import numpy as geek \n",
        "from keras.layers import Input, Dense, LSTM, multiply, concatenate, Activation, Masking, Reshape\n",
        "from keras.models import Sequential\n",
        "from keras.models import Model\n",
        "from keras.layers import Input, Dense, LSTM, multiply, concatenate, Activation, Masking, Reshape\n",
        "from keras.layers import BatchNormalization, GlobalAveragePooling1D, Permute, Dropout\n",
        "from keras.layers.convolutional import Conv1D\n",
        "from keras.layers.convolutional import MaxPooling1D\n",
        "from keras.optimizers import RMSprop, Adam\n",
        "from keras.layers import LSTM, Activation \n",
        "from sklearn.preprocessing import MinMaxScaler\n",
        "from keras.models import load_model\n",
        "import pandas as pd\n",
        "downloaded.GetContentFile('Master_thesis_Data.csv')\n",
        "#downloaded_1.GetContentFile('Test_17_sea.csv')\n",
        "downloaded_2.GetContentFile('April_Without_Fish.csv')\n",
        "#df1 = pd.read_csv('Test_17_sea.csv') \n",
        "df3 = pd.read_csv('April_Without_Fish.csv') \n",
        "df2 = pd.read_csv('Master_thesis_Data.csv')\n",
        "df3"
      ],
      "execution_count": null,
      "outputs": [
        {
          "output_type": "execute_result",
          "data": {
            "text/html": [
              "<div>\n",
              "<style scoped>\n",
              "    .dataframe tbody tr th:only-of-type {\n",
              "        vertical-align: middle;\n",
              "    }\n",
              "\n",
              "    .dataframe tbody tr th {\n",
              "        vertical-align: top;\n",
              "    }\n",
              "\n",
              "    .dataframe thead th {\n",
              "        text-align: right;\n",
              "    }\n",
              "</style>\n",
              "<table border=\"1\" class=\"dataframe\">\n",
              "  <thead>\n",
              "    <tr style=\"text-align: right;\">\n",
              "      <th></th>\n",
              "      <th>DVL_1</th>\n",
              "      <th>DVL_2</th>\n",
              "      <th>DVL_3</th>\n",
              "      <th>DVL_4</th>\n",
              "      <th>Down</th>\n",
              "      <th>Heading</th>\n",
              "    </tr>\n",
              "  </thead>\n",
              "  <tbody>\n",
              "    <tr>\n",
              "      <th>0</th>\n",
              "      <td>0.000000</td>\n",
              "      <td>0.000000</td>\n",
              "      <td>0.000000</td>\n",
              "      <td>0.0</td>\n",
              "      <td>0.00</td>\n",
              "      <td>0.00</td>\n",
              "    </tr>\n",
              "    <tr>\n",
              "      <th>1</th>\n",
              "      <td>0.000000</td>\n",
              "      <td>0.000000</td>\n",
              "      <td>0.000000</td>\n",
              "      <td>0.0</td>\n",
              "      <td>0.00</td>\n",
              "      <td>0.00</td>\n",
              "    </tr>\n",
              "    <tr>\n",
              "      <th>2</th>\n",
              "      <td>0.000000</td>\n",
              "      <td>0.000000</td>\n",
              "      <td>0.000000</td>\n",
              "      <td>0.0</td>\n",
              "      <td>0.00</td>\n",
              "      <td>0.00</td>\n",
              "    </tr>\n",
              "    <tr>\n",
              "      <th>3</th>\n",
              "      <td>0.000000</td>\n",
              "      <td>0.000000</td>\n",
              "      <td>0.000000</td>\n",
              "      <td>0.0</td>\n",
              "      <td>0.04</td>\n",
              "      <td>3.90</td>\n",
              "    </tr>\n",
              "    <tr>\n",
              "      <th>4</th>\n",
              "      <td>0.000000</td>\n",
              "      <td>0.000000</td>\n",
              "      <td>0.000000</td>\n",
              "      <td>0.0</td>\n",
              "      <td>0.08</td>\n",
              "      <td>3.96</td>\n",
              "    </tr>\n",
              "    <tr>\n",
              "      <th>...</th>\n",
              "      <td>...</td>\n",
              "      <td>...</td>\n",
              "      <td>...</td>\n",
              "      <td>...</td>\n",
              "      <td>...</td>\n",
              "      <td>...</td>\n",
              "    </tr>\n",
              "    <tr>\n",
              "      <th>3056</th>\n",
              "      <td>0.671787</td>\n",
              "      <td>4.036387</td>\n",
              "      <td>4.954006</td>\n",
              "      <td>0.0</td>\n",
              "      <td>0.00</td>\n",
              "      <td>4.64</td>\n",
              "    </tr>\n",
              "    <tr>\n",
              "      <th>3057</th>\n",
              "      <td>0.671787</td>\n",
              "      <td>4.087367</td>\n",
              "      <td>4.750091</td>\n",
              "      <td>0.0</td>\n",
              "      <td>0.00</td>\n",
              "      <td>4.65</td>\n",
              "    </tr>\n",
              "    <tr>\n",
              "      <th>3058</th>\n",
              "      <td>0.722766</td>\n",
              "      <td>4.138345</td>\n",
              "      <td>4.750091</td>\n",
              "      <td>0.0</td>\n",
              "      <td>0.00</td>\n",
              "      <td>4.67</td>\n",
              "    </tr>\n",
              "    <tr>\n",
              "      <th>3059</th>\n",
              "      <td>0.722766</td>\n",
              "      <td>4.138345</td>\n",
              "      <td>4.750091</td>\n",
              "      <td>0.0</td>\n",
              "      <td>0.00</td>\n",
              "      <td>4.69</td>\n",
              "    </tr>\n",
              "    <tr>\n",
              "      <th>3060</th>\n",
              "      <td>0.722766</td>\n",
              "      <td>4.138345</td>\n",
              "      <td>4.750091</td>\n",
              "      <td>0.0</td>\n",
              "      <td>0.00</td>\n",
              "      <td>4.71</td>\n",
              "    </tr>\n",
              "  </tbody>\n",
              "</table>\n",
              "<p>3061 rows × 6 columns</p>\n",
              "</div>"
            ],
            "text/plain": [
              "         DVL_1     DVL_2     DVL_3  DVL_4  Down  Heading\n",
              "0     0.000000  0.000000  0.000000    0.0  0.00     0.00\n",
              "1     0.000000  0.000000  0.000000    0.0  0.00     0.00\n",
              "2     0.000000  0.000000  0.000000    0.0  0.00     0.00\n",
              "3     0.000000  0.000000  0.000000    0.0  0.04     3.90\n",
              "4     0.000000  0.000000  0.000000    0.0  0.08     3.96\n",
              "...        ...       ...       ...    ...   ...      ...\n",
              "3056  0.671787  4.036387  4.954006    0.0  0.00     4.64\n",
              "3057  0.671787  4.087367  4.750091    0.0  0.00     4.65\n",
              "3058  0.722766  4.138345  4.750091    0.0  0.00     4.67\n",
              "3059  0.722766  4.138345  4.750091    0.0  0.00     4.69\n",
              "3060  0.722766  4.138345  4.750091    0.0  0.00     4.71\n",
              "\n",
              "[3061 rows x 6 columns]"
            ]
          },
          "metadata": {
            "tags": []
          },
          "execution_count": 101
        }
      ]
    },
    {
      "cell_type": "code",
      "metadata": {
        "id": "if5oBgOn0yRX",
        "outputId": "4ac9de76-1416-4857-d12a-9802c0e47df9",
        "colab": {
          "base_uri": "https://localhost:8080/",
          "height": 425
        }
      },
      "source": [
        "import pandas as pd\n",
        "df2 = pd.read_csv('Master_thesis_Data.csv') \n",
        "#df2=df2.drop(columns=['Unnamed: 13', 'Unnamed: 14'])\n",
        "#Cleaning the data, for mainly removing the NaN value\n",
        "df2[\"Time\"] = df2[\"Time\"].fillna(0)\n",
        "df2[\"DVL1\"] = df2[\"DVL1\"].fillna(0)\n",
        "df2[\"DVL2\"] = df2[\"DVL2\"].fillna(0)\n",
        "df2[\"DVL3\"] = df2[\"DVL3\"].fillna(0)\n",
        "df2[\"DVL4\"] = df2[\"DVL4\"].fillna(0)\n",
        "df2[\"DVL1_S\"] = df2[\"DVL1_S\"].fillna(0)\n",
        "df2[\"DVL2_S\"] = df2[\"DVL2_S\"].fillna(0)\n",
        "df2[\"DVL3_S\"] = df2[\"DVL3_S\"].fillna(0)\n",
        "df2[\"DVL4_S\"] = df2[\"DVL4_S\"].fillna(0)\n",
        "df2[\"ROV6DOF\"] = df2[\"ROV6DOF\"].fillna(0)\n",
        "df2[\"ROV6DOF.1\"] = df2[\"ROV6DOF.1\"].fillna(0)\n",
        "df2[\"ROV6DOF.2\"] = df2[\"ROV6DOF.2\"].fillna(0)\n",
        "df2[\"ROV6DOF.3\"] = df2[\"ROV6DOF.3\"].fillna(0)\n",
        "\n",
        "df2\n"
      ],
      "execution_count": null,
      "outputs": [
        {
          "output_type": "execute_result",
          "data": {
            "text/html": [
              "<div>\n",
              "<style scoped>\n",
              "    .dataframe tbody tr th:only-of-type {\n",
              "        vertical-align: middle;\n",
              "    }\n",
              "\n",
              "    .dataframe tbody tr th {\n",
              "        vertical-align: top;\n",
              "    }\n",
              "\n",
              "    .dataframe thead th {\n",
              "        text-align: right;\n",
              "    }\n",
              "</style>\n",
              "<table border=\"1\" class=\"dataframe\">\n",
              "  <thead>\n",
              "    <tr style=\"text-align: right;\">\n",
              "      <th></th>\n",
              "      <th>Time</th>\n",
              "      <th>DVL1_S</th>\n",
              "      <th>DVL2_S</th>\n",
              "      <th>DVL3_S</th>\n",
              "      <th>DVL4_S</th>\n",
              "      <th>DVL1</th>\n",
              "      <th>DVL2</th>\n",
              "      <th>DVL3</th>\n",
              "      <th>DVL4</th>\n",
              "      <th>ROV6DOF</th>\n",
              "      <th>ROV6DOF.1</th>\n",
              "      <th>ROV6DOF.2</th>\n",
              "      <th>ROV6DOF.3</th>\n",
              "    </tr>\n",
              "  </thead>\n",
              "  <tbody>\n",
              "    <tr>\n",
              "      <th>0</th>\n",
              "      <td>0.0</td>\n",
              "      <td>0.000000</td>\n",
              "      <td>0.0</td>\n",
              "      <td>0.000000</td>\n",
              "      <td>0.000000</td>\n",
              "      <td>0.000000</td>\n",
              "      <td>0.000000</td>\n",
              "      <td>0.000000</td>\n",
              "      <td>0.000000</td>\n",
              "      <td>0.00</td>\n",
              "      <td>0.0</td>\n",
              "      <td>0.00</td>\n",
              "      <td>0.00</td>\n",
              "    </tr>\n",
              "    <tr>\n",
              "      <th>1</th>\n",
              "      <td>0.0</td>\n",
              "      <td>20.000000</td>\n",
              "      <td>20.0</td>\n",
              "      <td>20.000000</td>\n",
              "      <td>20.000000</td>\n",
              "      <td>20.000000</td>\n",
              "      <td>20.000000</td>\n",
              "      <td>20.000000</td>\n",
              "      <td>20.000000</td>\n",
              "      <td>0.00</td>\n",
              "      <td>0.0</td>\n",
              "      <td>0.00</td>\n",
              "      <td>0.00</td>\n",
              "    </tr>\n",
              "    <tr>\n",
              "      <th>2</th>\n",
              "      <td>0.1</td>\n",
              "      <td>20.000000</td>\n",
              "      <td>20.0</td>\n",
              "      <td>20.000000</td>\n",
              "      <td>20.000000</td>\n",
              "      <td>20.000000</td>\n",
              "      <td>20.000000</td>\n",
              "      <td>20.000000</td>\n",
              "      <td>20.000000</td>\n",
              "      <td>0.00</td>\n",
              "      <td>0.0</td>\n",
              "      <td>0.00</td>\n",
              "      <td>0.00</td>\n",
              "    </tr>\n",
              "    <tr>\n",
              "      <th>3</th>\n",
              "      <td>0.2</td>\n",
              "      <td>20.000000</td>\n",
              "      <td>20.0</td>\n",
              "      <td>20.000000</td>\n",
              "      <td>20.000000</td>\n",
              "      <td>20.000000</td>\n",
              "      <td>20.000000</td>\n",
              "      <td>20.000000</td>\n",
              "      <td>20.000000</td>\n",
              "      <td>0.00</td>\n",
              "      <td>0.0</td>\n",
              "      <td>0.00</td>\n",
              "      <td>0.00</td>\n",
              "    </tr>\n",
              "    <tr>\n",
              "      <th>4</th>\n",
              "      <td>0.3</td>\n",
              "      <td>20.000000</td>\n",
              "      <td>20.0</td>\n",
              "      <td>20.000000</td>\n",
              "      <td>20.000000</td>\n",
              "      <td>20.000000</td>\n",
              "      <td>20.000000</td>\n",
              "      <td>20.000000</td>\n",
              "      <td>20.000000</td>\n",
              "      <td>0.00</td>\n",
              "      <td>0.0</td>\n",
              "      <td>0.00</td>\n",
              "      <td>0.00</td>\n",
              "    </tr>\n",
              "    <tr>\n",
              "      <th>...</th>\n",
              "      <td>...</td>\n",
              "      <td>...</td>\n",
              "      <td>...</td>\n",
              "      <td>...</td>\n",
              "      <td>...</td>\n",
              "      <td>...</td>\n",
              "      <td>...</td>\n",
              "      <td>...</td>\n",
              "      <td>...</td>\n",
              "      <td>...</td>\n",
              "      <td>...</td>\n",
              "      <td>...</td>\n",
              "      <td>...</td>\n",
              "    </tr>\n",
              "    <tr>\n",
              "      <th>84986</th>\n",
              "      <td>8498.5</td>\n",
              "      <td>2.692643</td>\n",
              "      <td>1.8</td>\n",
              "      <td>2.620548</td>\n",
              "      <td>2.615895</td>\n",
              "      <td>2.692643</td>\n",
              "      <td>2.628101</td>\n",
              "      <td>2.620548</td>\n",
              "      <td>2.615895</td>\n",
              "      <td>5.27</td>\n",
              "      <td>16.8</td>\n",
              "      <td>4.87</td>\n",
              "      <td>-3.37</td>\n",
              "    </tr>\n",
              "    <tr>\n",
              "      <th>84987</th>\n",
              "      <td>8498.6</td>\n",
              "      <td>2.692682</td>\n",
              "      <td>1.8</td>\n",
              "      <td>2.620243</td>\n",
              "      <td>2.615925</td>\n",
              "      <td>2.692682</td>\n",
              "      <td>2.629319</td>\n",
              "      <td>2.620243</td>\n",
              "      <td>2.615925</td>\n",
              "      <td>5.25</td>\n",
              "      <td>16.8</td>\n",
              "      <td>4.87</td>\n",
              "      <td>-3.37</td>\n",
              "    </tr>\n",
              "    <tr>\n",
              "      <th>84988</th>\n",
              "      <td>8498.7</td>\n",
              "      <td>2.692715</td>\n",
              "      <td>1.8</td>\n",
              "      <td>2.619866</td>\n",
              "      <td>2.615951</td>\n",
              "      <td>2.692715</td>\n",
              "      <td>2.630637</td>\n",
              "      <td>2.619866</td>\n",
              "      <td>2.615951</td>\n",
              "      <td>5.22</td>\n",
              "      <td>16.8</td>\n",
              "      <td>4.87</td>\n",
              "      <td>-3.37</td>\n",
              "    </tr>\n",
              "    <tr>\n",
              "      <th>84989</th>\n",
              "      <td>8498.8</td>\n",
              "      <td>2.692740</td>\n",
              "      <td>1.8</td>\n",
              "      <td>2.619450</td>\n",
              "      <td>2.615970</td>\n",
              "      <td>2.692740</td>\n",
              "      <td>2.631916</td>\n",
              "      <td>2.619450</td>\n",
              "      <td>2.615970</td>\n",
              "      <td>5.20</td>\n",
              "      <td>16.8</td>\n",
              "      <td>4.87</td>\n",
              "      <td>-3.36</td>\n",
              "    </tr>\n",
              "    <tr>\n",
              "      <th>84990</th>\n",
              "      <td>8498.9</td>\n",
              "      <td>2.692755</td>\n",
              "      <td>1.8</td>\n",
              "      <td>2.618994</td>\n",
              "      <td>2.615983</td>\n",
              "      <td>2.692755</td>\n",
              "      <td>2.633157</td>\n",
              "      <td>2.618994</td>\n",
              "      <td>2.615983</td>\n",
              "      <td>5.18</td>\n",
              "      <td>16.7</td>\n",
              "      <td>4.87</td>\n",
              "      <td>-3.36</td>\n",
              "    </tr>\n",
              "  </tbody>\n",
              "</table>\n",
              "<p>84991 rows × 13 columns</p>\n",
              "</div>"
            ],
            "text/plain": [
              "         Time     DVL1_S  DVL2_S  ...  ROV6DOF.1  ROV6DOF.2  ROV6DOF.3\n",
              "0         0.0   0.000000     0.0  ...        0.0       0.00       0.00\n",
              "1         0.0  20.000000    20.0  ...        0.0       0.00       0.00\n",
              "2         0.1  20.000000    20.0  ...        0.0       0.00       0.00\n",
              "3         0.2  20.000000    20.0  ...        0.0       0.00       0.00\n",
              "4         0.3  20.000000    20.0  ...        0.0       0.00       0.00\n",
              "...       ...        ...     ...  ...        ...        ...        ...\n",
              "84986  8498.5   2.692643     1.8  ...       16.8       4.87      -3.37\n",
              "84987  8498.6   2.692682     1.8  ...       16.8       4.87      -3.37\n",
              "84988  8498.7   2.692715     1.8  ...       16.8       4.87      -3.37\n",
              "84989  8498.8   2.692740     1.8  ...       16.8       4.87      -3.36\n",
              "84990  8498.9   2.692755     1.8  ...       16.7       4.87      -3.36\n",
              "\n",
              "[84991 rows x 13 columns]"
            ]
          },
          "metadata": {
            "tags": []
          },
          "execution_count": 102
        }
      ]
    },
    {
      "cell_type": "code",
      "metadata": {
        "id": "SsY7_HJG00vh",
        "outputId": "3df3c776-00f7-44d4-f506-4b548c246614",
        "colab": {
          "base_uri": "https://localhost:8080/",
          "height": 425
        }
      },
      "source": [
        "df2.drop(84990) \n",
        "df2=df2.drop(84988)\n",
        "df2=df2.drop(84987)\n",
        "df2.drop(84990)\n",
        "df2=df2.drop(84985)\n",
        "df2=df2.drop(84990)\n",
        "df2=df2.drop(84984)\n",
        "df2=df2.drop(84983)\n",
        "df2=df2.drop(84982)\n",
        "df2=df2.drop(84981)\n",
        "df2=df2.drop(84980)\n",
        "df2=df2.drop(84986)\n",
        "df2=df2.drop(84989)\n",
        "df2"
      ],
      "execution_count": null,
      "outputs": [
        {
          "output_type": "execute_result",
          "data": {
            "text/html": [
              "<div>\n",
              "<style scoped>\n",
              "    .dataframe tbody tr th:only-of-type {\n",
              "        vertical-align: middle;\n",
              "    }\n",
              "\n",
              "    .dataframe tbody tr th {\n",
              "        vertical-align: top;\n",
              "    }\n",
              "\n",
              "    .dataframe thead th {\n",
              "        text-align: right;\n",
              "    }\n",
              "</style>\n",
              "<table border=\"1\" class=\"dataframe\">\n",
              "  <thead>\n",
              "    <tr style=\"text-align: right;\">\n",
              "      <th></th>\n",
              "      <th>Time</th>\n",
              "      <th>DVL1_S</th>\n",
              "      <th>DVL2_S</th>\n",
              "      <th>DVL3_S</th>\n",
              "      <th>DVL4_S</th>\n",
              "      <th>DVL1</th>\n",
              "      <th>DVL2</th>\n",
              "      <th>DVL3</th>\n",
              "      <th>DVL4</th>\n",
              "      <th>ROV6DOF</th>\n",
              "      <th>ROV6DOF.1</th>\n",
              "      <th>ROV6DOF.2</th>\n",
              "      <th>ROV6DOF.3</th>\n",
              "    </tr>\n",
              "  </thead>\n",
              "  <tbody>\n",
              "    <tr>\n",
              "      <th>0</th>\n",
              "      <td>0.0</td>\n",
              "      <td>0.0</td>\n",
              "      <td>0.0</td>\n",
              "      <td>0.000000</td>\n",
              "      <td>0.0</td>\n",
              "      <td>0.000000</td>\n",
              "      <td>0.000000</td>\n",
              "      <td>0.000000</td>\n",
              "      <td>0.000000</td>\n",
              "      <td>0.00</td>\n",
              "      <td>0.0</td>\n",
              "      <td>0.00</td>\n",
              "      <td>0.00</td>\n",
              "    </tr>\n",
              "    <tr>\n",
              "      <th>1</th>\n",
              "      <td>0.0</td>\n",
              "      <td>20.0</td>\n",
              "      <td>20.0</td>\n",
              "      <td>20.000000</td>\n",
              "      <td>20.0</td>\n",
              "      <td>20.000000</td>\n",
              "      <td>20.000000</td>\n",
              "      <td>20.000000</td>\n",
              "      <td>20.000000</td>\n",
              "      <td>0.00</td>\n",
              "      <td>0.0</td>\n",
              "      <td>0.00</td>\n",
              "      <td>0.00</td>\n",
              "    </tr>\n",
              "    <tr>\n",
              "      <th>2</th>\n",
              "      <td>0.1</td>\n",
              "      <td>20.0</td>\n",
              "      <td>20.0</td>\n",
              "      <td>20.000000</td>\n",
              "      <td>20.0</td>\n",
              "      <td>20.000000</td>\n",
              "      <td>20.000000</td>\n",
              "      <td>20.000000</td>\n",
              "      <td>20.000000</td>\n",
              "      <td>0.00</td>\n",
              "      <td>0.0</td>\n",
              "      <td>0.00</td>\n",
              "      <td>0.00</td>\n",
              "    </tr>\n",
              "    <tr>\n",
              "      <th>3</th>\n",
              "      <td>0.2</td>\n",
              "      <td>20.0</td>\n",
              "      <td>20.0</td>\n",
              "      <td>20.000000</td>\n",
              "      <td>20.0</td>\n",
              "      <td>20.000000</td>\n",
              "      <td>20.000000</td>\n",
              "      <td>20.000000</td>\n",
              "      <td>20.000000</td>\n",
              "      <td>0.00</td>\n",
              "      <td>0.0</td>\n",
              "      <td>0.00</td>\n",
              "      <td>0.00</td>\n",
              "    </tr>\n",
              "    <tr>\n",
              "      <th>4</th>\n",
              "      <td>0.3</td>\n",
              "      <td>20.0</td>\n",
              "      <td>20.0</td>\n",
              "      <td>20.000000</td>\n",
              "      <td>20.0</td>\n",
              "      <td>20.000000</td>\n",
              "      <td>20.000000</td>\n",
              "      <td>20.000000</td>\n",
              "      <td>20.000000</td>\n",
              "      <td>0.00</td>\n",
              "      <td>0.0</td>\n",
              "      <td>0.00</td>\n",
              "      <td>0.00</td>\n",
              "    </tr>\n",
              "    <tr>\n",
              "      <th>...</th>\n",
              "      <td>...</td>\n",
              "      <td>...</td>\n",
              "      <td>...</td>\n",
              "      <td>...</td>\n",
              "      <td>...</td>\n",
              "      <td>...</td>\n",
              "      <td>...</td>\n",
              "      <td>...</td>\n",
              "      <td>...</td>\n",
              "      <td>...</td>\n",
              "      <td>...</td>\n",
              "      <td>...</td>\n",
              "      <td>...</td>\n",
              "    </tr>\n",
              "    <tr>\n",
              "      <th>84975</th>\n",
              "      <td>8497.4</td>\n",
              "      <td>0.8</td>\n",
              "      <td>0.3</td>\n",
              "      <td>2.621668</td>\n",
              "      <td>1.8</td>\n",
              "      <td>2.691185</td>\n",
              "      <td>2.610809</td>\n",
              "      <td>2.621668</td>\n",
              "      <td>2.614601</td>\n",
              "      <td>5.55</td>\n",
              "      <td>17.0</td>\n",
              "      <td>4.87</td>\n",
              "      <td>-3.39</td>\n",
              "    </tr>\n",
              "    <tr>\n",
              "      <th>84976</th>\n",
              "      <td>8497.5</td>\n",
              "      <td>0.8</td>\n",
              "      <td>0.3</td>\n",
              "      <td>2.621745</td>\n",
              "      <td>1.8</td>\n",
              "      <td>2.691401</td>\n",
              "      <td>2.612374</td>\n",
              "      <td>2.621745</td>\n",
              "      <td>2.614807</td>\n",
              "      <td>5.52</td>\n",
              "      <td>17.0</td>\n",
              "      <td>4.87</td>\n",
              "      <td>-3.38</td>\n",
              "    </tr>\n",
              "    <tr>\n",
              "      <th>84977</th>\n",
              "      <td>8497.6</td>\n",
              "      <td>0.8</td>\n",
              "      <td>0.3</td>\n",
              "      <td>2.621804</td>\n",
              "      <td>1.8</td>\n",
              "      <td>2.691634</td>\n",
              "      <td>2.614254</td>\n",
              "      <td>2.621804</td>\n",
              "      <td>2.615026</td>\n",
              "      <td>5.50</td>\n",
              "      <td>17.0</td>\n",
              "      <td>4.87</td>\n",
              "      <td>-3.38</td>\n",
              "    </tr>\n",
              "    <tr>\n",
              "      <th>84978</th>\n",
              "      <td>8497.7</td>\n",
              "      <td>0.8</td>\n",
              "      <td>0.3</td>\n",
              "      <td>2.621820</td>\n",
              "      <td>1.8</td>\n",
              "      <td>2.691802</td>\n",
              "      <td>2.615765</td>\n",
              "      <td>2.621820</td>\n",
              "      <td>2.615181</td>\n",
              "      <td>5.47</td>\n",
              "      <td>16.9</td>\n",
              "      <td>4.87</td>\n",
              "      <td>-3.38</td>\n",
              "    </tr>\n",
              "    <tr>\n",
              "      <th>84979</th>\n",
              "      <td>8497.8</td>\n",
              "      <td>0.8</td>\n",
              "      <td>0.3</td>\n",
              "      <td>2.621799</td>\n",
              "      <td>1.8</td>\n",
              "      <td>2.691982</td>\n",
              "      <td>2.617577</td>\n",
              "      <td>2.621799</td>\n",
              "      <td>2.615344</td>\n",
              "      <td>5.45</td>\n",
              "      <td>16.9</td>\n",
              "      <td>4.87</td>\n",
              "      <td>-3.38</td>\n",
              "    </tr>\n",
              "  </tbody>\n",
              "</table>\n",
              "<p>84980 rows × 13 columns</p>\n",
              "</div>"
            ],
            "text/plain": [
              "         Time  DVL1_S  DVL2_S  ...  ROV6DOF.1  ROV6DOF.2  ROV6DOF.3\n",
              "0         0.0     0.0     0.0  ...        0.0       0.00       0.00\n",
              "1         0.0    20.0    20.0  ...        0.0       0.00       0.00\n",
              "2         0.1    20.0    20.0  ...        0.0       0.00       0.00\n",
              "3         0.2    20.0    20.0  ...        0.0       0.00       0.00\n",
              "4         0.3    20.0    20.0  ...        0.0       0.00       0.00\n",
              "...       ...     ...     ...  ...        ...        ...        ...\n",
              "84975  8497.4     0.8     0.3  ...       17.0       4.87      -3.39\n",
              "84976  8497.5     0.8     0.3  ...       17.0       4.87      -3.38\n",
              "84977  8497.6     0.8     0.3  ...       17.0       4.87      -3.38\n",
              "84978  8497.7     0.8     0.3  ...       16.9       4.87      -3.38\n",
              "84979  8497.8     0.8     0.3  ...       16.9       4.87      -3.38\n",
              "\n",
              "[84980 rows x 13 columns]"
            ]
          },
          "metadata": {
            "tags": []
          },
          "execution_count": 103
        }
      ]
    },
    {
      "cell_type": "code",
      "metadata": {
        "id": "cibnyJhf02Wf",
        "outputId": "13099a8a-b404-43f1-e0e1-2384509f10c0",
        "colab": {
          "base_uri": "https://localhost:8080/",
          "height": 425
        }
      },
      "source": [
        "df3=df3.drop(0) \n",
        "df2\n"
      ],
      "execution_count": null,
      "outputs": [
        {
          "output_type": "execute_result",
          "data": {
            "text/html": [
              "<div>\n",
              "<style scoped>\n",
              "    .dataframe tbody tr th:only-of-type {\n",
              "        vertical-align: middle;\n",
              "    }\n",
              "\n",
              "    .dataframe tbody tr th {\n",
              "        vertical-align: top;\n",
              "    }\n",
              "\n",
              "    .dataframe thead th {\n",
              "        text-align: right;\n",
              "    }\n",
              "</style>\n",
              "<table border=\"1\" class=\"dataframe\">\n",
              "  <thead>\n",
              "    <tr style=\"text-align: right;\">\n",
              "      <th></th>\n",
              "      <th>Time</th>\n",
              "      <th>DVL1_S</th>\n",
              "      <th>DVL2_S</th>\n",
              "      <th>DVL3_S</th>\n",
              "      <th>DVL4_S</th>\n",
              "      <th>DVL1</th>\n",
              "      <th>DVL2</th>\n",
              "      <th>DVL3</th>\n",
              "      <th>DVL4</th>\n",
              "      <th>ROV6DOF</th>\n",
              "      <th>ROV6DOF.1</th>\n",
              "      <th>ROV6DOF.2</th>\n",
              "      <th>ROV6DOF.3</th>\n",
              "    </tr>\n",
              "  </thead>\n",
              "  <tbody>\n",
              "    <tr>\n",
              "      <th>0</th>\n",
              "      <td>0.0</td>\n",
              "      <td>0.0</td>\n",
              "      <td>0.0</td>\n",
              "      <td>0.000000</td>\n",
              "      <td>0.0</td>\n",
              "      <td>0.000000</td>\n",
              "      <td>0.000000</td>\n",
              "      <td>0.000000</td>\n",
              "      <td>0.000000</td>\n",
              "      <td>0.00</td>\n",
              "      <td>0.0</td>\n",
              "      <td>0.00</td>\n",
              "      <td>0.00</td>\n",
              "    </tr>\n",
              "    <tr>\n",
              "      <th>1</th>\n",
              "      <td>0.0</td>\n",
              "      <td>20.0</td>\n",
              "      <td>20.0</td>\n",
              "      <td>20.000000</td>\n",
              "      <td>20.0</td>\n",
              "      <td>20.000000</td>\n",
              "      <td>20.000000</td>\n",
              "      <td>20.000000</td>\n",
              "      <td>20.000000</td>\n",
              "      <td>0.00</td>\n",
              "      <td>0.0</td>\n",
              "      <td>0.00</td>\n",
              "      <td>0.00</td>\n",
              "    </tr>\n",
              "    <tr>\n",
              "      <th>2</th>\n",
              "      <td>0.1</td>\n",
              "      <td>20.0</td>\n",
              "      <td>20.0</td>\n",
              "      <td>20.000000</td>\n",
              "      <td>20.0</td>\n",
              "      <td>20.000000</td>\n",
              "      <td>20.000000</td>\n",
              "      <td>20.000000</td>\n",
              "      <td>20.000000</td>\n",
              "      <td>0.00</td>\n",
              "      <td>0.0</td>\n",
              "      <td>0.00</td>\n",
              "      <td>0.00</td>\n",
              "    </tr>\n",
              "    <tr>\n",
              "      <th>3</th>\n",
              "      <td>0.2</td>\n",
              "      <td>20.0</td>\n",
              "      <td>20.0</td>\n",
              "      <td>20.000000</td>\n",
              "      <td>20.0</td>\n",
              "      <td>20.000000</td>\n",
              "      <td>20.000000</td>\n",
              "      <td>20.000000</td>\n",
              "      <td>20.000000</td>\n",
              "      <td>0.00</td>\n",
              "      <td>0.0</td>\n",
              "      <td>0.00</td>\n",
              "      <td>0.00</td>\n",
              "    </tr>\n",
              "    <tr>\n",
              "      <th>4</th>\n",
              "      <td>0.3</td>\n",
              "      <td>20.0</td>\n",
              "      <td>20.0</td>\n",
              "      <td>20.000000</td>\n",
              "      <td>20.0</td>\n",
              "      <td>20.000000</td>\n",
              "      <td>20.000000</td>\n",
              "      <td>20.000000</td>\n",
              "      <td>20.000000</td>\n",
              "      <td>0.00</td>\n",
              "      <td>0.0</td>\n",
              "      <td>0.00</td>\n",
              "      <td>0.00</td>\n",
              "    </tr>\n",
              "    <tr>\n",
              "      <th>...</th>\n",
              "      <td>...</td>\n",
              "      <td>...</td>\n",
              "      <td>...</td>\n",
              "      <td>...</td>\n",
              "      <td>...</td>\n",
              "      <td>...</td>\n",
              "      <td>...</td>\n",
              "      <td>...</td>\n",
              "      <td>...</td>\n",
              "      <td>...</td>\n",
              "      <td>...</td>\n",
              "      <td>...</td>\n",
              "      <td>...</td>\n",
              "    </tr>\n",
              "    <tr>\n",
              "      <th>84975</th>\n",
              "      <td>8497.4</td>\n",
              "      <td>0.8</td>\n",
              "      <td>0.3</td>\n",
              "      <td>2.621668</td>\n",
              "      <td>1.8</td>\n",
              "      <td>2.691185</td>\n",
              "      <td>2.610809</td>\n",
              "      <td>2.621668</td>\n",
              "      <td>2.614601</td>\n",
              "      <td>5.55</td>\n",
              "      <td>17.0</td>\n",
              "      <td>4.87</td>\n",
              "      <td>-3.39</td>\n",
              "    </tr>\n",
              "    <tr>\n",
              "      <th>84976</th>\n",
              "      <td>8497.5</td>\n",
              "      <td>0.8</td>\n",
              "      <td>0.3</td>\n",
              "      <td>2.621745</td>\n",
              "      <td>1.8</td>\n",
              "      <td>2.691401</td>\n",
              "      <td>2.612374</td>\n",
              "      <td>2.621745</td>\n",
              "      <td>2.614807</td>\n",
              "      <td>5.52</td>\n",
              "      <td>17.0</td>\n",
              "      <td>4.87</td>\n",
              "      <td>-3.38</td>\n",
              "    </tr>\n",
              "    <tr>\n",
              "      <th>84977</th>\n",
              "      <td>8497.6</td>\n",
              "      <td>0.8</td>\n",
              "      <td>0.3</td>\n",
              "      <td>2.621804</td>\n",
              "      <td>1.8</td>\n",
              "      <td>2.691634</td>\n",
              "      <td>2.614254</td>\n",
              "      <td>2.621804</td>\n",
              "      <td>2.615026</td>\n",
              "      <td>5.50</td>\n",
              "      <td>17.0</td>\n",
              "      <td>4.87</td>\n",
              "      <td>-3.38</td>\n",
              "    </tr>\n",
              "    <tr>\n",
              "      <th>84978</th>\n",
              "      <td>8497.7</td>\n",
              "      <td>0.8</td>\n",
              "      <td>0.3</td>\n",
              "      <td>2.621820</td>\n",
              "      <td>1.8</td>\n",
              "      <td>2.691802</td>\n",
              "      <td>2.615765</td>\n",
              "      <td>2.621820</td>\n",
              "      <td>2.615181</td>\n",
              "      <td>5.47</td>\n",
              "      <td>16.9</td>\n",
              "      <td>4.87</td>\n",
              "      <td>-3.38</td>\n",
              "    </tr>\n",
              "    <tr>\n",
              "      <th>84979</th>\n",
              "      <td>8497.8</td>\n",
              "      <td>0.8</td>\n",
              "      <td>0.3</td>\n",
              "      <td>2.621799</td>\n",
              "      <td>1.8</td>\n",
              "      <td>2.691982</td>\n",
              "      <td>2.617577</td>\n",
              "      <td>2.621799</td>\n",
              "      <td>2.615344</td>\n",
              "      <td>5.45</td>\n",
              "      <td>16.9</td>\n",
              "      <td>4.87</td>\n",
              "      <td>-3.38</td>\n",
              "    </tr>\n",
              "  </tbody>\n",
              "</table>\n",
              "<p>84980 rows × 13 columns</p>\n",
              "</div>"
            ],
            "text/plain": [
              "         Time  DVL1_S  DVL2_S  ...  ROV6DOF.1  ROV6DOF.2  ROV6DOF.3\n",
              "0         0.0     0.0     0.0  ...        0.0       0.00       0.00\n",
              "1         0.0    20.0    20.0  ...        0.0       0.00       0.00\n",
              "2         0.1    20.0    20.0  ...        0.0       0.00       0.00\n",
              "3         0.2    20.0    20.0  ...        0.0       0.00       0.00\n",
              "4         0.3    20.0    20.0  ...        0.0       0.00       0.00\n",
              "...       ...     ...     ...  ...        ...        ...        ...\n",
              "84975  8497.4     0.8     0.3  ...       17.0       4.87      -3.39\n",
              "84976  8497.5     0.8     0.3  ...       17.0       4.87      -3.38\n",
              "84977  8497.6     0.8     0.3  ...       17.0       4.87      -3.38\n",
              "84978  8497.7     0.8     0.3  ...       16.9       4.87      -3.38\n",
              "84979  8497.8     0.8     0.3  ...       16.9       4.87      -3.38\n",
              "\n",
              "[84980 rows x 13 columns]"
            ]
          },
          "metadata": {
            "tags": []
          },
          "execution_count": 104
        }
      ]
    },
    {
      "cell_type": "code",
      "metadata": {
        "id": "r1085cIG03_l"
      },
      "source": [
        "t=df2['Time']\n",
        "Tdata=df2['DVL1_S']\n",
        "X1=np.array(Tdata)\n",
        "Tdata2=df2['DVL2_S']\n",
        "X2=np.array(Tdata2)\n",
        "Tdata3=df2['DVL3_S']\n",
        "X3=np.array(Tdata)\n",
        "Tdata4=df2['DVL4_S']\n",
        "X4=np.array(Tdata4)\n",
        "Tdata5=df2['ROV6DOF']\n",
        "X5=np.array(Tdata5)\n",
        "Tdata6=df2['ROV6DOF.1']\n",
        "X6=np.array(Tdata6)\n",
        "Tdata7=df2['ROV6DOF.2']\n",
        "X7=np.array(Tdata7)\n",
        "Tdata8=df2['ROV6DOF.3']\n",
        "X8=np.array(Tdata8)"
      ],
      "execution_count": null,
      "outputs": []
    },
    {
      "cell_type": "code",
      "metadata": {
        "id": "r-z2yYHn05p8",
        "outputId": "2f5b56ab-78a6-441c-aeeb-67efd9da3417",
        "colab": {
          "base_uri": "https://localhost:8080/",
          "height": 187
        }
      },
      "source": [
        "# Stacking the two arrays along axis 0 \n",
        "out_arr1_X_training = geek.stack((X1, X2, X3,X4, X5,X6,X7,X8), axis = 0) \n",
        "print (\"Output stacked array along axis 0:\\n \", out_arr1_X_training) \n",
        "print (\"Output Shape:\\n \", out_arr1_X_training.shape) "
      ],
      "execution_count": null,
      "outputs": [
        {
          "output_type": "stream",
          "text": [
            "Output stacked array along axis 0:\n",
            "  [[ 0.   20.   20.   ...  0.8   0.8   0.8 ]\n",
            " [ 0.   20.   20.   ...  0.3   0.3   0.3 ]\n",
            " [ 0.   20.   20.   ...  0.8   0.8   0.8 ]\n",
            " ...\n",
            " [ 0.    0.    0.   ... 17.   16.9  16.9 ]\n",
            " [ 0.    0.    0.   ...  4.87  4.87  4.87]\n",
            " [ 0.    0.    0.   ... -3.38 -3.38 -3.38]]\n",
            "Output Shape:\n",
            "  (8, 84980)\n"
          ],
          "name": "stdout"
        }
      ]
    },
    {
      "cell_type": "code",
      "metadata": {
        "id": "cINiczUr0731",
        "outputId": "a80ebee2-a690-41d4-98fb-5d57f3563a88",
        "colab": {
          "base_uri": "https://localhost:8080/",
          "height": 34
        }
      },
      "source": [
        "X= out_arr1_X_training\n",
        "X = X.transpose((1,0))\n",
        "X.shape"
      ],
      "execution_count": null,
      "outputs": [
        {
          "output_type": "execute_result",
          "data": {
            "text/plain": [
              "(84980, 8)"
            ]
          },
          "metadata": {
            "tags": []
          },
          "execution_count": 107
        }
      ]
    },
    {
      "cell_type": "code",
      "metadata": {
        "id": "qAax49eo09f9"
      },
      "source": [
        "Tdata1=df2['DVL1']\n",
        "y1=np.array(Tdata1)\n",
        "Tdata22=df2['DVL2']\n",
        "y2=np.array(Tdata22)\n",
        "Tdata33=df2['DVL3']\n",
        "y3=np.array(Tdata33)\n",
        "Tdata44=df2['DVL4']\n",
        "y4=np.array(Tdata44)"
      ],
      "execution_count": null,
      "outputs": []
    },
    {
      "cell_type": "code",
      "metadata": {
        "id": "xPfBtYzA0-tV",
        "outputId": "f1bdf5ce-20b9-4ac2-e53d-132dfe95f7ee",
        "colab": {
          "base_uri": "https://localhost:8080/",
          "height": 136
        }
      },
      "source": [
        "# Stacking the two arrays along axis 0 \n",
        "out_lab1_Target = geek.stack((y1, y2, y3, y4), axis = 0) \n",
        "print (\"Output stacked array along axis 0:\\n \", out_lab1_Target) \n",
        "print (\"Labels Shape :\\n \", out_lab1_Target.shape) "
      ],
      "execution_count": null,
      "outputs": [
        {
          "output_type": "stream",
          "text": [
            "Output stacked array along axis 0:\n",
            "  [[ 0.       20.       20.       ...  2.691634  2.691802  2.691982]\n",
            " [ 0.       20.       20.       ...  2.614254  2.615765  2.617577]\n",
            " [ 0.       20.       20.       ...  2.621804  2.62182   2.621799]\n",
            " [ 0.       20.       20.       ...  2.615026  2.615181  2.615344]]\n",
            "Labels Shape :\n",
            "  (4, 84980)\n"
          ],
          "name": "stdout"
        }
      ]
    },
    {
      "cell_type": "code",
      "metadata": {
        "id": "jkVSlPVh1AGc"
      },
      "source": [
        "y= out_lab1_Target"
      ],
      "execution_count": null,
      "outputs": []
    },
    {
      "cell_type": "code",
      "metadata": {
        "id": "x4dvZulD1B6l"
      },
      "source": [
        "y=y.transpose((1,0))"
      ],
      "execution_count": null,
      "outputs": []
    },
    {
      "cell_type": "code",
      "metadata": {
        "id": "-uKvhGCN1Dyb"
      },
      "source": [
        "# mlp for multi-output regression\n",
        "from numpy import mean\n",
        "from numpy import std\n",
        "from sklearn.datasets import make_regression\n",
        "from sklearn.model_selection import RepeatedKFold\n",
        "from keras.models import Sequential\n",
        "from keras.layers import Dense"
      ],
      "execution_count": null,
      "outputs": []
    },
    {
      "cell_type": "code",
      "metadata": {
        "id": "UbKUQ3NQ29Hl",
        "outputId": "976f7edc-c77b-476c-9470-9bdf98686bc6",
        "colab": {
          "base_uri": "https://localhost:8080/",
          "height": 34
        }
      },
      "source": [
        "X.dtype"
      ],
      "execution_count": null,
      "outputs": [
        {
          "output_type": "execute_result",
          "data": {
            "text/plain": [
              "dtype('float64')"
            ]
          },
          "metadata": {
            "tags": []
          },
          "execution_count": 113
        }
      ]
    },
    {
      "cell_type": "code",
      "metadata": {
        "id": "eYo_xCEu2_E6",
        "outputId": "5acc142d-300b-4261-ff85-1b8d911fa028",
        "colab": {
          "base_uri": "https://localhost:8080/",
          "height": 34
        }
      },
      "source": [
        "y.dtype"
      ],
      "execution_count": null,
      "outputs": [
        {
          "output_type": "execute_result",
          "data": {
            "text/plain": [
              "dtype('float64')"
            ]
          },
          "metadata": {
            "tags": []
          },
          "execution_count": 114
        }
      ]
    },
    {
      "cell_type": "code",
      "metadata": {
        "id": "cSBvJ-WO1zZu"
      },
      "source": [
        "X=X.reshape(84980,1,8)"
      ],
      "execution_count": null,
      "outputs": []
    },
    {
      "cell_type": "code",
      "metadata": {
        "id": "NCkFCfKo14B2"
      },
      "source": [
        "y=y.reshape(84980, 1,4)"
      ],
      "execution_count": null,
      "outputs": []
    },
    {
      "cell_type": "code",
      "metadata": {
        "id": "glMl_GRi1FMn"
      },
      "source": [
        "x_train=X[:64980]"
      ],
      "execution_count": null,
      "outputs": []
    },
    {
      "cell_type": "code",
      "metadata": {
        "id": "D0D1kJXu3BNu",
        "outputId": "95f54927-cd5b-41c2-da76-22a2b22a0db7",
        "colab": {
          "base_uri": "https://localhost:8080/",
          "height": 34
        }
      },
      "source": [
        "x_train.dtype"
      ],
      "execution_count": null,
      "outputs": [
        {
          "output_type": "execute_result",
          "data": {
            "text/plain": [
              "dtype('float64')"
            ]
          },
          "metadata": {
            "tags": []
          },
          "execution_count": 118
        }
      ]
    },
    {
      "cell_type": "code",
      "metadata": {
        "id": "qEHASEOr1Xw3"
      },
      "source": [
        "y_train=y[:64980]"
      ],
      "execution_count": null,
      "outputs": []
    },
    {
      "cell_type": "code",
      "metadata": {
        "id": "SXblwR0x1Ppc"
      },
      "source": [
        "x_val=X[64980:74980]"
      ],
      "execution_count": null,
      "outputs": []
    },
    {
      "cell_type": "code",
      "metadata": {
        "id": "RcjUbnxN3ENj",
        "outputId": "d1d78be7-653a-4a06-b31c-711ed50b7ee3",
        "colab": {
          "base_uri": "https://localhost:8080/",
          "height": 34
        }
      },
      "source": [
        "x_val.dtype"
      ],
      "execution_count": null,
      "outputs": [
        {
          "output_type": "execute_result",
          "data": {
            "text/plain": [
              "dtype('float64')"
            ]
          },
          "metadata": {
            "tags": []
          },
          "execution_count": 121
        }
      ]
    },
    {
      "cell_type": "code",
      "metadata": {
        "id": "rE_cNDdS1a0k"
      },
      "source": [
        "y_val=y[64980:74980]"
      ],
      "execution_count": null,
      "outputs": []
    },
    {
      "cell_type": "code",
      "metadata": {
        "id": "fqyT_m6m1TF9"
      },
      "source": [
        "x_test=X[-10000:]"
      ],
      "execution_count": null,
      "outputs": []
    },
    {
      "cell_type": "code",
      "metadata": {
        "id": "tP7LQHla1V5E"
      },
      "source": [
        "y_test=y[-10000:]"
      ],
      "execution_count": null,
      "outputs": []
    },
    {
      "cell_type": "code",
      "metadata": {
        "id": "sqYFGVGw18gN"
      },
      "source": [
        "n_features=4"
      ],
      "execution_count": null,
      "outputs": []
    },
    {
      "cell_type": "code",
      "metadata": {
        "id": "DwVnuq2d2AAa"
      },
      "source": [
        "n_steps=1"
      ],
      "execution_count": null,
      "outputs": []
    },
    {
      "cell_type": "code",
      "metadata": {
        "id": "yMkG_FuI2Cek"
      },
      "source": [
        "import keras"
      ],
      "execution_count": null,
      "outputs": []
    },
    {
      "cell_type": "code",
      "metadata": {
        "id": "M1IWCyOh2b4j",
        "outputId": "bb0de796-8ae4-47af-edd6-861abd9269be",
        "colab": {
          "base_uri": "https://localhost:8080/",
          "height": 34
        }
      },
      "source": [
        "x_train.shape"
      ],
      "execution_count": null,
      "outputs": [
        {
          "output_type": "execute_result",
          "data": {
            "text/plain": [
              "(64980, 1, 8)"
            ]
          },
          "metadata": {
            "tags": []
          },
          "execution_count": 128
        }
      ]
    },
    {
      "cell_type": "code",
      "metadata": {
        "id": "nfSsqGIT2dft",
        "outputId": "aa7994e1-7bb7-4cff-b597-54e1898b9b5b",
        "colab": {
          "base_uri": "https://localhost:8080/",
          "height": 34
        }
      },
      "source": [
        "y_train.shape"
      ],
      "execution_count": null,
      "outputs": [
        {
          "output_type": "execute_result",
          "data": {
            "text/plain": [
              "(64980, 1, 4)"
            ]
          },
          "metadata": {
            "tags": []
          },
          "execution_count": 129
        }
      ]
    },
    {
      "cell_type": "code",
      "metadata": {
        "id": "Ey0lPeNO2fE3",
        "outputId": "8caf110d-b91d-4273-b9e3-45740b5033f2",
        "colab": {
          "base_uri": "https://localhost:8080/",
          "height": 34
        }
      },
      "source": [
        "x_val.shape"
      ],
      "execution_count": null,
      "outputs": [
        {
          "output_type": "execute_result",
          "data": {
            "text/plain": [
              "(10000, 1, 8)"
            ]
          },
          "metadata": {
            "tags": []
          },
          "execution_count": 130
        }
      ]
    },
    {
      "cell_type": "code",
      "metadata": {
        "id": "aanTD__Y2g6J",
        "outputId": "25418c7d-5cee-447f-892e-7b197f69d7c6",
        "colab": {
          "base_uri": "https://localhost:8080/",
          "height": 34
        }
      },
      "source": [
        "y_val.shape"
      ],
      "execution_count": null,
      "outputs": [
        {
          "output_type": "execute_result",
          "data": {
            "text/plain": [
              "(10000, 1, 4)"
            ]
          },
          "metadata": {
            "tags": []
          },
          "execution_count": 131
        }
      ]
    },
    {
      "cell_type": "code",
      "metadata": {
        "id": "z23LyrTh3g27"
      },
      "source": [
        "import tensorflow as tf"
      ],
      "execution_count": null,
      "outputs": []
    },
    {
      "cell_type": "code",
      "metadata": {
        "id": "0ttsM4CG1fRH"
      },
      "source": [
        "values = [1e-1, 1e-2, 1e-3, 1e-4, 1e-5, 1e-6]\n",
        "\n",
        "from keras.layers import Input, Dense, Conv1D, MaxPooling1D, UpSampling1D, Flatten, Reshape, Dropout\n",
        "from keras.models import Model\n",
        "from keras import backend as K\n",
        "input_img=Input(shape=(n_steps, 8))\n",
        "#input_img = Input(shape=(28, 28, 1))  # adapt this if using `channels_first` image data format\n",
        "# Dropout \n",
        "\n",
        "x = Conv1D(16, 3, activation='relu', padding='same')(input_img)\n",
        "x= MaxPooling1D(2, padding= 'same')(x)\n",
        "\n",
        "# at this point the representation is (4, 4, 8) i.e. 128-dimensional\n",
        "x= Flatten()(x)\n",
        "decoded = Dense(n_features*n_steps, activation='linear')(x)\n",
        "outputs= Reshape((n_steps, n_features))(decoded)\n",
        "#tf.reshape(tensor, shape, name=None)\n",
        "autoencoder = Model(input_img, outputs)\n",
        "opt = keras.optimizers.Adam(learning_rate=0.0001)\n",
        "autoencoder.compile(opt, loss='mse')"
      ],
      "execution_count": null,
      "outputs": []
    },
    {
      "cell_type": "code",
      "metadata": {
        "id": "4bWyGYKD1xDb",
        "outputId": "763078be-de4c-465e-bfc5-915bd93edc1f",
        "colab": {
          "base_uri": "https://localhost:8080/",
          "height": 733
        }
      },
      "source": [
        "from keras.callbacks import TensorBoard, EarlyStopping\n",
        "\n",
        "es =EarlyStopping(\n",
        "    monitor=\"val_loss\",\n",
        "    min_delta=0.001,\n",
        "    patience=5,\n",
        "    verbose=0,\n",
        "    mode=\"auto\",\n",
        "    baseline=None,\n",
        "    restore_best_weights=True,\n",
        ")\n",
        "history=autoencoder.fit(x_train, y_train,\n",
        "                epochs=500,\n",
        "                batch_size=32,\n",
        "                shuffle=True,\n",
        "                validation_data=(x_val, y_val), \n",
        "                callbacks= [es], verbose=1)\n",
        "\n",
        "# callback = tf.keras.callbacks.EarlyStopping(monitor='loss', patience=3)\n",
        "#Early Stopping.. Can be a wise option to observe\n",
        "#tf.keras.callbacks.EarlyStopping(\n",
        "   # monitor='val_loss', min_delta=0, patience=0, verbose=0, mode='auto',\n",
        "  #  baseline=None, restore_best_weights=False\n",
        "#)"
      ],
      "execution_count": null,
      "outputs": [
        {
          "output_type": "stream",
          "text": [
            "Epoch 1/500\n",
            "2031/2031 [==============================] - 3s 1ms/step - loss: 2.3016 - val_loss: 0.0522\n",
            "Epoch 2/500\n",
            "2031/2031 [==============================] - 2s 1ms/step - loss: 0.1054 - val_loss: 0.0334\n",
            "Epoch 3/500\n",
            "2031/2031 [==============================] - 2s 1ms/step - loss: 0.0718 - val_loss: 0.0309\n",
            "Epoch 4/500\n",
            "2031/2031 [==============================] - 2s 1ms/step - loss: 0.0571 - val_loss: 0.0276\n",
            "Epoch 5/500\n",
            "2031/2031 [==============================] - 2s 1ms/step - loss: 0.0501 - val_loss: 0.0224\n",
            "Epoch 6/500\n",
            "2031/2031 [==============================] - 3s 1ms/step - loss: 0.0442 - val_loss: 0.0181\n",
            "Epoch 7/500\n",
            "2031/2031 [==============================] - 3s 1ms/step - loss: 0.0389 - val_loss: 0.0150\n",
            "Epoch 8/500\n",
            "2031/2031 [==============================] - 3s 1ms/step - loss: 0.0342 - val_loss: 0.0128\n",
            "Epoch 9/500\n",
            "2031/2031 [==============================] - 2s 1ms/step - loss: 0.0301 - val_loss: 0.0112\n",
            "Epoch 10/500\n",
            "2031/2031 [==============================] - 2s 1ms/step - loss: 0.0264 - val_loss: 0.0100\n",
            "Epoch 11/500\n",
            "2031/2031 [==============================] - 2s 1ms/step - loss: 0.0231 - val_loss: 0.0092\n",
            "Epoch 12/500\n",
            "2031/2031 [==============================] - 2s 1ms/step - loss: 0.0202 - val_loss: 0.0085\n",
            "Epoch 13/500\n",
            "2031/2031 [==============================] - 2s 1ms/step - loss: 0.0179 - val_loss: 0.0081\n",
            "Epoch 14/500\n",
            "2031/2031 [==============================] - 2s 1ms/step - loss: 0.0159 - val_loss: 0.0078\n",
            "Epoch 15/500\n",
            "2031/2031 [==============================] - 2s 1ms/step - loss: 0.0143 - val_loss: 0.0076\n",
            "Epoch 16/500\n",
            "2031/2031 [==============================] - 2s 1ms/step - loss: 0.0132 - val_loss: 0.0073\n",
            "Epoch 17/500\n",
            "2031/2031 [==============================] - 2s 1ms/step - loss: 0.0122 - val_loss: 0.0071\n",
            "Epoch 18/500\n",
            "2031/2031 [==============================] - 2s 1ms/step - loss: 0.0115 - val_loss: 0.0068\n",
            "Epoch 19/500\n",
            "2031/2031 [==============================] - 2s 1ms/step - loss: 0.0111 - val_loss: 0.0067\n",
            "Epoch 20/500\n",
            "2031/2031 [==============================] - 2s 1ms/step - loss: 0.0107 - val_loss: 0.0065\n",
            "Epoch 21/500\n",
            "2031/2031 [==============================] - 2s 1ms/step - loss: 0.0105 - val_loss: 0.0064\n"
          ],
          "name": "stdout"
        }
      ]
    },
    {
      "cell_type": "code",
      "metadata": {
        "id": "m0oWeRH9BDny",
        "outputId": "8ebcfdd0-af80-4d62-b221-6594fb7d3d77",
        "colab": {
          "base_uri": "https://localhost:8080/",
          "height": 1000
        }
      },
      "source": [
        "hist=autoencoder.fit(x_test, y_test, epochs= 250, verbose= 1)"
      ],
      "execution_count": null,
      "outputs": [
        {
          "output_type": "stream",
          "text": [
            "Epoch 1/250\n",
            "313/313 [==============================] - 0s 940us/step - loss: 6.5417\n",
            "Epoch 2/250\n",
            "313/313 [==============================] - 0s 931us/step - loss: 3.6390\n",
            "Epoch 3/250\n",
            "313/313 [==============================] - 0s 961us/step - loss: 1.5038\n",
            "Epoch 4/250\n",
            "313/313 [==============================] - 0s 923us/step - loss: 0.5159\n",
            "Epoch 5/250\n",
            "313/313 [==============================] - 0s 922us/step - loss: 0.1844\n",
            "Epoch 6/250\n",
            "313/313 [==============================] - 0s 947us/step - loss: 0.0930\n",
            "Epoch 7/250\n",
            "313/313 [==============================] - 0s 949us/step - loss: 0.0638\n",
            "Epoch 8/250\n",
            "313/313 [==============================] - 0s 957us/step - loss: 0.0432\n",
            "Epoch 9/250\n",
            "313/313 [==============================] - 0s 954us/step - loss: 0.0318\n",
            "Epoch 10/250\n",
            "313/313 [==============================] - 0s 945us/step - loss: 0.0273\n",
            "Epoch 11/250\n",
            "313/313 [==============================] - 0s 939us/step - loss: 0.0249\n",
            "Epoch 12/250\n",
            "313/313 [==============================] - 0s 950us/step - loss: 0.0233\n",
            "Epoch 13/250\n",
            "313/313 [==============================] - 0s 1ms/step - loss: 0.0220\n",
            "Epoch 14/250\n",
            "313/313 [==============================] - 0s 988us/step - loss: 0.0211\n",
            "Epoch 15/250\n",
            "313/313 [==============================] - 0s 937us/step - loss: 0.0202\n",
            "Epoch 16/250\n",
            "313/313 [==============================] - 0s 917us/step - loss: 0.0194\n",
            "Epoch 17/250\n",
            "313/313 [==============================] - 0s 997us/step - loss: 0.0186\n",
            "Epoch 18/250\n",
            "313/313 [==============================] - 0s 931us/step - loss: 0.0179\n",
            "Epoch 19/250\n",
            "313/313 [==============================] - 0s 927us/step - loss: 0.0172\n",
            "Epoch 20/250\n",
            "313/313 [==============================] - 0s 951us/step - loss: 0.0165\n",
            "Epoch 21/250\n",
            "313/313 [==============================] - 0s 942us/step - loss: 0.0158\n",
            "Epoch 22/250\n",
            "313/313 [==============================] - 0s 940us/step - loss: 0.0151\n",
            "Epoch 23/250\n",
            "313/313 [==============================] - 0s 1ms/step - loss: 0.0145\n",
            "Epoch 24/250\n",
            "313/313 [==============================] - 0s 922us/step - loss: 0.0140\n",
            "Epoch 25/250\n",
            "313/313 [==============================] - 0s 936us/step - loss: 0.0135\n",
            "Epoch 26/250\n",
            "313/313 [==============================] - 0s 934us/step - loss: 0.0131\n",
            "Epoch 27/250\n",
            "313/313 [==============================] - 0s 990us/step - loss: 0.0128\n",
            "Epoch 28/250\n",
            "313/313 [==============================] - 0s 953us/step - loss: 0.0125\n",
            "Epoch 29/250\n",
            "313/313 [==============================] - 0s 959us/step - loss: 0.0122\n",
            "Epoch 30/250\n",
            "313/313 [==============================] - 0s 987us/step - loss: 0.0120\n",
            "Epoch 31/250\n",
            "313/313 [==============================] - 0s 986us/step - loss: 0.0118\n",
            "Epoch 32/250\n",
            "313/313 [==============================] - 0s 944us/step - loss: 0.0116\n",
            "Epoch 33/250\n",
            "313/313 [==============================] - 0s 1ms/step - loss: 0.0115\n",
            "Epoch 34/250\n",
            "313/313 [==============================] - 0s 999us/step - loss: 0.0114\n",
            "Epoch 35/250\n",
            "313/313 [==============================] - 0s 989us/step - loss: 0.0113\n",
            "Epoch 36/250\n",
            "313/313 [==============================] - 0s 1ms/step - loss: 0.0112\n",
            "Epoch 37/250\n",
            "313/313 [==============================] - 0s 975us/step - loss: 0.0111\n",
            "Epoch 38/250\n",
            "313/313 [==============================] - 0s 936us/step - loss: 0.0109\n",
            "Epoch 39/250\n",
            "313/313 [==============================] - 0s 1ms/step - loss: 0.0104\n",
            "Epoch 40/250\n",
            "313/313 [==============================] - 0s 1ms/step - loss: 0.0101\n",
            "Epoch 41/250\n",
            "313/313 [==============================] - 0s 930us/step - loss: 0.0099\n",
            "Epoch 42/250\n",
            "313/313 [==============================] - 0s 935us/step - loss: 0.0098\n",
            "Epoch 43/250\n",
            "313/313 [==============================] - 0s 964us/step - loss: 0.0096\n",
            "Epoch 44/250\n",
            "313/313 [==============================] - 0s 1ms/step - loss: 0.0095\n",
            "Epoch 45/250\n",
            "313/313 [==============================] - 0s 932us/step - loss: 0.0093\n",
            "Epoch 46/250\n",
            "313/313 [==============================] - 0s 958us/step - loss: 0.0092\n",
            "Epoch 47/250\n",
            "313/313 [==============================] - 0s 959us/step - loss: 0.0090\n",
            "Epoch 48/250\n",
            "313/313 [==============================] - 0s 948us/step - loss: 0.0089\n",
            "Epoch 49/250\n",
            "313/313 [==============================] - 0s 1ms/step - loss: 0.0087\n",
            "Epoch 50/250\n",
            "313/313 [==============================] - 0s 997us/step - loss: 0.0086\n",
            "Epoch 51/250\n",
            "313/313 [==============================] - 0s 953us/step - loss: 0.0085\n",
            "Epoch 52/250\n",
            "313/313 [==============================] - 0s 922us/step - loss: 0.0084\n",
            "Epoch 53/250\n",
            "313/313 [==============================] - 0s 995us/step - loss: 0.0083\n",
            "Epoch 54/250\n",
            "313/313 [==============================] - 0s 960us/step - loss: 0.0081\n",
            "Epoch 55/250\n",
            "313/313 [==============================] - 0s 1ms/step - loss: 0.0080\n",
            "Epoch 56/250\n",
            "313/313 [==============================] - 0s 986us/step - loss: 0.0079\n",
            "Epoch 57/250\n",
            "313/313 [==============================] - 0s 958us/step - loss: 0.0078\n",
            "Epoch 58/250\n",
            "313/313 [==============================] - 0s 939us/step - loss: 0.0077\n",
            "Epoch 59/250\n",
            "313/313 [==============================] - 0s 939us/step - loss: 0.0076\n",
            "Epoch 60/250\n",
            "313/313 [==============================] - 0s 963us/step - loss: 0.0074\n",
            "Epoch 61/250\n",
            "313/313 [==============================] - 0s 935us/step - loss: 0.0073\n",
            "Epoch 62/250\n",
            "313/313 [==============================] - 0s 1ms/step - loss: 0.0072\n",
            "Epoch 63/250\n",
            "313/313 [==============================] - 0s 1ms/step - loss: 0.0071\n",
            "Epoch 64/250\n",
            "313/313 [==============================] - 0s 942us/step - loss: 0.0070\n",
            "Epoch 65/250\n",
            "313/313 [==============================] - 0s 938us/step - loss: 0.0069\n",
            "Epoch 66/250\n",
            "313/313 [==============================] - 0s 976us/step - loss: 0.0069\n",
            "Epoch 67/250\n",
            "313/313 [==============================] - 0s 1ms/step - loss: 0.0068\n",
            "Epoch 68/250\n",
            "313/313 [==============================] - 0s 964us/step - loss: 0.0067\n",
            "Epoch 69/250\n",
            "313/313 [==============================] - 0s 945us/step - loss: 0.0066\n",
            "Epoch 70/250\n",
            "313/313 [==============================] - 0s 988us/step - loss: 0.0065\n",
            "Epoch 71/250\n",
            "313/313 [==============================] - 0s 981us/step - loss: 0.0064\n",
            "Epoch 72/250\n",
            "313/313 [==============================] - 0s 922us/step - loss: 0.0063\n",
            "Epoch 73/250\n",
            "313/313 [==============================] - 0s 987us/step - loss: 0.0063\n",
            "Epoch 74/250\n",
            "313/313 [==============================] - 0s 954us/step - loss: 0.0062\n",
            "Epoch 75/250\n",
            "313/313 [==============================] - 0s 941us/step - loss: 0.0061\n",
            "Epoch 76/250\n",
            "313/313 [==============================] - 0s 955us/step - loss: 0.0061\n",
            "Epoch 77/250\n",
            "313/313 [==============================] - 0s 961us/step - loss: 0.0060\n",
            "Epoch 78/250\n",
            "313/313 [==============================] - 0s 937us/step - loss: 0.0059\n",
            "Epoch 79/250\n",
            "313/313 [==============================] - 0s 932us/step - loss: 0.0058\n",
            "Epoch 80/250\n",
            "313/313 [==============================] - 0s 1ms/step - loss: 0.0058\n",
            "Epoch 81/250\n",
            "313/313 [==============================] - 0s 992us/step - loss: 0.0057\n",
            "Epoch 82/250\n",
            "313/313 [==============================] - 0s 929us/step - loss: 0.0057\n",
            "Epoch 83/250\n",
            "313/313 [==============================] - 0s 963us/step - loss: 0.0056\n",
            "Epoch 84/250\n",
            "313/313 [==============================] - 0s 944us/step - loss: 0.0055\n",
            "Epoch 85/250\n",
            "313/313 [==============================] - 0s 943us/step - loss: 0.0055\n",
            "Epoch 86/250\n",
            "313/313 [==============================] - 0s 1ms/step - loss: 0.0054\n",
            "Epoch 87/250\n",
            "313/313 [==============================] - 0s 938us/step - loss: 0.0054\n",
            "Epoch 88/250\n",
            "313/313 [==============================] - 0s 949us/step - loss: 0.0053\n",
            "Epoch 89/250\n",
            "313/313 [==============================] - 0s 1ms/step - loss: 0.0053\n",
            "Epoch 90/250\n",
            "313/313 [==============================] - 0s 921us/step - loss: 0.0052\n",
            "Epoch 91/250\n",
            "313/313 [==============================] - 0s 962us/step - loss: 0.0052\n",
            "Epoch 92/250\n",
            "313/313 [==============================] - 0s 993us/step - loss: 0.0051\n",
            "Epoch 93/250\n",
            "313/313 [==============================] - 0s 966us/step - loss: 0.0051\n",
            "Epoch 94/250\n",
            "313/313 [==============================] - 0s 935us/step - loss: 0.0050\n",
            "Epoch 95/250\n",
            "313/313 [==============================] - 0s 934us/step - loss: 0.0050\n",
            "Epoch 96/250\n",
            "313/313 [==============================] - 0s 964us/step - loss: 0.0050\n",
            "Epoch 97/250\n",
            "313/313 [==============================] - 0s 940us/step - loss: 0.0049\n",
            "Epoch 98/250\n",
            "313/313 [==============================] - 0s 1ms/step - loss: 0.0049\n",
            "Epoch 99/250\n",
            "313/313 [==============================] - 0s 982us/step - loss: 0.0048\n",
            "Epoch 100/250\n",
            "313/313 [==============================] - 0s 933us/step - loss: 0.0048\n",
            "Epoch 101/250\n",
            "313/313 [==============================] - 0s 1ms/step - loss: 0.0048\n",
            "Epoch 102/250\n",
            "313/313 [==============================] - 0s 922us/step - loss: 0.0047\n",
            "Epoch 103/250\n",
            "313/313 [==============================] - 0s 1ms/step - loss: 0.0047\n",
            "Epoch 104/250\n",
            "313/313 [==============================] - 0s 943us/step - loss: 0.0047\n",
            "Epoch 105/250\n",
            "313/313 [==============================] - 0s 933us/step - loss: 0.0046\n",
            "Epoch 106/250\n",
            "313/313 [==============================] - 0s 938us/step - loss: 0.0046\n",
            "Epoch 107/250\n",
            "313/313 [==============================] - 0s 934us/step - loss: 0.0046\n",
            "Epoch 108/250\n",
            "313/313 [==============================] - 0s 960us/step - loss: 0.0045\n",
            "Epoch 109/250\n",
            "313/313 [==============================] - 0s 1ms/step - loss: 0.0045\n",
            "Epoch 110/250\n",
            "313/313 [==============================] - 0s 950us/step - loss: 0.0044\n",
            "Epoch 111/250\n",
            "313/313 [==============================] - 0s 979us/step - loss: 0.0044\n",
            "Epoch 112/250\n",
            "313/313 [==============================] - 0s 945us/step - loss: 0.0044\n",
            "Epoch 113/250\n",
            "313/313 [==============================] - 0s 995us/step - loss: 0.0043\n",
            "Epoch 114/250\n",
            "313/313 [==============================] - 0s 964us/step - loss: 0.0043\n",
            "Epoch 115/250\n",
            "313/313 [==============================] - 0s 938us/step - loss: 0.0043\n",
            "Epoch 116/250\n",
            "313/313 [==============================] - 0s 971us/step - loss: 0.0043\n",
            "Epoch 117/250\n",
            "313/313 [==============================] - 0s 1ms/step - loss: 0.0042\n",
            "Epoch 118/250\n",
            "313/313 [==============================] - 0s 1ms/step - loss: 0.0042\n",
            "Epoch 119/250\n",
            "313/313 [==============================] - 0s 1ms/step - loss: 0.0042\n",
            "Epoch 120/250\n",
            "313/313 [==============================] - 0s 991us/step - loss: 0.0042\n",
            "Epoch 121/250\n",
            "313/313 [==============================] - 0s 947us/step - loss: 0.0041\n",
            "Epoch 122/250\n",
            "313/313 [==============================] - 0s 988us/step - loss: 0.0041\n",
            "Epoch 123/250\n",
            "313/313 [==============================] - 0s 949us/step - loss: 0.0041\n",
            "Epoch 124/250\n",
            "313/313 [==============================] - 0s 958us/step - loss: 0.0040\n",
            "Epoch 125/250\n",
            "313/313 [==============================] - 0s 959us/step - loss: 0.0040\n",
            "Epoch 126/250\n",
            "313/313 [==============================] - 0s 967us/step - loss: 0.0040\n",
            "Epoch 127/250\n",
            "313/313 [==============================] - 0s 970us/step - loss: 0.0040\n",
            "Epoch 128/250\n",
            "313/313 [==============================] - 0s 957us/step - loss: 0.0040\n",
            "Epoch 129/250\n",
            "313/313 [==============================] - 0s 1ms/step - loss: 0.0039\n",
            "Epoch 130/250\n",
            "313/313 [==============================] - 0s 948us/step - loss: 0.0039\n",
            "Epoch 131/250\n",
            "313/313 [==============================] - 0s 965us/step - loss: 0.0039\n",
            "Epoch 132/250\n",
            "313/313 [==============================] - 0s 1ms/step - loss: 0.0039\n",
            "Epoch 133/250\n",
            "313/313 [==============================] - 0s 951us/step - loss: 0.0039\n",
            "Epoch 134/250\n",
            "313/313 [==============================] - 0s 945us/step - loss: 0.0038\n",
            "Epoch 135/250\n",
            "313/313 [==============================] - 0s 1ms/step - loss: 0.0038\n",
            "Epoch 136/250\n",
            "313/313 [==============================] - 0s 964us/step - loss: 0.0038\n",
            "Epoch 137/250\n",
            "313/313 [==============================] - 0s 1ms/step - loss: 0.0038\n",
            "Epoch 138/250\n",
            "313/313 [==============================] - 0s 1ms/step - loss: 0.0038\n",
            "Epoch 139/250\n",
            "313/313 [==============================] - 0s 965us/step - loss: 0.0037\n",
            "Epoch 140/250\n",
            "313/313 [==============================] - 0s 959us/step - loss: 0.0037\n",
            "Epoch 141/250\n",
            "313/313 [==============================] - 0s 962us/step - loss: 0.0037\n",
            "Epoch 142/250\n",
            "313/313 [==============================] - 0s 960us/step - loss: 0.0037\n",
            "Epoch 143/250\n",
            "313/313 [==============================] - 0s 953us/step - loss: 0.0037\n",
            "Epoch 144/250\n",
            "313/313 [==============================] - 0s 1ms/step - loss: 0.0037\n",
            "Epoch 145/250\n",
            "313/313 [==============================] - 0s 950us/step - loss: 0.0036\n",
            "Epoch 146/250\n",
            "313/313 [==============================] - 0s 1ms/step - loss: 0.0036\n",
            "Epoch 147/250\n",
            "313/313 [==============================] - 0s 933us/step - loss: 0.0036\n",
            "Epoch 148/250\n",
            "313/313 [==============================] - 0s 975us/step - loss: 0.0036\n",
            "Epoch 149/250\n",
            "313/313 [==============================] - 0s 944us/step - loss: 0.0036\n",
            "Epoch 150/250\n",
            "313/313 [==============================] - 0s 933us/step - loss: 0.0036\n",
            "Epoch 151/250\n",
            "313/313 [==============================] - 0s 1ms/step - loss: 0.0036\n",
            "Epoch 152/250\n",
            "313/313 [==============================] - 0s 977us/step - loss: 0.0035\n",
            "Epoch 153/250\n",
            "313/313 [==============================] - 0s 1ms/step - loss: 0.0035\n",
            "Epoch 154/250\n",
            "313/313 [==============================] - 0s 1ms/step - loss: 0.0035\n",
            "Epoch 155/250\n",
            "313/313 [==============================] - 0s 989us/step - loss: 0.0035\n",
            "Epoch 156/250\n",
            "313/313 [==============================] - 0s 936us/step - loss: 0.0035\n",
            "Epoch 157/250\n",
            "313/313 [==============================] - 0s 952us/step - loss: 0.0035\n",
            "Epoch 158/250\n",
            "313/313 [==============================] - 0s 966us/step - loss: 0.0034\n",
            "Epoch 159/250\n",
            "313/313 [==============================] - 0s 953us/step - loss: 0.0034\n",
            "Epoch 160/250\n",
            "313/313 [==============================] - 0s 926us/step - loss: 0.0034\n",
            "Epoch 161/250\n",
            "313/313 [==============================] - 0s 957us/step - loss: 0.0034\n",
            "Epoch 162/250\n",
            "313/313 [==============================] - 0s 988us/step - loss: 0.0034\n",
            "Epoch 163/250\n",
            "313/313 [==============================] - 0s 955us/step - loss: 0.0034\n",
            "Epoch 164/250\n",
            "313/313 [==============================] - 0s 945us/step - loss: 0.0034\n",
            "Epoch 165/250\n",
            "313/313 [==============================] - 0s 957us/step - loss: 0.0034\n",
            "Epoch 166/250\n",
            "313/313 [==============================] - 0s 945us/step - loss: 0.0034\n",
            "Epoch 167/250\n",
            "313/313 [==============================] - 0s 979us/step - loss: 0.0033\n",
            "Epoch 168/250\n",
            "313/313 [==============================] - 0s 1ms/step - loss: 0.0033\n",
            "Epoch 169/250\n",
            "313/313 [==============================] - 0s 956us/step - loss: 0.0033\n",
            "Epoch 170/250\n",
            "313/313 [==============================] - 0s 934us/step - loss: 0.0033\n",
            "Epoch 171/250\n",
            "313/313 [==============================] - 0s 925us/step - loss: 0.0033\n",
            "Epoch 172/250\n",
            "313/313 [==============================] - 0s 966us/step - loss: 0.0033\n",
            "Epoch 173/250\n",
            "313/313 [==============================] - 0s 1ms/step - loss: 0.0033\n",
            "Epoch 174/250\n",
            "313/313 [==============================] - 0s 959us/step - loss: 0.0033\n",
            "Epoch 175/250\n",
            "313/313 [==============================] - 0s 1ms/step - loss: 0.0032\n",
            "Epoch 176/250\n",
            "313/313 [==============================] - 0s 926us/step - loss: 0.0032\n",
            "Epoch 177/250\n",
            "313/313 [==============================] - 0s 958us/step - loss: 0.0032\n",
            "Epoch 178/250\n",
            "313/313 [==============================] - 0s 954us/step - loss: 0.0032\n",
            "Epoch 179/250\n",
            "313/313 [==============================] - 0s 938us/step - loss: 0.0032\n",
            "Epoch 180/250\n",
            "313/313 [==============================] - 0s 954us/step - loss: 0.0032\n",
            "Epoch 181/250\n",
            "313/313 [==============================] - 0s 1ms/step - loss: 0.0032\n",
            "Epoch 182/250\n",
            "313/313 [==============================] - 0s 958us/step - loss: 0.0032\n",
            "Epoch 183/250\n",
            "313/313 [==============================] - 0s 938us/step - loss: 0.0032\n",
            "Epoch 184/250\n",
            "313/313 [==============================] - 0s 927us/step - loss: 0.0031\n",
            "Epoch 185/250\n",
            "313/313 [==============================] - 0s 986us/step - loss: 0.0031\n",
            "Epoch 186/250\n",
            "313/313 [==============================] - 0s 934us/step - loss: 0.0031\n",
            "Epoch 187/250\n",
            "313/313 [==============================] - 0s 987us/step - loss: 0.0031\n",
            "Epoch 188/250\n",
            "313/313 [==============================] - 0s 964us/step - loss: 0.0031\n",
            "Epoch 189/250\n",
            "313/313 [==============================] - 0s 922us/step - loss: 0.0031\n",
            "Epoch 190/250\n",
            "313/313 [==============================] - 0s 1ms/step - loss: 0.0031\n",
            "Epoch 191/250\n",
            "313/313 [==============================] - 0s 991us/step - loss: 0.0031\n",
            "Epoch 192/250\n",
            "313/313 [==============================] - 0s 938us/step - loss: 0.0031\n",
            "Epoch 193/250\n",
            "313/313 [==============================] - 0s 933us/step - loss: 0.0031\n",
            "Epoch 194/250\n",
            "313/313 [==============================] - 0s 940us/step - loss: 0.0031\n",
            "Epoch 195/250\n",
            "313/313 [==============================] - 0s 958us/step - loss: 0.0031\n",
            "Epoch 196/250\n",
            "313/313 [==============================] - 0s 947us/step - loss: 0.0030\n",
            "Epoch 197/250\n",
            "313/313 [==============================] - 0s 949us/step - loss: 0.0030\n",
            "Epoch 198/250\n",
            "313/313 [==============================] - 0s 961us/step - loss: 0.0030\n",
            "Epoch 199/250\n",
            "313/313 [==============================] - 0s 992us/step - loss: 0.0030\n",
            "Epoch 200/250\n",
            "313/313 [==============================] - 0s 999us/step - loss: 0.0030\n",
            "Epoch 201/250\n",
            "313/313 [==============================] - 0s 954us/step - loss: 0.0030\n",
            "Epoch 202/250\n",
            "313/313 [==============================] - 0s 957us/step - loss: 0.0030\n",
            "Epoch 203/250\n",
            "313/313 [==============================] - 0s 1ms/step - loss: 0.0030\n",
            "Epoch 204/250\n",
            "313/313 [==============================] - 0s 959us/step - loss: 0.0030\n",
            "Epoch 205/250\n",
            "313/313 [==============================] - 0s 1ms/step - loss: 0.0030\n",
            "Epoch 206/250\n",
            "313/313 [==============================] - 0s 939us/step - loss: 0.0030\n",
            "Epoch 207/250\n",
            "313/313 [==============================] - 0s 929us/step - loss: 0.0030\n",
            "Epoch 208/250\n",
            "313/313 [==============================] - 0s 948us/step - loss: 0.0030\n",
            "Epoch 209/250\n",
            "313/313 [==============================] - 0s 956us/step - loss: 0.0030\n",
            "Epoch 210/250\n",
            "313/313 [==============================] - 0s 959us/step - loss: 0.0030\n",
            "Epoch 211/250\n",
            "313/313 [==============================] - 0s 984us/step - loss: 0.0029\n",
            "Epoch 212/250\n",
            "313/313 [==============================] - 0s 949us/step - loss: 0.0029\n",
            "Epoch 213/250\n",
            "313/313 [==============================] - 0s 981us/step - loss: 0.0029\n",
            "Epoch 214/250\n",
            "313/313 [==============================] - 0s 947us/step - loss: 0.0029\n",
            "Epoch 215/250\n",
            "313/313 [==============================] - 0s 930us/step - loss: 0.0029\n",
            "Epoch 216/250\n",
            "313/313 [==============================] - 0s 971us/step - loss: 0.0029\n",
            "Epoch 217/250\n",
            "313/313 [==============================] - 0s 912us/step - loss: 0.0029\n",
            "Epoch 218/250\n",
            "313/313 [==============================] - 0s 972us/step - loss: 0.0029\n",
            "Epoch 219/250\n",
            "313/313 [==============================] - 0s 964us/step - loss: 0.0029\n",
            "Epoch 220/250\n",
            "313/313 [==============================] - 0s 949us/step - loss: 0.0029\n",
            "Epoch 221/250\n",
            "313/313 [==============================] - 0s 997us/step - loss: 0.0029\n",
            "Epoch 222/250\n",
            "313/313 [==============================] - 0s 947us/step - loss: 0.0029\n",
            "Epoch 223/250\n",
            "313/313 [==============================] - 0s 950us/step - loss: 0.0029\n",
            "Epoch 224/250\n",
            "313/313 [==============================] - 0s 926us/step - loss: 0.0029\n",
            "Epoch 225/250\n",
            "313/313 [==============================] - 0s 956us/step - loss: 0.0029\n",
            "Epoch 226/250\n",
            "313/313 [==============================] - 0s 1ms/step - loss: 0.0029\n",
            "Epoch 227/250\n",
            "313/313 [==============================] - 0s 957us/step - loss: 0.0029\n",
            "Epoch 228/250\n",
            "313/313 [==============================] - 0s 958us/step - loss: 0.0028\n",
            "Epoch 229/250\n",
            "313/313 [==============================] - 0s 1ms/step - loss: 0.0028\n",
            "Epoch 230/250\n",
            "313/313 [==============================] - 0s 951us/step - loss: 0.0028\n",
            "Epoch 231/250\n",
            "313/313 [==============================] - 0s 1ms/step - loss: 0.0028\n",
            "Epoch 232/250\n",
            "313/313 [==============================] - 0s 967us/step - loss: 0.0028\n",
            "Epoch 233/250\n",
            "313/313 [==============================] - 0s 930us/step - loss: 0.0028\n",
            "Epoch 234/250\n",
            "313/313 [==============================] - 0s 954us/step - loss: 0.0028\n",
            "Epoch 235/250\n",
            "313/313 [==============================] - 0s 950us/step - loss: 0.0028\n",
            "Epoch 236/250\n",
            "313/313 [==============================] - 0s 948us/step - loss: 0.0028\n",
            "Epoch 237/250\n",
            "313/313 [==============================] - 0s 1ms/step - loss: 0.0028\n",
            "Epoch 238/250\n",
            "313/313 [==============================] - 0s 937us/step - loss: 0.0028\n",
            "Epoch 239/250\n",
            "313/313 [==============================] - 0s 1ms/step - loss: 0.0028\n",
            "Epoch 240/250\n",
            "313/313 [==============================] - 0s 946us/step - loss: 0.0028\n",
            "Epoch 241/250\n",
            "313/313 [==============================] - 0s 986us/step - loss: 0.0028\n",
            "Epoch 242/250\n",
            "313/313 [==============================] - 0s 963us/step - loss: 0.0028\n",
            "Epoch 243/250\n",
            "313/313 [==============================] - 0s 938us/step - loss: 0.0028\n",
            "Epoch 244/250\n",
            "313/313 [==============================] - 0s 955us/step - loss: 0.0028\n",
            "Epoch 245/250\n",
            "313/313 [==============================] - 0s 933us/step - loss: 0.0028\n",
            "Epoch 246/250\n",
            "313/313 [==============================] - 0s 937us/step - loss: 0.0028\n",
            "Epoch 247/250\n",
            "313/313 [==============================] - 0s 952us/step - loss: 0.0028\n",
            "Epoch 248/250\n",
            "313/313 [==============================] - 0s 983us/step - loss: 0.0028\n",
            "Epoch 249/250\n",
            "313/313 [==============================] - 0s 924us/step - loss: 0.0028\n",
            "Epoch 250/250\n",
            "313/313 [==============================] - 0s 914us/step - loss: 0.0028\n"
          ],
          "name": "stdout"
        }
      ]
    },
    {
      "cell_type": "code",
      "metadata": {
        "id": "OfdkfYA2BoHB",
        "outputId": "fb67ed0b-e796-4c92-f74d-1d35fda0d3d4",
        "colab": {
          "base_uri": "https://localhost:8080/",
          "height": 295
        }
      },
      "source": [
        "fax = plt.gca()\n",
        "plt.plot(t_test,xc1, color='yellow', label='Orignal DVL1 Data')\n",
        "\n",
        "plt.plot(t_test,vc1, color='green', label='prediction')\n",
        "plt.xlabel('Time')\n",
        "plt.ylabel('Distance')\n",
        "plt.title('DVL Beam 1')\n",
        "plt.legend()\n",
        "\n",
        "plt.show()"
      ],
      "execution_count": null,
      "outputs": [
        {
          "output_type": "display_data",
          "data": {
            "image/png": "[encoded data removed]",
            "text/plain": [
              "<Figure size 432x288 with 1 Axes>"
            ]
          },
          "metadata": {
            "tags": [],
            "needs_background": "light"
          }
        }
      ]
    },
    {
      "cell_type": "code",
      "metadata": {
        "id": "qSQHULpIBqSs",
        "outputId": "e2c9e2cd-65ac-4c6e-d394-ff3ddf56f6d1",
        "colab": {
          "base_uri": "https://localhost:8080/",
          "height": 295
        }
      },
      "source": [
        "fax = plt.gca()\n",
        "plt.plot(t_test,xc2, color='yellow', label='Orignal DVL1 Data')\n",
        "\n",
        "plt.plot(t_test,vc2, color='green', label='prediction')\n",
        "plt.xlabel('Time')\n",
        "plt.ylabel('Distance')\n",
        "plt.title('DVL Beam 2')\n",
        "plt.legend()\n",
        "\n",
        "plt.show()"
      ],
      "execution_count": null,
      "outputs": [
        {
          "output_type": "display_data",
          "data": {
            "image/png": "[encoded data removed]",
            "text/plain": [
              "<Figure size 432x288 with 1 Axes>"
            ]
          },
          "metadata": {
            "tags": [],
            "needs_background": "light"
          }
        }
      ]
    },
    {
      "cell_type": "code",
      "metadata": {
        "id": "ksGrCEQaBvHM",
        "outputId": "34bf13b8-62fb-44ba-e0e9-9de587bf4844",
        "colab": {
          "base_uri": "https://localhost:8080/",
          "height": 295
        }
      },
      "source": [
        "fax = plt.gca()\n",
        "plt.plot(t_test,xc3, color='yellow', label='Orignal DVL1 Data')\n",
        "\n",
        "plt.plot(t_test,vc3, color='green', label='prediction')\n",
        "plt.xlabel('Time')\n",
        "plt.ylabel('Distance')\n",
        "plt.title('DVL Beam 3')\n",
        "plt.legend()\n",
        "\n",
        "plt.show()"
      ],
      "execution_count": null,
      "outputs": [
        {
          "output_type": "display_data",
          "data": {
            "image/png": "[encoded data removed]",
            "text/plain": [
              "<Figure size 432x288 with 1 Axes>"
            ]
          },
          "metadata": {
            "tags": [],
            "needs_background": "light"
          }
        }
      ]
    },
    {
      "cell_type": "code",
      "metadata": {
        "id": "GNBHTZifBxxt",
        "outputId": "7b462f4e-d4cc-4036-a583-2c68bdfc291c",
        "colab": {
          "base_uri": "https://localhost:8080/",
          "height": 295
        }
      },
      "source": [
        "fax = plt.gca()\n",
        "plt.plot(t_test,xc4, color='yellow', label='Orignal DVL1 Data')\n",
        "\n",
        "plt.plot(t_test,vc4, color='green', label='prediction')\n",
        "plt.xlabel('Time')\n",
        "plt.ylabel('Distance')\n",
        "plt.title('DVL Beam 4')\n",
        "plt.legend()\n",
        "\n",
        "plt.show()"
      ],
      "execution_count": null,
      "outputs": [
        {
          "output_type": "display_data",
          "data": {
            "image/png": "[encoded data removed]",
            "text/plain": [
              "<Figure size 432x288 with 1 Axes>"
            ]
          },
          "metadata": {
            "tags": [],
            "needs_background": "light"
          }
        }
      ]
    },
    {
      "cell_type": "code",
      "metadata": {
        "id": "sw8443shFdru"
      },
      "source": [
        "# Analysis for the few fishes, in order to remove them\n",
        "t_test_2000=t_test[:2000]"
      ],
      "execution_count": null,
      "outputs": []
    },
    {
      "cell_type": "code",
      "metadata": {
        "id": "zTmahsoJGcp3"
      },
      "source": [
        "xc_2000=xc1[:2000]"
      ],
      "execution_count": null,
      "outputs": []
    },
    {
      "cell_type": "code",
      "metadata": {
        "id": "asqNTBJeGiOZ"
      },
      "source": [
        "vc_2000=vc1[:2000]"
      ],
      "execution_count": null,
      "outputs": []
    },
    {
      "cell_type": "code",
      "metadata": {
        "id": "0IiZh0dUGlBv"
      },
      "source": [
        "xc_2000f=xc2[:2000]\n",
        "vc_2000f=vc2[:2000]"
      ],
      "execution_count": null,
      "outputs": []
    },
    {
      "cell_type": "code",
      "metadata": {
        "id": "iT99OvdaGpe9"
      },
      "source": [
        "xc_2000g=xc3[:2000]\n",
        "vc_2000g=vc3[:2000]"
      ],
      "execution_count": null,
      "outputs": []
    },
    {
      "cell_type": "code",
      "metadata": {
        "id": "MPJ1fvHPGuDi"
      },
      "source": [
        "xc_2000h=xc4[:2000]\n",
        "vc_2000h=vc4[:2000]"
      ],
      "execution_count": null,
      "outputs": []
    },
    {
      "cell_type": "code",
      "metadata": {
        "id": "jH2DlXwHHBr-",
        "outputId": "5974028f-9b2c-4f92-fd0d-034be3551416",
        "colab": {
          "base_uri": "https://localhost:8080/",
          "height": 295
        }
      },
      "source": [
        "fax = plt.gca()\n",
        "plt.plot(t_test_2000,xc_2000, color='yellow', label='Orignal DVL1 Data')\n",
        "\n",
        "plt.plot(t_test_2000,vc_2000, color='green', label='prediction')\n",
        "plt.xlabel('Time')\n",
        "plt.ylabel('Distance')\n",
        "plt.title('DVL Beam 1')\n",
        "plt.legend()\n",
        "\n",
        "plt.show()"
      ],
      "execution_count": null,
      "outputs": [
        {
          "output_type": "display_data",
          "data": {
            "image/png": "[encoded data removed]",
            "text/plain": [
              "<Figure size 432x288 with 1 Axes>"
            ]
          },
          "metadata": {
            "tags": [],
            "needs_background": "light"
          }
        }
      ]
    },
    {
      "cell_type": "code",
      "metadata": {
        "id": "Y3Mmq5rFHbfE",
        "outputId": "9df48443-bb05-462d-8a55-bdd9f2f67f88",
        "colab": {
          "base_uri": "https://localhost:8080/",
          "height": 295
        }
      },
      "source": [
        "fax = plt.gca()\n",
        "plt.plot(t_test_2000,xc_2000f, color='yellow', label='Orignal DVL1 Data')\n",
        "\n",
        "plt.plot(t_test_2000,vc_2000f, color='green', label='prediction')\n",
        "plt.xlabel('Time')\n",
        "plt.ylabel('Distance')\n",
        "plt.title('DVL Beam 2')\n",
        "plt.legend()\n",
        "\n",
        "plt.show()"
      ],
      "execution_count": null,
      "outputs": [
        {
          "output_type": "display_data",
          "data": {
            "image/png": "[encoded data removed]",
            "text/plain": [
              "<Figure size 432x288 with 1 Axes>"
            ]
          },
          "metadata": {
            "tags": [],
            "needs_background": "light"
          }
        }
      ]
    },
    {
      "cell_type": "code",
      "metadata": {
        "id": "ZY2j0utQHMGB",
        "outputId": "200fb464-4300-4150-a56d-76baa58caec6",
        "colab": {
          "base_uri": "https://localhost:8080/",
          "height": 295
        }
      },
      "source": [
        "fax = plt.gca()\n",
        "plt.plot(t_test_2000,xc_2000g, color='yellow', label='Orignal DVL1 Data')\n",
        "\n",
        "plt.plot(t_test_2000,vc_2000g, color='green', label='prediction')\n",
        "plt.xlabel('Time')\n",
        "plt.ylabel('Distance')\n",
        "plt.title('DVL Beam 3')\n",
        "plt.legend()\n",
        "\n",
        "plt.show()"
      ],
      "execution_count": null,
      "outputs": [
        {
          "output_type": "display_data",
          "data": {
            "image/png": "[encoded data removed]",
            "text/plain": [
              "<Figure size 432x288 with 1 Axes>"
            ]
          },
          "metadata": {
            "tags": [],
            "needs_background": "light"
          }
        }
      ]
    },
    {
      "cell_type": "code",
      "metadata": {
        "id": "rwjwxHk5HYMK",
        "outputId": "5a89d800-9d96-427f-9096-8b10c8a331e9",
        "colab": {
          "base_uri": "https://localhost:8080/",
          "height": 295
        }
      },
      "source": [
        "fax = plt.gca()\n",
        "plt.plot(t_test_2000,xc_2000h, color='yellow', label='Orignal DVL1 Data')\n",
        "plt.plot(t_test_2000,vc_2000h, color='green', label='prediction')\n",
        "plt.xlabel('Time')\n",
        "plt.ylabel('Distance')\n",
        "plt.title('DVL Beam 4')\n",
        "plt.legend()\n",
        "axes = plt.gca()\n",
        "#axes.set_xlim([xmin,xmax])\n",
        "axes.set_ylim([0,2.8])\n",
        "plt.show()"
      ],
      "execution_count": null,
      "outputs": [
        {
          "output_type": "display_data",
          "data": {
            "image/png": "[encoded data removed]",
            "text/plain": [
              "<Figure size 432x288 with 1 Axes>"
            ]
          },
          "metadata": {
            "tags": [],
            "needs_background": "light"
          }
        }
      ]
    },
    {
      "cell_type": "code",
      "metadata": {
        "id": "R_Tr_gbCBuRM"
      },
      "source": [
        "fax = plt.gca()\n",
        "plt.plot(t_test,xc1, color='yellow', label='Orignal DVL1 Data')\n",
        "\n",
        "plt.plot(t_test,vc1, color='green', label='prediction')\n",
        "plt.xlabel('Time')\n",
        "plt.ylabel('Distance')\n",
        "plt.title('DVL Beam 1')\n",
        "plt.legend()\n",
        "\n",
        "plt.show()"
      ],
      "execution_count": null,
      "outputs": []
    },
    {
      "cell_type": "code",
      "metadata": {
        "id": "s-klJ7E5RzLU",
        "outputId": "180ef647-97ad-48dc-d355-4748bc946ab5",
        "colab": {
          "base_uri": "https://localhost:8080/",
          "height": 136
        }
      },
      "source": [
        "# Stacking the two arrays along axis 0 \n",
        "r1 = geek.stack((G, Gg, Ggg, Gggg), axis = 0) \n",
        "print (\"Output stacked array along axis 0:\\n \", r1) \n",
        "print (\"Labels Shape :\\n \", r1.shape) "
      ],
      "execution_count": null,
      "outputs": [
        {
          "output_type": "stream",
          "text": [
            "Output stacked array along axis 0:\n",
            "  [[0.       0.       0.       ... 0.722766 0.722766 0.722766]\n",
            " [0.       0.       0.       ... 4.138345 4.138345 4.138345]\n",
            " [0.       0.       0.       ... 4.750091 4.750091 4.750091]\n",
            " [0.       0.       0.       ... 0.       0.       0.      ]]\n",
            "Labels Shape :\n",
            "  (4, 3060)\n"
          ],
          "name": "stdout"
        }
      ]
    },
    {
      "cell_type": "code",
      "metadata": {
        "id": "G_I4v76DSH0b"
      },
      "source": [
        "r1=r1.transpose(1,0)"
      ],
      "execution_count": null,
      "outputs": []
    },
    {
      "cell_type": "code",
      "metadata": {
        "id": "m7p3Eor5SMag",
        "outputId": "962daa97-9d95-4bdf-9dc9-38d2999f7140",
        "colab": {
          "base_uri": "https://localhost:8080/",
          "height": 34
        }
      },
      "source": [
        "r1.shape"
      ],
      "execution_count": null,
      "outputs": [
        {
          "output_type": "execute_result",
          "data": {
            "text/plain": [
              "(3060, 4)"
            ]
          },
          "metadata": {
            "tags": []
          },
          "execution_count": 365
        }
      ]
    },
    {
      "cell_type": "code",
      "metadata": {
        "id": "hWzZnYRoSNev",
        "outputId": "ce57bfbf-43d1-4781-8440-c2256761b03e",
        "colab": {
          "base_uri": "https://localhost:8080/",
          "height": 34
        }
      },
      "source": [
        "t.shape"
      ],
      "execution_count": null,
      "outputs": [
        {
          "output_type": "execute_result",
          "data": {
            "text/plain": [
              "(84980,)"
            ]
          },
          "metadata": {
            "tags": []
          },
          "execution_count": 332
        }
      ]
    },
    {
      "cell_type": "code",
      "metadata": {
        "id": "4oyvcLCVSVcH"
      },
      "source": [
        "t_øø=t[:3060]"
      ],
      "execution_count": null,
      "outputs": []
    },
    {
      "cell_type": "code",
      "metadata": {
        "id": "yvDGPlHnSbi8",
        "outputId": "182a4151-50f9-4e53-b102-8471e4f21f2d",
        "colab": {
          "base_uri": "https://localhost:8080/",
          "height": 34
        }
      },
      "source": [
        "t_øø.shape"
      ],
      "execution_count": null,
      "outputs": [
        {
          "output_type": "execute_result",
          "data": {
            "text/plain": [
              "(3060,)"
            ]
          },
          "metadata": {
            "tags": []
          },
          "execution_count": 334
        }
      ]
    },
    {
      "cell_type": "code",
      "metadata": {
        "id": "hsZbxmYfTcux",
        "outputId": "d6bad3bf-e468-4c87-ad19-0a22e805b41b",
        "colab": {
          "base_uri": "https://localhost:8080/",
          "height": 34
        }
      },
      "source": [
        "y.shape"
      ],
      "execution_count": null,
      "outputs": [
        {
          "output_type": "execute_result",
          "data": {
            "text/plain": [
              "(10000, 1, 4)"
            ]
          },
          "metadata": {
            "tags": []
          },
          "execution_count": 335
        }
      ]
    },
    {
      "cell_type": "code",
      "metadata": {
        "id": "EckNvXr5Sc8n",
        "outputId": "6d2f8b52-e929-4119-8821-c9a52085c16d",
        "colab": {
          "base_uri": "https://localhost:8080/",
          "height": 136
        }
      },
      "source": [
        "# Stacking the two arrays along axis 0 \n",
        "r19 = geek.stack((y1, y2, y3, y4), axis = 0) \n",
        "print (\"Output stacked array along axis 0:\\n \", r19) \n",
        "print (\"Labels Shape :\\n \", r19.shape) "
      ],
      "execution_count": null,
      "outputs": [
        {
          "output_type": "stream",
          "text": [
            "Output stacked array along axis 0:\n",
            "  [[ 0.       20.       20.       ...  2.691634  2.691802  2.691982]\n",
            " [ 0.       20.       20.       ...  2.614254  2.615765  2.617577]\n",
            " [ 0.       20.       20.       ...  2.621804  2.62182   2.621799]\n",
            " [ 0.       20.       20.       ...  2.615026  2.615181  2.615344]]\n",
            "Labels Shape :\n",
            "  (4, 84980)\n"
          ],
          "name": "stdout"
        }
      ]
    },
    {
      "cell_type": "code",
      "metadata": {
        "id": "PxJ5pKlpTFxP"
      },
      "source": [
        "r19=r19.transpose(1,0)"
      ],
      "execution_count": null,
      "outputs": []
    },
    {
      "cell_type": "code",
      "metadata": {
        "id": "-LQcgc9rToss",
        "outputId": "3985216b-6fbd-4ca1-ad25-7fb9985f430f",
        "colab": {
          "base_uri": "https://localhost:8080/",
          "height": 34
        }
      },
      "source": [
        "r19.shape"
      ],
      "execution_count": null,
      "outputs": [
        {
          "output_type": "execute_result",
          "data": {
            "text/plain": [
              "(84980, 4)"
            ]
          },
          "metadata": {
            "tags": []
          },
          "execution_count": 338
        }
      ]
    },
    {
      "cell_type": "code",
      "metadata": {
        "id": "66NwstfFTrp_"
      },
      "source": [
        "r18=r19[:3060]"
      ],
      "execution_count": null,
      "outputs": []
    },
    {
      "cell_type": "code",
      "metadata": {
        "id": "H2QsQyPWTwPY",
        "outputId": "412d47ae-9a54-418d-b850-0e2308bfd902",
        "colab": {
          "base_uri": "https://localhost:8080/",
          "height": 34
        }
      },
      "source": [
        "r18.shape"
      ],
      "execution_count": null,
      "outputs": [
        {
          "output_type": "execute_result",
          "data": {
            "text/plain": [
              "(3060, 4)"
            ]
          },
          "metadata": {
            "tags": []
          },
          "execution_count": 341
        }
      ]
    },
    {
      "cell_type": "code",
      "metadata": {
        "id": "Q3FPaVhsT0Bi"
      },
      "source": [
        "X=r1"
      ],
      "execution_count": null,
      "outputs": []
    },
    {
      "cell_type": "code",
      "metadata": {
        "id": "2h7eYx5vU__r",
        "outputId": "2bba5a55-3c21-47a1-cbe1-d1d8e171e300",
        "colab": {
          "base_uri": "https://localhost:8080/",
          "height": 34
        }
      },
      "source": [
        "X.shape"
      ],
      "execution_count": null,
      "outputs": [
        {
          "output_type": "execute_result",
          "data": {
            "text/plain": [
              "(3060, 4)"
            ]
          },
          "metadata": {
            "tags": []
          },
          "execution_count": 345
        }
      ]
    },
    {
      "cell_type": "code",
      "metadata": {
        "id": "fLoyru31VBRa",
        "outputId": "64b03eb2-28d1-4e22-c802-94c52588aaa4",
        "colab": {
          "base_uri": "https://localhost:8080/",
          "height": 34
        }
      },
      "source": [
        "r18.shape"
      ],
      "execution_count": null,
      "outputs": [
        {
          "output_type": "execute_result",
          "data": {
            "text/plain": [
              "(3060, 4)"
            ]
          },
          "metadata": {
            "tags": []
          },
          "execution_count": 347
        }
      ]
    },
    {
      "cell_type": "code",
      "metadata": {
        "id": "KuV8ca1jVKg2"
      },
      "source": [
        "y=r18"
      ],
      "execution_count": null,
      "outputs": []
    },
    {
      "cell_type": "code",
      "metadata": {
        "id": "LU-qTZ58VXuA",
        "outputId": "544d8e50-a57c-4469-caec-5dff61d0751c",
        "colab": {
          "base_uri": "https://localhost:8080/",
          "height": 34
        }
      },
      "source": [
        "y.shape"
      ],
      "execution_count": null,
      "outputs": [
        {
          "output_type": "execute_result",
          "data": {
            "text/plain": [
              "(3060, 4)"
            ]
          },
          "metadata": {
            "tags": []
          },
          "execution_count": 349
        }
      ]
    },
    {
      "cell_type": "code",
      "metadata": {
        "id": "Z1d6ka23WsBt"
      },
      "source": [
        "X=X.reshape(3060,1,4)"
      ],
      "execution_count": null,
      "outputs": []
    },
    {
      "cell_type": "code",
      "metadata": {
        "id": "CykkriThWv1b"
      },
      "source": [
        "y=y.reshape(3060,1,4)"
      ],
      "execution_count": null,
      "outputs": []
    },
    {
      "cell_type": "code",
      "metadata": {
        "id": "MgSKs-IkW3YF"
      },
      "source": [
        "n_steps=1"
      ],
      "execution_count": null,
      "outputs": []
    },
    {
      "cell_type": "code",
      "metadata": {
        "id": "o268otAOW6bL"
      },
      "source": [
        "n_features=4"
      ],
      "execution_count": null,
      "outputs": []
    },
    {
      "cell_type": "code",
      "metadata": {
        "id": "H2kA1KUCWkwC",
        "outputId": "6fe50d65-0c82-4907-8896-cc0396c314cf",
        "colab": {
          "base_uri": "https://localhost:8080/",
          "height": 34
        }
      },
      "source": [
        "X.shape"
      ],
      "execution_count": null,
      "outputs": [
        {
          "output_type": "execute_result",
          "data": {
            "text/plain": [
              "(3060, 1, 4)"
            ]
          },
          "metadata": {
            "tags": []
          },
          "execution_count": 362
        }
      ]
    },
    {
      "cell_type": "code",
      "metadata": {
        "id": "wvqQw5PYXigz",
        "outputId": "874a1cf6-8d9d-46c9-a587-4941a24b16f6",
        "colab": {
          "base_uri": "https://localhost:8080/",
          "height": 34
        }
      },
      "source": [
        "r1.shape"
      ],
      "execution_count": null,
      "outputs": [
        {
          "output_type": "execute_result",
          "data": {
            "text/plain": [
              "(3060, 4)"
            ]
          },
          "metadata": {
            "tags": []
          },
          "execution_count": 366
        }
      ]
    },
    {
      "cell_type": "code",
      "metadata": {
        "id": "hNuLOC3OXpGx"
      },
      "source": [
        "re=r1[:2050]"
      ],
      "execution_count": null,
      "outputs": []
    },
    {
      "cell_type": "code",
      "metadata": {
        "id": "CxGqIte6X7Wc",
        "outputId": "8f0316c6-b67a-407c-eedf-cee928f05a88",
        "colab": {
          "base_uri": "https://localhost:8080/",
          "height": 34
        }
      },
      "source": [
        "re.shape"
      ],
      "execution_count": null,
      "outputs": [
        {
          "output_type": "execute_result",
          "data": {
            "text/plain": [
              "(2050, 4)"
            ]
          },
          "metadata": {
            "tags": []
          },
          "execution_count": 373
        }
      ]
    },
    {
      "cell_type": "code",
      "metadata": {
        "id": "2yr8dzjRY-ZI"
      },
      "source": [
        "ref=re.reshape(2050,1,4)"
      ],
      "execution_count": null,
      "outputs": []
    },
    {
      "cell_type": "code",
      "metadata": {
        "id": "zxKebzeqX8V4"
      },
      "source": [
        "sea_without_fish= autoencoder.predict(ref)"
      ],
      "execution_count": null,
      "outputs": []
    },
    {
      "cell_type": "code",
      "metadata": {
        "id": "strQo2PNY8rx",
        "outputId": "bf78aab4-701f-4733-a804-ddb2aeca0b0e",
        "colab": {
          "base_uri": "https://localhost:8080/",
          "height": 34
        }
      },
      "source": [
        "sea_without_fish.shape"
      ],
      "execution_count": null,
      "outputs": [
        {
          "output_type": "execute_result",
          "data": {
            "text/plain": [
              "(2050, 1, 4)"
            ]
          },
          "metadata": {
            "tags": []
          },
          "execution_count": 393
        }
      ]
    },
    {
      "cell_type": "code",
      "metadata": {
        "id": "QInrEs6DZtKk"
      },
      "source": [
        "reff=sea_without_fish.reshape((sea_without_fish.shape[0]*sea_without_fish.shape[1]), sea_without_fish.shape[2])"
      ],
      "execution_count": null,
      "outputs": []
    },
    {
      "cell_type": "code",
      "metadata": {
        "id": "7dVTFTfjZ4nn",
        "outputId": "17253a57-fa2b-4b0f-a29a-43cbd4cb0acb",
        "colab": {
          "base_uri": "https://localhost:8080/",
          "height": 34
        }
      },
      "source": [
        "reff.shape"
      ],
      "execution_count": null,
      "outputs": [
        {
          "output_type": "execute_result",
          "data": {
            "text/plain": [
              "(2050, 4)"
            ]
          },
          "metadata": {
            "tags": []
          },
          "execution_count": 395
        }
      ]
    },
    {
      "cell_type": "code",
      "metadata": {
        "id": "S9MewLrZaGXJ"
      },
      "source": [
        "reff_1=reff[:,0]\n",
        "reff_2=reff[:,1]\n",
        "reff_3=reff[:,2]\n",
        "reff_4=reff[:,3]"
      ],
      "execution_count": null,
      "outputs": []
    },
    {
      "cell_type": "code",
      "metadata": {
        "id": "s0ksjJsBaPyU"
      },
      "source": [
        "re1=re[:,0]\n",
        "re2=re[:,1]\n",
        "re3=re[:,2]\n",
        "re4=re[:,3]"
      ],
      "execution_count": null,
      "outputs": []
    },
    {
      "cell_type": "code",
      "metadata": {
        "id": "ffTFRsSnaaDm",
        "outputId": "a351715e-6c04-4936-bf9a-7730caf65a00",
        "colab": {
          "base_uri": "https://localhost:8080/",
          "height": 34
        }
      },
      "source": [
        "t.shape"
      ],
      "execution_count": null,
      "outputs": [
        {
          "output_type": "execute_result",
          "data": {
            "text/plain": [
              "(84980,)"
            ]
          },
          "metadata": {
            "tags": []
          },
          "execution_count": 386
        }
      ]
    },
    {
      "cell_type": "code",
      "metadata": {
        "id": "mnt5K_wxabro"
      },
      "source": [
        "t_øøøøø=t[:2050]"
      ],
      "execution_count": null,
      "outputs": []
    },
    {
      "cell_type": "code",
      "metadata": {
        "id": "nFEi_y23gm4u"
      },
      "source": [
        "# Removal of the noise for better understandings"
      ],
      "execution_count": null,
      "outputs": []
    },
    {
      "cell_type": "markdown",
      "metadata": {
        "id": "3ESG0Igzjg3_"
      },
      "source": [
        "# Trying to predict the new data, the data here it is from the Trails without fish"
      ]
    },
    {
      "cell_type": "code",
      "metadata": {
        "id": "pxZeG9Zxh4K0",
        "outputId": "64af2f83-9146-4f2f-d4b1-2587b9cd1cad",
        "colab": {
          "base_uri": "https://localhost:8080/",
          "height": 170
        }
      },
      "source": [
        "# Stacking the two arrays along axis 0 \n",
        "out_arr1_X_training = geek.stack((X1, X2, X3,X4,X7,X8), axis = 0) \n",
        "print (\"Output stacked array along axis 0:\\n \", out_arr1_X_training) \n",
        "print (\"Output Shape:\\n \", out_arr1_X_training.shape) "
      ],
      "execution_count": null,
      "outputs": [
        {
          "output_type": "stream",
          "text": [
            "Output stacked array along axis 0:\n",
            "  [[ 0.   20.   20.   ...  0.8   0.8   0.8 ]\n",
            " [ 0.   20.   20.   ...  0.3   0.3   0.3 ]\n",
            " [ 0.   20.   20.   ...  0.8   0.8   0.8 ]\n",
            " [ 0.   20.   20.   ...  1.8   1.8   1.8 ]\n",
            " [ 0.    0.    0.   ...  4.87  4.87  4.87]\n",
            " [ 0.    0.    0.   ... -3.38 -3.38 -3.38]]\n",
            "Output Shape:\n",
            "  (6, 84980)\n"
          ],
          "name": "stdout"
        }
      ]
    },
    {
      "cell_type": "code",
      "metadata": {
        "id": "pt8a33JFkL_I"
      },
      "source": [
        "out_arr1_X_training=out_arr1_X_training.transpose(1,0)"
      ],
      "execution_count": null,
      "outputs": []
    },
    {
      "cell_type": "code",
      "metadata": {
        "id": "HJqfB-Csj6jV",
        "outputId": "ee1225c6-dda2-484a-e3ea-eeb0d630fe45",
        "colab": {
          "base_uri": "https://localhost:8080/",
          "height": 136
        }
      },
      "source": [
        "# Stacking the two arrays along axis 0 \n",
        "yyyy = geek.stack((y1, y2, y3,y4), axis = 0) \n",
        "print (\"Output stacked array along axis 0:\\n \", yyyy) \n",
        "print (\"Output Shape:\\n \", yyyy.shape) "
      ],
      "execution_count": null,
      "outputs": [
        {
          "output_type": "stream",
          "text": [
            "Output stacked array along axis 0:\n",
            "  [[ 0.       20.       20.       ...  2.691634  2.691802  2.691982]\n",
            " [ 0.       20.       20.       ...  2.614254  2.615765  2.617577]\n",
            " [ 0.       20.       20.       ...  2.621804  2.62182   2.621799]\n",
            " [ 0.       20.       20.       ...  2.615026  2.615181  2.615344]]\n",
            "Output Shape:\n",
            "  (4, 84980)\n"
          ],
          "name": "stdout"
        }
      ]
    },
    {
      "cell_type": "code",
      "metadata": {
        "id": "yY7GBcHOkGEj"
      },
      "source": [
        "yyyy=yyyy.transpose(1,0)"
      ],
      "execution_count": null,
      "outputs": []
    },
    {
      "cell_type": "code",
      "metadata": {
        "id": "KtXIEH0DkR1f"
      },
      "source": [
        "X=out_arr1_X_training"
      ],
      "execution_count": null,
      "outputs": []
    },
    {
      "cell_type": "code",
      "metadata": {
        "id": "vRSEOXHjkcxt"
      },
      "source": [
        "y=yyyy"
      ],
      "execution_count": null,
      "outputs": []
    },
    {
      "cell_type": "code",
      "metadata": {
        "id": "HLoTsnfIke5i",
        "outputId": "3eddf97c-82e2-41cf-ce4f-09f0b420e543",
        "colab": {
          "base_uri": "https://localhost:8080/",
          "height": 34
        }
      },
      "source": [
        "X.shape"
      ],
      "execution_count": null,
      "outputs": [
        {
          "output_type": "execute_result",
          "data": {
            "text/plain": [
              "(84980, 6)"
            ]
          },
          "metadata": {
            "tags": []
          },
          "execution_count": 411
        }
      ]
    },
    {
      "cell_type": "code",
      "metadata": {
        "id": "zi2A1XPOkgqB",
        "outputId": "79407692-fb71-40ca-f4a7-8105d0546c84",
        "colab": {
          "base_uri": "https://localhost:8080/",
          "height": 34
        }
      },
      "source": [
        "y.shape"
      ],
      "execution_count": null,
      "outputs": [
        {
          "output_type": "execute_result",
          "data": {
            "text/plain": [
              "(84980, 4)"
            ]
          },
          "metadata": {
            "tags": []
          },
          "execution_count": 412
        }
      ]
    },
    {
      "cell_type": "code",
      "metadata": {
        "id": "T3GDNSSqyNNR",
        "outputId": "5756bacd-017e-4fb5-a163-fc0d2810034f",
        "colab": {
          "base_uri": "https://localhost:8080/",
          "height": 34
        }
      },
      "source": [
        "out_arr1_X_training.shape"
      ],
      "execution_count": null,
      "outputs": [
        {
          "output_type": "execute_result",
          "data": {
            "text/plain": [
              "(84980, 6)"
            ]
          },
          "metadata": {
            "tags": []
          },
          "execution_count": 426
        }
      ]
    },
    {
      "cell_type": "code",
      "metadata": {
        "id": "2vGC0SlAyaI1",
        "outputId": "10fb8682-96f5-4382-f8dd-272aa99ab851",
        "colab": {
          "base_uri": "https://localhost:8080/",
          "height": 170
        }
      },
      "source": [
        "# Stacking the two arrays along axis 0 \n",
        "r1 = geek.stack((G, Gg, Ggg, Gggg, Ggggg, Gggggg), axis = 0) \n",
        "print (\"Output stacked array along axis 0:\\n \", r1) \n",
        "print (\"Labels Shape :\\n \", r1.shape) "
      ],
      "execution_count": null,
      "outputs": [
        {
          "output_type": "stream",
          "text": [
            "Output stacked array along axis 0:\n",
            "  [[0.       0.       0.       ... 0.722766 0.722766 0.722766]\n",
            " [0.       0.       0.       ... 4.138345 4.138345 4.138345]\n",
            " [0.       0.       0.       ... 4.750091 4.750091 4.750091]\n",
            " [0.       0.       0.       ... 0.       0.       0.      ]\n",
            " [0.       0.       0.       ... 0.       0.       0.      ]\n",
            " [0.       0.       0.04     ... 0.       0.       0.      ]]\n",
            "Labels Shape :\n",
            "  (6, 3060)\n"
          ],
          "name": "stdout"
        }
      ]
    },
    {
      "cell_type": "code",
      "metadata": {
        "id": "P6KrkZp0yl9f"
      },
      "source": [
        "r11=r1.transpose(1,0)"
      ],
      "execution_count": null,
      "outputs": []
    },
    {
      "cell_type": "code",
      "metadata": {
        "id": "SLH5_-HpzUET",
        "outputId": "8ea658b0-210f-4f3a-8a40-41863e9f864b",
        "colab": {
          "base_uri": "https://localhost:8080/",
          "height": 34
        }
      },
      "source": [
        "r11.shape"
      ],
      "execution_count": null,
      "outputs": [
        {
          "output_type": "execute_result",
          "data": {
            "text/plain": [
              "(3060, 6)"
            ]
          },
          "metadata": {
            "tags": []
          },
          "execution_count": 443
        }
      ]
    },
    {
      "cell_type": "code",
      "metadata": {
        "id": "iHd-O9vCr-QH"
      },
      "source": [
        "r1=r11.reshape(3060,1,6)"
      ],
      "execution_count": null,
      "outputs": []
    },
    {
      "cell_type": "code",
      "metadata": {
        "id": "zujvT02g1SBV"
      },
      "source": [
        "r2=r1[:2050]"
      ],
      "execution_count": null,
      "outputs": []
    },
    {
      "cell_type": "code",
      "metadata": {
        "id": "fevAysrwkxLF"
      },
      "source": [
        "out_arr1_X_tra=autoencoder.predict(r1)"
      ],
      "execution_count": null,
      "outputs": []
    },
    {
      "cell_type": "code",
      "metadata": {
        "id": "IF2c7W2irMG_"
      },
      "source": [
        "out_arr1_X_tr=out_arr1_X_tra.reshape((out_arr1_X_tra.shape[0]*out_arr1_X_tra.shape[1]), out_arr1_X_tra.shape[2])"
      ],
      "execution_count": null,
      "outputs": []
    },
    {
      "cell_type": "code",
      "metadata": {
        "id": "0S9pjk2iriRA"
      },
      "source": [
        "out_arr1_X_tr1=out_arr1_X_tr[:,0]\n",
        "out_arr1_X_tr2=out_arr1_X_tr[:,1]\n",
        "out_arr1_X_tr3=out_arr1_X_tr[:,2]\n",
        "out_arr1_X_tr4=out_arr1_X_tr[:,3]"
      ],
      "execution_count": null,
      "outputs": []
    },
    {
      "cell_type": "code",
      "metadata": {
        "id": "5moSH4BBr2GG"
      },
      "source": [
        "tim=df2['Time']"
      ],
      "execution_count": null,
      "outputs": []
    },
    {
      "cell_type": "code",
      "metadata": {
        "id": "QLt21UJpz2ea",
        "outputId": "6b1e1cfe-eaef-4ecc-f044-5136b663a6fd",
        "colab": {
          "base_uri": "https://localhost:8080/",
          "height": 221
        }
      },
      "source": [
        "tim"
      ],
      "execution_count": null,
      "outputs": [
        {
          "output_type": "execute_result",
          "data": {
            "text/plain": [
              "0           0.0\n",
              "1           0.0\n",
              "2           0.1\n",
              "3           0.2\n",
              "4           0.3\n",
              "          ...  \n",
              "84975    8497.4\n",
              "84976    8497.5\n",
              "84977    8497.6\n",
              "84978    8497.7\n",
              "84979    8497.8\n",
              "Name: Time, Length: 84980, dtype: float64"
            ]
          },
          "metadata": {
            "tags": []
          },
          "execution_count": 459
        }
      ]
    },
    {
      "cell_type": "code",
      "metadata": {
        "id": "wXHs6cOt0Gyq"
      },
      "source": [
        "to=tim[:3060]"
      ],
      "execution_count": null,
      "outputs": []
    },
    {
      "cell_type": "code",
      "metadata": {
        "id": "S9gooFMPriJ9"
      },
      "source": [
        "out_arr1_X_training1=r11[:,0]\n",
        "out_arr1_X_training2=r11[:,1]\n",
        "out_arr1_X_training3=r11[:,2]\n",
        "out_arr1_X_training4=r11[:,3]"
      ],
      "execution_count": null,
      "outputs": []
    },
    {
      "cell_type": "code",
      "metadata": {
        "id": "GRochezPzf5S",
        "outputId": "460167a2-baba-4bcf-c6a4-7f1f69678bed",
        "colab": {
          "base_uri": "https://localhost:8080/",
          "height": 34
        }
      },
      "source": [
        "out_arr1_X_training1.shape"
      ],
      "execution_count": null,
      "outputs": [
        {
          "output_type": "execute_result",
          "data": {
            "text/plain": [
              "(3060,)"
            ]
          },
          "metadata": {
            "tags": []
          },
          "execution_count": 451
        }
      ]
    },
    {
      "cell_type": "code",
      "metadata": {
        "id": "be7fBLvdzthj",
        "outputId": "81dc2144-deb5-4bba-d322-1aa4c1c09032",
        "colab": {
          "base_uri": "https://localhost:8080/",
          "height": 34
        }
      },
      "source": [
        "to.shape"
      ],
      "execution_count": null,
      "outputs": [
        {
          "output_type": "execute_result",
          "data": {
            "text/plain": [
              "(3060,)"
            ]
          },
          "metadata": {
            "tags": []
          },
          "execution_count": 462
        }
      ]
    },
    {
      "cell_type": "code",
      "metadata": {
        "id": "ypORoPsY5Xvn"
      },
      "source": [
        ""
      ],
      "execution_count": null,
      "outputs": []
    },
    {
      "cell_type": "code",
      "metadata": {
        "id": "a4bpZdmksqpN",
        "outputId": "56f30850-0d03-454d-b742-0a759f24e227",
        "colab": {
          "base_uri": "https://localhost:8080/",
          "height": 295
        }
      },
      "source": [
        "fax = plt.gca()\n",
        "plt.plot(to,out_arr1_X_training1, color='yellow', label='Orignal DVL1 Data')\n",
        "plt.plot(to,out_arr1_X_tr1, color='green', label='prediction')\n",
        "plt.xlabel('Time')\n",
        "plt.ylabel('Distance')\n",
        "plt.title('DVL Beam 1')\n",
        "plt.legend()\n",
        "\n",
        "plt.show()"
      ],
      "execution_count": null,
      "outputs": [
        {
          "output_type": "display_data",
          "data": {
            "image/png": "[encoded data removed]",
            "text/plain": [
              "<Figure size 432x288 with 1 Axes>"
            ]
          },
          "metadata": {
            "tags": [],
            "needs_background": "light"
          }
        }
      ]
    },
    {
      "cell_type": "code",
      "metadata": {
        "id": "PlEp1Eyi5Y18",
        "outputId": "d78acc6a-6509-43dd-e3ce-f148fc90a7dd",
        "colab": {
          "base_uri": "https://localhost:8080/",
          "height": 34
        }
      },
      "source": [
        "out_arr1_X_training11=out_arr1_X_training1[:2050]\n",
        "out_arr1_X_tr11=out_arr1_X_tr1[:2050]\n",
        "tp.shape"
      ],
      "execution_count": null,
      "outputs": [
        {
          "output_type": "execute_result",
          "data": {
            "text/plain": [
              "(2050,)"
            ]
          },
          "metadata": {
            "tags": []
          },
          "execution_count": 504
        }
      ]
    },
    {
      "cell_type": "code",
      "metadata": {
        "id": "W-m4QQnp6XQs",
        "outputId": "60639817-6230-4474-bce3-521e54a957a0",
        "colab": {
          "base_uri": "https://localhost:8080/",
          "height": 295
        }
      },
      "source": [
        "fax = plt.gca()\n",
        "plt.plot(tp,out_arr1_X_training11, color='yellow', label='Orignal DVL1 Data')\n",
        "plt.plot(tp,out_arr1_X_tr11, color='green', label='prediction')\n",
        "plt.xlabel('Time')\n",
        "plt.ylabel('Distance')\n",
        "plt.title('DVL Beam 1')\n",
        "plt.legend()\n",
        "\n",
        "plt.show()"
      ],
      "execution_count": null,
      "outputs": [
        {
          "output_type": "display_data",
          "data": {
            "image/png": "[encoded data removed]",
            "text/plain": [
              "<Figure size 432x288 with 1 Axes>"
            ]
          },
          "metadata": {
            "tags": [],
            "needs_background": "light"
          }
        }
      ]
    },
    {
      "cell_type": "code",
      "metadata": {
        "id": "8rhLIrTH6d38",
        "outputId": "65a772fb-04c6-4a1c-d9c4-f693a091b502",
        "colab": {
          "base_uri": "https://localhost:8080/",
          "height": 34
        }
      },
      "source": [
        "out_arr1_X_training22=out_arr1_X_training2[:2050]\n",
        "out_arr1_X_tr22=out_arr1_X_tr2[:2050]\n",
        "tp.shape"
      ],
      "execution_count": null,
      "outputs": [
        {
          "output_type": "execute_result",
          "data": {
            "text/plain": [
              "(2050,)"
            ]
          },
          "metadata": {
            "tags": []
          },
          "execution_count": 506
        }
      ]
    },
    {
      "cell_type": "code",
      "metadata": {
        "id": "XKKjhLiszJvm",
        "outputId": "5bf9f566-2c3f-49df-e64e-44c7cb734797",
        "colab": {
          "base_uri": "https://localhost:8080/",
          "height": 295
        }
      },
      "source": [
        "fax = plt.gca()\n",
        "plt.plot(to,out_arr1_X_training2, color='yellow', label='Orignal DVL1 Data')\n",
        "plt.plot(to,out_arr1_X_tr2, color='green', label='prediction')\n",
        "plt.xlabel('Time')\n",
        "plt.ylabel('Distance')\n",
        "plt.title('DVL Beam 2')\n",
        "plt.legend()\n",
        "\n",
        "plt.show()"
      ],
      "execution_count": null,
      "outputs": [
        {
          "output_type": "display_data",
          "data": {
            "image/png": "[encoded data removed]",
            "text/plain": [
              "<Figure size 432x288 with 1 Axes>"
            ]
          },
          "metadata": {
            "tags": [],
            "needs_background": "light"
          }
        }
      ]
    },
    {
      "cell_type": "code",
      "metadata": {
        "id": "UKQk0GZE6min",
        "outputId": "925b0ba3-d321-4797-c494-c7bad4a44111",
        "colab": {
          "base_uri": "https://localhost:8080/",
          "height": 295
        }
      },
      "source": [
        "fax = plt.gca()\n",
        "plt.plot(tp,out_arr1_X_training22, color='yellow', label='Orignal DVL1 Data')\n",
        "plt.plot(tp,out_arr1_X_tr22, color='green', label='prediction')\n",
        "plt.xlabel('Time')\n",
        "plt.ylabel('Distance')\n",
        "plt.title('DVL Beam 2')\n",
        "plt.legend()\n",
        "\n",
        "plt.show()"
      ],
      "execution_count": null,
      "outputs": [
        {
          "output_type": "display_data",
          "data": {
            "image/png": "[encoded data removed]",
            "text/plain": [
              "<Figure size 432x288 with 1 Axes>"
            ]
          },
          "metadata": {
            "tags": [],
            "needs_background": "light"
          }
        }
      ]
    },
    {
      "cell_type": "code",
      "metadata": {
        "id": "f29ErdMt6vGA",
        "outputId": "a02aac72-9748-4ec1-9ca5-06e60a4f59c9",
        "colab": {
          "base_uri": "https://localhost:8080/",
          "height": 34
        }
      },
      "source": [
        "out_arr1_X_training33=out_arr1_X_training3[:2050]\n",
        "out_arr1_X_tr33=out_arr1_X_tr3[:2050]\n",
        "tp.shape"
      ],
      "execution_count": null,
      "outputs": [
        {
          "output_type": "execute_result",
          "data": {
            "text/plain": [
              "(2050,)"
            ]
          },
          "metadata": {
            "tags": []
          },
          "execution_count": 509
        }
      ]
    },
    {
      "cell_type": "code",
      "metadata": {
        "id": "wrcz_Gmf0sMo",
        "outputId": "9c6a5c53-7d77-44af-9bd5-ca424a6c0e86",
        "colab": {
          "base_uri": "https://localhost:8080/",
          "height": 295
        }
      },
      "source": [
        "fax = plt.gca()\n",
        "plt.plot(to,out_arr1_X_training3, color='yellow', label='Orignal DVL1 Data')\n",
        "plt.plot(to,out_arr1_X_tr3, color='green', label='prediction')\n",
        "plt.xlabel('Time')\n",
        "plt.ylabel('Distance')\n",
        "plt.title('DVL Beam 3')\n",
        "plt.legend()\n",
        "\n",
        "plt.show()"
      ],
      "execution_count": null,
      "outputs": [
        {
          "output_type": "display_data",
          "data": {
            "image/png": "[encoded data removed]",
            "text/plain": [
              "<Figure size 432x288 with 1 Axes>"
            ]
          },
          "metadata": {
            "tags": [],
            "needs_background": "light"
          }
        }
      ]
    },
    {
      "cell_type": "code",
      "metadata": {
        "id": "AZCWHARz6110",
        "outputId": "ac7de2dd-8698-4447-9ca0-2e64c5ae4593",
        "colab": {
          "base_uri": "https://localhost:8080/",
          "height": 295
        }
      },
      "source": [
        "fax = plt.gca()\n",
        "plt.plot(tp,out_arr1_X_training33, color='yellow', label='Orignal DVL1 Data')\n",
        "plt.plot(tp,out_arr1_X_tr33, color='green', label='prediction')\n",
        "plt.xlabel('Time')\n",
        "plt.ylabel('Distance')\n",
        "plt.title('DVL Beam 3')\n",
        "plt.legend()\n",
        "\n",
        "plt.show()"
      ],
      "execution_count": null,
      "outputs": [
        {
          "output_type": "display_data",
          "data": {
            "image/png": "[encoded data removed]",
            "text/plain": [
              "<Figure size 432x288 with 1 Axes>"
            ]
          },
          "metadata": {
            "tags": [],
            "needs_background": "light"
          }
        }
      ]
    },
    {
      "cell_type": "code",
      "metadata": {
        "id": "TCGtfMXo6-rc",
        "outputId": "db51b459-df46-4f68-ced9-6dd8ed12e3a8",
        "colab": {
          "base_uri": "https://localhost:8080/",
          "height": 34
        }
      },
      "source": [
        "out_arr1_X_training44=out_arr1_X_training4[:2050]\n",
        "out_arr1_X_tr44=out_arr1_X_tr4[:2050]\n",
        "tp.shape"
      ],
      "execution_count": null,
      "outputs": [
        {
          "output_type": "execute_result",
          "data": {
            "text/plain": [
              "(2050,)"
            ]
          },
          "metadata": {
            "tags": []
          },
          "execution_count": 512
        }
      ]
    },
    {
      "cell_type": "code",
      "metadata": {
        "id": "cR4ashFB0wSf",
        "outputId": "02eaa6cb-0155-4e7f-defa-5d4324cae0e4",
        "colab": {
          "base_uri": "https://localhost:8080/",
          "height": 295
        }
      },
      "source": [
        "fax = plt.gca()\n",
        "plt.plot(to,out_arr1_X_training4, color='yellow', label='Orignal DVL1 Data')\n",
        "plt.plot(to,out_arr1_X_tr4, color='green', label='prediction')\n",
        "plt.xlabel('Time')\n",
        "plt.ylabel('Distance')\n",
        "plt.title('DVL Beam 4')\n",
        "plt.legend()\n",
        "\n",
        "plt.show()"
      ],
      "execution_count": null,
      "outputs": [
        {
          "output_type": "display_data",
          "data": {
            "image/png": "[encoded data removed]",
            "text/plain": [
              "<Figure size 432x288 with 1 Axes>"
            ]
          },
          "metadata": {
            "tags": [],
            "needs_background": "light"
          }
        }
      ]
    },
    {
      "cell_type": "code",
      "metadata": {
        "id": "khQa2zNv7IrL",
        "outputId": "fffa5c80-2e1f-424c-d1f2-986c919533bd",
        "colab": {
          "base_uri": "https://localhost:8080/",
          "height": 295
        }
      },
      "source": [
        "fax = plt.gca()\n",
        "plt.plot(tp,out_arr1_X_training44, color='yellow', label='Orignal DVL1 Data')\n",
        "plt.plot(tp,out_arr1_X_tr44, color='green', label='prediction')\n",
        "plt.xlabel('Time')\n",
        "plt.ylabel('Distance')\n",
        "plt.title('DVL Beam 4')\n",
        "plt.legend()\n",
        "\n",
        "plt.show()"
      ],
      "execution_count": null,
      "outputs": [
        {
          "output_type": "display_data",
          "data": {
            "image/png": "[encoded data removed]",
            "text/plain": [
              "<Figure size 432x288 with 1 Axes>"
            ]
          },
          "metadata": {
            "tags": [],
            "needs_background": "light"
          }
        }
      ]
    }
  ]
}